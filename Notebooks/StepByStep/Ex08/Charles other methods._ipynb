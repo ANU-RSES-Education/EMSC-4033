{
 "cells": [
  {
   "cell_type": "markdown",
   "metadata": {},
   "source": [
    "Libraries such as Numpy or Pandas provide further capacities for reading and writing data.\n",
    "\n",
    "For instance, one can use the `numpy.genfromtxt()` and `numpy.savetxt()` functions to import the data and do the same calculation as above and save the result. \n",
    "\n",
    "**&#10148; Import Numpy, look at the help of those functions and try to reproduce the read/calculate/write procedure with Numpy.**"
   ]
  },
  {
   "cell_type": "code",
   "execution_count": null,
   "metadata": {},
   "outputs": [],
   "source": [
    "# Try it here!\n"
   ]
  },
  {
   "cell_type": "markdown",
   "metadata": {},
   "source": [
    "Do you notice an advantage of importing your data through Numpy? Compare the type of the data after import via Numpy or via load() to answer this question.\n",
    "\n",
    "If you are going to continue working with Numpy in a project, you could also save the Numpy arrays in Numpy format (.npy) and load them late with the functions `numpy.save()` and `numpy.load()`."
   ]
  },
  {
   "cell_type": "code",
   "execution_count": null,
   "metadata": {},
   "outputs": [],
   "source": [
    "# Try it here!\n"
   ]
  },
  {
   "cell_type": "markdown",
   "metadata": {},
   "source": [
    "A benefit of using numpy format is to have fast read/write speed, which can be an advantage when dealing with large datasets (>100 Mb). However, always remember that for long term storage plain text formats, such as ASCII or CSV, should be preferred as this can be read by any program/language/human, whereas .npy files are specific to Numpy.\n",
    "\n",
    "### Other Formats\n",
    "\n",
    "In science, you'll come across all sorts of data in every imagineable format. It's impossible to cover them all here, but this exercise should give you an understanding of ways of reading and writing different types of data, so that you can tackle these myriad formats.\n",
    "\n",
    "Two very common types of files that you'll come across are Microsoft Excel spreadsheets, and image data, which we *will* cover here.\n",
    "\n",
    "#### Microsoft Excel\n",
    "Try opening a spreadsheet in a text editor... data in these files is stored in a proprietary binary format, which *can't* be read in plain text. Python has two mature packages to read and write these files: `xlrd` and `xlwt`. These packages work very well, but are a bit hard to get to grips with. In practice, the easiest way to read and write excel files is via a higher-level library like `pandas`, which handles all the under-the-hood mechanics for you.\n",
    "\n",
    "For example:\n",
    "\n",
    "```python\n",
    "import pandas as pd\n",
    "\n",
    "excel_file = 'my_file.xlsx'\n",
    "dat = pd.read_excel(excel_file, sheet_name='my_data')\n",
    "dat.to_excel('my_new_file.xlsx')\n",
    "```"
   ]
  },
  {
   "cell_type": "code",
   "execution_count": null,
   "metadata": {},
   "outputs": [],
   "source": [
    "# Try it here!\n"
   ]
  },
  {
   "cell_type": "markdown",
   "metadata": {},
   "source": [
    "#### Images\n",
    "Images come in a variety of formats. The most basic will be a 2D array of plain text numbers, which can be imported using numpy, and the more advanced can be multi-channel TIFF images, which are a bit more complex.\n",
    "\n",
    "Python has a good set of tools for reading, converting and writing these images, in a package called `pillow` - a development of hte '**P**ython **I**maging **L**ibrary'.\n",
    "\n",
    "For example:\n",
    "\n",
    "```python\n",
    "from PIL import Image\n",
    "\n",
    "im = Image.open('my_image.jpg')\n",
    "im.convert('L')  # convert to black and white\n",
    "imarray = np.array(im)  # get image as 2D array \n",
    "```\n",
    "\n",
    "You can do a *lot* with `PIL`... see [the documentation](https://pillow.readthedocs.io/en/3.1.x/index.html) for more info."
   ]
  },
  {
   "cell_type": "markdown",
   "metadata": {},
   "source": [
    "#### Other Libraries\n",
    "There are also a number of libraries out there with extensive data import/export capabilities. In particular:\n",
    "- [Pandas](https://pandas.pydata.org/pandas-docs/stable/generated/pandas.DataFrame.html), specialised in tabular data, and can interacte with SQL and Excel;\n",
    "- [HDF5](https://www.h5py.org/), a format targeted at large datasets, very handy, easy to interact with Numpy, and also adequate for long term storage.\n",
    "- [Pickle](https://docs.python.org/3/library/pickle.html), implements binary protocols for serializing and de-serializing a Python object structure. This allows one to store not only arrays, but also Python objects.\n"
   ]
  }
 ],
 "metadata": {
  "kernelspec": {
   "display_name": "Python 3",
   "language": "python",
   "name": "python3"
  },
  "language_info": {
   "codemirror_mode": {
    "name": "ipython",
    "version": 3
   },
   "file_extension": ".py",
   "mimetype": "text/x-python",
   "name": "python",
   "nbconvert_exporter": "python",
   "pygments_lexer": "ipython3",
   "version": "3.6.6"
  }
 },
 "nbformat": 4,
 "nbformat_minor": 2
}
