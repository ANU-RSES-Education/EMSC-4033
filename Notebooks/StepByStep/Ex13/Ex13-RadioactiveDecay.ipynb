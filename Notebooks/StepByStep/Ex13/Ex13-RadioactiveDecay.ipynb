{
 "cells": [
  {
   "cell_type": "markdown",
   "metadata": {},
   "source": [
    "# Exercise 13 - Radioactive decay\n",
    "\n",
    "Unstable atomic nuclei may undergo radioactive decay, losing energy (and particles) via radiation. This is a random process, but one which can be quantified by the concept of 'half-life' or 'decay rate'. The half-life is the amount of time required for 50% of the atoms in an initially pure sample to decay. It is often represented by the symbol $t_{1/2}$, and is related to the decay rate, $\\lambda$, by the formula\n",
    "\n",
    "$$ t_{1/2} = \\frac{\\ln 2}{\\lambda} $$\n",
    "\n",
    "We can interpret $\\lambda$ as being the probability that each nucleus will decay per unit time. We can also show that radioactive decay obeys the differential equation\n",
    "\n",
    "$$ \\frac{\\mathrm{d}N}{\\mathrm{d}t} = -N\\lambda $$\n",
    "\n",
    "This means that if there are $N$ radioactive particles at time $t$, then we expect to see $N \\lambda \\Delta t$ of them decay in the (infinitesimal) time interval $\\Delta t$.\n",
    " \n",
    "The isotope radon-219 decays to a stable isotope of lead, principally via the following decay chain (part of the [actinium series](https://en.wikipedia.org/wiki/Decay_chain#Actinium_series)):\n",
    "\n",
    "${}^{219}\\mathrm{Rn}\\left[\\to{}^{215}\\mathrm{Po}\\right]\\to{}^{211}\\mathrm{Pb}\\to{}^{211}\\mathrm{Bi}\\to {}^{207}\\mathrm{Tl} \\to{}^{207}\\mathrm{Pb}$\n",
    "\n",
    "The half-lives of each unstable isotope in this chain are:\n",
    "\n",
    "| Isotope | Halflife | Energy release (MeV) |\n",
    "|---|---|---|\n",
    "| ${}^{219}\\mathrm{Rn}$ | 3.96 s | 6.946 |\n",
    "| ${}^{215}\\mathrm{Po}$ | 1.7 ms | 7.527 |\n",
    "| ${}^{211}\\mathrm{Pb}$ | 36.1 mins | 1.367 |\n",
    "| ${}^{211}\\mathrm{Bi}$ | 2.14 mins | 6.751 |\n",
    "| ${}^{207}\\mathrm{Tl}$ | 4.77 mins | 1.418\n",
    "\n",
    "\n",
    "Suppose you have a sample that is known to be pure, and contain N atoms of ${}^{219}$Rn at some time $t$. Provided $\\Delta t$ is small, you expect that at the time $t+\\Delta t$ you will have $N(1-\\lambda_{{}^{219}\\mathrm{Rn}}\\Delta t)$ atoms of ${}^{219}$Rn, and $N (\\lambda_{{}^{219}\\mathrm{Rn}}\\Delta t)$ atoms of  ${}^{215}\\mathrm{Po}$. The amount of each isotope within the sample is a balance between its production, and its decay.\n",
    "\n",
    "**&#10148; Write code to simulate the decay chain.** Starting with 10,000 ${}^{219}\\mathrm{Rn}$ particles, produce a graph of the amount of each isotope present at any point in time. (Since the halflife of ${}^{215}$Po is so short, we can neglect this step and treat the system as though ${}^{219}$Rn decays directly to ${}^{211}$Pb.)"
   ]
  },
  {
   "cell_type": "code",
   "execution_count": null,
   "metadata": {},
   "outputs": [],
   "source": [
    "# Try it here!\n"
   ]
  },
  {
   "cell_type": "markdown",
   "metadata": {},
   "source": [
    "Try changing your timestep, $\\Delta t$. What happens as you make this bigger?"
   ]
  },
  {
   "cell_type": "code",
   "execution_count": 2,
   "metadata": {},
   "outputs": [],
   "source": [
    "# Try it here\n"
   ]
  },
  {
   "cell_type": "markdown",
   "metadata": {},
   "source": [
    "The energies reported above are for the decay of a single atom. To obtain the energy release in a given timestep, we need to multiply these by the number of decay events occurring.\n",
    "\n",
    "**&#10148; Plot the energy released by the sample over time.**"
   ]
  },
  {
   "cell_type": "code",
   "execution_count": null,
   "metadata": {},
   "outputs": [],
   "source": [
    "# Try it here!\n"
   ]
  },
  {
   "cell_type": "markdown",
   "metadata": {},
   "source": [
    "\n",
    "**&#10148;** Suppose your sample now contains three times as much ${}^{207}$Pb as ${}^{211}$Pb. **Show that it is 1 hour, 15 minutes and 8 seconds old.**"
   ]
  },
  {
   "cell_type": "code",
   "execution_count": null,
   "metadata": {},
   "outputs": [],
   "source": [
    "# Try it here!\n"
   ]
  }
 ],
 "metadata": {
  "kernelspec": {
   "display_name": "Python 3",
   "language": "python",
   "name": "python3"
  },
  "language_info": {
   "codemirror_mode": {
    "name": "ipython",
    "version": 3
   },
   "file_extension": ".py",
   "mimetype": "text/x-python",
   "name": "python",
   "nbconvert_exporter": "python",
   "pygments_lexer": "ipython3",
   "version": "3.6.6"
  }
 },
 "nbformat": 4,
 "nbformat_minor": 2
}
