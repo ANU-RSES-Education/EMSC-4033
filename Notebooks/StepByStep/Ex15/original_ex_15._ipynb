{
 "cells": [
  {
   "cell_type": "markdown",
   "metadata": {},
   "source": [
    "# Exercise 15 - More plotting\n",
    "\n",
    "In this exercise, we will meet some more advanced features of Python's plotting capabilities.\n",
    "\n",
    "\n",
    "Often, you may want to put more than one 'panel' within a figure. For simple cases (where you are happy to have the panels arranged in an $N \\times M$ grid), you can use `plt.subplot()`. This has syntax\n",
    "```python\n",
    "plt.subplot(nrows, ncols, index)\n",
    "```\n",
    "where `nrows` is the number of 'rows' in the figure, `ncols` is the number of columns, and `index` is a number between 0 and `nrows*ncols - 1` which selects which of the panels we wish to work on currently. Typically, one will call `plt.subplot()` several times, with the same `nrows` and `ncols`, but a different `index` in each case. Having switched to a panel, we can then issue plotting commands for that panel.\n",
    "\n",
    "As a shorthand, if `nrows`, `ncols` and `index` are all single-digit numbers, you can also call `plt.subplot(nci)` where `nci` is `nrows`, `ncols` and `index` concatenated into a 3-digit number. In other words, `plt.subplot(3,2,5)` is exactly the same as `plt.subplot(325)`.\n",
    "\n",
    "For example:\n",
    "```python\n",
    "plt.figure(figsize=(12,3))\n",
    "xx = np.linspace(0,1,100)\n",
    "plt.subplot(1, 2, 1)\n",
    "plt.plot(np.sin(5*np.pi*xx),'r')\n",
    "plt.subplot(122)\n",
    "plt.plot(np.cos(5*np.pi*xx),'b')\n",
    "plt.show()\n",
    "```\n",
    "Also notice here that we have passed `figsize = (xsize, ysize)` to `plt.figure()`, to control the size (and more importantly, shape) of the figure we have created.\n",
    "\n",
    "Try it out."
   ]
  },
  {
   "cell_type": "code",
   "execution_count": null,
   "metadata": {},
   "outputs": [],
   "source": [
    "# Try it here!\n"
   ]
  },
  {
   "cell_type": "markdown",
   "metadata": {},
   "source": [
    "\n",
    "`plt.subplot()` allows us to have multiple axes within a single figure, and when we call it it returns an 'Axes' object. Using `plt.subplot()` also provides a convenient way to access and control various properties of the axis. For example, if we want to plot a graph in polar coordinates, we can call `plt.subplot(111,projection='polar')`. We can plot a spiral:\n",
    "```python\n",
    "n=1000\n",
    "theta = np.linspace(0,10*np.pi,n)\n",
    "rr = np.linspace(0,1,n)\n",
    "\n",
    "plt.figure()\n",
    "ax = plt.subplot(111,projection='polar') # ax is the 'Axes' object\n",
    "ax.plot(theta,rr)\n",
    "ax.set_theta_zero_location('N')\n",
    "ax.set_rticks([])\n",
    "plt.show()\n",
    "```\n",
    "Notice that we are now setting a variable `ax` to reference the set of axes produced by `plt.subplot()`, and this allows us to access functions like `ax.set_theta_zero_location()` and `ax.set_rticks()`. Can you work out what these do?"
   ]
  },
  {
   "cell_type": "code",
   "execution_count": null,
   "metadata": {},
   "outputs": [],
   "source": [
    "# Try it here!\n"
   ]
  },
  {
   "cell_type": "markdown",
   "metadata": {},
   "source": [
    "If we wish to add text to a figure, we can call `plt.text(x,y,\"text string\")`. Here, `x` and `y` are the coordinates at which we want to place the text, expressed in the same units as our data. Sometimes, this can be an inconvenient coordinate system to use - for example, if we are trying to label our subplots as (a), (b), etc, we probably want the label to be in the same place on the plot regardless of how we rescale the axes. Matplotlib therefore provides us with access to a second coordinate system, such that the bottom left-hand corner of our axes corresponds to (0,0) and the top right-hand corner is (1,1). Most plotting commands can be issued against this coordinate system by passing `transform=ax.transAxes` as an optional argument to the command. For example,\n",
    "```python\n",
    "plt.figure()\n",
    "ax = plt.gca()\n",
    "xx = np.linspace(0,2*np.pi,500)\n",
    "ax.plot(xx,np.sin(5*xx),'b')\n",
    "ax.plot(0.5,0.25,'xr')\n",
    "ax.text(0.5,0.25,\"Graph units\",fontsize=12)\n",
    "ax.plot(0.5,0.25,'xr',transform=ax.transAxes)\n",
    "ax.text(0.5,0.25,\"Axes coordinates\",fontsize=12,transform=ax.transAxes)\n",
    "plt.show()\n",
    "```\n",
    "Try this code, and notice several things:\n",
    "- We access the current axes by calling `plt.gca()` (short for **g**et **c**urrent **a**xes)\n",
    "- The `plot` function is a method of the current axes, such that you can plot by calling `ax.plot()`. This is a good practice because it avoids confusion when having several Axes on a plot\n",
    "- The two text strings are both located at the point (0.5,0.25), but in different coordinate systems\n",
    "- In each case we plot a small 'x' at the same point, and notice that by default this corresponds to the bottom-left corner of our text string\n",
    "- We can specify the font size by passing `fontsize=size` to `plt.text()`"
   ]
  },
  {
   "cell_type": "code",
   "execution_count": null,
   "metadata": {},
   "outputs": [],
   "source": [
    "# Try it here!\n"
   ]
  },
  {
   "cell_type": "markdown",
   "metadata": {},
   "source": [
    "If we wish, we can change the alignment of the text string, by passing the options `horizontalalignment='left'` (or `'center'` or `'right'`) and `verticalalignment='top'` (or `'center'` or `'bottom'`) to `plt.text()`.\n",
    "\n",
    "Instead of using `plt.text`, we could also `annotate()` the Axes. `plt.annotate` is helpfull as it allows to annotate Axes, but also to draw arrows, and do many complex things.\n",
    "\n",
    "For instance, using `plt.annotate()` instead of `plt.text()`, the above example becomes\n",
    "\n",
    "```python\n",
    "plt.figure()\n",
    "ax = plt.gca()\n",
    "xx = np.linspace(0,2*np.pi,1000)\n",
    "ax.plot(xx,np.sin(5*xx),'b')\n",
    "ax.plot(0.5,0.6,'xr')\n",
    "\n",
    "# this is the annotation using Graph units\n",
    "ax.annotate(\"Graph units\",xy=(0.5,0.6), xycoords=\"data\",fontsize=12)\n",
    "\n",
    "\n",
    "ax.plot(0.5,0.6,'xr',transform=ax.transAxes)\n",
    "\n",
    "# this is the annotation using Axes coordinates\n",
    "ax.annotate(\"Axes coordinates\",xy=(0.5,0.6), xycoords=\"axes fraction\",fontsize=12)\n",
    "\n",
    "plt.show()\n",
    "```\n",
    "\n",
    "Note that the xycoords argument allows selecting either the data or axes coordinates."
   ]
  },
  {
   "cell_type": "code",
   "execution_count": 26,
   "metadata": {},
   "outputs": [],
   "source": [
    "# Try it here!\n",
    "ax.annotate?"
   ]
  },
  {
   "cell_type": "markdown",
   "metadata": {},
   "source": [
    "We can further modify the above example to draw an arrow, as the text is too close to the symbols to be trully visible... To do so, we indicate where the text should be through the `xytext` argument, while `xy` will indicate the arrow position. The `arrowprops` argument will contain a dictionary with instructions for the arrow shape/color, and any related things. Possibilities are numerous, but we will stick with a simple black arrow for the present example.\n",
    "\n",
    "```python\n",
    "plt.figure()\n",
    "ax = plt.gca()\n",
    "xx = np.linspace(0,2*np.pi,1000)\n",
    "ax.plot(xx,np.sin(5*xx),'b')\n",
    "ax.plot(0.5,0.6,'xr')\n",
    "\n",
    "# this is the annotation using Graph units\n",
    "ax.annotate(\"Graph units\",\n",
    "            xy=(0.5,0.6), \n",
    "            xytext=(0.5,1.16), \n",
    "            xycoords=\"data\",\n",
    "            arrowprops=dict(arrowstyle=\"->\",\n",
    "                            connectionstyle=\"arc3\"),\n",
    "            fontsize=12)\n",
    "\n",
    "\n",
    "ax.plot(0.5,0.6,'xr',transform=ax.transAxes)\n",
    "\n",
    "# this is the annotation using Axes coordinates\n",
    "ax.annotate(\"Axes coordinates\",\n",
    "            xy=(0.5,0.6), \n",
    "            xytext=(0.5,0.94), \n",
    "            xycoords=\"axes fraction\",\n",
    "            arrowprops=dict(arrowstyle=\"->\",\n",
    "                            connectionstyle=\"arc3\"),\n",
    "            fontsize=12)\n",
    "\n",
    "plt.ylim(-1.05,1.30)\n",
    "\n",
    "plt.show()\n",
    "```"
   ]
  },
  {
   "cell_type": "code",
   "execution_count": 23,
   "metadata": {},
   "outputs": [],
   "source": [
    "# Try it here!\n"
   ]
  },
  {
   "cell_type": "markdown",
   "metadata": {},
   "source": [
    "Sometimes, we may wish to plot two different datasets on the same axis, so that they share the same horizontal (or vertical) axis, but have different vertical (or horizontal) axes. To do this, matplotlib provides the `ax.twinx()` and `ax.twiny()` commands, which create a new set of axes that share the `x` or `y` axis with `ax`:\n",
    "```python\n",
    "xx = np.linspace(0,2*np.pi,1000)\n",
    "\n",
    "plt.figure()\n",
    "\n",
    "ax_sin = plt.gca()\n",
    "ax_sin.plot(xx,np.sin(xx))\n",
    "ax_sin.set_ylabel('sin(x)')\n",
    "\n",
    "ax_quad = ax_sin.twinx()\n",
    "ax_quad.plot(xx,xx**2,'r')\n",
    "ax_quad.set_ylabel('$x^2$')\n",
    "\n",
    "plt.show()\n",
    "```"
   ]
  },
  {
   "cell_type": "code",
   "execution_count": null,
   "metadata": {},
   "outputs": [],
   "source": [
    "# Try it here!\n"
   ]
  },
  {
   "cell_type": "markdown",
   "metadata": {},
   "source": [
    "The advantage of using Axes objects is that you can call them anytime you want in your code, while plotting using plt.plot() will require to have things in the right order.\n",
    "\n",
    "To illustrate that, first try the following code:\n",
    "\n",
    "```python \n",
    "\n",
    "xx = np.linspace(0,2*np.pi,1000)\n",
    "\n",
    "plt.figure()\n",
    "\n",
    "# Axes object declaration\n",
    "ax_sin = plt.gca()\n",
    "ax_quad = ax_sin.twinx()\n",
    "\n",
    "# Plots\n",
    "ax_sin.plot(xx,np.sin(xx))\n",
    "ax_quad.plot(xx,xx**2,'r')\n",
    "\n",
    "# Generating Labels\n",
    "ax_sin.set_ylabel('sin(x)')\n",
    "ax_quad.set_ylabel('$x^2$')\n",
    "\n",
    "plt.show()\n",
    "```\n",
    "\n",
    "Replace ax_sin.plot and ax_quad.plot by plt.plot. What happens? Can you fix it with still using plt.plot?"
   ]
  },
  {
   "cell_type": "code",
   "execution_count": null,
   "metadata": {},
   "outputs": [],
   "source": [
    "# Try it here!\n"
   ]
  },
  {
   "cell_type": "markdown",
   "metadata": {},
   "source": [
    "The file `CanberraBOMweather.xls` is an Excel spreadsheet containing one year of daily weather data in Canberra, obtained from the Bureau of Meteorology. Read this in, and produce one graph showing daily mean temperature and pressure (you should average the 9am and 3pm pressure readings for each day)."
   ]
  },
  {
   "cell_type": "code",
   "execution_count": null,
   "metadata": {},
   "outputs": [],
   "source": [
    "# Try it here!\n"
   ]
  },
  {
   "cell_type": "markdown",
   "metadata": {},
   "source": [
    "The function `plt.fill_between()` provides a way to shade in a region of your figure. Use this to show the maximum and minimum temperatures each day on your graph. Make sure that the mean temperature and pressure information is not obscured!"
   ]
  },
  {
   "cell_type": "code",
   "execution_count": null,
   "metadata": {},
   "outputs": [],
   "source": [
    "# Try it here!\n"
   ]
  },
  {
   "cell_type": "markdown",
   "metadata": {},
   "source": [
    "Make a pair of graphs showing the morning and afternoon temperatures and humidities, displayed using polar coordinates. Make sure the origin is in a sensible place, and that your graph is fully labelled."
   ]
  },
  {
   "cell_type": "code",
   "execution_count": null,
   "metadata": {},
   "outputs": [],
   "source": [
    "# Try it here!\n"
   ]
  },
  {
   "cell_type": "markdown",
   "metadata": {},
   "source": [
    "Can you find a good way to visualise the wind direction information throughout the year?"
   ]
  },
  {
   "cell_type": "code",
   "execution_count": null,
   "metadata": {},
   "outputs": [],
   "source": [
    "# Try it here!\n"
   ]
  }
 ],
 "metadata": {
  "kernelspec": {
   "display_name": "Python 3",
   "language": "python",
   "name": "python3"
  },
  "language_info": {
   "codemirror_mode": {
    "name": "ipython",
    "version": 3
   },
   "file_extension": ".py",
   "mimetype": "text/x-python",
   "name": "python",
   "nbconvert_exporter": "python",
   "pygments_lexer": "ipython3",
   "version": "3.6.6"
  }
 },
 "nbformat": 4,
 "nbformat_minor": 2
}
