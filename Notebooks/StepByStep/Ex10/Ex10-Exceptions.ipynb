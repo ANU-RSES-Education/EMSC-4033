{
 "cells": [
  {
   "cell_type": "markdown",
   "metadata": {},
   "source": [
    "# Exercise 10 - Exception handling\n",
    "\n",
    "By now, you will almost certainly have encountered 'exceptions' - the error messages that appear when you ask Python to do something that it doesn't like. For example, the following code will raise an exception:\n",
    "```python\n",
    "a = [1,2,3]\n",
    "print(a[4])\n",
    "```\n",
    "Attempting to execute this code results in some text similar to this:\n",
    "```text\n",
    "---------------------------------------------------------------------------\n",
    "IndexError                                Traceback (most recent call last)\n",
    "<ipython-input-1-ba5ce40e4136> in <module>()\n",
    "      1 a = [1,2,3]\n",
    "----> 2 print(a[4])\n",
    "\n",
    "IndexError: list index out of range\n",
    "\n",
    "```\n",
    "The error here is that we have tried to access the 5th element of `a` (remember, counting starts from zero!), but `a` only contains three entries.\n",
    "\n",
    "Another example might be\n",
    "```python\n",
    "a = 1 + 'hello'\n",
    "```\n",
    "which generates\n",
    "```text\n",
    "---------------------------------------------------------------------------\n",
    "TypeError                                 Traceback (most recent call last)\n",
    "<ipython-input-2-41d1b959c123> in <module>()\n",
    "----> 1 1+'hello'\n",
    "\n",
    "TypeError: unsupported operand type(s) for +: 'int' and 'str'\n",
    "```\n",
    "Notice that these two error messages have different headlines: the first is an `IndexError`, whereas the second is a `TypeError`. You will notice that a variety of other kinds of error exist.\n",
    "\n",
    "If these errors are simply coding mistakes, it is useful to have the program terminate immediately, so we can fix it. However, in 'real' code these sorts of problem may arise for reasons beyond the programmer's control - perhaps the user has provided an incorrect set of inputs, for example. It is therefore often useful to be able to 'catch' and 'handle' exceptions in a graceful manner.\n",
    "\n",
    "To do this, Python provides the `try... except...` construct. This looks like:\n",
    "```python\n",
    "try:\n",
    "    [code that may fail]\n",
    "except:\n",
    "    [code to handle the error]\n",
    "```\n",
    "When a `try...except...` construct is encountered, Python first attempts to execute all the code within the indented `try` block. If this is successful, the code within the `except` block is never executed. However, as soon as an error is encountered, Python stops attempting to execute the `try` block, and jumps immediately to the first line in the `except` block. It executes everything in the `except` block, and then (assuming no more errors arise) continues with the first line *after* the `try...except...` construct.\n",
    "\n",
    "So, for example:\n",
    "```python\n",
    "try:\n",
    "    x = float(input('Please enter a number: '))\n",
    "    print(\"The next number is: \", x+1)\n",
    "except:\n",
    "    print(\"Sorry, that is not a valid number\")\n",
    "```\n",
    "will gracefully handle cases where the user types text into the input field.\n",
    "\n",
    "**&#10148; Try it out!** Compare how Python behaves with, and without, the `try...except...` construct."
   ]
  },
  {
   "cell_type": "code",
   "execution_count": null,
   "metadata": {},
   "outputs": [],
   "source": [
    "# Try it here!\n"
   ]
  },
  {
   "cell_type": "markdown",
   "metadata": {},
   "source": [
    "This kind of error handling is sometimes referred to as the 'EAFP' model: \"easier to ask forgiveness than permission\". Rather than attempting to verify that everything is correct *before* carrying out an operation - a process which can be tedious and computationally inefficient - we start by assuming everything will work, and then deal with any mess that we create.\n",
    "\n",
    "Our `try... except...` statement above will handle *any* kind of error that might arise. This may seem superficially attractive, but it can lead to confusion. For example, suppose we had made a typo in our code, referring to a variable `z` (which doesn't exist):\n",
    "```python\n",
    "try:\n",
    "    x = float(input('Please enter a number: '))\n",
    "    print(\"The next number is: \", z+1)\n",
    "except:\n",
    "    print(\"Sorry, that is not a valid number\")\n",
    "```\n",
    "Now, this will always complain that we have entered an invalid number - even though this is not the real problem. If we remove the `try... except...` we see that this code is triggerring a `NameError`, rather than the `ValueError` that we intended to avoid. If this were 'real' code, we might waste a lot of time trying to understand why Python thought we were entering invalid numbers.\n",
    "\n",
    "**&#10148; Try it out!**"
   ]
  },
  {
   "cell_type": "code",
   "execution_count": null,
   "metadata": {},
   "outputs": [],
   "source": [
    "# Try it here!\n"
   ]
  },
  {
   "cell_type": "markdown",
   "metadata": {},
   "source": [
    "To avoid this, we can specify what sort of error(s) the `except` block is intended to handle:\n",
    "```python\n",
    "try:\n",
    "    x = float(input('Please enter a number: '))\n",
    "    print(\"The next number is: \", z+1)\n",
    "except ValueError:\n",
    "    print(\"Sorry, that is not a valid number\")\n",
    "```\n",
    "Now, our typo will be obvious when we try and run the code, but once it is fixed everything will work as expected. If necessary, we can have one `except` that catches multiple types of exception\n",
    "```python\n",
    "try:\n",
    "    [code]\n",
    "except ValueError, TypeError:\n",
    "    [code]\n",
    "```\n",
    "and we can have multiple `except` blocks to handle different errors in different ways:\n",
    "```python\n",
    "try:\n",
    "    [code]\n",
    "except ValueError:\n",
    "    [code]\n",
    "except TypeError:\n",
    "    [code]\n",
    "except:\n",
    "    [code]\n",
    "```\n",
    "In the above example, the 'bare' `except` at the end is optional, and will catch all errors that do not match one of the 'named' exception handlers. For example\n",
    "```python\n",
    "try:\n",
    "    x = float(input('Please enter a number: '))\n",
    "    print(\"The next number is: \", z+1)\n",
    "except ValueError:\n",
    "    print(\"Sorry, that is not a valid number\")\n",
    "except:\n",
    "    print(\"Something unexpected happened\")\n",
    "```\n",
    "will catch the error arising from our typo.\n",
    "\n",
    "**&#10148; Try it out!**"
   ]
  },
  {
   "cell_type": "code",
   "execution_count": null,
   "metadata": {},
   "outputs": [],
   "source": [
    "# Try it here!\n"
   ]
  },
  {
   "cell_type": "markdown",
   "metadata": {},
   "source": [
    "Exception handling can sometimes be a central part of your code design. Suppose you need to write a piece of code to sum up the entries in a list (and you have forgotten that Python's `sum()` function exists to do this). One solution (the cleanest, and so the best) would be to loop over the entries in the array:\n",
    "```python\n",
    "a = [1,3,6]\n",
    "s = 0\n",
    "for x in a:\n",
    "    s+=x\n",
    "print(s)\n",
    "```\n",
    "However, you could also write something like:\n",
    "```python\n",
    "a = [1,3,6]\n",
    "i = 0\n",
    "s = 0\n",
    "while True:\n",
    "    try:\n",
    "        s+=a[i]\n",
    "    except IndexError:\n",
    "        break\n",
    "    i+=1\n",
    "print(s)\n",
    "```\n",
    "While this is unnecessarily complicated for such a straightfoward example, it illustrates how exception-handling can be used to control the flow of a program."
   ]
  },
  {
   "cell_type": "code",
   "execution_count": null,
   "metadata": {},
   "outputs": [],
   "source": [
    "# Try it here!\n"
   ]
  },
  {
   "cell_type": "markdown",
   "metadata": {},
   "source": [
    "It is tempting to overuse `try...except...` clauses, to supress Python's built-in errror messages. Generally this will be a mistake, as it will make it harder to identify the causes of bugs. It is best to only use `try...except...` when necessary to handle 'predictable' error cases, or in production code.\n",
    "\n",
    "**&#10148; In Exercise 4, you made a guessing game. Using `try...except...`, adapt it so that if the user enters anything other than an integer, they are prompted to 'try again'.**"
   ]
  },
  {
   "cell_type": "code",
   "execution_count": null,
   "metadata": {},
   "outputs": [],
   "source": [
    "# Try it here!\n"
   ]
  },
  {
   "cell_type": "markdown",
   "metadata": {},
   "source": [
    "Sometimes, it is useful to be able to access more information about the exact error that occurred. This can be achieved by modifying the `except` statement:\n",
    "```python\n",
    "try:\n",
    "    [code]\n",
    "except <ErrorType> as <variable>:\n",
    "    [code]\n",
    "```\n",
    "As an example,\n",
    "```python\n",
    "try:\n",
    "    x = 1+'hello'\n",
    "except TypeError as err:\n",
    "    print(\"There is an error\")\n",
    "    print(err)\n",
    "```\n",
    "Now, if a TypeError is raised, Python creates the variable `err` and sets it to contain some more detailed information about the error. We can then use this to give a more detailed report, or to help us handle the problem. Different types of error may store different information within the variable.\n",
    "\n",
    "**&#10148; Try it out!**"
   ]
  },
  {
   "cell_type": "code",
   "execution_count": null,
   "metadata": {},
   "outputs": [],
   "source": [
    "# Try it here!\n"
   ]
  },
  {
   "cell_type": "markdown",
   "metadata": {},
   "source": [
    "Sometimes, there may be code that you want to execute regardless of whether an error occurs or not. For example, you might wish to save some information about the stage your program has reached, or delete temporary files. To help with this, Python provides a variant of `try...except...`:\n",
    "```python\n",
    "try:\n",
    "    [code]\n",
    "finally:\n",
    "    [code]\n",
    "```\n",
    "The code within the `finally` block is *always* executed, either after everything in `try` has been successfully completed, or *before* an error is propagated. For example:\n",
    "```python\n",
    "try:\n",
    "    s = 0\n",
    "    for x in [1,2,3,'x']:\n",
    "        s += x\n",
    "finally:\n",
    "    print(\"This line is printed *before* the error is raised...\")\n",
    "    print(s)\n",
    "```\n",
    "If the `try...finally...` occurs in a function, and `finally` contains a `return `statement the error is never raised. Similarly, if `try...finally...` occurs in a loop, and `finally` contains a `break` statement, the error is discarded.\n",
    "\n",
    "**&#10148; Try it out!**"
   ]
  },
  {
   "cell_type": "code",
   "execution_count": null,
   "metadata": {},
   "outputs": [],
   "source": [
    "# Try it here!\n"
   ]
  },
  {
   "cell_type": "markdown",
   "metadata": {},
   "source": [
    "Python also allows you to `raise` errors within your code, triggering the error-handling mechanisms already described. This is achieved by the command\n",
    "```python\n",
    "raise <ErrorType>\n",
    "```\n",
    "or\n",
    "```python\n",
    "raise <ErrorType>(<message>)\n",
    "```\n",
    "For example,\n",
    "```python\n",
    "raise IndexError\n",
    "```\n",
    "or \n",
    "```python\n",
    "raise IndexError(\"This is just an example\")\n",
    "```\n",
    "\n",
    "A file `some_data.txt` is present in this folder. Use the skills you acquired during the last exercises to build a function that loads this file and multiply the two columns together. Do the sum for each line. If the sum is different from 100, raise a ValueError with a message saying that the sum of columns should be 100.\n",
    "\n",
    "**&#10148; Try it out!**"
   ]
  },
  {
   "cell_type": "code",
   "execution_count": null,
   "metadata": {},
   "outputs": [],
   "source": [
    "# Try it here!\n"
   ]
  },
  {
   "cell_type": "markdown",
   "metadata": {},
   "source": [
    "In conjunction with `try...except...`, `raise` can allow an effective mechanism for controlling program flow, since an exception raised within a function (within another function, within...) can be caught and handled at the top-most level. For example, one might write something like:\n",
    "```python\n",
    "def check_consistency(datafile_lines):\n",
    "    # Checks whether datafile contents are self-consistent\n",
    "    [...]\n",
    "    if [...]:\n",
    "        # File is good\n",
    "        return True\n",
    "    else:\n",
    "        return False\n",
    "   \n",
    "def load_datafile(...):\n",
    "    # Load data from file\n",
    "    with open(datafile, 'r') as fp:\n",
    "        lines = fp.readlines()\n",
    "        [...]\n",
    "        if not check_consistency(lines): raise IOError(\"Datafile is not self-consistent\")\n",
    "            \n",
    "def restart_calculation(...):\n",
    "    # Attempt to resume interrupted calculation\n",
    "    [...]\n",
    "    load_datafile(...)\n",
    "    [...]\n",
    "\n",
    "def program_startup(...):\n",
    "    [...]\n",
    "    try:\n",
    "        restart_calcuation(...)\n",
    "    except IOError:\n",
    "        start_new_calculation(...)\n",
    "```\n",
    "Here, the `program_startup` routine attempts to restart an existing, previous calculation based on information in a file, but if reading this file fails for any reason, it will simply start the calculation afresh. \n",
    "\n",
    "**➤ Earlier, you wrote some code to compute the sum of columns of a dataset. Using the structure described above, adapt this so that if the file doesn't exist, the dataset \n",
    "`[[1.,99.],[2.,98.],[3.,97.]]` is processed instead.**"
   ]
  },
  {
   "cell_type": "code",
   "execution_count": null,
   "metadata": {},
   "outputs": [],
   "source": [
    "# Try it here!\n"
   ]
  }
 ],
 "metadata": {
  "kernelspec": {
   "display_name": "Python 3",
   "language": "python",
   "name": "python3"
  },
  "language_info": {
   "codemirror_mode": {
    "name": "ipython",
    "version": 3
   },
   "file_extension": ".py",
   "mimetype": "text/x-python",
   "name": "python",
   "nbconvert_exporter": "python",
   "pygments_lexer": "ipython3",
   "version": "3.6.6"
  }
 },
 "nbformat": 4,
 "nbformat_minor": 2
}
