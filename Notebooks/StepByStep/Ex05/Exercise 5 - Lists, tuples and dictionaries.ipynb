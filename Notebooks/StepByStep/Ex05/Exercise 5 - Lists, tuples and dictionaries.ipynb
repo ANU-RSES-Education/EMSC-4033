{
 "cells": [
  {
   "cell_type": "markdown",
   "metadata": {},
   "source": [
    "# Exercise 5 - Lists, tuples and dictionaries\n",
    "\n",
    "So far, all our variables have been single numbers. However, many types of data may consist of more than one piece of information. For example, an experiment might generate measurements of pressure and temperature, each recorded at a number of different times. While it would be possible to define new variables for each number separately, it quickly becomes difficult to keep track of them all. Ideally, we would like to have a structured way of storing related information. Lists, tuples and dictionaries are some of the tools that Python provides for doing this.\n",
    "\n",
    "## Lists\n",
    "A **list** is defined by using *square* brackets, and consists of some set of entries separated by commas:\n",
    "```python\n",
    "a = [3,4,5]\n",
    "```\n",
    "The individual entries do not need to have the same type, and we can have lists inside lists\n",
    "```python\n",
    "a = [3.2,'hello',[4,8,17.1] ] \n",
    "```\n",
    "although in practice, lists tend to be more homogenous than this. \n",
    "\n",
    "We can access individual *entries* in the list by adding an *index* to the variable name. In Python, we have to remember a quirk: when counting objects, we start from 0 rather than from 1; this is because Python is a 0-based programming language. Thus, to access the first entry in the list `a`, we use `a[0]`; the second entry is `a[1]`. We can use these entries in calculations. Thus:\n",
    "```python\n",
    "a = [3.2,'hello',[4,8,17.1] ] \n",
    "print(a[0]) # Prints '3.2'\n",
    "print(a[1]) # Prints 'hello'\n",
    "print(a[2]) # Prints '[4,8,17.1]'\n",
    "print(2+a[0]) # Prints '5.2'\n",
    "```\n",
    "Where an entry in a list is itself a list, we can use a second index to access the elements of this:\n",
    "```python\n",
    "a = [3.2,'hello',[4,8,17.1] ]\n",
    "print(a[2]) # Prints '[4,8,17.1]'\n",
    "print(a[2][0]) # Prints '4'\n",
    "print(a[2][1]**2 - a[2][2]) # Prints '46.9'\n",
    "```\n",
    "Negative indices count from the *last* element in the array, which is accessible as `a[-1]`.\n",
    "\n",
    "We can also ask for a *range* of entries. To do this, we specify the index of the *first* entry we want, and an index one larger than that of the *last* entry we want, separated by a colon:\n",
    "```python\n",
    "a = [5,6,7,8,9]\n",
    "print(a[1:3]) # Prints [6,7]\n",
    "```\n",
    "Again, this is somewhat quirky. However, it does mean that if we want to extract `n` entries starting at index `i0`, we simply need to ask for `a[i0:i0+n]`. By default, we get every element in the requested range. However, if we only want every $k$-th element, we can specify $k$ after a second colon:\n",
    "```python\n",
    "a = [5,6,7,8,9,10,11,12]\n",
    "print(a[1:6:2]) # Prints '[6,8,10]'\n",
    "```\n",
    "Finally, we can use shorthands such as `a[:4]` (everything from the start up to element `a[3]`, inclusive), `a[3:]` (everything from `a[3]` to the end) and `a[::2]` (every second element, starting with `a[0]`.\n",
    "\n",
    "**&#10148; Try it out!**"
   ]
  },
  {
   "cell_type": "code",
   "execution_count": null,
   "metadata": {},
   "outputs": [],
   "source": [
    "# Try it here! \n"
   ]
  },
  {
   "cell_type": "markdown",
   "metadata": {},
   "source": [
    "We can change the values stored within an element of a list:\n",
    "```python\n",
    "a = [1,2,3]\n",
    "print(a[1]) # Prints '2'\n",
    "a[1] = 17\n",
    "print(a) # Prints '[1,17,3]'\n",
    "```\n",
    "Lists are therefore said to be 'mutable'. However, note that we need to explicitly change the list entry:\n",
    "```python\n",
    "x = 3\n",
    "a = [1,2,x]\n",
    "print(a) # Prints '[1,2,3]'\n",
    "x = 5\n",
    "print(a) # Still prints '[1,2,3]'\n",
    "```\n",
    "**&#10148; Try it out!**"
   ]
  },
  {
   "cell_type": "code",
   "execution_count": null,
   "metadata": {},
   "outputs": [],
   "source": [
    "# Try it here!\n"
   ]
  },
  {
   "cell_type": "markdown",
   "metadata": {},
   "source": [
    "Unlike most other variables in Python, a list variable  stores a *pointer* to the list, rather than the list itself. This means that two *different* variable names can refer to the same memory address, and is a common (and counter-intuitive) source of errors. For example\n",
    "```python\n",
    "a = [1,2,3]\n",
    "b = a # 'a' and 'b' both refer to the same object\n",
    "print(a)  # Prints '[1,2,3]'\n",
    "b[1] = 17\n",
    "print(a) # Prints '[1,17,3]'\n",
    "```\n",
    "Notice that the list referred to by `a` has changed, even though we have not explicitly altered it! This behaviour is different from 'normal' variables. If you wish to create a copy of a list, you will need to use the 'copy' function:\n",
    "```python\n",
    "a = [1,2,3]\n",
    "b = a.copy()\n",
    "b[1] = 17\n",
    "print(a) # Prints '[1,2,3]'\n",
    "```\n",
    "If we 'add' two lists together, we create a new list containing the elements from each:\n",
    "```python\n",
    "a = [1,2,3]\n",
    "b = [4,5,6]\n",
    "print(a+b) # Prints '[1,2,3,4,5,6]'\n",
    "```\n",
    "Thus, one can 'grow' a list:\n",
    "```python\n",
    "a = [1,2,3]\n",
    "a+=[4]\n",
    "print(a) # Prints '[1,2,3,4]'\n",
    "```\n",
    "However, if you need to build a large list, this is a very inefficient way of doing it, and your program will probably be very slow. \n",
    "\n",
    "Python provides a number of standard functions for working with lists. A few of the more important ones are detailed below, where we suppose `a` is a list:\n",
    "- `len(a)` will return the *length* of `a`, i.e. the number of elements it contains\n",
    "- `max(a)` will return the largest element of `a`\n",
    "- `min(a)` will return the smallest element of `a`\n",
    "- `sum(a)` will return the sum of the elements of `a`\n",
    "- `a.sort()` will sort the elements of `a`\n",
    "- `a.append(x)` will add a new element at the end of the list, containing the contents of `x`\n",
    "- `a.insert(i,x)` will add a new element containing `x` at location a[i], shifting later elements 'backwards' by one.\n",
    "- `a.remove(x)` will find the first occurrence of `x` in the list and remove it.\n",
    "- `a.count(x)` will count the number of occurrences of `x` in the list.\n",
    "- `a.index(x)` will return the index of the first occurrence of `x` in the list.\n",
    "- `a.reverse()` will flip the order of elements in a list\n",
    "- `a.pop(i)` will remove *and return* the element at index `i` in the list (or if no argument is provided, the last element in the list).\n",
    "\n",
    "**&#10148; Try these out!** Explore how each of the functions works. Remember, you can get information about any function by typing `<function-name>?` and hitting shift-enter, e.g. `a.pop?`."
   ]
  },
  {
   "cell_type": "code",
   "execution_count": null,
   "metadata": {},
   "outputs": [],
   "source": [
    "# Try it here!\n"
   ]
  },
  {
   "cell_type": "markdown",
   "metadata": {},
   "source": [
    "**&#10148; In the previous exercise, you wrote code for a guessing game. Adapt this to keep a record of all the user's past guesses, and detect when the user repeats a previous (incorrect) guess. **"
   ]
  },
  {
   "cell_type": "code",
   "execution_count": null,
   "metadata": {},
   "outputs": [],
   "source": [
    "# Try it here!\n"
   ]
  },
  {
   "cell_type": "markdown",
   "metadata": {},
   "source": [
    "## Tuples\n",
    "\n",
    "A **tuple** is rather similar to a list, but is defined using *round* brackets,\n",
    "```python\n",
    "a = (3,'x',(1,2,3))\n",
    "```\n",
    "Again, tuples can contain multiple elements, and the elements may not all share the same type. The key difference is that tuples are *immutable*, so that once a tuple is created it cannot subsequently be changed. (It can be extended -- but this is effectively the creation of a new, larger tuple!) As with lists, the individual elements of a tuple can be accessed using `[index]` after the tuple name, e.g.\n",
    "```python\n",
    "a = (3,4,5)\n",
    "print(a[1]) # Prints `4`\n",
    "```\n",
    "Again, Python provides a number of functions for working with a tuple ('`a`'), including:\n",
    "- `len(a)`\n",
    "- `min(a)`\n",
    "- `max(a)`\n",
    "- `a.index(x)`\n",
    "- `a.count(x)`\n",
    "\n",
    "all of which are similar to their counterparts for lists.\n",
    "\n",
    "**&#10148; Try it out!**\n"
   ]
  },
  {
   "cell_type": "code",
   "execution_count": null,
   "metadata": {},
   "outputs": [],
   "source": [
    "# Try it here!\n"
   ]
  },
  {
   "cell_type": "markdown",
   "metadata": {},
   "source": [
    "A tuple can be converted into a list, and vice versa:\n",
    "```python\n",
    "a = [3,4,5]\n",
    "b = (6,7,8)\n",
    "ta = tuple(a)\n",
    "lb = list(b)\n",
    "```\n",
    "\n",
    "When should you use a tuple, and when should you use a list? To some extent, this is a matter of style and preference. In general, the advice is that all the entries in a list should be 'the same kind of data', whereas the entries in a tuple are likely to represent different entitites. For example, if we have an experimental dataset that consists of observations of pressure and temperature at a sequence of time points, it might be appropriate to represent each observation as a tuple of `(pressure, temperature)`, and then the sequence of observations as a list of these tuples `[(p1,T1), (p2,T2), (p3,T3),...]`."
   ]
  },
  {
   "cell_type": "markdown",
   "metadata": {},
   "source": [
    "## Dictionaries\n",
    "\n",
    "Dictionaries provide a mechanism for storing data labelled with a keyword or other information. To create a dictionary, we use curly brackets, and associate each piece of data with a label:\n",
    "```python\n",
    "a = {<label1>:<data1>, <label2>:<data2>}\n",
    "```\n",
    "Another syntax to create dictionaries is:\n",
    "```python\n",
    "a = dict(<label1>=<data1>, <label2>=<data2>)\n",
    "```\n",
    "\n",
    "For example, if we wished to store an object's mass, location and length, we might create a dictionary as follows:\n",
    "```python\n",
    "a = {'mass':17.3,'length':0.7,'location':(3,1,8)}\n",
    "```\n",
    "or\n",
    "```python\n",
    "a = dict(mass=17.3, length=0.7, location=(3,1,8))\n",
    "```\n",
    "\n",
    "Note that in this example, the `location` key is storing a tuple. This illustrates that you can store many things in dictionaries, including arrays, list, tuples or objects for instance.\n",
    "\n",
    "Now, we can use the keywords as an index:\n",
    "```python\n",
    "print(a['mass'])\n",
    "print(a['length'])\n",
    "inertia = 0.5*a['mass']*a['length']**2\n",
    "print(inertia)\n",
    "```\n",
    "Often keywords will be text strings, but they do not need to be:\n",
    "```python\n",
    "y = (3,4,5)\n",
    "a = {2:'13.5',y:[6,7,8]}\n",
    "print(a[2])\n",
    "print(a[y])\n",
    "```\n",
    "You can add new entries to a dictionary by simply assigning to the indexed entry you wish to create:\n",
    "```python\n",
    "a = {'name':'Bob'}\n",
    "print(a['name']) # Prints 'Bob'\n",
    "# print(a['age']) would not work at this point\n",
    "a['age'] = 28\n",
    "print(a) # Now contains both 'name' and 'age'.\n",
    "```\n",
    "\n",
    "**&#10148; Try it out!**\n"
   ]
  },
  {
   "cell_type": "code",
   "execution_count": null,
   "metadata": {},
   "outputs": [],
   "source": [
    "# Try it here!\n"
   ]
  },
  {
   "cell_type": "markdown",
   "metadata": {},
   "source": [
    "Again, Python provides a number of functions that work with dictionaries, many of which we have already encountered, including:\n",
    "- `len(a)`\n",
    "- `max(a)`\n",
    "- `min(a)`\n",
    "- `a.copy()`\n",
    "- `a.pop()`\n",
    "\n",
    "Some methods particular to dictionaries are:\n",
    "- `a.keys()` - Returns a list-like object containing all the 'labels' within the dictionary `a`\n",
    "- `a.values()` - Returns a list-like object containing all the 'values' within the dictionary `a`\n",
    "- `a.items()` - Returns a list-like object containing `(label, data)` tuples for each of the entries in the dictionary.\n",
    "\n",
    "**&#10148; Try them all out!**"
   ]
  },
  {
   "cell_type": "code",
   "execution_count": null,
   "metadata": {},
   "outputs": [],
   "source": [
    "# Try it here!\n"
   ]
  },
  {
   "cell_type": "markdown",
   "metadata": {},
   "source": [
    "Dictionaries provide a useful mechanism for storing miscellaneous, unstructured information, such as metadata. The use of human-readable labels makes it easy to remember what each entry represents. \n",
    "\n",
    "Some properties of the first few elements in the periodic table are given below. Melting and boiling points are determined at atmospheric pressure.\n",
    "\n",
    "| Element | Symbol | Atomic Number | Melting point (K) | Boiling point (K)\n",
    "|---|---|---|---|---|\n",
    "| Hydrogen | H | 1 | 14 | 20 | \n",
    "| Helium | He | 2 | 1 | 4 |\n",
    "| Lithium | Li | 3 | 453 | 1603\n",
    "| Beryllium | Be |4 | 1560 | 2742\n",
    "|  Boron | B | 5 | 2349 | 4200\n",
    "| Carbon | C | 6 | 3915 | 3915\n",
    "| Nitrogen | N | 7 | 63 | 77\n",
    "| Oxygen | O | 8 | 54 | 90\n",
    "| Fluorine | F | 9 | 53 | 85\n",
    "| Neon | Ne| 10 | 25 | 27\n",
    "\n",
    "**&#10148; Create a dictionary to store this information, indexed by the symbol. Then write a function which allows the user to specify an element (via its symbol) and a temperature, and which reports whether the element is solid, liquid or gas at that point.**"
   ]
  },
  {
   "cell_type": "code",
   "execution_count": null,
   "metadata": {},
   "outputs": [],
   "source": [
    "# Try it here!\n"
   ]
  },
  {
   "cell_type": "markdown",
   "metadata": {},
   "source": [
    "In a previous exercise, you wrote code to calculate mortgage repayments. Different banks are offering different interest rates, with special introductory rates for the first two years of the mortgage:\n",
    "\n",
    "| Bank name |  Years 1 & 2 | Year 3 onwards |\n",
    "|---|---|---|\n",
    "|ANZ | 2.3% | 4.1% |\n",
    "|Bank of Australia | 0.1% | 5% |\n",
    "|Commonwealth Bank |3.5% | 3.8%|\n",
    "|Westpac | 3.7% | 3.7% |\n",
    "\n",
    "**&#10148; Use a dictionary to store this information, and modify your function so that the user can specify which bank provides their mortgage.** You can assume that the monthly interest rate is simply one-twelfth of these annual rates."
   ]
  },
  {
   "cell_type": "code",
   "execution_count": null,
   "metadata": {},
   "outputs": [],
   "source": [
    "# Try it here!\n"
   ]
  },
  {
   "cell_type": "markdown",
   "metadata": {},
   "source": [
    "## Sets\n",
    "\n",
    "Finally, we briefly mention the **set** data type. This is not commonly encountered, but can be very useful. It implements the [mathematical concept of a set]( https://en.wikipedia.org/wiki/Set_%28mathematics%29 ), an unordered collection of unique objects. A set can be created from a tuple or list:\n",
    "```python\n",
    "a = [3,4,5]\n",
    "s = set(a)\n",
    "print(s) # prints {3,4,5}\n",
    "```\n",
    "Duplicates are ignored:\n",
    "```python\n",
    "a = [3,3,5]\n",
    "s = set(a)\n",
    "print(s) # prints {3,5}\n",
    "```\n",
    "We can test whether one set is a subset of another set (that is, whether every element of the first set is also in the second) using the `<`,`>`, `<=` and `>=` operators:\n",
    "```python\n",
    "set([3,4]) < set([3,4,5]) # True\n",
    "set([3,4,5]) < set([3,4,5]) # False\n",
    "set([3,4,5]) <= set([3,4,5]) # True\n",
    "```\n",
    "We can find the union of two sets - the set of all elements in either set - using the `|` operator, and the intersection - all elements shared between the sets - using the `&` operator:\n",
    "```python\n",
    "a = set([3,4]) \n",
    "b = set([4,5,6])\n",
    "\n",
    "print( a|b ) # prints {3,4,5,6}\n",
    "print( a&b ) # prints {4}\n",
    "```\n",
    "We can also use the operator `-` to remove the elements of one set from another set.\n",
    "```python\n",
    "a = set([3,4]) \n",
    "b = set([4,5,6])\n",
    "\n",
    "print( b - a ) # prints {5,6}\n",
    "print( b^a ) # prints {3,5,6}\n",
    "```\n",
    "There is also a `^` operator, which is defined such that `a^b` is equivalent to `(a|b) - (a&b)`."
   ]
  },
  {
   "cell_type": "code",
   "execution_count": null,
   "metadata": {},
   "outputs": [],
   "source": [
    "# Try it here!\n"
   ]
  }
 ],
 "metadata": {
  "kernelspec": {
   "display_name": "Python 3",
   "language": "python",
   "name": "python3"
  },
  "language_info": {
   "codemirror_mode": {
    "name": "ipython",
    "version": 3
   },
   "file_extension": ".py",
   "mimetype": "text/x-python",
   "name": "python",
   "nbconvert_exporter": "python",
   "pygments_lexer": "ipython3",
   "version": "3.6.6"
  }
 },
 "nbformat": 4,
 "nbformat_minor": 2
}
