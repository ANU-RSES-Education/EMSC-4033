{
 "cells": [
  {
   "cell_type": "markdown",
   "id": "fa992992",
   "metadata": {},
   "source": [
    "# scipy \n",
    "\n",
    "\n",
    "`scipy` is a collection of tools that are commonly encountered in scientific environments. The implementations are generally robust and reliable. The documentation varies in quality but is generally helpful. \n",
    "\n",
    "It is impossible to cover all the aspects of the entire package because it includes modules to cover an enormous range of functionality:\n",
    "\n",
    "  - `cluster`: clustering algorithms (data analysis)\n",
    "  - `constants`: physical / mathematical constants\n",
    "  - `fftpack`: fourier transforms\n",
    "  - `integrate`: numerical integration routines\n",
    "  - `interpolate`: various data interpolation routines\n",
    "  - `linalg`: linear algebra routines (matrices etc)\n",
    "  - `ndimage`: N dimensional image manipulation and resizing (also array manipulations)\n",
    "  - `odr`: Orthogonal distance regression\n",
    "  - `optimize`: Optimization / root finding\n",
    "  - `signal`: Signal processing\n",
    "  - `sparse`: Sparse matrix packages\n",
    "  - `spatial`: Spatial data / triangulation / Voronoi diagrams \n",
    "  - `special`: Special (mathematical) functions \n",
    "  - `stats`: Statistics routines\n",
    "  \n",
    "  \n",
    "Here we will just skim some of the available sub-modules and go through some of the examples provided."
   ]
  },
  {
   "cell_type": "code",
   "execution_count": null,
   "id": "4a80fb6f",
   "metadata": {},
   "outputs": [],
   "source": [
    "## importing scipy does very little (mostly the numpy namespace)\n",
    "import numpy as np\n",
    "import scipy\n",
    "\n",
    "## to use the modules import each one separately\n",
    "from scipy import constants as constants\n",
    "\n",
    "print (constants.electron_mass)\n",
    "print ()\n",
    "print (constants.find(\"electron mass\"))\n",
    "print ()\n",
    "print (constants.value(\"electron mass\"),\" \", constants.unit(\"electron mass\"))"
   ]
  },
  {
   "cell_type": "code",
   "execution_count": null,
   "id": "f604a8e1",
   "metadata": {},
   "outputs": [],
   "source": [
    "## Note, this is actually the numpy array as well\n",
    "\n",
    "help(scipy.ndarray)"
   ]
  },
  {
   "cell_type": "code",
   "execution_count": null,
   "id": "24ae1e23",
   "metadata": {},
   "outputs": [],
   "source": []
  }
 ],
 "metadata": {
  "kernelspec": {
   "display_name": "Python 3",
   "language": "python",
   "name": "python3"
  }
 },
 "nbformat": 4,
 "nbformat_minor": 5
}
