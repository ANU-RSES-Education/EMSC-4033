{
 "cells": [
  {
   "cell_type": "markdown",
   "id": "classified-portland",
   "metadata": {},
   "source": [
    "# ipyleaflet\n",
    "\n",
    "  - [readthedocs page](https://ipyleaflet.readthedocs.io/en/latest/)\n",
    "  - [Available basemaps](https://ipyleaflet.readthedocs.io/en/latest/api_reference/basemaps.html)\n",
    "\n"
   ]
  },
  {
   "cell_type": "code",
   "execution_count": 1,
   "id": "accessory-coordinator",
   "metadata": {},
   "outputs": [
    {
     "data": {
      "application/vnd.jupyter.widget-view+json": {
       "model_id": "d524a8b244a14f9594c97bfc44519522",
       "version_major": 2,
       "version_minor": 0
      },
      "text/plain": [
       "Map(center=[38.491, -95.712], controls=(ZoomControl(options=['position', 'zoom_in_text', 'zoom_in_title', 'zoo…"
      ]
     },
     "metadata": {},
     "output_type": "display_data"
    }
   ],
   "source": [
    "## Example from https://ipyleaflet.readthedocs.io/en/latest/api_reference/wms_layer.html\n",
    "\n",
    "from ipyleaflet import Map, WMSLayer, basemaps\n",
    "\n",
    "wms = WMSLayer(\n",
    "    url='http://mesonet.agron.iastate.edu/cgi-bin/wms/nexrad/n0r.cgi',\n",
    "    layers='nexrad-n0r-900913',\n",
    "    format='image/png',\n",
    "    transparent=True,\n",
    "    attribution='Weather data © 2012 IEM Nexrad'\n",
    ")\n",
    "\n",
    "m = Map(basemap=basemaps.CartoDB.Positron, center=(38.491, -95.712), zoom=4)\n",
    "\n",
    "m.add_layer(wms)\n",
    "\n",
    "m"
   ]
  },
  {
   "cell_type": "code",
   "execution_count": 2,
   "id": "middle-occupation",
   "metadata": {},
   "outputs": [
    {
     "data": {
      "application/vnd.jupyter.widget-view+json": {
       "model_id": "d2dd2ecaf2ca4b9caf279e5941490e3e",
       "version_major": 2,
       "version_minor": 0
      },
      "text/plain": [
       "Map(center=[-36.7, 149.97], controls=(ZoomControl(options=['position', 'zoom_in_text', 'zoom_in_title', 'zoom_…"
      ]
     },
     "metadata": {},
     "output_type": "display_data"
    }
   ],
   "source": [
    "# Example from https://ipyleaflet.readthedocs.io/en/latest/api_reference/split_map_control.html\n",
    "\n",
    "\n",
    "from ipyleaflet import Map, basemaps, basemap_to_tiles, SplitMapControl\n",
    "\n",
    "m = Map(center=(-36.7, 149.97), zoom=9)\n",
    "\n",
    "left_layer = basemap_to_tiles(basemaps., \"2021-03-01\")\n",
    "right_layer = basemap_to_tiles(basemaps.Esri.WorldTopoMap, \"2021-04-01\")\n",
    "\n",
    "control = SplitMapControl(left_layer=left_layer, right_layer=right_layer)\n",
    "m.add_control(control)\n",
    "\n",
    "m"
   ]
  },
  {
   "cell_type": "code",
   "execution_count": null,
   "id": "published-exploration",
   "metadata": {},
   "outputs": [],
   "source": [
    "import cartopy.crs as ccrs\n",
    "\n",
    "\n",
    "url = 'https://map1c.vis.earthdata.nasa.gov/wmts-geo/wmts.cgi'\n",
    "layer = 'VIIRS_CityLights_2012'\n",
    "\n",
    "fig = plt.figure()\n",
    "ax = fig.add_subplot(1, 1, 1, projection=ccrs.PlateCarree())\n",
    "ax.add_wmts(url, layer)\n",
    "ax.set_extent([-15, 25, 35, 60], crs=ccrs.PlateCarree())\n",
    "\n",
    "ax.set_title('Suomi NPP Earth at night April/October 2012')\n",
    "plt.show()"
   ]
  },
  {
   "cell_type": "code",
   "execution_count": null,
   "id": "three-least",
   "metadata": {},
   "outputs": [],
   "source": [
    "from owslib.wmts import WebMapTileService\n",
    "wmts = WebMapTileService(\"http://map1c.vis.earthdata.nasa.gov/wmts-geo/wmts.cgi\")"
   ]
  },
  {
   "cell_type": "code",
   "execution_count": null,
   "id": "asian-sacramento",
   "metadata": {},
   "outputs": [],
   "source": []
  }
 ],
 "metadata": {
  "kernelspec": {
   "display_name": "Python 3",
   "language": "python",
   "name": "python3"
  },
  "language_info": {
   "codemirror_mode": {
    "name": "ipython",
    "version": 3
   },
   "file_extension": ".py",
   "mimetype": "text/x-python",
   "name": "python",
   "nbconvert_exporter": "python",
   "pygments_lexer": "ipython3",
   "version": "3.7.10"
  }
 },
 "nbformat": 4,
 "nbformat_minor": 5
}
