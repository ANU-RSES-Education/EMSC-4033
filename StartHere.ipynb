{
 "cells": [
  {
   "cell_type": "markdown",
   "metadata": {},
   "source": [
    "## Examples\n",
    "\n",
    "Some sample notebooks demonstrating some of the packages we frequently use such as `stripy`, `cartopy`, `litho1pt0`\n",
    "\n",
    "  - [Example 1 - Stripy triangulations of the sphere](Notebooks/Example1-Stripy-Spherical-Triangulations.ipynb)\n",
    "  - [Example 2 - Stripy smoothing on the sphere](Notebooks/Example2-Stripy-Smoothing.ipynb)\n",
    "  - [Example 3 - Cartopy on-demand access to SRTM](Notebooks/Example3-Cartopy-WorkingWithShuttleRadarTopography.ipynb)\n",
    "  - [Example 4 - Cartopy and the litho 1.0 lithosphere model](Notebooks/Example4-Litho1pt0-Layers.ipynb)\n",
    "  "
   ]
  },
  {
   "cell_type": "markdown",
   "metadata": {},
   "source": [
    "# README\n",
    "\n",
    "## Jupyterhub on DigitalOcean to serve notebooks for a course\n",
    "\n",
    "Many of us use jupyter notebooks to teach classes and we often serve them through `mybinder.org` because all of our students experience the same environment no matter what platform they use. The only problem with binder is that any changes the students make to their notebooks are not recorded if their session times out - the student session on binder is *not persistent* across sessions. \n",
    "\n",
    "Persistence does introduce some complications - every user has to be identified so that their session can be restored. Someone has to provide secure access and long-lived storage on top of the required computational environment.   \n",
    "\n",
    "This is an attempt to provide a template to build a cheap-and-cheerful jupyter-notebook server that can handle the needs of a medium sized class. Following this template means that the class coordinator can focus on the content rather than the setup. \n",
    "\n",
    "### Description\n",
    "\n",
    "This repository can build itself into a digital ocean droplet that runs (the littlest) jupyterhub with the underlying dependencies that you specify in a conda environment `yml` file. The configuration of the droplet\n",
    "is stored in the repository secret variables. Github actions are configured to monitor the repository and update\n",
    "the content of the server when changes to the configuration are pushed. The actions also check to see if the server\n",
    "is alive and well. \n",
    "\n",
    "This template repository contains sample content that runs on a dedicated droplet ... the status of that droplet\n",
    "is autoatically monitored:\n",
    " \n",
    "![Health check](https://github.com/ANU-RSES-Education/droplet-template/workflows/Health%20check/badge.svg)\n",
    "\n",
    "\n",
    "### How to use this template\n",
    "\n",
    "The full set of instructions is given in the [Documentation](Documentation) folder. The steps are:\n",
    "\n",
    "  - Create a suitable server ([instructions are for a Digital Ocean droplet](Documentation/DigitalOcean.md))\n",
    "  - Make a clone of this template repository (See [Github.md](Documentation/Github.md))\n",
    "  - Update the cloned repository with information about the server that you have set up\n",
    "  - Commit the updates on Github to trigger the build / rebuild of the content of the server\n",
    "  - Create links for `nbgitpuller` for users of the server and test them (See [nbgitpuller.md](Documentation/nbgitpuller.md )) \n",
    "  - Add your users to the `jupyterhub` ([ManagingUsers.md](Documentation/ManagingUsers.md))\n",
    "\n",
    "\n",
    "### Try out the Nbgitpuller\n",
    "\n",
    "To make a \"binder-like\" link to a repository on a droplet that you have set up, you can do this:\n",
    "\n",
    "[https://jupyterhub.github.io/nbgitpuller/link.html](https://jupyterhub.github.io/nbgitpuller/link.html)\n",
    "\n",
    "You can launch this example particular example to try it out by clicking on this link. Your work is persistent. \n",
    "\n",
    "[![https://img.shields.io/badge/<LABEL>-<MESSAGE>-<COLOR>](https://img.shields.io/badge/Launch-Demo-blue)](http://128.199.153.60/hub/user-redirect/git-pull?repo=https%3A%2F%2Fgithub.com%2FANU-RSES-Education%2Fdroplet-template&urlpath=tree%2Fdroplet-template%2FStartHere.ipynb&branch=master)\n",
    "\n"
   ]
  },
  {
   "cell_type": "code",
   "execution_count": null,
   "metadata": {},
   "outputs": [],
   "source": []
  }
 ],
 "metadata": {
  "file_extension": ".py",
  "kernelspec": {
   "display_name": "Python 3.7.6 64-bit ('base': conda)",
   "language": "python",
   "name": "python37664bitbaseconda56fe6d69fc4741fdbf8bf1acb5c09fd6"
  },
  "language_info": {
   "codemirror_mode": {
    "name": "ipython",
    "version": 3
   },
   "file_extension": ".py",
   "mimetype": "text/x-python",
   "name": "python",
   "nbconvert_exporter": "python",
   "pygments_lexer": "ipython3",
   "version": "3.7.6"
  },
  "mimetype": "text/x-python",
  "name": "python",
  "npconvert_exporter": "python",
  "pygments_lexer": "ipython3",
  "version": 3
 },
 "nbformat": 4,
 "nbformat_minor": 4
}
