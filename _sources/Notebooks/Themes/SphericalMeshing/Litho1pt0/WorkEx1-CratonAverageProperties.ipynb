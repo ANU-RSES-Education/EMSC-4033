{
 "cells": [
  {
   "cell_type": "markdown",
   "id": "35515ad9",
   "metadata": {},
   "source": [
    "## Properties of the cratons\n",
    "\n",
    "Requirement is to obtain some geophysical data about the cratonic lithosphere and compare to the same property for some other geological setting.\n",
    "\n",
    "We can use the crust 1.0 geological regionalisation to query certain parts of the litho1.0 dataset and determine how lithospheric properties relate to the geological setting.\n",
    "\n",
    "To do so, we need to be able to:\n",
    "\n",
    "   - Construct a uniform discretisation of the globe for sampling\n",
    "   - Obtain crustal type at those points\n",
    "   - Select the points that meet certain criteria in the Crust 1.0 model\n",
    "   - Extract properties from Litho1.0 for those points\n",
    "   - Analyse\n",
    "   - Plot\n",
    "   \n",
    "Stripy can produce the relevant sample points (we could, perhaps, use the original sample points for the litho1.0 model, or well- distributed points from a face-included icosahedron). Litho1.0 and Crust1.0 have the interpolation tools we need."
   ]
  },
  {
   "cell_type": "code",
   "execution_count": null,
   "id": "40e31c6f",
   "metadata": {},
   "outputs": [],
   "source": [
    "import litho1pt0 as litho1pt0\n",
    "import stripy\n",
    "import numpy as np"
   ]
  },
  {
   "cell_type": "code",
   "execution_count": null,
   "id": "7a90ea8f",
   "metadata": {
    "hide_input": false
   },
   "outputs": [],
   "source": [
    "even_mesh = stripy.spherical_meshes.icosahedral_mesh(include_face_points=True, refinement_levels=5)"
   ]
  },
  {
   "cell_type": "code",
   "execution_count": null,
   "id": "656c8dda",
   "metadata": {},
   "outputs": [],
   "source": [
    "number_of_mesh_points = even_mesh.npoints\n",
    "print (number_of_mesh_points)\n",
    "print (even_mesh.lats.shape)"
   ]
  },
  {
   "cell_type": "code",
   "execution_count": null,
   "id": "33d1db61",
   "metadata": {},
   "outputs": [],
   "source": [
    "latitudes_in_radians = even_mesh.lats\n",
    "latitudes_in_degrees = np.degrees(latitudes_in_radians)\n",
    "\n",
    "longitudes_in_radians = even_mesh.lons \n",
    "longitudes_in_degrees = np.degrees(longitudes_in_radians)%360.0 - 180.0"
   ]
  },
  {
   "cell_type": "code",
   "execution_count": null,
   "id": "dbc572d5",
   "metadata": {},
   "outputs": [],
   "source": [
    "## Plot these points to check the mesh is reasonable\n",
    "\n",
    "print (latitudes_in_degrees.min(), latitudes_in_degrees.max())\n",
    "print (longitudes_in_degrees.min(), longitudes_in_degrees.max())"
   ]
  },
  {
   "cell_type": "code",
   "execution_count": null,
   "id": "ce385503",
   "metadata": {},
   "outputs": [],
   "source": [
    "## Other version of this\n",
    "\n",
    "# Make an empty array with the same size as the number of mesh points\n",
    "crustype2 = np.empty(number_of_mesh_points)\n",
    "crustype2 = np.empty_like(even_mesh.lats)\n",
    "\n",
    "# Loop and fill the array with crust regionalisation values\n",
    "for i in range(0,even_mesh.npoints):\n",
    "    if i%1000 == 0:\n",
    "        print(\"Iteration: {}\".format(i))\n",
    "    crustype2[i] = litho1pt0.crust_type_at(lat=latitudes_in_degrees[i], lon=longitudes_in_degrees[i])\n",
    "    \n",
    "    "
   ]
  },
  {
   "cell_type": "code",
   "execution_count": null,
   "id": "82e86e3a",
   "metadata": {},
   "outputs": [],
   "source": [
    "## Now need depth values from litho1pt0 geophysical model \n",
    "\n",
    "litho1pt0.l1_layer_decode"
   ]
  },
  {
   "cell_type": "code",
   "execution_count": null,
   "id": "8fb48938",
   "metadata": {},
   "outputs": [],
   "source": [
    "l1 = litho1pt0.layer_depth(latitudes_in_degrees, longitudes_in_degrees, \"LID-BOTTOM\") *0.001\n",
    "l2 = litho1pt0.layer_depth(latitudes_in_degrees, longitudes_in_degrees, \"LID-TOP\") *0.001\n",
    "\n",
    "lthickness = (l1 - l2)\n",
    "\n",
    "print(\"Litho thickness - {}, {}\".format(lthickness.min(), lthickness.max()))"
   ]
  },
  {
   "cell_type": "code",
   "execution_count": null,
   "id": "d2aa1999",
   "metadata": {},
   "outputs": [],
   "source": [
    "c1 = litho1pt0.layer_depth(latitudes_in_degrees, longitudes_in_degrees, \"CRUST3-BOTTOM\") *0.001\n",
    "c2 = litho1pt0.layer_depth(latitudes_in_degrees, longitudes_in_degrees, \"CRUST1-TOP\") *0.001\n",
    "\n",
    "s0 = litho1pt0.layer_depth(latitudes_in_degrees, longitudes_in_degrees, \"SEDS1-TOP\") *0.001\n",
    "\n",
    "cthickness = (c1 - c2)\n",
    "sthickness = (c2 - s0)\n",
    "\n",
    "print(\"Crust thickness - {}, {}\".format(cthickness.min(), cthickness.max()))"
   ]
  },
  {
   "cell_type": "code",
   "execution_count": null,
   "id": "cd915c1a",
   "metadata": {},
   "outputs": [],
   "source": [
    "## Is that sensible ?\n",
    "\n",
    "%matplotlib inline\n",
    "\n",
    "import cartopy\n",
    "import cartopy.crs as ccrs\n",
    "import matplotlib.pyplot as plt\n",
    "\n",
    "global_extent     = [-180.0, 180.0, -89, 89]\n",
    "\n",
    "projection0 = ccrs.PlateCarree()\n",
    "projection1 = ccrs.Orthographic(central_longitude=140.0, central_latitude=0.0, globe=None)\n",
    "projection2 = ccrs.Mollweide()\n",
    "projection3 = ccrs.Robinson()\n",
    "base_projection = ccrs.PlateCarree()\n",
    "\n",
    "fig = plt.figure(figsize=(12, 12), facecolor=\"none\")\n",
    "ax  = plt.subplot(111, projection=projection0)\n",
    "ax.set_global()\n",
    "\n",
    "colormap = plt.cm.get_cmap('RdYlBu_r', 10)\n",
    "\n",
    "m = ax.scatter(longitudes_in_degrees, latitudes_in_degrees, c=sthickness, cmap=colormap,\n",
    "               s=2.0, linewidth=0.0, transform=ccrs.PlateCarree())\n",
    "\n",
    "plt.colorbar(mappable=m, orientation=\"horizontal\", shrink=0.5)\n",
    "\n",
    "#ax.add_feature(cartopy.feature.OCEAN, alpha=0.5, zorder=99, facecolor=\"#BBBBBB\")\n",
    "ax.coastlines(resolution=\"50m\", zorder=100, linewidth=0.5)"
   ]
  },
  {
   "cell_type": "code",
   "execution_count": null,
   "id": "5b2cbc98",
   "metadata": {},
   "outputs": [],
   "source": [
    "crustype = litho1pt0.crust_type_at(lat=np.degrees(even_mesh.lats), lon=np.degrees(even_mesh.lons))"
   ]
  },
  {
   "cell_type": "code",
   "execution_count": null,
   "id": "7fe48700",
   "metadata": {},
   "outputs": [],
   "source": [
    "# litho1pt0.c1_region_descriptor in 2,3,4 are Archean terranes - this is an easy way to get those values\n",
    "\n",
    "craton_cthickness = cthickness[np.logical_and(crustype<=4, crustype>=2)]\n",
    "craton_lthickness = lthickness[np.logical_and(crustype<=4, crustype>=2)]\n",
    "\n",
    "# litho1pt0.c1_region_descriptor in 5,6,7,8 are Proterozoic terranes - this is an easy way to get those values\n",
    "\n",
    "proton_cthickness = cthickness[np.logical_and(crustype<=8, crustype>=5)]\n",
    "proton_lthickness = lthickness[np.logical_and(crustype<=8, crustype>=5)]"
   ]
  },
  {
   "cell_type": "code",
   "execution_count": null,
   "id": "d27e6a37",
   "metadata": {},
   "outputs": [],
   "source": [
    "print(craton_lthickness.mean())\n",
    "print(proton_lthickness.mean())"
   ]
  },
  {
   "cell_type": "code",
   "execution_count": null,
   "id": "0112fd54",
   "metadata": {},
   "outputs": [],
   "source": [
    "for i, crustName in enumerate(litho1pt0.c1_region_descriptor):\n",
    "    if \"Archean\" in crustName:\n",
    "        print(i,\"-\",crustName)"
   ]
  },
  {
   "cell_type": "code",
   "execution_count": null,
   "id": "a04dda06",
   "metadata": {},
   "outputs": [],
   "source": []
  }
 ],
 "metadata": {
  "jupytext": {
   "text_representation": {
    "extension": ".md",
    "format_name": "myst",
    "format_version": 0.12,
    "jupytext_version": "1.6.0"
   }
  },
  "kernelspec": {
   "display_name": "Python 3",
   "language": "python",
   "name": "python3"
  },
  "source_map": [
   12,
   31,
   37,
   43,
   49,
   57,
   64,
   80,
   86,
   95,
   107,
   139,
   143,
   155,
   160,
   166
  ]
 },
 "nbformat": 4,
 "nbformat_minor": 5
}