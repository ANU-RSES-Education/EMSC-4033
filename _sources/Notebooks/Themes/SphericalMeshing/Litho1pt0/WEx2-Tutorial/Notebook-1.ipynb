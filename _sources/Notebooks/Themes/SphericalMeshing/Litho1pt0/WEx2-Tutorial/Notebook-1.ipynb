{
 "cells": [
  {
   "cell_type": "markdown",
   "id": "c1bc0dd6",
   "metadata": {},
   "source": [
    "# A quick look at the depth-age relationship for the seafloor.\n",
    "\n",
    "\n",
    "\n",
    "## Required background\n",
    "\n",
    "In this tutorial we assume some passing familiarity making maps with the `cartopy` package and `matplotlib` within the jupyter notebook environment. We will work though how to download and manipulate the data that we need to use, but we will also need to check that we have downloaded the correct data, that we are reading it correctly and that is is not corrupted. For that there is no better check than plotting a map and taking a good look at the results.\n",
    "\n",
    "## Step 1\n",
    "\n",
    "Download topography / bathymetry data and plot a map. \n",
    "\n",
    "\n",
    "## Step 2 \n",
    "\n",
    "We need the age data for the oceans and we need to check how it is formatted.\n",
    "\n",
    "\n",
    "## Step 3\n",
    "\n",
    "Next we need to try to get the depth and the age into the same grid resolution. \n",
    "We also need to think about whether this grid is suitable for the analysis we are going to do.\n",
    "\n",
    "\n",
    "## Step 4\n",
    "\n",
    "Finally we put all this together to obtain a single scatter plot ! \n",
    "\n",
    "\n",
    "### References\n",
    "\n",
    "Turcotte, Donald Lawson, and Gerald Schubert. Geodynamics. 2nd ed. Cambridge ; New York: Cambridge University Press, 2002."
   ]
  },
  {
   "cell_type": "markdown",
   "id": "bcf69f39",
   "metadata": {},
   "source": [
    "## Spoiler \n",
    "\n",
    "This is what we are aiming for:\n",
    "<div>\n",
    "<img src=\"./Images/MyTargetPlot.png\", width=40%>\n",
    "</div>"
   ]
  },
  {
   "cell_type": "code",
   "execution_count": null,
   "id": "a73ca034",
   "metadata": {},
   "outputs": [],
   "source": []
  },
  {
   "cell_type": "markdown",
   "id": "1a1b2a75",
   "metadata": {},
   "source": [
    "```{toctree}\n",
    ":hidden:\n",
    ":titlesonly:\n",
    "\n",
    "\n",
    "Notebook-2\n",
    "Notebook-3\n",
    "Notebook-4\n",
    "Notebook-5\n",
    "```"
   ]
  }
 ],
 "metadata": {
  "jupytext": {
   "cell_metadata_filter": "-all",
   "text_representation": {
    "extension": ".md",
    "format_name": "myst",
    "format_version": 0.12,
    "jupytext_version": "1.6.0"
   }
  },
  "kernelspec": {
   "display_name": "Python 3",
   "language": "python",
   "name": "python3"
  },
  "source_map": [
   13,
   48,
   57,
   59
  ]
 },
 "nbformat": 4,
 "nbformat_minor": 5
}