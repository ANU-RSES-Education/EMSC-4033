{
 "cells": [
  {
   "cell_type": "markdown",
   "id": "cecfe529",
   "metadata": {},
   "source": [
    "# A quick look at the depth-age relationship for the seafloor.\n",
    "\n",
    "We can obtain the global (ocean) age grid from the University of Sydney Earthbyte Group (https://www.earthbyte.org/Resources/agegrid2008.html). \n",
    "The data should look like this when plotted on a map.\n",
    "\n",
    "![ocean_age_molleweide_180.png](./Images/ocean_age_molleweide_180.png)\n",
    "\n",
    "Note: I downloaded this file: age.3.6.nc which is \"A short integer netCDF formatted file.\n",
    "The age units are in millions of years, multiplied by 100 (to enable storage as short  The file spans longitudes from 0 E to\n",
    "360 E and latitudes from 90 N to -90 N. 6 minute resolution, gridline-registered.\" \n",
    "\n",
    "The ftp site where this data is stored does not serve the data in a way that xarray can read but otherwise it should be similar to what we did for the topography / bathymetry data. \n",
    "\n",
    "\n",
    "### References\n",
    "\n",
    "Müller, R.D., Sdrolias, M., Gaina, C. and Roest, W.R., 2008, Age spreading rates and spreading asymmetry of the world's ocean crust,\n",
    "Geochemistry, Geophysics, Geosystems, 9, Q04006, doi:10.1029/2007GC001743\n",
    "\n",
    "## Read the data and make a plot \n",
    "\n",
    "Let's see if the data are what we expect given the Earthbyte image above.\n",
    "We will need to import `xarray` to read the compressed file."
   ]
  },
  {
   "cell_type": "code",
   "execution_count": null,
   "id": "181416e0",
   "metadata": {},
   "outputs": [],
   "source": [
    "import xarray\n",
    "import numpy as np\n",
    "\n",
    "age_dataset = \"../Data/age.3.6.nc\"\n",
    "age_data = xarray.open_dataset(age_dataset)\n",
    "subs_data = age_data.sel(x=slice(-180,180, 1), y=slice(-90, 90, 1))\n",
    "\n",
    "lons = subs_data.coords.get('x')\n",
    "lats = subs_data.coords.get('y')\n",
    "vals = subs_data['z']\n",
    "\n",
    "x,y = np.meshgrid(lons.data, lats.data)\n",
    "age = vals.data"
   ]
  },
  {
   "cell_type": "code",
   "execution_count": null,
   "id": "9dedd51b",
   "metadata": {},
   "outputs": [],
   "source": [
    "import matplotlib.pyplot as plt\n",
    "%matplotlib inline\n",
    "\n",
    "import cartopy.crs as ccrs\n",
    "import cartopy.feature as cfeature\n",
    "\n",
    "map_extent = (-180, 180,-90,90)\n",
    "\n",
    "coastline = cfeature.NaturalEarthFeature('physical', 'coastline', '10m',\n",
    "                           edgecolor=(1.0,0.8,0.0),\n",
    "                           facecolor=\"none\")\n",
    "\n",
    "plt.figure(figsize=(15, 10))\n",
    "ax = plt.subplot(111, projection=ccrs.PlateCarree())\n",
    "ax.set_extent(map_extent)\n",
    "\n",
    "ax.add_feature(coastline, edgecolor=\"black\", linewidth=0.5, zorder=3)\n",
    "\n",
    "plt.imshow(age, extent=map_extent, transform=ccrs.PlateCarree(),\n",
    "           cmap='RdYlBu', origin='lower', vmin=0.0, vmax=180.0)"
   ]
  },
  {
   "cell_type": "markdown",
   "id": "7e5f0dc2",
   "metadata": {},
   "source": [
    "Is this correct ?\n",
    "\n",
    "Well, it does not look quite right but do you think the data are scrambled or is something else wrong? \n",
    "\n",
    "## Debugging\n",
    "\n",
    "Remember to read the description above. What is the range of age in the age array ? What do you expect for the Earth's oceans ?\n",
    "\n",
    "*Hint; check the documentation for np.isnan()*"
   ]
  },
  {
   "cell_type": "code",
   "execution_count": null,
   "id": "ce882cbf",
   "metadata": {},
   "outputs": [],
   "source": []
  }
 ],
 "metadata": {
  "jupytext": {
   "cell_metadata_filter": "-all",
   "text_representation": {
    "extension": ".md",
    "format_name": "myst",
    "format_version": 0.12,
    "jupytext_version": "1.6.0"
   }
  },
  "kernelspec": {
   "display_name": "Python 3",
   "language": "python",
   "name": "python3"
  },
  "source_map": [
   13,
   39,
   55,
   76,
   88
  ]
 },
 "nbformat": 4,
 "nbformat_minor": 5
}