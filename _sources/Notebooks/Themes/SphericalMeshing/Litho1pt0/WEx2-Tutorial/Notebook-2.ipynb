{
 "cells": [
  {
   "cell_type": "markdown",
   "id": "ce6e5f02",
   "metadata": {},
   "source": [
    "# A quick look at the depth-age relationship for the seafloor.\n",
    "\n",
    "We are going to work with the ETOPO1 dataset (Amante et al) which we can download from various services online when we need it. \n",
    "You can read more about the dataset here: https://ngdc.noaa.gov/mgg/global/\n",
    "\n",
    "\n",
    "We need some libraries to help with downloading, manipulating and plotting the data:\n",
    "\n",
    "  - `numpy` to manipulate arrays \n",
    "  - `xarray` which extends `numpy` for data that might be too big to read all at once\n",
    "  - `matplotlib` and `cartopy` for plotting data on maps"
   ]
  },
  {
   "cell_type": "code",
   "execution_count": null,
   "id": "6d745e4d",
   "metadata": {},
   "outputs": [],
   "source": [
    "import numpy as np\n",
    "import xarray\n",
    "\n",
    "import matplotlib.pyplot as plt\n",
    "from matplotlib import cm  \n",
    "%matplotlib inline"
   ]
  },
  {
   "cell_type": "markdown",
   "id": "b80734b9",
   "metadata": {},
   "source": [
    "## References\n",
    "\n",
    "Amante, C. “ETOPO1 1 Arc-Minute Global Relief Model: Procedures, Data Sources and Analysis.” National Geophysical Data Center, NOAA, 2009. https://doi.org/10.7289/V5C8276M."
   ]
  },
  {
   "cell_type": "markdown",
   "id": "e1142ef7",
   "metadata": {},
   "source": [
    "## Read ETOPO data from a remote service\n",
    "\n",
    "This is how we access the data - provide a url, open that url, and ask for a subset of the data (either by region or by taking every n'th value)\n",
    "\n",
    "``` python\n",
    "    etopo_dataset = \"http://thredds.socib.es/thredds/dodsC/ancillary_data/bathymetry/ETOPO1_Bed_g_gmt4.nc\"\n",
    "    etopo_data = xarray.open_dataset(etopo_dataset)\n",
    "    subs_data = etopo_data.sel(x=slice(left,right, 30), y=slice(bottom, top, 30))\n",
    "```\n",
    "\n",
    "Here we have requested every 30th data point."
   ]
  },
  {
   "cell_type": "code",
   "execution_count": null,
   "id": "82fc45a6",
   "metadata": {},
   "outputs": [],
   "source": [
    "(left, bottom, right, top) = (-180, -90, 180, 90)\n",
    "map_extent = ( left, right, bottom, top)\n",
    "\n",
    "etopo_dataset = \"http://thredds.socib.es/thredds/dodsC/ancillary_data/bathymetry/ETOPO1_Bed_g_gmt4.nc\"\n",
    "etopo_data = xarray.open_dataset(etopo_dataset)\n",
    "subs_data = etopo_data.sel(x=slice(left,right, 300), y=slice(bottom, top, 300))\n",
    "\n",
    "lons = subs_data.coords.get('x')\n",
    "lats = subs_data.coords.get('y')\n",
    "vals = subs_data['z']\n",
    "\n",
    "x,y = np.meshgrid(lons.data, lats.data)\n",
    "height = vals.data"
   ]
  },
  {
   "cell_type": "markdown",
   "id": "7c63d7e7",
   "metadata": {},
   "source": [
    "## Validation\n",
    "\n",
    "Can you check to see what resolution data we have downloaded ?\n",
    "(hint *the `height` data is a numpy array and has a `shape` attribute*)\n",
    "\n",
    "Check here:"
   ]
  },
  {
   "cell_type": "code",
   "execution_count": null,
   "id": "1af75e11",
   "metadata": {},
   "outputs": [],
   "source": [
    "print(\"The shape of the array is ... \")"
   ]
  },
  {
   "cell_type": "markdown",
   "id": "39426375",
   "metadata": {},
   "source": [
    "and we should plot the data to see if it matches the image above and whether we need more resolution.\n",
    "Does that look right ?\n",
    "\n",
    "If the map is horribly pixelated, we might try downloading more data. Don't go mad or it will take forever."
   ]
  },
  {
   "cell_type": "code",
   "execution_count": null,
   "id": "82559040",
   "metadata": {},
   "outputs": [],
   "source": [
    "import cartopy.crs as ccrs\n",
    "import cartopy.feature as cfeature\n",
    "\n",
    "coastline = cfeature.NaturalEarthFeature('physical', 'coastline', '10m',\n",
    "                           edgecolor=(1.0,0.8,0.0),\n",
    "                           facecolor=\"none\")\n",
    "\n",
    "plt.figure(figsize=(15, 10))\n",
    "ax = plt.subplot(111, projection=ccrs.PlateCarree())\n",
    "ax.set_extent(map_extent)\n",
    "\n",
    "ax.add_feature(coastline, edgecolor=\"black\", linewidth=0.5, zorder=3)\n",
    "\n",
    "plt.imshow(height, extent=map_extent, transform=ccrs.PlateCarree(),\n",
    "           cmap='terrain', origin='upper', vmin=-5000., vmax=5000.)"
   ]
  },
  {
   "cell_type": "code",
   "execution_count": null,
   "id": "05782ea4",
   "metadata": {},
   "outputs": [],
   "source": []
  }
 ],
 "metadata": {
  "jupytext": {
   "cell_metadata_filter": "-all",
   "text_representation": {
    "extension": ".md",
    "format_name": "myst",
    "format_version": 0.12,
    "jupytext_version": "1.6.0"
   }
  },
  "kernelspec": {
   "display_name": "Python 3",
   "language": "python",
   "name": "python3"
  },
  "source_map": [
   13,
   27,
   34,
   40,
   54,
   68,
   77,
   79,
   86,
   104
  ]
 },
 "nbformat": 4,
 "nbformat_minor": 5
}