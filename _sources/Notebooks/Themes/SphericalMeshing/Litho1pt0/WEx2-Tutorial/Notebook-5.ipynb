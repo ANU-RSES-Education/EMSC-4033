{
 "cells": [
  {
   "cell_type": "markdown",
   "id": "0502c932",
   "metadata": {},
   "source": [
    "# A quick look at the depth-age relationship for the seafloor.\n",
    "\n",
    "We can now try to do what we set out to do - obtain values on an appropriate grid and see what the data look like.\n",
    "\n",
    "\n",
    "## First a grid at fine resolution"
   ]
  },
  {
   "cell_type": "code",
   "execution_count": null,
   "id": "4841d936",
   "metadata": {},
   "outputs": [],
   "source": [
    "import stripy\n",
    "import numpy as np\n",
    "\n",
    "even_mesh = stripy.spherical_meshes.icosahedral_mesh(include_face_points=True, tree=True, refinement_levels=6)\n",
    "number_of_mesh_points = even_mesh.npoints\n",
    "\n",
    "latitudes_in_radians = even_mesh.lats\n",
    "latitudes_in_degrees = np.degrees(latitudes_in_radians) \n",
    "\n",
    "longitudes_in_radians = even_mesh.lons \n",
    "longitudes_in_degrees = np.degrees(longitudes_in_radians)%360.0 - 180.0"
   ]
  },
  {
   "cell_type": "markdown",
   "id": "f9a6b051",
   "metadata": {},
   "source": [
    "## Have a look\n",
    "\n",
    "Here we plot the points on the globe to demonstrate that the points are evenly spaced and sufficiently well resolved"
   ]
  },
  {
   "cell_type": "code",
   "execution_count": null,
   "id": "fa41f13a",
   "metadata": {},
   "outputs": [],
   "source": [
    "import matplotlib.pyplot as plt\n",
    "%matplotlib inline\n",
    "\n",
    "import cartopy.crs as ccrs\n",
    "import cartopy.feature as cfeature\n",
    "\n",
    "coastline = cfeature.NaturalEarthFeature('physical', 'coastline', '10m',\n",
    "                           edgecolor=(1.0,0.8,0.0),\n",
    "                           facecolor=\"none\")\n",
    "\n",
    "plt.figure(figsize=(15, 10))\n",
    "ax = plt.subplot(111, projection=ccrs.Orthographic(central_longitude=0.1))\n",
    "\n",
    "ax.add_feature(coastline, edgecolor=\"black\", linewidth=0.5, zorder=3)\n",
    "\n",
    "plt.scatter(longitudes_in_degrees, latitudes_in_degrees, s=0.5,\n",
    "            transform=ccrs.PlateCarree())"
   ]
  },
  {
   "cell_type": "markdown",
   "id": "9a0be792",
   "metadata": {},
   "source": [
    "## Find the age and depth values on these points \n",
    "\n",
    "Now we interpolate each of our datasets to the same set of grid points. First we need \n",
    "to define the interpolation routine again."
   ]
  },
  {
   "cell_type": "code",
   "execution_count": null,
   "id": "67cdf6ed",
   "metadata": {},
   "outputs": [],
   "source": [
    "def map_raster_to_mesh(mesh, latlongrid):\n",
    "    \n",
    "    raster = latlongrid.T\n",
    "\n",
    "    latitudes_in_radians  = mesh.lats\n",
    "    longitudes_in_radians = mesh.lons \n",
    "    latitudes_in_degrees  = np.degrees(latitudes_in_radians) \n",
    "    longitudes_in_degrees = np.degrees(longitudes_in_radians)%360.0 - 180.0\n",
    "\n",
    "    dlons = np.mod(longitudes_in_degrees+180.0, 360.0)\n",
    "    dlats = np.mod(latitudes_in_degrees+90, 180.0)\n",
    "\n",
    "    ilons = raster.shape[0] * dlons / 360.0\n",
    "    ilats = raster.shape[1] * dlats / 180.0\n",
    "\n",
    "    icoords = np.array((ilons, ilats))\n",
    "\n",
    "    from scipy import ndimage\n",
    "\n",
    "    mvals = ndimage.map_coordinates(raster, icoords , order=3, mode='nearest').astype(np.float)\n",
    "    \n",
    "    return mvals"
   ]
  },
  {
   "cell_type": "markdown",
   "id": "caa87535",
   "metadata": {},
   "source": [
    "## Interpolate age data to fine, triangular grid.\n",
    "\n",
    "(You can plot the results as before to see that you have not made a mistake)\n",
    "\n",
    "``` python \n",
    "plt.figure(figsize=(6, 6))\n",
    "ax = plt.subplot(111, projection=ccrs.Orthographic(central_longitude=0.1))\n",
    "\n",
    "ax.add_feature(coastline, edgecolor=\"black\", linewidth=0.5, zorder=3)\n",
    "\n",
    "plt.scatter(longitudes_in_degrees, latitudes_in_degrees, c=meshages, cmap=\"RdYlBu\",\n",
    "            vmin=0, vmax=250, s=5,\n",
    "            transform=ccrs.Geodetic())\n",
    "```"
   ]
  },
  {
   "cell_type": "code",
   "execution_count": null,
   "id": "a928fe3c",
   "metadata": {},
   "outputs": [],
   "source": [
    "import xarray\n",
    "\n",
    "age_dataset = \"../Data/age.3.6.nc\"\n",
    "age_data = xarray.open_dataset(age_dataset)\n",
    "subs_data = age_data.sel(x=slice(-180,180, 1), y=slice(-90, 90, 1))\n",
    "\n",
    "lons = subs_data.coords.get('x')\n",
    "lats = subs_data.coords.get('y')\n",
    "vals = subs_data['z']\n",
    "\n",
    "x,y = np.meshgrid(lons.data, lats.data)\n",
    "age = vals.data / 100.0\n",
    "age[np.isnan(age)] = -1.0\n",
    "\n",
    "meshages = map_raster_to_mesh(even_mesh, age)"
   ]
  },
  {
   "cell_type": "markdown",
   "id": "b289d72e",
   "metadata": {},
   "source": [
    "## Interpolate height data to fine, triangular grid.\n",
    "\n",
    "(You can plot the results as before to see that you have not made a mistake)\n",
    "\n",
    "You also should make a decision about the resolution of the data you want to download.\n",
    "\n",
    "```python\n",
    "plt.figure(figsize=(6, 6))\n",
    "ax = plt.subplot(111, projection=ccrs.Orthographic(central_longitude=0.1))\n",
    "\n",
    "ax.add_feature(coastline, edgecolor=\"black\", linewidth=0.5, zorder=3)\n",
    "\n",
    "plt.scatter(longitudes_in_degrees, latitudes_in_degrees, c=meshheights, cmap=\"terrain\",\n",
    "            vmin=-5000, vmax=5000, s=2,\n",
    "            transform=ccrs.Geodetic())\n",
    "```"
   ]
  },
  {
   "cell_type": "code",
   "execution_count": null,
   "id": "dc91ad61",
   "metadata": {},
   "outputs": [],
   "source": [
    "(left, bottom, right, top) = (-180, -90, 180, 90)\n",
    "map_extent = ( left, right, bottom, top)\n",
    "\n",
    "etopo_dataset = \"http://thredds.socib.es/thredds/dodsC/ancillary_data/bathymetry/ETOPO1_Bed_g_gmt4.nc\"\n",
    "etopo_data = xarray.open_dataset(etopo_dataset)\n",
    "subs_data = etopo_data.sel(x=slice(left,right, 180), y=slice(bottom, top, 180))\n",
    "\n",
    "lons = subs_data.coords.get('x')\n",
    "lats = subs_data.coords.get('y')\n",
    "vals = subs_data['z']\n",
    "\n",
    "x,y = np.meshgrid(lons.data, lats.data)\n",
    "height = vals.data\n",
    "\n",
    "meshheights = map_raster_to_mesh(even_mesh, height)"
   ]
  },
  {
   "cell_type": "code",
   "execution_count": null,
   "id": "752a0615",
   "metadata": {},
   "outputs": [],
   "source": [
    "plt.figure(figsize=(6, 6))\n",
    "ax = plt.subplot(111)\n",
    "ax.set_xlim(0,150)\n",
    "ax.set_ylim(-7000,-2000)\n",
    "\n",
    "plt.scatter( meshages[meshheights<-2000], meshheights[meshheights<-2000])\n",
    "plt.savefig(\"MyAwesomePlot.png\", dpi=250)"
   ]
  },
  {
   "cell_type": "markdown",
   "id": "28e77988",
   "metadata": {},
   "source": [
    "## Oh No !!\n",
    "\n",
    "That looks terrible doesn't it ?  But all is not lost ... \n",
    "\n",
    "## Exercise\n",
    "\n",
    "Try this: make the points smaller (`s=1.0`) and make them a bit see-through (`alpha=0.2`) and now take a look.\n",
    "Increase the resolution of your samples in topography. That might make a difference too. \n",
    "Finally, how about trying more grid points ?"
   ]
  },
  {
   "cell_type": "code",
   "execution_count": null,
   "id": "af907ceb",
   "metadata": {},
   "outputs": [],
   "source": []
  }
 ],
 "metadata": {
  "jupytext": {
   "cell_metadata_filter": "-all",
   "text_representation": {
    "extension": ".md",
    "format_name": "myst",
    "format_version": 0.13,
    "jupytext_version": "1.10.3"
   }
  },
  "kernelspec": {
   "display_name": "Python 3",
   "language": "python",
   "name": "python3"
  },
  "source_map": [
   13,
   22,
   34,
   40,
   58,
   65,
   88,
   105,
   121,
   140,
   158,
   166,
   178
  ]
 },
 "nbformat": 4,
 "nbformat_minor": 5
}