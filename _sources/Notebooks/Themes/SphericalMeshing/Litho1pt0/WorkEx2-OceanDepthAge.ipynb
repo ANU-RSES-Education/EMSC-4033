{
 "cells": [
  {
   "cell_type": "markdown",
   "id": "cffe63ec",
   "metadata": {},
   "source": [
    "## Age of the oceans / depth of the oceans\n",
    "\n",
    "It is well known that ocean bathymetry increases as the square root of the age of the oceanic lithosphere. \n",
    "This can be explained if the oceanic plates form the upper thermal boundary layer of the cooling, convecting\n",
    "mantle. \n",
    "\n",
    "Most of the data we need to make a simple, first order test of this observation is available to download.\n",
    "We do need some extra tools though - we will have to make sure the age and depth data are sampled at the same \n",
    "points, and we also will need to filter out parts of the Earth's surface that are not normal ocean floor.\n",
    "\n",
    "Stripy can help with interpolation / resampling and litho1pt0 (and the crust1.0 regionalisation) allow coarse filtering."
   ]
  },
  {
   "cell_type": "code",
   "execution_count": null,
   "id": "b8d0d188",
   "metadata": {},
   "outputs": [],
   "source": [
    "## This is a worked example for stripy if we don't use litho1.0 information\n",
    "\n",
    "import litho1pt0\n",
    "import stripy\n",
    "import numpy as np\n",
    "\n",
    "import cartopy\n",
    "import cartopy.crs as ccrs\n",
    "import matplotlib.pyplot as plt"
   ]
  },
  {
   "cell_type": "code",
   "execution_count": null,
   "id": "adc766e7",
   "metadata": {},
   "outputs": [],
   "source": [
    "import xarray\n",
    "import h5netcdf\n",
    "\n",
    "(left, bottom, right, top) = (-180, -90, 180, 90)\n",
    "map_extent = ( left, right, bottom, top)\n",
    "\n",
    "etopo_dataset = \"http://thredds.socib.es/thredds/dodsC/ancillary_data/bathymetry/ETOPO1_Bed_g_gmt4.nc\"\n",
    "etopo_data = xarray.open_dataset(etopo_dataset)\n",
    "regional_data = etopo_data.sel(x=slice(left,right,10), y=slice(bottom, top,10))\n",
    "\n",
    "lons = regional_data.coords.get('x')\n",
    "lats = regional_data.coords.get('y')\n",
    "vals = regional_data['z']\n",
    "\n",
    "x,y = np.meshgrid(lons.data, lats.data)\n",
    "height = vals.data"
   ]
  },
  {
   "cell_type": "code",
   "execution_count": null,
   "id": "41bf0b46",
   "metadata": {
    "hide_input": false
   },
   "outputs": [],
   "source": [
    "## Define a regular mesh which we can use to sample the depth-age datasets and the litho 1.0 / crust 1.0 information\n",
    "\n",
    "even_mesh = stripy.spherical_meshes.icosahedral_mesh(include_face_points=True, tree=True, refinement_levels=6)\n",
    "number_of_mesh_points = even_mesh.npoints\n",
    "\n",
    "latitudes_in_radians = even_mesh.lats\n",
    "latitudes_in_degrees = np.degrees(latitudes_in_radians) \n",
    "\n",
    "longitudes_in_radians = even_mesh.lons \n",
    "longitudes_in_degrees = np.degrees(longitudes_in_radians)"
   ]
  },
  {
   "cell_type": "code",
   "execution_count": null,
   "id": "b85c2d16",
   "metadata": {},
   "outputs": [],
   "source": [
    "# Make an empty array with the same size as the number of mesh points\n",
    "crusttype = np.empty_like(even_mesh.lats)\n",
    "\n",
    "# Loop and fill the array with crust regionalisation values\n",
    "for i in range(0,even_mesh.npoints): \n",
    "    # Note, need 0 -> 360 for litho1pt0 longitudes\n",
    "    crusttype[i] = litho1pt0.crust_type_at(lat=latitudes_in_degrees[i], lon=(longitudes_in_degrees[i]+180))\n",
    "\n",
    "# Identify which points are \"Normal oceanic\" crust\n",
    "ocean_idx = litho1pt0.c1_region_descriptor.index(\"Normal oceanic\")\n",
    "is_ocean = crusttype == ocean_idx"
   ]
  },
  {
   "cell_type": "code",
   "execution_count": null,
   "id": "ac06569a",
   "metadata": {},
   "outputs": [],
   "source": [
    "# Plot this to check the sanity of all the results\n",
    "\n",
    "import cartopy.crs as ccrs\n",
    "import cartopy.feature as cfeature\n",
    "\n",
    "coastline = cfeature.NaturalEarthFeature('physical', 'coastline', '10m',\n",
    "                           edgecolor=(1.0,0.8,0.0),\n",
    "                           facecolor=\"none\")\n",
    "\n",
    "plt.figure(figsize=(15, 10))\n",
    "ax = plt.subplot(111, projection=ccrs.PlateCarree())\n",
    "ax.set_extent(map_extent)\n",
    "\n",
    "ax.add_feature(coastline, edgecolor=\"black\", linewidth=0.5, zorder=3)\n",
    "\n",
    "plt.imshow(height, extent=map_extent, transform=ccrs.PlateCarree(),\n",
    "           cmap='Greys', origin='lower', vmin=-5000., vmax=5000.)\n",
    "\n",
    "ax.scatter(longitudes_in_degrees, latitudes_in_degrees, \n",
    "               c=\"black\",  alpha=0.5,\n",
    "               s=0.5, transform=ccrs.PlateCarree())\n",
    "\n",
    "ax.scatter(longitudes_in_degrees[is_ocean], latitudes_in_degrees[is_ocean], \n",
    "               c=\"red\",  alpha=0.25,\n",
    "               s=0.5, transform=ccrs.PlateCarree())"
   ]
  },
  {
   "cell_type": "code",
   "execution_count": null,
   "id": "21750b86",
   "metadata": {},
   "outputs": [],
   "source": [
    "## Obtain the age data and store in img format\n",
    "\n",
    "age_dataset = \"Data/age.3.6.nc\"\n",
    "age_data = xarray.open_dataset(age_dataset)\n",
    "subs_data = age_data.sel(x=slice(-180,180, 1), y=slice(-90, 90, 1))\n",
    "\n",
    "lons = subs_data.coords.get('x')\n",
    "lats = subs_data.coords.get('y')\n",
    "vals = subs_data['z']\n",
    "\n",
    "x,y = np.meshgrid(lons.data, lats.data)\n",
    "age = vals.data * 0.01 \n",
    "age[np.isnan(age)] = -1.0"
   ]
  },
  {
   "cell_type": "code",
   "execution_count": null,
   "id": "3e7eb7ce",
   "metadata": {},
   "outputs": [],
   "source": [
    "## Map heights/ages to the even-mesh grid points\n",
    "\n",
    "def map_raster_to_mesh(mesh, raster):\n",
    "\n",
    "    latitudes_in_radians  = mesh.lats\n",
    "    longitudes_in_radians = mesh.lons \n",
    "    latitudes_in_degrees  = np.degrees(latitudes_in_radians) \n",
    "    longitudes_in_degrees = np.degrees(longitudes_in_radians)\n",
    "\n",
    "    dlons = (longitudes_in_degrees + 180)\n",
    "    dlats = latitudes_in_degrees + 90 \n",
    "\n",
    "    ilons = raster.shape[0] * dlons / 360.0\n",
    "    ilats = raster.shape[1] * dlats / 180.0\n",
    "\n",
    "    icoords = np.stack((ilons, ilats))\n",
    "\n",
    "    from scipy import ndimage\n",
    "\n",
    "    mvals = ndimage.map_coordinates(raster, icoords , order=3, mode='nearest').astype(np.float)\n",
    "    \n",
    "    return mvals"
   ]
  },
  {
   "cell_type": "code",
   "execution_count": null,
   "id": "5272a220",
   "metadata": {},
   "outputs": [],
   "source": [
    "height.shape"
   ]
  },
  {
   "cell_type": "code",
   "execution_count": null,
   "id": "297acdbc",
   "metadata": {},
   "outputs": [],
   "source": [
    "meshheights = map_raster_to_mesh(even_mesh, height.T)\n",
    "meshages    = map_raster_to_mesh(even_mesh, age.T)"
   ]
  },
  {
   "cell_type": "code",
   "execution_count": null,
   "id": "052c2466",
   "metadata": {},
   "outputs": [],
   "source": [
    "plt.figure(figsize=(10, 10))\n",
    "ax1 = plt.subplot(211, projection=ccrs.PlateCarree())\n",
    "ax2 = plt.subplot(212, projection=ccrs.PlateCarree())\n",
    "\n",
    "ax1.set_extent(map_extent)\n",
    "\n",
    "ax1.add_feature(coastline, edgecolor=\"black\", linewidth=0.5, zorder=3)\n",
    "\n",
    "m = ax1.scatter(longitudes_in_degrees, latitudes_in_degrees, \n",
    "               c=meshheights, cmap=\"terrain\", vmin=-6000.0, vmax=6000.0,\n",
    "               s=5.0, transform=ccrs.PlateCarree())\n",
    "\n",
    "ax2.set_extent(map_extent)\n",
    "\n",
    "ax2.add_feature(coastline, edgecolor=\"black\", linewidth=0.5, zorder=3)\n",
    "\n",
    "m = ax2.scatter(longitudes_in_degrees[is_ocean], latitudes_in_degrees[is_ocean], \n",
    "               c=meshages[is_ocean], cmap=\"RdYlBu\", vmin=0.0, vmax=180.0,\n",
    "               s=5.0, transform=ccrs.PlateCarree())"
   ]
  },
  {
   "cell_type": "code",
   "execution_count": null,
   "id": "31894f8d",
   "metadata": {},
   "outputs": [],
   "source": [
    "fig = plt.figure(figsize=(12, 12), facecolor=\"none\")\n",
    "ax  = plt.subplot(111)\n",
    "ax.scatter(meshages[is_ocean], meshheights[is_ocean],s=0.1)\n",
    "ax.set_xlim([0.0,150.0])"
   ]
  },
  {
   "cell_type": "code",
   "execution_count": null,
   "id": "07c21dcb",
   "metadata": {},
   "outputs": [],
   "source": []
  },
  {
   "cell_type": "code",
   "execution_count": null,
   "id": "c5b4bea6",
   "metadata": {},
   "outputs": [],
   "source": []
  }
 ],
 "metadata": {
  "jupytext": {
   "text_representation": {
    "extension": ".md",
    "format_name": "myst",
    "format_version": 0.13,
    "jupytext_version": "1.10.3"
   }
  },
  "kernelspec": {
   "display_name": "Python 3",
   "language": "python",
   "name": "python3"
  },
  "source_map": [
   12,
   26,
   38,
   57,
   72,
   86,
   114,
   130,
   155,
   159,
   164,
   186,
   193,
   197
  ]
 },
 "nbformat": 4,
 "nbformat_minor": 5
}