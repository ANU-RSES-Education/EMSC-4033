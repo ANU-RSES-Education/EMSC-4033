{
 "cells": [
  {
   "cell_type": "markdown",
   "id": "fb635650",
   "metadata": {},
   "source": [
    "### Crust 1.0 data\n",
    "\n",
    "Crust 1.0 is built on a regular grid — it is also wrapped in the `litho1pt0` module"
   ]
  },
  {
   "cell_type": "code",
   "execution_count": null,
   "id": "e742710d",
   "metadata": {},
   "outputs": [],
   "source": [
    "import gdal\n",
    "import litho1pt0 as litho\n",
    "import numpy as np"
   ]
  },
  {
   "cell_type": "code",
   "execution_count": null,
   "id": "fffc5d00",
   "metadata": {},
   "outputs": [],
   "source": [
    "# The full descriptions of the numbers in the table\n",
    "print (litho.c1_region_descriptor )\n",
    "\n",
    "# The table of data\n",
    "crust_type = litho._c1_crust_type_lat_lon \n",
    "print (\"Resolution: \", crust_type.shape)\n",
    "print (crust_type)"
   ]
  },
  {
   "cell_type": "code",
   "execution_count": null,
   "id": "2c614138",
   "metadata": {},
   "outputs": [],
   "source": [
    "gridlonv, gridlatv = np.meshgrid(np.linspace(0,360,720), np.linspace(-90,90,360), sparse=False, indexing='xy')\n",
    "\n",
    "crust_type_i = np.empty_like(gridlonv, dtype=int)"
   ]
  },
  {
   "cell_type": "code",
   "execution_count": null,
   "id": "f635b915",
   "metadata": {},
   "outputs": [],
   "source": []
  },
  {
   "cell_type": "code",
   "execution_count": null,
   "id": "295bc947",
   "metadata": {},
   "outputs": [],
   "source": [
    "for i in range(0, gridlonv.shape[0]):\n",
    "    for j in range(0, gridlonv.shape[1]):\n",
    "        crust_type_i[i,j]= litho.crust_type_at(lon=gridlonv[i,j], lat=gridlatv[i,j])"
   ]
  },
  {
   "cell_type": "code",
   "execution_count": null,
   "id": "2d199f30",
   "metadata": {},
   "outputs": [],
   "source": [
    "import cartopy\n",
    "import cartopy.crs as ccrs\n",
    "import matplotlib.pyplot as plt\n",
    "import matplotlib.colors as colors\n",
    "\n",
    "\n",
    "global_extent     = [-180.0, 180.0, -89, 89]\n",
    "\n",
    "projection1 = ccrs.Orthographic(central_longitude=140.0, central_latitude=0.0, globe=None)\n",
    "projection2 = ccrs.Mollweide()\n",
    "projection3 = ccrs.Robinson()\n",
    "\n",
    "base_projection = ccrs.PlateCarree()"
   ]
  },
  {
   "cell_type": "code",
   "execution_count": null,
   "id": "89345e8c",
   "metadata": {},
   "outputs": [],
   "source": [
    "!ls ../../Mapping/"
   ]
  },
  {
   "cell_type": "code",
   "execution_count": null,
   "id": "e31a6917",
   "metadata": {},
   "outputs": [],
   "source": [
    "## Background image\n",
    "\n",
    "import xarray\n",
    "import h5netcdf\n",
    "\n",
    "(left, bottom, right, top) = (-180, -90, 180, 90)\n",
    "map_extent = ( left, right, bottom, top)\n",
    "\n",
    "etopo_dataset = \"http://thredds.socib.es/thredds/dodsC/ancillary_data/bathymetry/ETOPO1_Bed_g_gmt4.nc\"\n",
    "etopo_data = xarray.open_dataset(etopo_dataset)\n",
    "regional_data = etopo_data.sel(x=slice(left,right,30), y=slice(bottom, top,30))\n",
    "\n",
    "lons = regional_data.coords.get('x')\n",
    "lats = regional_data.coords.get('y')\n",
    "vals = regional_data['z']\n",
    "\n",
    "x,y = np.meshgrid(lons.data, lats.data)\n",
    "globaletopo_img = vals.data\n",
    "\n",
    "\n",
    "from matplotlib.colors import LightSource, Normalize\n",
    "\n",
    "cmap=plt.cm.Greys\n",
    "ls = LightSource(315, 45)\n",
    "hillshade = ls.shade(globaletopo_img, cmap, vert_exag=0.0005)[1::,1::]\n",
    "\n",
    "## Drop one point here because the data are 361 x 721 !!"
   ]
  },
  {
   "cell_type": "code",
   "execution_count": null,
   "id": "f723838b",
   "metadata": {},
   "outputs": [],
   "source": [
    "%matplotlib inline\n",
    "from matplotlib import colors\n",
    "\n",
    "crust1pt0_clist = [\n",
    "# Platforms \n",
    "    \"#6666ff\",   \n",
    "    \"#b3b3ff\",   \n",
    "    \n",
    "# Archean / Proterozoic    \n",
    "    \"#003366\", \n",
    "    \"#003366\", \n",
    "    \"#004d99\", \n",
    "    \"#0066cc\", \n",
    "    \"#0066cc\", \n",
    "    \"#0080ff\", \n",
    "    \"#4da6ff\", \n",
    "\n",
    "# Arcs\n",
    "    \"#b30000\",\n",
    "    \"#e60000\",   \n",
    "    \"#ff6666\",\n",
    "    \"#ff9999\",   \n",
    "\n",
    "# Extended crust\n",
    "    \"#00cc88\",\n",
    "    \"#00cc88\",   \n",
    "\n",
    "# Orogens\n",
    "    \"#ff751a\",\n",
    "    \"#ff6600\",   \n",
    "    \"#ff8533\",\n",
    "    \"#b34700\",\n",
    "    \"#ff9933\",   \n",
    "    \n",
    "# Margin\n",
    "    \"#e6e600\",   # <- C. Margin\n",
    "    \"#6666ff\",\n",
    "\n",
    "\n",
    "# Rifted and Extended    \n",
    "    \"#66ff99\",   # 3 Rifted / extended\n",
    "\n",
    "# Phanerozoic\n",
    "    \"#009999\",\n",
    "    \"#00e6e6\",   \n",
    "  \n",
    "# Oceans and plateau\n",
    "    \"#BBBBBB\",\n",
    "    \"#BBBBBB\",\n",
    "    \"#BBBBBB\",\n",
    "    \"#e6e600\",  # <-- Shelf\n",
    "    \"#b3b300\",  # <-- C. Slope\n",
    "\n",
    "    \n",
    "# Other \n",
    "    \"#BBBBBB\",\n",
    "    \"#BBBBBB\",\n",
    "    \"#cccca3\",   # <- oceanic plateau / continental\n",
    "    \"#BBBBBB\",\n",
    "    \"#BBBBBB\",\n",
    "    \"#BBBBBB\"    # 6 other\n",
    "]\n",
    "\n",
    "\n",
    "# map the image with the colors\n",
    "\n",
    "crust_color_image = np.empty((crust_type_i.shape+(3,)))\n",
    "\n",
    "for i in range(0,crust_type_i.shape[0]):\n",
    "    for j in range (0,crust_type_i.shape[1]):\n",
    "        crust_color_image[i,j] = colors.hex2color(crust1pt0_clist[crust_type_i[i,j]])\n",
    "        "
   ]
  },
  {
   "cell_type": "code",
   "execution_count": null,
   "id": "8bd5dff7",
   "metadata": {},
   "outputs": [],
   "source": [
    "crust_color_image2 = np.flipud(crust_color_image)"
   ]
  },
  {
   "cell_type": "code",
   "execution_count": null,
   "id": "c2e60b13",
   "metadata": {},
   "outputs": [],
   "source": [
    "crust_color_image = crust_color_image2**0.333 * hillshade[:,:,0:3]"
   ]
  },
  {
   "cell_type": "code",
   "execution_count": null,
   "id": "f30d1707",
   "metadata": {},
   "outputs": [],
   "source": [
    "fig = plt.figure(figsize=(24, 12), facecolor=\"none\")\n",
    "ax  = plt.subplot(111, projection=ccrs.PlateCarree())\n",
    "\n",
    "# colormap = plt.cm.get_cmap(Crust1pt0, 36)\n",
    "\n",
    "ax.set_global()\n",
    "\n",
    "ax.imshow(crust_color_image, origin='lower', transform=base_projection,\n",
    "          extent=global_extent, zorder=0)\n",
    "\n",
    "\n",
    "#ax.add_feature(cartopy.feature.OCEAN, alpha=0.5, zorder=99, facecolor=\"#BBBBBB\")\n",
    "ax.coastlines(resolution=\"50m\", zorder=100, linewidth=1.5)\n",
    "\n",
    "# fig.savefig(\"Crust1.0-Regionalisation.png\", dpi=300)"
   ]
  },
  {
   "cell_type": "code",
   "execution_count": null,
   "id": "bdc98c0d",
   "metadata": {},
   "outputs": [],
   "source": [
    "for i, desc in enumerate(litho.c1_region_descriptor):\n",
    "    print (\"\\t {:2d}: {}\".format(i,desc))"
   ]
  },
  {
   "cell_type": "code",
   "execution_count": null,
   "id": "76e1bb70",
   "metadata": {},
   "outputs": [],
   "source": [
    "fig = plt.figure(figsize=(24, 12), facecolor=\"none\")\n",
    "ax  = plt.subplot(111, projection=ccrs.PlateCarree())\n",
    "\n",
    "# colormap = plt.cm.get_cmap(Crust1pt0, 36)\n",
    "\n",
    "ax.set_global()\n",
    "\n",
    "# cmap = plt.get_cmap(\"Crust1pt0\")\n",
    "# ax.imshow(crust_color_image, origin='upper', transform=base_projection,\n",
    "#           extent=global_extent, zorder=0, interpolation=\"lanczos\")\n",
    "\n",
    "\n",
    "# Platforms, Archean, Proterozoic\n",
    "\n",
    "ax.contourf(crust_type, origin='upper', levels=[0.0, 1.5, 4.5, 6.5, 8.5], \n",
    "                colors=[ \"#FF4400\", \"#ff751a\", \"#9999FF\", \"#4da6ff\"], \n",
    "                hatches=[\"/////\", \"\", \"\", \"\"],\n",
    "                extent=global_extent, transform=base_projection)\n",
    "\n",
    "\n",
    "# Phanerozoic\n",
    "\n",
    "ax.contourf(crust_type, origin='upper', levels=[23.0, 24.9], \n",
    "                colors=[ \"#BBBBBB\"], \n",
    "                hatches=[\"....\", \"\", \"\", \"\"],\n",
    "                extent=global_extent, transform=base_projection)\n",
    "\n",
    "\n",
    "# Orogens\n",
    "\n",
    "ax.contourf(crust_type, origin='upper', levels=[15.0,20.0], \n",
    "                colors=[ \"#00cc88\", ], \n",
    "                hatches=[\"\\\\\"*5, \"\", \"\", \"\"],\n",
    "                extent=global_extent, transform=base_projection)\n",
    "\n",
    "# Arcs\n",
    "\n",
    "ax.contourf(crust_type, origin='upper', levels=[9.0,13.0], \n",
    "                colors=[ \"#AAFF00\", ], \n",
    "                hatches=[\"\\\\\"*5, \"\", \"\", \"\"],\n",
    "                extent=global_extent, transform=base_projection)\n",
    "\n",
    "\n",
    "\n",
    "#ax.add_feature(cartopy.feature.OCEAN, alpha=0.5, zorder=99, facecolor=\"#BBBBBB\")\n",
    "ax.coastlines(resolution=\"50m\", zorder=100, linewidth=1.5)\n",
    "\n",
    "# fig.savefig(\"Crust1.0-Regionalisation.png\", dpi=300)"
   ]
  },
  {
   "cell_type": "code",
   "execution_count": null,
   "id": "b3f85eca",
   "metadata": {},
   "outputs": [],
   "source": []
  },
  {
   "cell_type": "code",
   "execution_count": null,
   "id": "be7e05e1",
   "metadata": {},
   "outputs": [],
   "source": []
  }
 ],
 "metadata": {
  "jupytext": {
   "text_representation": {
    "extension": ".md",
    "format_name": "myst",
    "format_version": 0.12,
    "jupytext_version": "1.6.0"
   }
  },
  "kernelspec": {
   "display_name": "Python 3",
   "language": "python",
   "name": "python3"
  },
  "source_map": [
   12,
   18,
   24,
   34,
   40,
   44,
   50,
   66,
   70,
   100,
   175,
   179,
   183,
   201,
   206,
   257,
   261
  ]
 },
 "nbformat": 4,
 "nbformat_minor": 5
}