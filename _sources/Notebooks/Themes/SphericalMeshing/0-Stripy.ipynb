{
 "cells": [
  {
   "cell_type": "markdown",
   "id": "05e71474",
   "metadata": {},
   "source": [
    "# Triangulations\n",
    "\n",
    "Some information on stripy with examples from the package\n",
    "\n",
    "\n",
    "\n",
    "```{toctree}\n",
    ":hidden:\n",
    ":titlesonly:\n",
    "\n",
    "\n",
    "SphericalTriangulations/0-Spherical\n",
    "CartesianTriangulations/0-Cartesian\n",
    "Litho1pt0/Ex1-Litho1Layers\n",
    "```"
   ]
  }
 ],
 "metadata": {
  "jupytext": {
   "text_representation": {
    "extension": ".md",
    "format_name": "myst",
    "format_version": 0.12,
    "jupytext_version": "1.6.0"
   }
  },
  "kernelspec": {
   "display_name": "Python 3",
   "language": "python",
   "name": "python3"
  },
  "source_map": [
   12
  ]
 },
 "nbformat": 4,
 "nbformat_minor": 5
}