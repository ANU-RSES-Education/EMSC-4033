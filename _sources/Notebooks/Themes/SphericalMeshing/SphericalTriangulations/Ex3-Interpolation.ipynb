{
 "cells": [
  {
   "cell_type": "markdown",
   "id": "40e5ecbf",
   "metadata": {},
   "source": [
    "## Example 3 - `stripy` interpolation on the sphere\n",
    "\n",
    "SSRFPACK is a Fortran 77 software package that constructs a smooth interpolatory or approximating surface to data values associated with arbitrarily distributed points on the surface of a sphere. It employs automatically selected tension factors to preserve shape properties of the data and avoid overshoot and undershoot associated with steep gradients.\n",
    "\n",
    "The next three examples demonstrate the interface to SSRFPACK provided through `stripy`\n",
    "\n",
    "\n",
    "#### Notebook contents\n",
    "\n",
    "   - [Incommensurable meshes](#Define-two-different-meshes)\n",
    "   - [Analytic function](#The-analytic-function-on-the-different-samplings)\n",
    "   - [Interpolation](#Interpolation-from-coarse-to-fine)\n",
    "\n",
    "\n",
    "The next example is [Ex4-Gradients](./Ex4-Gradients.ipynb)\n",
    "\n",
    "---"
   ]
  },
  {
   "cell_type": "markdown",
   "id": "55fb4919",
   "metadata": {},
   "source": [
    "### Define two different meshes\n",
    "\n",
    "Create a fine and a coarse mesh without common points"
   ]
  },
  {
   "cell_type": "code",
   "execution_count": null,
   "id": "cfa166ff",
   "metadata": {},
   "outputs": [],
   "source": [
    "import stripy as stripy\n",
    "\n",
    "cmesh = stripy.spherical_meshes.triangulated_cube_mesh(refinement_levels=3)\n",
    "fmesh = stripy.spherical_meshes.icosahedral_mesh(refinement_levels=3, include_face_points=True)\n",
    "\n",
    "print(cmesh.npoints)\n",
    "print(fmesh.npoints)"
   ]
  },
  {
   "cell_type": "code",
   "execution_count": null,
   "id": "21d70022",
   "metadata": {},
   "outputs": [],
   "source": [
    "help(cmesh.interpolate)"
   ]
  },
  {
   "cell_type": "code",
   "execution_count": null,
   "id": "6fedf454",
   "metadata": {},
   "outputs": [],
   "source": [
    "%matplotlib inline\n",
    "\n",
    "import cartopy\n",
    "import cartopy.crs as ccrs\n",
    "import matplotlib.pyplot as plt\n",
    "import numpy as np\n",
    "\n",
    "\n",
    "\n",
    "def mesh_fig(mesh, meshR, name):\n",
    "\n",
    "    fig = plt.figure(figsize=(10, 10), facecolor=\"none\")\n",
    "    ax  = plt.subplot(111, projection=ccrs.Orthographic(central_longitude=0.0, central_latitude=0.0, globe=None))\n",
    "    ax.coastlines(color=\"lightgrey\")\n",
    "    ax.set_global()\n",
    "\n",
    "    generator = mesh\n",
    "    refined   = meshR\n",
    "\n",
    "    lons0 = np.degrees(generator.lons)\n",
    "    lats0 = np.degrees(generator.lats)\n",
    "\n",
    "    lonsR = np.degrees(refined.lons)\n",
    "    latsR = np.degrees(refined.lats)\n",
    "\n",
    "    lst = generator.lst\n",
    "    lptr = generator.lptr\n",
    "\n",
    "\n",
    "    ax.scatter(lons0, lats0, color=\"Red\",\n",
    "                marker=\"o\", s=100.0, transform=ccrs.PlateCarree())\n",
    "\n",
    "    ax.scatter(lonsR, latsR, color=\"DarkBlue\",\n",
    "                marker=\"o\", s=30.0, transform=ccrs.PlateCarree())\n",
    "\n",
    "    segs = refined.identify_segments()\n",
    "\n",
    "    for s1, s2 in segs:\n",
    "        ax.plot( [lonsR[s1], lonsR[s2]],\n",
    "                 [latsR[s1], latsR[s2]], \n",
    "                 linewidth=0.5, color=\"black\", transform=ccrs.Geodetic())\n",
    "\n",
    "    # fig.savefig(name, dpi=250, transparent=True)\n",
    "    \n",
    "    return\n",
    "\n",
    "mesh_fig(cmesh,  fmesh, \"Two grids\" )"
   ]
  },
  {
   "cell_type": "markdown",
   "id": "83d87b24",
   "metadata": {},
   "source": [
    "### Analytic function \n",
    "\n",
    "Define a relatively smooth function that we can interpolate from the coarse mesh to the fine mesh and analyse"
   ]
  },
  {
   "cell_type": "code",
   "execution_count": null,
   "id": "cd0d0d6a",
   "metadata": {},
   "outputs": [],
   "source": [
    "def analytic(lons, lats, k1, k2):\n",
    "     return np.cos(k1*lons) * np.sin(k2*lats)\n",
    "\n",
    "coarse_afn = analytic(cmesh.lons, cmesh.lats, 5.0, 2.0)\n",
    "fine_afn   = analytic(fmesh.lons, fmesh.lats, 5.0, 2.0)"
   ]
  },
  {
   "cell_type": "code",
   "execution_count": null,
   "id": "f60cdc40",
   "metadata": {},
   "outputs": [],
   "source": []
  },
  {
   "cell_type": "markdown",
   "id": "7689190c",
   "metadata": {},
   "source": [
    "### The analytic function on the different samplings\n",
    "\n",
    "It is helpful to be able to view a mesh in 3D to verify that it is an appropriate choice. Here, for example, is the icosahedron with additional points in the centroid of the faces.\n",
    "\n",
    "This produces triangles with a narrow area distribution. In three dimensions it is easy to see the origin of the size variations."
   ]
  },
  {
   "cell_type": "code",
   "execution_count": null,
   "id": "20fa6fef",
   "metadata": {
    "tags": [
     "hide-cell"
    ]
   },
   "outputs": [],
   "source": [
    "## This can be an issue on jupyterhub\n",
    "\n",
    "from xvfbwrapper import Xvfb\n",
    "vdisplay = Xvfb()\n",
    "try:\n",
    "    vdisplay.start()\n",
    "    xvfb = True\n",
    "\n",
    "except:\n",
    "    xvfb = False"
   ]
  },
  {
   "cell_type": "code",
   "execution_count": null,
   "id": "7dea44bb",
   "metadata": {},
   "outputs": [],
   "source": [
    "import lavavu\n",
    "\n",
    "\n",
    "lv = lavavu.Viewer(border=False, background=\"#FFFFFF\", resolution=[600,600], near=-10.0)\n",
    "\n",
    "ctris = lv.triangles(\"ctriangulation\",  wireframe=True, colour=\"#444444\", opacity=0.8)\n",
    "ctris.vertices(cmesh.points)\n",
    "ctris.indices(cmesh.simplices)\n",
    "\n",
    "ctris2 = lv.triangles(\"ctriangles\",  wireframe=False, colour=\"#77ff88\", opacity=1.0)\n",
    "ctris2.vertices(cmesh.points)\n",
    "ctris2.indices(cmesh.simplices)\n",
    "ctris2.values(coarse_afn)\n",
    "ctris2.colourmap(\"#990000 #FFFFFF #000099\")\n",
    "\n",
    "\n",
    "cnodes = lv.points(\"cnodes\", pointsize=4.0, pointtype=\"shiny\", colour=\"#448080\", opacity=0.75)\n",
    "cnodes.vertices(cmesh.points)\n",
    "\n",
    "\n",
    "fnodes = lv.points(\"fnodes\", pointsize=3.0, pointtype=\"shiny\", colour=\"#448080\", opacity=0.75)\n",
    "fnodes.vertices(fmesh.points)\n",
    "\n",
    "ftris2 = lv.triangles(\"ftriangulation\",  wireframe=True, colour=\"#444444\", opacity=0.8)\n",
    "ftris2.vertices(fmesh.points)\n",
    "ftris2.indices(fmesh.simplices)\n",
    "\n",
    "ftris = lv.triangles(\"ftriangles\",  wireframe=False, colour=\"#77ff88\", opacity=1.0)\n",
    "ftris.vertices(fmesh.points)\n",
    "ftris.indices(fmesh.simplices)\n",
    "ftris.values(fine_afn)\n",
    "ftris.colourmap(\"#990000 #FFFFFF #000099\")\n",
    "\n",
    "# view the pole\n",
    "\n",
    "lv.translation(0.0, 0.0, -3.0)\n",
    "lv.rotation(-20, 0.0, 0.0)\n",
    "\n",
    "lv.hide(\"fnodes\")\n",
    "lv.hide(\"ftriangulation\")\n",
    "lv.hide(\"ftriangules\")\n",
    "\n",
    "\n",
    "\n",
    "lv.control.Panel()\n",
    "lv.control.Button(command=\"hide triangles; hide points; show cnodes; show ctriangles; show ctriangulation; redraw\", label=\"Coarse\")\n",
    "lv.control.Button(command=\"hide triangles; hide points; show fnodes; show ftriangles; show ftriangulation; redraw\", label=\"Fine\")\n",
    "lv.control.show()"
   ]
  },
  {
   "cell_type": "markdown",
   "id": "548eeee7",
   "metadata": {},
   "source": [
    "### Interpolation from coarse to fine\n",
    "\n",
    "The `interpolate` method of the sTriangulation takes arrays of longitude, latitude points (in radians) and an array of\n",
    "data on the mesh vertices. It returns an array of interpolated values and a status array that states whether each value\n",
    "represents an interpolation, extrapolation or neither (an error condition). The interpolation can be nearest-neighbour (order=0),\n",
    "linear (order=1) or cubic spline (order=3)."
   ]
  },
  {
   "cell_type": "code",
   "execution_count": null,
   "id": "d5e198c7",
   "metadata": {},
   "outputs": [],
   "source": [
    "interp_c2f1, err = cmesh.interpolate(fmesh.lons, fmesh.lats, order=1, zdata=coarse_afn)\n",
    "interp_c2f3, err = cmesh.interpolate(fmesh.lons, fmesh.lats, order=3, zdata=coarse_afn)\n",
    "\n",
    "err_c2f1 = interp_c2f1-fine_afn\n",
    "err_c2f3 = interp_c2f3-fine_afn"
   ]
  },
  {
   "cell_type": "code",
   "execution_count": null,
   "id": "2b5b21e7",
   "metadata": {},
   "outputs": [],
   "source": [
    "import lavavu\n",
    "\n",
    "lv = lavavu.Viewer(border=False, background=\"#FFFFFF\", resolution=[1000,600], near=-10.0)\n",
    "\n",
    "fnodes = lv.points(\"fnodes\", pointsize=3.0, pointtype=\"shiny\", colour=\"#448080\", opacity=0.75)\n",
    "fnodes.vertices(fmesh.points)\n",
    "\n",
    "ftris = lv.triangles(\"ftriangles\",  wireframe=False, colour=\"#77ff88\", opacity=0.8)\n",
    "ftris.vertices(fmesh.points)\n",
    "ftris.indices(fmesh.simplices)\n",
    "ftris.values(fine_afn, label=\"original\")\n",
    "ftris.values(interp_c2f1, label=\"interp1\")\n",
    "ftris.values(interp_c2f3, label=\"interp3\")\n",
    "ftris.values(err_c2f1, label=\"interperr1\")\n",
    "ftris.values(err_c2f3, label=\"interperr3\")\n",
    "ftris.colourmap(\"#990000 #FFFFFF #000099\")\n",
    "\n",
    "\n",
    "cb = ftris.colourbar()\n",
    "\n",
    "# view the pole\n",
    "\n",
    "lv.translation(0.0, 0.0, -3.0)\n",
    "lv.rotation(-20, 0.0, 0.0)\n",
    "\n",
    "\n",
    "\n",
    "lv.control.Panel()\n",
    "lv.control.Range('specular', range=(0,1), step=0.1, value=0.4)\n",
    "lv.control.Checkbox(property='axis')\n",
    "lv.control.ObjectList()\n",
    "ftris.control.List(options=[\"original\", \"interp1\", \"interp3\", \"interperr1\", \"interperr3\"], property=\"colourby\", value=\"original\", command=\"redraw\")\n",
    "lv.control.show()"
   ]
  },
  {
   "cell_type": "markdown",
   "id": "1ee2c492",
   "metadata": {},
   "source": [
    "### Interpolate to grid\n",
    "\n",
    "Interpolating to a grid is useful for exporting maps of a region. The `interpolate_to_grid` method interpolates mesh data to a regular grid defined by the user. Values outside the convex hull are extrapolated.\n",
    "\n",
    "> `interpolate_to_grid` is a convenience function that yields identical results to interpolating over a meshed grid using the `interpolate` method."
   ]
  },
  {
   "cell_type": "code",
   "execution_count": null,
   "id": "1c3ce590",
   "metadata": {},
   "outputs": [],
   "source": [
    "resX = 200\n",
    "resY = 100\n",
    "\n",
    "extent_globe = np.radians([-180,180,-90,90])\n",
    "\n",
    "grid_lon = np.linspace(extent_globe[0], extent_globe[1], resX)\n",
    "grid_lat = np.linspace(extent_globe[2], extent_globe[3], resY)\n",
    "\n",
    "grid_z1 = fmesh.interpolate_to_grid(grid_lon, grid_lat, interp_c2f3)\n",
    "\n",
    "# compare with `interpolate` method\n",
    "grid_loncoords, grid_latcoords = np.meshgrid(grid_lon, grid_lat)\n",
    "\n",
    "grid_z2, ierr = fmesh.interpolate(grid_loncoords.ravel(), grid_latcoords.ravel(), interp_c2f3, order=3)\n",
    "grid_z2 = grid_z2.reshape(resY,resX)"
   ]
  },
  {
   "cell_type": "code",
   "execution_count": null,
   "id": "cafdfb8a",
   "metadata": {},
   "outputs": [],
   "source": [
    "fig = plt.figure(figsize=(15, 10), facecolor=\"none\")\n",
    "\n",
    "ax1  = plt.subplot(121, projection=ccrs.Mercator())\n",
    "ax1.coastlines()\n",
    "ax1.set_global()\n",
    "ax1.imshow(grid_z1, extent=np.degrees(extent_globe), cmap='RdBu', transform=ccrs.PlateCarree())\n",
    "\n",
    "ax2  = plt.subplot(122, projection=ccrs.Mercator())\n",
    "ax2.coastlines()\n",
    "ax2.set_global()\n",
    "ax2.imshow(grid_z2, extent=np.degrees(extent_globe), cmap='RdBu', transform=ccrs.PlateCarree())"
   ]
  },
  {
   "cell_type": "markdown",
   "id": "00a76f62",
   "metadata": {},
   "source": [
    "The next example is [Ex4-Gradients](./Ex4-Gradients.md)"
   ]
  },
  {
   "cell_type": "code",
   "execution_count": null,
   "id": "9d5590bd",
   "metadata": {
    "tags": [
     "hide-cell"
    ]
   },
   "outputs": [],
   "source": [
    "vdisplay.stop()"
   ]
  }
 ],
 "metadata": {
  "jupytext": {
   "text_representation": {
    "extension": ".md",
    "format_name": "myst",
    "format_version": 0.12,
    "jupytext_version": "1.6.0"
   }
  },
  "kernelspec": {
   "display_name": "Python 3",
   "language": "python",
   "name": "python3"
  },
  "source_map": [
   12,
   32,
   38,
   48,
   52,
   100,
   106,
   114,
   116,
   124,
   139,
   188,
   197,
   205,
   239,
   247,
   265,
   277,
   281
  ]
 },
 "nbformat": 4,
 "nbformat_minor": 5
}