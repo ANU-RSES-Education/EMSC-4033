{
 "cells": [
  {
   "cell_type": "markdown",
   "id": "80f4aa4a",
   "metadata": {},
   "source": [
    "## Example 4 - `stripy` gradients on the sphere\n",
    "\n",
    "SSRFPACK is a Fortran 77 software package that constructs a smooth interpolatory or approximating surface to data values associated with arbitrarily distributed points on the surface of a sphere. It employs automatically selected tension factors to preserve shape properties of the data and avoid overshoot and undershoot associated with steep gradients.\n",
    "\n",
    "\n",
    "\n",
    "#### Notebook contents\n",
    "\n",
    "   - [Analytic function and derivatives](#Analytic-function)\n",
    "   - [Evaluating accuracy](#Derivatives-of-solution-compared-to-analytic-values)\n",
    "\n",
    "\n",
    "The next example is [Ex5-Smoothing](./Ex5-Smoothing.ipynb)"
   ]
  },
  {
   "cell_type": "markdown",
   "id": "6a1d6a0c",
   "metadata": {},
   "source": [
    "### Define a computational mesh\n",
    "\n",
    "Use the (usual) icosahedron with face points included."
   ]
  },
  {
   "cell_type": "code",
   "execution_count": null,
   "id": "9971503a",
   "metadata": {},
   "outputs": [],
   "source": [
    "import stripy as stripy\n",
    "\n",
    "mesh = stripy.spherical_meshes.icosahedral_mesh(refinement_levels=4, include_face_points=True)\n",
    "\n",
    "print(mesh.npoints)"
   ]
  },
  {
   "cell_type": "markdown",
   "id": "3eb87190",
   "metadata": {},
   "source": [
    "### Analytic function \n",
    "\n",
    "Define a relatively smooth function that we can interpolate from the coarse mesh to the fine mesh and analyse"
   ]
  },
  {
   "cell_type": "code",
   "execution_count": null,
   "id": "a3d44227",
   "metadata": {},
   "outputs": [],
   "source": [
    "import numpy as np\n",
    "\n",
    "def analytic(lons, lats, k1, k2):\n",
    "     return np.cos(k1*lons) * np.sin(k2*lats)\n",
    "\n",
    "def analytic_ddlon(lons, lats, k1, k2):\n",
    "     return -k1 * np.sin(k1*lons) * np.sin(k2*lats) / np.cos(lats)\n",
    "\n",
    "def analytic_ddlat(lons, lats, k1, k2):\n",
    "     return k2 * np.cos(k1*lons) * np.cos(k2*lats) \n",
    "\n",
    "analytic_sol = analytic(mesh.lons, mesh.lats, 5.0, 2.0)\n",
    "analytic_sol_ddlon = analytic_ddlon(mesh.lons, mesh.lats, 5.0, 2.0)\n",
    "analytic_sol_ddlat = analytic_ddlat(mesh.lons, mesh.lats, 5.0, 2.0)"
   ]
  },
  {
   "cell_type": "code",
   "execution_count": null,
   "id": "c7f3dbb7",
   "metadata": {},
   "outputs": [],
   "source": [
    "%matplotlib inline\n",
    "\n",
    "import cartopy\n",
    "import cartopy.crs as ccrs\n",
    "import matplotlib.pyplot as plt\n",
    "\n",
    "\n",
    "fig = plt.figure(figsize=(10, 10), facecolor=\"none\")\n",
    "ax  = plt.subplot(111, projection=ccrs.Orthographic(central_longitude=0.0, central_latitude=0.0, globe=None))\n",
    "ax.coastlines(color=\"lightgrey\")\n",
    "ax.set_global()\n",
    "\n",
    "lons0 = np.degrees(mesh.lons)\n",
    "lats0 = np.degrees(mesh.lats)\n",
    "\n",
    "ax.scatter(lons0, lats0, \n",
    "            marker=\"o\", s=10.0, transform=ccrs.PlateCarree(), c=analytic_sol, cmap=plt.cm.RdBu)\n",
    "\n",
    "pass"
   ]
  },
  {
   "cell_type": "markdown",
   "id": "7bf9bb4c",
   "metadata": {},
   "source": [
    "### Derivatives of solution compared to analytic values\n",
    "\n",
    "The `gradient_lonlat` method of the sTriangulation takes a data array reprenting values on the mesh vertices and returns the lon and lat derivatives. There is an equivalent `gradient_xyz` method which returns the raw derivatives in Cartesian form. Although this is generally less useful, if you are computing the slope (for example) that can be computed in either coordinate system and may cross the pole, consider using the Cartesian form."
   ]
  },
  {
   "cell_type": "code",
   "execution_count": null,
   "id": "38fe8958",
   "metadata": {},
   "outputs": [],
   "source": [
    "stripy_ddlon, stripy_ddlat = mesh.gradient_lonlat(analytic_sol)"
   ]
  },
  {
   "cell_type": "code",
   "execution_count": null,
   "id": "616086c4",
   "metadata": {},
   "outputs": [],
   "source": [
    "## This can be an issue on jupyterhub\n",
    "\n",
    "from xvfbwrapper import Xvfb\n",
    "vdisplay = Xvfb()\n",
    "try:\n",
    "    vdisplay.start()\n",
    "    xvfb = True\n",
    "\n",
    "except:\n",
    "    xvfb = False"
   ]
  },
  {
   "cell_type": "code",
   "execution_count": null,
   "id": "a9e2d45d",
   "metadata": {},
   "outputs": [],
   "source": [
    "import lavavu\n",
    "\n",
    "lv = lavavu.Viewer(border=False, background=\"#FFFFFF\", resolution=[1000,600], near=-10.0)\n",
    "\n",
    "nodes = lv.points(\"nodes\", pointsize=3.0, pointtype=\"shiny\", colour=\"#448080\", opacity=0.75)\n",
    "nodes.vertices(mesh.points)\n",
    "\n",
    "tris = lv.triangles(\"triangles\",  wireframe=False, colour=\"#77ff88\", opacity=1.0)\n",
    "tris.vertices(mesh.points)\n",
    "tris.indices(mesh.simplices)\n",
    "tris.values(analytic_sol, label=\"original\")\n",
    "tris.values(stripy_ddlon, label=\"ddlon\")\n",
    "tris.values(stripy_ddlat, label=\"ddlat\")\n",
    "tris.values(stripy_ddlon-analytic_sol_ddlon, label=\"ddlonerr\")\n",
    "tris.values(stripy_ddlat-analytic_sol_ddlat, label=\"ddlaterr\")\n",
    "\n",
    "\n",
    "tris.colourmap(\"#990000 #FFFFFF #000099\")\n",
    "cb = tris.colourbar()\n",
    "\n",
    "# view the pole\n",
    "\n",
    "lv.translation(0.0, 0.0, -3.0)\n",
    "lv.rotation(-20, 0.0, 0.0)\n",
    "\n",
    "lv.control.Panel()\n",
    "lv.control.Range('specular', range=(0,1), step=0.1, value=0.4)\n",
    "lv.control.Checkbox(property='axis')\n",
    "lv.control.ObjectList()\n",
    "tris.control.List(options=[\"original\", \"ddlon\", \"ddlat\", \"ddlonerr\", \"ddlaterr\"], property=\"colourby\", value=\"original\", command=\"redraw\", label=\"Display:\")\n",
    "lv.control.show()"
   ]
  },
  {
   "cell_type": "markdown",
   "id": "5bd2524e",
   "metadata": {},
   "source": [
    "The next example is [Ex5-Smoothing](./Ex5-Smoothing.ipynb)"
   ]
  },
  {
   "cell_type": "code",
   "execution_count": null,
   "id": "1875d236",
   "metadata": {},
   "outputs": [],
   "source": [
    "vdisplay.stop()"
   ]
  }
 ],
 "metadata": {
  "jupytext": {
   "text_representation": {
    "extension": ".md",
    "format_name": "myst",
    "format_version": 0.12,
    "jupytext_version": "1.6.0"
   }
  },
  "kernelspec": {
   "display_name": "Python 3",
   "language": "python",
   "name": "python3"
  },
  "source_map": [
   12,
   28,
   34,
   40,
   46,
   63,
   83,
   89,
   93,
   106,
   138,
   142
  ]
 },
 "nbformat": 4,
 "nbformat_minor": 5
}