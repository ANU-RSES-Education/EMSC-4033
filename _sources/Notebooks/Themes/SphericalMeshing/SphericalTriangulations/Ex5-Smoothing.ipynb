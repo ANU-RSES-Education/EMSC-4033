{
 "cells": [
  {
   "cell_type": "markdown",
   "id": "237e4d33",
   "metadata": {},
   "source": [
    "# Example 5 - `stripy` smoothing operations\n",
    "\n",
    "SSRFPACK is a Fortran 77 software package that constructs a smooth interpolatory or approximating surface to data values associated with arbitrarily distributed points on the surface of a sphere. It employs automatically selected tension factors to preserve shape properties of the data and avoid overshoot and undershoot associated with steep gradients.\n",
    "\n",
    "Here we demonstrate how to access SSRFPACK smoothing through the `stripy` interface\n",
    "\n",
    "## Notebook contents\n",
    "\n",
    "   - [Computational mesh](#Define-a-computational-mesh)\n",
    "   - [Function with noise](#Analytic-function-with-noise-and-short-wavelengths)\n",
    "   - [Smoothing operator](#Smoothing-operations)\n",
    "   - [Results of smoothing](#Results-of-smoothing-with-different-value-of-sm)\n",
    "   \n",
    "\n",
    "The next example is [Ex6-Scattered-Data](./Ex6-Scattered-Data.ipynb)"
   ]
  },
  {
   "cell_type": "markdown",
   "id": "9e0cc4dd",
   "metadata": {},
   "source": [
    "## Define a computational mesh\n",
    "\n",
    "Use the (usual) icosahedron with face points included."
   ]
  },
  {
   "cell_type": "code",
   "execution_count": null,
   "id": "b2ab5203",
   "metadata": {},
   "outputs": [],
   "source": [
    "import stripy as stripy\n",
    "\n",
    "mesh = stripy.spherical_meshes.icosahedral_mesh(refinement_levels=4, include_face_points=True)\n",
    "\n",
    "print(mesh.npoints)"
   ]
  },
  {
   "cell_type": "markdown",
   "id": "9fab8d67",
   "metadata": {},
   "source": [
    "## Analytic function with noise and short wavelengths\n",
    "\n",
    "Define a relatively smooth function that we can interpolate from the coarse mesh to the fine mesh and analyse"
   ]
  },
  {
   "cell_type": "code",
   "execution_count": null,
   "id": "97ae99b0",
   "metadata": {},
   "outputs": [],
   "source": [
    "import numpy as np\n",
    "\n",
    "def analytic(lons, lats, k1, k2):\n",
    "     return  np.cos(k1*lons) * np.sin(k2*lats) \n",
    "    \n",
    "def analytic_noisy(lons, lats, k1, k2, noise, short):\n",
    "     return  np.cos(k1*lons) * np.sin(k2*lats) + short * (np.cos(k1*5.0*lons) * np.sin(k2*5.0*lats)) +  noise * np.random.random(lons.shape)\n",
    "\n",
    "# def analytic_ddlon(lons, lats, k1, k2):\n",
    "#      return -k1 * np.sin(k1*lons) * np.sin(k2*lats) / np.cos(lats)\n",
    "\n",
    "# def analytic_ddlat(lons, lats, k1, k2):\n",
    "#      return k2 * np.cos(k1*lons) * np.cos(k2*lats) \n",
    "\n",
    "\n",
    "analytic_sol   = analytic(mesh.lons, mesh.lats, 5.0, 2.0)\n",
    "analytic_sol_n = analytic_noisy(mesh.lons, mesh.lats, 5.0, 2.0, 0.1, 0.0)"
   ]
  },
  {
   "cell_type": "code",
   "execution_count": null,
   "id": "a48fb529",
   "metadata": {},
   "outputs": [],
   "source": [
    "%matplotlib inline\n",
    "\n",
    "import cartopy\n",
    "import cartopy.crs as ccrs\n",
    "import matplotlib.pyplot as plt\n",
    "\n",
    "fig = plt.figure(figsize=(10, 10), facecolor=\"none\")\n",
    "ax  = plt.subplot(111, projection=ccrs.Orthographic(central_longitude=0.0, central_latitude=0.0, globe=None))\n",
    "ax.coastlines(color=\"#999999\", linewidth=2.0)\n",
    "ax.set_global()\n",
    "\n",
    "lons0 = np.degrees(mesh.lons)\n",
    "lats0 = np.degrees(mesh.lats)\n",
    "\n",
    "ax.scatter(lons0, lats0, \n",
    "            marker=\"o\", s=10.0, transform=ccrs.PlateCarree(), c=analytic_sol_n-analytic_sol, cmap=plt.cm.RdBu)\n",
    "\n",
    "pass"
   ]
  },
  {
   "cell_type": "markdown",
   "id": "e9f01a55",
   "metadata": {},
   "source": [
    "## Smoothing operations \n",
    "\n",
    "The `sTriangulation.smoothing` method directly wraps the SSRFPack smoother that smooths a surface f described \n",
    "by values on the mesh vertices to find a new surface f' (also described on the mesh vertices) by choosing nodal function values and gradients to minimize the linearized curvature of F subject to a bound on the deviation from the data values. \n",
    "\n",
    "```python\n",
    "\n",
    "help(mesh.smoothing)\n",
    "```\n",
    "    smoothing(self, f, w, sm, smtol, gstol)\n",
    "    \n",
    "    method of stripy.spherical_meshes.icosahedral_mesh instance\n",
    "    Smooths a surface f by choosing nodal function values and gradients to\n",
    "    minimize the linearized curvature of F subject to a bound on the\n",
    "    deviation from the data values. This is more appropriate than interpolation\n",
    "    when significant errors are present in the data.\n",
    "    \n",
    "    Parameters\n",
    "    ----------\n",
    "     f : array of floats, shape (n,)\n",
    "        field to apply smoothing on\n",
    "     w : array of floats, shape (n,)\n",
    "        weights associated with data value in f\n",
    "        w[i] = 1/sigma_f^2 is a good rule of thumb.\n",
    "     sm : float\n",
    "        positive parameter specifying an upper bound on Q2(f).\n",
    "        generally n-sqrt(2n) <= sm <= n+sqrt(2n)\n",
    "     smtol : float\n",
    "        specifies relative error in satisfying the constraint\n",
    "        sm(1-smtol) <= Q2 <= sm(1+smtol) between 0 and 1.\n",
    "     gstol : float\n",
    "        tolerance for convergence.\n",
    "        gstol = 0.05*mean(sigma_f)^2 is a good rule of thumb.\n",
    "    \n",
    "    Returns\n",
    "    -------\n",
    "     f_smooth : array of floats, shape (n,)\n",
    "        smoothed version of f\n",
    "     (dfdx, dfdy, dfdz) : tuple of floats, tuple of 3 shape (n,) arrays\n",
    "        first derivatives of f_smooth in the x, y, and z directions\n",
    "     err : error indicator"
   ]
  },
  {
   "cell_type": "code",
   "execution_count": null,
   "id": "133fb9b2",
   "metadata": {},
   "outputs": [],
   "source": [
    "stripy_smoothed,  dds, err = mesh.smoothing(analytic_sol_n, np.ones_like(analytic_sol_n), 10.0, 0.1, 0.01)\n",
    "stripy_smoothed2, dds, err = mesh.smoothing(analytic_sol_n, np.ones_like(analytic_sol_n), 1.0, 0.1, 0.01)\n",
    "stripy_smoothed3, dds, err = mesh.smoothing(analytic_sol_n, np.ones_like(analytic_sol_n), 50.0, 0.1, 0.01)\n",
    "\n",
    "delta_n  = analytic_sol_n - stripy_smoothed\n",
    "delta_ns = analytic_sol   - stripy_smoothed\n",
    "\n",
    "delta_n2  = analytic_sol_n - stripy_smoothed2\n",
    "delta_ns2 = analytic_sol   - stripy_smoothed2\n",
    "\n",
    "delta_n3  = analytic_sol_n - stripy_smoothed3\n",
    "delta_ns3 = analytic_sol   - stripy_smoothed3"
   ]
  },
  {
   "cell_type": "code",
   "execution_count": null,
   "id": "cb93f818",
   "metadata": {},
   "outputs": [],
   "source": [
    "## This can be an issue on jupyterhub\n",
    "\n",
    "from xvfbwrapper import Xvfb\n",
    "vdisplay = Xvfb()\n",
    "try:\n",
    "    vdisplay.start()\n",
    "    xvfb = True\n",
    "\n",
    "except:\n",
    "    xvfb = False"
   ]
  },
  {
   "cell_type": "markdown",
   "id": "792d7f3f",
   "metadata": {},
   "source": [
    "## Results of smoothing with different value of `sm`"
   ]
  },
  {
   "cell_type": "code",
   "execution_count": null,
   "id": "93dc1ea9",
   "metadata": {},
   "outputs": [],
   "source": [
    "import lavavu\n",
    "\n",
    "lv = lavavu.Viewer(border=False, background=\"#FFFFFF\", resolution=[666,666], near=-10.0)\n",
    "\n",
    "nodes = lv.points(\"nodes\", pointsize=3.0, pointtype=\"shiny\", colour=\"#448080\", opacity=0.75)\n",
    "nodes.vertices(mesh.points)\n",
    "\n",
    "tris = lv.triangles(\"triangles\",  wireframe=False, colour=\"#77ff88\", opacity=1.0)\n",
    "tris.vertices(mesh.points)\n",
    "tris.indices(mesh.simplices)\n",
    "tris.values(analytic_sol_n, label=\"original\")\n",
    "tris.values(stripy_smoothed, label=\"smoothed\")\n",
    "tris.values(stripy_smoothed2, label=\"smoothed2\")\n",
    "tris.values(stripy_smoothed3, label=\"smoothed3\")\n",
    "\n",
    "\n",
    "tris.values(delta_n, label=\"delta_n\")\n",
    "tris.values(delta_ns, label=\"delta_ns\")\n",
    "\n",
    "tris.values(delta_n2, label=\"delta_n2\")\n",
    "tris.values(delta_ns2, label=\"delta_ns2\")\n",
    "\n",
    "tris.values(delta_n3, label=\"delta_n3\")\n",
    "tris.values(delta_ns3, label=\"delta_ns3\")\n",
    "\n",
    "\n",
    "\n",
    "# and the errors\n",
    "\n",
    "tris.colourmap(\"#990000 #FFFFFF #000099\")\n",
    "\n",
    "\n",
    "cb = tris.colourbar()\n",
    "\n",
    "# view the pole\n",
    "\n",
    "lv.translation(0.0, 0.0, -3.0)\n",
    "lv.rotation(-20, 0.0, 0.0)\n",
    "\n",
    "\n",
    "\n",
    "lv.control.Panel()\n",
    "lv.control.Range('specular', range=(0,1), step=0.1, value=0.4)\n",
    "lv.control.Checkbox(property='axis')\n",
    "lv.control.ObjectList()\n",
    "tris.control.List(options=[\"original\", \"smoothed\", \"smoothed2\", \"smoothed3\",\n",
    "                   \"delta_n\", \"delta_ns\", \n",
    "                   \"delta_n2\", \"delta_ns2\", \n",
    "                   \"delta_n3\", \"delta_ns3\"], property=\"colourby\", value=\"original\", command=\"redraw\")\n",
    "lv.control.show()"
   ]
  },
  {
   "cell_type": "markdown",
   "id": "e8863bae",
   "metadata": {},
   "source": [
    "The next example is [Ex6-Scattered-Data](./Ex6-Scattered-Data.ipynb)"
   ]
  },
  {
   "cell_type": "code",
   "execution_count": null,
   "id": "980fe9b4",
   "metadata": {},
   "outputs": [],
   "source": [
    "vdisplay.stop()"
   ]
  }
 ],
 "metadata": {
  "jupytext": {
   "text_representation": {
    "extension": ".md",
    "format_name": "myst",
    "format_version": 0.12,
    "jupytext_version": "1.6.0"
   }
  },
  "kernelspec": {
   "display_name": "Python 3",
   "language": "python",
   "name": "python3"
  },
  "source_map": [
   12,
   30,
   36,
   42,
   48,
   68,
   87,
   131,
   146,
   157,
   161,
   212,
   216
  ]
 },
 "nbformat": 4,
 "nbformat_minor": 5
}