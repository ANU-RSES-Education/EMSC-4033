{
 "cells": [
  {
   "cell_type": "markdown",
   "id": "a4f0fef5",
   "metadata": {},
   "source": [
    "# Example 1 - Triangulation of arbitrary points on the sphere\n",
    "\n",
    "`stripy` provides a python interfact to STRIPACK and SSRFPACK (Renka 1997a,b) as a triangulation class that would typically be used as follows:\n",
    "\n",
    "``` python\n",
    "\n",
    "import stripy as stripy\n",
    "spherical_triangulation = stripy.sTriangulation(lons=vertices_lon_as_radians, lats=vertices_lat_as_radians)\n",
    "s_areas = spherical_triangulation.areas()\n",
    "```\n",
    "\n",
    "The methods of the `sTriangulation` class include interpolation, smoothing and gradients (from SSRFPACK), triangle areas, point location by simplex and nearest vertex, refinement operations by edge or centroid, and neighbourhood search / distance computations through a k-d tree algorithm suited to points on the surface of a unit sphere. `stripy` also includes template triangulated meshes with refinement operations.\n",
    "\n",
    "In this notebook we introduce the `sTriangulation` class itself.\n",
    "\n",
    "## Notebook contents\n",
    "\n",
    "   - [Icosahedron](#Triangulate-the-vertices-of-an-icosahedron)\n",
    "   - [Plotting on a map](#Making-a-plot-of-the-triangulation)\n",
    "   - [3D visualisation](#Lavavu-to-view-spherical-information)\n",
    "   - [Predefined meshes](#Predefined-meshes)\n",
    "\n",
    "## References\n",
    "\n",
    "\n",
    "\n",
    " \n",
    "   1. Renka, R. J. (1997), Algorithm 772: STRIPACK: Delaunay triangulation and Voronoi diagram on the surface of a sphere, ACM Transactions on Mathematical Software (TOMS).\n",
    "   \n",
    "   2. Renka, R. J. (1997), Algorithm 773: SSRFPACK: interpolation of scattered data on the surface of a sphere with a surface under tension, ACM Transactions on Mathematical Software (TOMS), 23(3), 435–442, doi:10.1145/275323.275330.\n",
    "   \n",
    "   3. Renka, R. J. (1996), Algorithm 751; TRIPACK: a constrained two-dimensional Delaunay triangulation package, ACM Transactions on Mathematical Software, 22(1), 1–8, doi:10.1145/225545.225546.\n",
    "   \n",
    "   4. Renka, R. J. (1996), Algorithm 752; SRFPACK: software for scattered data fitting with a constrained surface under tension, ACM Transactions on Mathematical Software, 22(1), 9–17, doi:10.1145/225545.225547.\n",
    "\n",
    "\n",
    "The next example is [Ex2-SphericalGrids](./Ex2-SphericalGrids.ipynb)"
   ]
  },
  {
   "cell_type": "markdown",
   "id": "c4353d7b",
   "metadata": {},
   "source": [
    "## Triangulate the vertices of an icosahedron"
   ]
  },
  {
   "cell_type": "code",
   "execution_count": null,
   "id": "18f46c0d",
   "metadata": {},
   "outputs": [],
   "source": [
    "import stripy as stripy\n",
    "import numpy as np\n",
    "\n",
    "# Vertices of an icosahedron as Lat / Lon in degrees\n",
    "\n",
    "vertices_LatLonDeg = np.array(\n",
    "                               [[ 90,         0.0 ],\n",
    "                                [ 26.57,      0.0 ],\n",
    "                                [-26.57,     36.0 ],\n",
    "                                [ 26.57,     72.0 ],\n",
    "                                [-26.57,    108.0 ],\n",
    "                                [ 26.57,    144.0 ],\n",
    "                                [-26.57,    180.0 ],\n",
    "                                [ 26.57,    360.0-72.0 ],\n",
    "                                [-26.57,    360.0-36.0 ],\n",
    "                                [ 26.57,    360.0-144.0 ],\n",
    "                                [-26.57,    360.0-108.0 ],\n",
    "                                [-90,         0.0 ]])\n",
    "\n",
    "\n",
    "vertices_lat = np.radians(vertices_LatLonDeg.T[0])\n",
    "vertices_lon = np.radians(vertices_LatLonDeg.T[1])\n",
    "\n",
    "spherical_triangulation = stripy.sTriangulation(lons=vertices_lon, lats=vertices_lat)"
   ]
  },
  {
   "cell_type": "markdown",
   "id": "0df31b3a",
   "metadata": {},
   "source": [
    "This creates a triangulation object constructed using the wrapped fortran code of Renka (1997). The triangulation object has a number of \n",
    "useful methods and attached data which can be listed with\n",
    "\n",
    "``` python\n",
    "\n",
    "help(spherical_triangulation)\n",
    "```"
   ]
  },
  {
   "cell_type": "code",
   "execution_count": null,
   "id": "bc94b414",
   "metadata": {},
   "outputs": [],
   "source": [
    "print(spherical_triangulation.areas())\n",
    "print(spherical_triangulation.npoints)"
   ]
  },
  {
   "cell_type": "code",
   "execution_count": null,
   "id": "45a3154f",
   "metadata": {},
   "outputs": [],
   "source": [
    "refined_spherical_triangulation = stripy.sTriangulation(lons=vertices_lon, lats=vertices_lat, refinement_levels=2)\n",
    "\n",
    "print(refined_spherical_triangulation.npoints)"
   ]
  },
  {
   "cell_type": "markdown",
   "id": "c61e3a8b",
   "metadata": {},
   "source": [
    "## Making a plot of the triangulation\n",
    "\n",
    "We can make a plot of the two grids and the most straightforward way to display the information\n",
    "is through a standard map projection of the sphere to the plane. \n",
    "\n",
    "(Here we superimpose the points on a global map of coastlines using the `cartopy` map library and use the Mollweide projection. \n",
    " Other projections to try include `Robinson`, `Orthographic`, `PlateCarree`)"
   ]
  },
  {
   "cell_type": "code",
   "execution_count": null,
   "id": "1376da15",
   "metadata": {},
   "outputs": [],
   "source": [
    "%matplotlib inline\n",
    "\n",
    "import gdal\n",
    "import cartopy\n",
    "import cartopy.crs as ccrs\n",
    "import matplotlib.pyplot as plt\n",
    "\n",
    "\n",
    "fig = plt.figure(figsize=(20, 10), facecolor=\"none\")\n",
    "    \n",
    "ax  = plt.subplot(121, projection=ccrs.Mollweide(central_longitude=0.0, globe=None))\n",
    "ax.coastlines(color=\"#777777\")\n",
    "ax.set_global()\n",
    "\n",
    "ax2 = plt.subplot(122, projection=ccrs.Mollweide(central_longitude=0.0,  globe=None))\n",
    "ax2.coastlines(color=\"#777777\")\n",
    "ax2.set_global()\n",
    "\n",
    "## Plot the vertices and the edges for the original isocahedron\n",
    "\n",
    "lons = np.degrees(spherical_triangulation.lons)\n",
    "lats = np.degrees(spherical_triangulation.lats)\n",
    "\n",
    "ax.scatter(lons, lats, color=\"Red\",\n",
    "                 marker=\"o\", s=150.0, transform=ccrs.PlateCarree())\n",
    "\n",
    "segs = spherical_triangulation.identify_segments()\n",
    "\n",
    "for s1, s2 in segs:\n",
    "    ax.plot( [lons[s1], lons[s2]],\n",
    "             [lats[s1], lats[s2]], \n",
    "              linewidth=0.5, color=\"black\", transform=ccrs.Geodetic())\n",
    "\n",
    "\n",
    "## Plot the vertices and the edges for the refined isocahedron\n",
    "\n",
    "lons = np.degrees(refined_spherical_triangulation.lons)\n",
    "lats = np.degrees(refined_spherical_triangulation.lats)\n",
    "\n",
    "ax2.scatter(lons, lats, color=\"Red\", alpha=0.5,\n",
    "                 marker=\"o\", s=50.0, transform=ccrs.PlateCarree())\n",
    "\n",
    "\n",
    "segs = refined_spherical_triangulation.identify_segments()\n",
    "\n",
    "for s1, s2 in segs:\n",
    "    ax2.plot( [lons[s1], lons[s2]],\n",
    "              [lats[s1], lats[s2]], \n",
    "              linewidth=0.5, color=\"black\", transform=ccrs.Geodetic())"
   ]
  },
  {
   "cell_type": "markdown",
   "id": "4666a8ee",
   "metadata": {},
   "source": [
    "### `Lavavu` to view spherical information\n",
    "\n",
    "We can view the same triangulation in an interactive form using the `lavavu` package (`pip install lavavu`). \n",
    "The list of simplices of the triangulation (`spherical_triangulation.simplices`) is compatible with the format expected by Lavavu."
   ]
  },
  {
   "cell_type": "code",
   "execution_count": null,
   "id": "08ea3623",
   "metadata": {
    "tags": [
     "hide-cell"
    ]
   },
   "outputs": [],
   "source": [
    "## This can be an issue on jupyterhub\n",
    "\n",
    "from xvfbwrapper import Xvfb\n",
    "vdisplay = Xvfb()\n",
    "try:\n",
    "    vdisplay.start()\n",
    "    xvfb = True\n",
    "\n",
    "except:\n",
    "    xvfb = False"
   ]
  },
  {
   "cell_type": "code",
   "execution_count": null,
   "id": "37e8a0ee",
   "metadata": {},
   "outputs": [],
   "source": [
    "import lavavu\n",
    "\n",
    "\n",
    "\n",
    "lv = lavavu.Viewer(border=False, resolution=[666,666], background=\"#FFFFFF\")\n",
    "lv[\"axis\"]=False\n",
    "lv['specular'] = 0.5\n",
    "\n",
    "ghost = lv.triangles(\"ghost\",  wireframe=False, colour=\"#777777\", opacity=0.1)\n",
    "ghost.vertices(refined_spherical_triangulation.points*0.99)\n",
    "ghost.indices(refined_spherical_triangulation.simplices)\n",
    "\n",
    "tris = lv.triangles(\"coarse\",  wireframe=False, colour=\"#4444FF\", opacity=0.8)\n",
    "tris.vertices(spherical_triangulation.points)\n",
    "tris.indices(spherical_triangulation.simplices)\n",
    "\n",
    "trisw = lv.triangles(\"coarsew\",  wireframe=True, colour=\"#000000\", opacity=0.8, linewidth=3.0)\n",
    "trisw.vertices(spherical_triangulation.points)\n",
    "trisw.indices(spherical_triangulation.simplices)\n",
    "\n",
    "nodes = lv.points(\"coarse_nodes\", pointsize=10.0, pointtype=\"shiny\", colour=\"#4444FF\", opacity=0.95)\n",
    "nodes.vertices(spherical_triangulation.points)\n",
    "\n",
    "tris2 = lv.triangles(\"fine\",  wireframe=False, colour=\"#007f00\", opacity=0.25)\n",
    "tris2.vertices(refined_spherical_triangulation.points)\n",
    "tris2.indices(refined_spherical_triangulation.simplices)\n",
    "\n",
    "tris2w = lv.triangles(\"finew\",  wireframe=True, colour=\"#444444\", opacity=0.25, linewidth=0.5)\n",
    "tris2w.vertices(refined_spherical_triangulation.points)\n",
    "tris2w.indices(refined_spherical_triangulation.simplices)\n",
    "\n",
    "nodes2 = lv.points(\"fine_nodes\", pointsize=3.0, pointtype=\"shiny\", colour=\"FF0000\", opacity=0.95)\n",
    "nodes2.vertices(refined_spherical_triangulation.points)\n",
    "\n",
    "lv.hide(\"fine\")\n",
    "lv.hide(\"finew\")\n",
    "lv.control.Panel()\n",
    "lv.control.Button(command=\"hide triangles; hide points; show ghost; show fine_nodes; show coarse; show coarsew; show coarse_nodes; redraw\", label=\"Coarse\")\n",
    "lv.control.Button(command=\"hide triangles; hide points; show ghost; show coarse_nodes; show fine; show finew; show fine_nodes; redraw\", label=\"Fine\")\n",
    "\n",
    "lv.control.show()"
   ]
  },
  {
   "cell_type": "code",
   "execution_count": null,
   "id": "926c646a",
   "metadata": {},
   "outputs": [],
   "source": []
  },
  {
   "cell_type": "markdown",
   "id": "ea1f1200",
   "metadata": {},
   "source": [
    "## Predefined meshes\n",
    "\n",
    "One common use of `stripy` is in meshing the sphere and, to this end, we provide pre-defined meshes for icosahedral and octahedral triangulations, each of which can have mid-face centroid points included. A triangulation of the six cube-vertices is also provided as well as a 'buckyball' mesh. The icosahedral meshes defined above can be created directly using:\n",
    "\n",
    "``` python\n",
    "\n",
    "spherical_triangulation         = stripy.spherical_meshes.icosahedral_mesh(refinement_levels=0)\n",
    "refined_spherical_triangulation = stripy.spherical_meshes.icosahedral_mesh(refinement_levels=3)\n",
    "```\n",
    "\n",
    "This capability is shown in a companion notebook [Ex2-SphericalGrids](./Ex2-SphericalGrids.ipynb)"
   ]
  },
  {
   "cell_type": "code",
   "execution_count": null,
   "id": "00c66183",
   "metadata": {
    "tags": [
     "hide-cell"
    ]
   },
   "outputs": [],
   "source": [
    "vdisplay.stop()"
   ]
  }
 ],
 "metadata": {
  "jupytext": {
   "text_representation": {
    "extension": ".md",
    "format_name": "myst",
    "format_version": 0.12,
    "jupytext_version": "1.6.0"
   }
  },
  "kernelspec": {
   "display_name": "Python 3",
   "language": "python",
   "name": "python3"
  },
  "source_map": [
   12,
   52,
   56,
   81,
   91,
   96,
   100,
   110,
   160,
   167,
   182,
   226,
   228,
   242
  ]
 },
 "nbformat": 4,
 "nbformat_minor": 5
}