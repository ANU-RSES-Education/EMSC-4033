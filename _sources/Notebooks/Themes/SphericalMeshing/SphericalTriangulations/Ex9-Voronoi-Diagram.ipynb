{
 "cells": [
  {
   "cell_type": "markdown",
   "id": "5ceaf5a7",
   "metadata": {},
   "source": [
    "# Example 9 - Constructing the Voronoi diagram\n",
    "\n",
    "The dual of a Delaunay triangulation is its Voronoi diagram. Stripy can efficiently calculate the voronoi points from a triangulation and, optionally, build the Voronoi regions for you.\n",
    "\n",
    "## Notebook contents\n",
    "\n",
    "- [Voronoi points](#Voronoi-points)\n",
    "- [Voronoi regions](#Voronoi-regions)"
   ]
  },
  {
   "cell_type": "code",
   "execution_count": null,
   "id": "82c417d7",
   "metadata": {},
   "outputs": [],
   "source": [
    "import numpy as np\n",
    "import stripy\n",
    "import matplotlib.pyplot as plt\n",
    "import cartopy.crs as ccrs\n",
    "\n",
    "%matplotlib inline"
   ]
  },
  {
   "cell_type": "code",
   "execution_count": null,
   "id": "da520cd1",
   "metadata": {},
   "outputs": [],
   "source": [
    "## Set up a coarse mesh for visual clarity\n",
    "\n",
    "mesh = stripy.spherical_meshes.icosahedral_mesh(refinement_levels=3)"
   ]
  },
  {
   "cell_type": "code",
   "execution_count": null,
   "id": "2a80e582",
   "metadata": {},
   "outputs": [],
   "source": [
    "proj_map = ccrs.Orthographic()\n",
    "proj_flat = ccrs.PlateCarree()\n",
    "\n",
    "\n",
    "lons = np.degrees(mesh.lons)\n",
    "lats = np.degrees(mesh.lats)\n",
    "\n",
    "\n",
    "fig = plt.figure(figsize=(10, 8), facecolor=\"none\")\n",
    "ax = fig.add_subplot(111, projection=proj_map, title=\"Delaunay triangulation\")\n",
    "\n",
    "ax.triplot(lons, lats, mesh.simplices, c='LightGrey', zorder=1, transform=proj_flat)\n",
    "ax.scatter(lons, lats, c='C0', marker='.', zorder=2, transform=proj_flat)\n",
    "\n",
    "plt.show()"
   ]
  },
  {
   "cell_type": "markdown",
   "id": "8278f7ae",
   "metadata": {},
   "source": [
    "## Voronoi points\n",
    "\n",
    "A voronoi point (or circumcentre) exists for every triangle in the mesh. They are calculated by finding a constant radius (the circumradius) that is shared between each point in the triangle. Depending on the mesh, some voronoi points will reside outside the area contained within a triangle.\n",
    "\n",
    "To calculate the Voronoi points from the mesh, use the `voronoi_points` method. This method may optionally return the circumradius, signed triangle area, or aspect ratio for each voronoi point."
   ]
  },
  {
   "cell_type": "code",
   "execution_count": null,
   "id": "f1869eb7",
   "metadata": {},
   "outputs": [],
   "source": [
    "vor_lons, vor_lats = mesh.voronoi_points()\n",
    "vlons = np.degrees(vor_lons)\n",
    "vlats = np.degrees(vor_lats)\n",
    "\n",
    "\n",
    "fig = plt.figure(figsize=(10, 8), facecolor=\"none\")\n",
    "ax = fig.add_subplot(111, projection=proj_map, title=\"Delaunay triangulation + Voronoi points\")\n",
    "\n",
    "ax.axis('off')\n",
    "ax.triplot(lons, lats, mesh.simplices, c='LightGrey', zorder=1, transform=proj_flat)\n",
    "ax.scatter(lons, lats, c='C0', marker='.', zorder=2, transform=proj_flat)\n",
    "ax.scatter(vlons, vlats, c='C1', marker='*', zorder=3, transform=proj_flat)\n",
    "\n",
    "plt.show()"
   ]
  },
  {
   "cell_type": "markdown",
   "id": "d648cf41",
   "metadata": {},
   "source": [
    "## Voronoi regions\n",
    "\n",
    "Often it is desirable to obtain the corresponding region enclosed by voronoi points. We can easily find the line segments connecting each voronoi point by retrieving the neighbour simplices."
   ]
  },
  {
   "cell_type": "code",
   "execution_count": null,
   "id": "e8efd3c3",
   "metadata": {},
   "outputs": [],
   "source": [
    "neighbours = mesh.neighbour_simplices()\n",
    "\n",
    "circumcentres = np.column_stack([vlons, vlats])\n",
    "voronoi_edges = circumcentres[neighbours]\n",
    "voronoi_edges[neighbours == -1] = np.nan # remove edges at infinity\n",
    "\n",
    "\n",
    "lines = []\n",
    "lines.extend(zip(circumcentres, voronoi_edges[:,0,:]))\n",
    "lines.extend(zip(circumcentres, voronoi_edges[:,1,:]))\n",
    "lines.extend(zip(circumcentres, voronoi_edges[:,2,:]))"
   ]
  },
  {
   "cell_type": "code",
   "execution_count": null,
   "id": "484934c3",
   "metadata": {},
   "outputs": [],
   "source": [
    "# Plot it\n",
    "from matplotlib.collections import LineCollection\n",
    "\n",
    "linesC = LineCollection(lines, edgecolor='k', transform=proj_flat)\n",
    "\n",
    "fig = plt.figure(figsize=(10, 8), facecolor=\"none\")\n",
    "ax = fig.add_subplot(111, projection=proj_map, title='Voronoi diagram')\n",
    "\n",
    "ax.scatter(lons, lats, c='C0', marker='.', zorder=2, transform=proj_flat)\n",
    "ax.scatter(vlons, vlats, c='C1', marker='*', zorder=3, transform=proj_flat)\n",
    "ax.add_collection(linesC)\n",
    "\n",
    "plt.show()"
   ]
  },
  {
   "cell_type": "markdown",
   "id": "76819f74",
   "metadata": {},
   "source": [
    "Looks good! But in order to find which voronoi points belong to a region, we need to iterate through all of the triangles. Since each vertex in the Delaunay represents a voronoi \"site\", we can accumulate all of the circumcentres into a list and sort them using `voronoi_points_and_regions`."
   ]
  },
  {
   "cell_type": "code",
   "execution_count": null,
   "id": "998a6e6f",
   "metadata": {},
   "outputs": [],
   "source": [
    "vor_lons, vor_lats, regions = mesh.voronoi_points_and_regions()\n",
    "\n",
    "linesC = LineCollection(lines, edgecolor='k', transform=proj_flat)\n",
    "\n",
    "fig = plt.figure(figsize=(10, 8), facecolor=\"none\")\n",
    "ax = fig.add_subplot(111, projection=proj_map, title='Voronoi diagram')\n",
    "\n",
    "ax.scatter(lons, lats, c='C0', marker='.', zorder=2, transform=proj_flat)\n",
    "ax.scatter(vlons, vlats, c='C1', marker='*', zorder=3, transform=proj_flat)\n",
    "ax.add_collection(linesC)\n",
    "\n",
    "# highlight specific region\n",
    "r = 1\n",
    "region = regions[r]\n",
    "\n",
    "# iterate through region and connect up the points\n",
    "for i in range(len(region)):\n",
    "    i0 = region[i - 1]\n",
    "    i1 = region[i]\n",
    "\n",
    "    ilon = [vlons[i0], vlons[i1]]\n",
    "    ilat = [vlats[i0], vlats[i1]]\n",
    "    ax.plot(ilon, ilat, c='r', linewidth=5, transform=proj_flat)"
   ]
  }
 ],
 "metadata": {
  "jupytext": {
   "text_representation": {
    "extension": ".md",
    "format_name": "myst",
    "format_version": 0.12,
    "jupytext_version": "1.6.0"
   }
  },
  "kernelspec": {
   "display_name": "Python 3",
   "language": "python",
   "name": "python3"
  },
  "source_map": [
   12,
   23,
   32,
   38,
   54,
   62,
   77,
   83,
   97,
   111,
   115
  ]
 },
 "nbformat": 4,
 "nbformat_minor": 5
}