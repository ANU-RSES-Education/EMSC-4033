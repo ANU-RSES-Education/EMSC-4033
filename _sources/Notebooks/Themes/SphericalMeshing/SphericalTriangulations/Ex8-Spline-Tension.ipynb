{
 "cells": [
  {
   "cell_type": "markdown",
   "id": "71cea6d0",
   "metadata": {},
   "source": [
    "# Example 8 - Spline Tension\n",
    "\n",
    "Apply spline tension to interpolaton, gradient, derivative, or smoothing routines to reduce the occurance of undershoot / overshoot inconsistencies in the solution.\n",
    "\n",
    "The values to determine the degree of tension is stored in `sigma`. Using the routine `get_spline_tension_factors` will determine the smallest tension factor such that the spline preserves the local shape properties (monotonicity and convexity) of the data. If `sigma` is zero everywhere, then no tension is active.\n",
    "\n",
    "We walk through a number of routines that we have explored in previous notebooks, but in this case demonstrating the use of tensioned splines.\n",
    "\n",
    "## Contents\n",
    "\n",
    "- [Smoothing with tension](#Smoothing-with-tension)\n",
    "- [Interpolation with tension](#Interpolation-with-tension)\n",
    "- [Gradients with tension](#Gradients-with-tension)"
   ]
  },
  {
   "cell_type": "code",
   "execution_count": null,
   "id": "839d056f",
   "metadata": {},
   "outputs": [],
   "source": [
    "import stripy as stripy\n",
    "import numpy as np\n",
    "import matplotlib.pyplot as plt\n",
    "import cartopy.crs as ccrs\n",
    "%matplotlib inline"
   ]
  },
  {
   "cell_type": "code",
   "execution_count": null,
   "id": "d7af0018",
   "metadata": {},
   "outputs": [],
   "source": [
    "mesh = stripy.spherical_meshes.icosahedral_mesh(refinement_levels=4)"
   ]
  },
  {
   "cell_type": "code",
   "execution_count": null,
   "id": "501230d6",
   "metadata": {},
   "outputs": [],
   "source": [
    "def analytic(lons, lats, k1, k2):\n",
    "     return  np.cos(k1*lons) * np.sin(k2*lats) \n",
    "\n",
    "def analytic_noisy(lons, lats, k1, k2, noise, short):\n",
    "     return  np.cos(k1*lons) * np.sin(k2*lats) + short * (np.cos(k1*5.0*lons) * np.sin(k2*5.0*lats)) +  noise * np.random.random(lons.shape)\n",
    "\n",
    "data   = analytic(mesh.lons, mesh.lats, 5.0, 2.0)\n",
    "data_n = analytic_noisy(mesh.lons, mesh.lats, 5.0, 2.0, 0.1, 0.0)"
   ]
  },
  {
   "cell_type": "code",
   "execution_count": null,
   "id": "f66ce9b5",
   "metadata": {},
   "outputs": [],
   "source": [
    "# get tension factors from the data\n",
    "sigma   = mesh.get_spline_tension_factors(data, tol=1e-6)\n",
    "sigma_n = mesh.get_spline_tension_factors(data_n, tol=1e-6)"
   ]
  },
  {
   "cell_type": "markdown",
   "id": "079428d8",
   "metadata": {},
   "source": [
    "## Smoothing with tension\n",
    "\n",
    "Tension is applied simply by supplying `sigma`. It's effect is most noticible near the poles where there are edge artefacts in the solution."
   ]
  },
  {
   "cell_type": "code",
   "execution_count": null,
   "id": "d0733533",
   "metadata": {},
   "outputs": [],
   "source": [
    "stripy_smoothed,  dds, err = mesh.smoothing(data, np.ones_like(data_n), 10.0, 0.1, 0.01)\n",
    "stripy_smoothed2, dds, err = mesh.smoothing(data, np.ones_like(data_n), 10.0, 0.1, 0.01, sigma=sigma)"
   ]
  },
  {
   "cell_type": "code",
   "execution_count": null,
   "id": "1ab5d80e",
   "metadata": {},
   "outputs": [],
   "source": [
    "import lavavu\n",
    "\n",
    "from xvfbwrapper import Xvfb\n",
    "vdisplay = Xvfb()\n",
    "try:\n",
    "    vdisplay.start()\n",
    "    xvfb = True\n",
    "\n",
    "except:\n",
    "    xvfb = False\n",
    "\n",
    "lv = lavavu.Viewer(border=False, background=\"#FFFFFF\", resolution=[666,666], near=-10.0)\n",
    "\n",
    "nodes = lv.points(\"nodes\", pointsize=3.0, pointtype=\"shiny\", colour=\"#448080\", opacity=0.75)\n",
    "nodes.vertices(mesh.points)\n",
    "\n",
    "tris = lv.triangles(\"triangles\",  wireframe=False, colour=\"#77ff88\", opacity=1.0)\n",
    "tris.vertices(mesh.points)\n",
    "tris.indices(mesh.simplices)\n",
    "tris.values(stripy_smoothed, label=\"smoothed\")\n",
    "tris.values(stripy_smoothed2, label=\"smoothed_tension\")\n",
    "tris.values(stripy_smoothed - stripy_smoothed2, label=\"delta\")\n",
    "\n",
    "tris.colourmap(\"#990000 #FFFFFF #000099\")\n",
    "cb = tris.colourbar()\n",
    "\n",
    "# view the pole\n",
    "\n",
    "lv.translation(0.0, 0.0, -3.0)\n",
    "lv.rotation(-20, 0.0, 0.0)\n",
    "\n",
    "\n",
    "\n",
    "lv.control.Panel()\n",
    "lv.control.Range('specular', range=(0,1), step=0.1, value=0.4)\n",
    "lv.control.Checkbox(property='axis')\n",
    "lv.control.ObjectList()\n",
    "tris.control.List(options=[\"original\", \"smoothed\", \"smoothed_tension\", \"delta\"],\n",
    "                  property=\"colourby\", value=\"original\", command=\"redraw\")\n",
    "lv.control.show()"
   ]
  },
  {
   "cell_type": "markdown",
   "id": "c50988be",
   "metadata": {},
   "source": [
    "## Interpolation with tension\n",
    "\n",
    "Only applies to cubic interpolation. The effect of supplying a non-negative `sigma` is to produce a _more linear_ interpolation. For regions that lie outside the hull, cubic extrapolation produces wild oscillations in the solution which can be mitigated with spline tension."
   ]
  },
  {
   "cell_type": "code",
   "execution_count": null,
   "id": "9b9a5a48",
   "metadata": {},
   "outputs": [],
   "source": [
    "# set up a discontinuous mesh\n",
    "\n",
    "mask_points = mesh.lats < np.pi/3\n",
    "cmesh = stripy.sTriangulation(mesh.lons[mask_points], mesh.lats[mask_points])\n",
    "\n",
    "cdata   = analytic(cmesh.lons, cmesh.lats, 5.0, 2.0)\n",
    "csigma  = cmesh.get_spline_tension_factors(cdata, tol=1e-6)"
   ]
  },
  {
   "cell_type": "code",
   "execution_count": null,
   "id": "124c6bf3",
   "metadata": {},
   "outputs": [],
   "source": [
    "grid_z1, ierr = cmesh.interpolate_cubic(mesh.lons, mesh.lats, cdata) # no tension\n",
    "grid_z2, ierr = cmesh.interpolate_cubic(mesh.lons, mesh.lats, cdata, sigma=csigma) # tension"
   ]
  },
  {
   "cell_type": "code",
   "execution_count": null,
   "id": "35f50572",
   "metadata": {},
   "outputs": [],
   "source": [
    "lv = lavavu.Viewer(border=False, background=\"#FFFFFF\", resolution=[666,666], near=-10.0)\n",
    "\n",
    "nodes = lv.points(\"nodes\", pointsize=3.0, pointtype=\"shiny\", colour=\"#448080\", opacity=0.75)\n",
    "nodes.vertices(mesh.points)\n",
    "\n",
    "tris = lv.triangles(\"triangles\",  wireframe=False, colour=\"#77ff88\", opacity=1.0)\n",
    "tris.vertices(mesh.points)\n",
    "tris.indices(mesh.simplices)\n",
    "tris.values(grid_z1, label=\"cubic\")\n",
    "tris.values(grid_z2, label=\"cubic_tension\")\n",
    "tris.values(grid_z1 - grid_z2, label=\"delta\")\n",
    "\n",
    "tris.colourmap(\"#990000 #FFFFFF #000099\")\n",
    "cb = tris.colourbar()\n",
    "\n",
    "# view the pole\n",
    "\n",
    "lv.translation(0.0, 0.0, -3.0)\n",
    "lv.rotation(-20, 0.0, 0.0)\n",
    "\n",
    "\n",
    "\n",
    "lv.control.Panel()\n",
    "lv.control.Range('specular', range=(0,1), step=0.1, value=0.4)\n",
    "lv.control.Checkbox(property='axis')\n",
    "lv.control.ObjectList()\n",
    "tris.control.List(options=[\"original\", \"cubic\", \"cubic_tension\", \"delta\"],\n",
    "                  property=\"colourby\", value=\"original\", command=\"redraw\")\n",
    "lv.control.show()"
   ]
  },
  {
   "cell_type": "markdown",
   "id": "5048eebe",
   "metadata": {},
   "source": [
    "## Gradients with tension\n",
    "\n",
    "Pass `sigma` to the following routines that involve derivatives:\n",
    "\n",
    "- `gradient_lonlat`\n",
    "- `gradient_xyz`\n",
    "- `derivatives_lonlat`\n",
    "\n",
    "Again, the largest difference is visible at the poles."
   ]
  },
  {
   "cell_type": "code",
   "execution_count": null,
   "id": "f81bd27e",
   "metadata": {},
   "outputs": [],
   "source": [
    "dlon1, dlat1 = mesh.gradient_lonlat(data, nit=5, tol=1e-6) # no tension\n",
    "dlon2, dlat2 = mesh.gradient_lonlat(data, nit=5, tol=1e-6, sigma=sigma) # tension"
   ]
  },
  {
   "cell_type": "code",
   "execution_count": null,
   "id": "adc67ef6",
   "metadata": {},
   "outputs": [],
   "source": [
    "lv = lavavu.Viewer(border=False, background=\"#FFFFFF\", resolution=[666,666], near=-10.0)\n",
    "\n",
    "nodes = lv.points(\"nodes\", pointsize=3.0, pointtype=\"shiny\", colour=\"#448080\", opacity=0.75)\n",
    "nodes.vertices(mesh.points)\n",
    "\n",
    "tris = lv.triangles(\"triangles\",  wireframe=False, colour=\"#77ff88\", opacity=1.0)\n",
    "tris.vertices(mesh.points)\n",
    "tris.indices(mesh.simplices)\n",
    "tris.values(dlon1, label=\"dlon\")\n",
    "tris.values(dlat1, label=\"dlat\")\n",
    "tris.values(dlon2, label=\"dlon_tension\")\n",
    "tris.values(dlat2, label=\"dlat_tension\")\n",
    "tris.values(dlon1 - dlon2, label=\"dlon_err\")\n",
    "tris.values(dlat1 - dlat2, label=\"dlat_err\")\n",
    "\n",
    "tris.colourmap(\"#990000 #FFFFFF #000099\")\n",
    "cb = tris.colourbar()\n",
    "\n",
    "# view the pole\n",
    "\n",
    "lv.translation(0.0, 0.0, -3.0)\n",
    "lv.rotation(-20, 0.0, 0.0)\n",
    "\n",
    "\n",
    "\n",
    "lv.control.Panel()\n",
    "lv.control.Range('specular', range=(0,1), step=0.1, value=0.4)\n",
    "lv.control.Checkbox(property='axis')\n",
    "lv.control.ObjectList()\n",
    "tris.control.List(options=[\"original\", \"dlon\", \"dlat\", \"dlon_tension\", \"dlat_tension\", \"dlon_err\", \"dlat_err\"],\n",
    "                  property=\"colourby\", value=\"original\", command=\"redraw\")\n",
    "lv.control.show()"
   ]
  },
  {
   "cell_type": "markdown",
   "id": "f06c72cb",
   "metadata": {},
   "source": [
    "The next notebook is [Ex9-Voronoi-Diagram](Ex9-Voronoi-Diagram.ipynb)"
   ]
  },
  {
   "cell_type": "code",
   "execution_count": null,
   "id": "e9d21c3e",
   "metadata": {},
   "outputs": [],
   "source": [
    "vdisplay.stop()"
   ]
  }
 ],
 "metadata": {
  "jupytext": {
   "text_representation": {
    "extension": ".md",
    "format_name": "myst",
    "format_version": 0.12,
    "jupytext_version": "1.6.0"
   }
  },
  "kernelspec": {
   "display_name": "Python 3",
   "language": "python",
   "name": "python3"
  },
  "source_map": [
   12,
   28,
   36,
   40,
   51,
   55,
   61,
   66,
   107,
   113,
   123,
   128,
   158,
   170,
   175,
   208,
   212
  ]
 },
 "nbformat": 4,
 "nbformat_minor": 5
}