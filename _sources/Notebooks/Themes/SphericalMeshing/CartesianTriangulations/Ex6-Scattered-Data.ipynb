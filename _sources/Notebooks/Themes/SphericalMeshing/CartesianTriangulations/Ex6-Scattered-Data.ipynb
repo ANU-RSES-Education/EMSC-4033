{
 "cells": [
  {
   "cell_type": "markdown",
   "id": "83351538",
   "metadata": {},
   "source": [
    "# Example 6 - Scattered Data and 'Heat Maps'\n",
    "\n",
    "There are different ways to map point data to a smooth field. One way is to triangulate the data, smooth it and interpolate to a regular mesh (see previous notebooks). It is also possible to construct weighted averages from scattered points to a regular mesh. In this notebook we work through how to find where points lie in the mesh and map their values to nearby vertices. \n",
    "\n",
    "## Notebook contents\n",
    "\n",
    "   - [Scattered data](#Point-data-with-uneven-spatial-distribution)\n",
    "   - [Computational mesh](#Define-a-regular-computational-mesh)\n",
    "   - [Data count by triangle](#Count-heat-flow-points-per-triangle)\n",
    "   - [Data count by nearest vertex](#Count-earthquakes-per-vertex)\n",
    "   - [Distance weighting to vertices](#Inverse-distance-weighted-number-of-earthquakes)\n",
    "   \n",
    "   \n",
    "The next example is [Ex7-Refinement-of-Triangulations](./Ex7-Refinement-of-Triangulations.ipynb)"
   ]
  },
  {
   "cell_type": "markdown",
   "id": "af55068b",
   "metadata": {},
   "source": [
    "## Point data with uneven spatial distribution\n",
    "\n",
    "Define a relatively smooth function that we can interpolate from the coarse mesh to the fine mesh and analyse. At local scales it is convenient to use projected coordinate reference systems (CRS) to work in metres instead of degrees. We use the heat flow database for Southeastern Australia from [Mather _et al._ 2017](https://doi.org/10.1016/j.tecto.2017.12.015)"
   ]
  },
  {
   "cell_type": "code",
   "execution_count": null,
   "id": "4f0d57a5",
   "metadata": {},
   "outputs": [],
   "source": [
    "import numpy as np\n",
    "\n",
    "HFdata = np.loadtxt(\"../Data/HeatFlowSEAustralia.csv\", delimiter=',', usecols=(3,4,5), skiprows=1)\n",
    "\n",
    "eastings  = HFdata[:,0]\n",
    "northings = HFdata[:,1]\n",
    "heat_flow = HFdata[:,2]"
   ]
  },
  {
   "cell_type": "code",
   "execution_count": null,
   "id": "a229a974",
   "metadata": {},
   "outputs": [],
   "source": [
    "%matplotlib inline\n",
    "import matplotlib.pyplot as plt\n",
    "import cartopy\n",
    "import cartopy.crs as ccrs\n",
    "\n",
    "# local coordinate reference system\n",
    "proj = ccrs.epsg(28354)\n",
    "\n",
    "\n",
    "fig = plt.figure(figsize=(10,5))\n",
    "ax = fig.add_subplot(111, projection=ccrs.PlateCarree())\n",
    "ax.coastlines(resolution='10m')\n",
    "ax.set_extent([135, 147, -39, -30])\n",
    "\n",
    "ax.scatter(eastings, northings,\n",
    "           marker=\"o\", cmap=plt.cm.RdBu, c=heat_flow, transform=proj)\n",
    "\n",
    "ax.gridlines(draw_labels=True)\n",
    "plt.show()"
   ]
  },
  {
   "cell_type": "markdown",
   "id": "cfac7101",
   "metadata": {},
   "source": [
    "## Define a regular computational mesh\n",
    "\n",
    "Use the (usual) icosahedron with face points included."
   ]
  },
  {
   "cell_type": "code",
   "execution_count": null,
   "id": "d05e6fa2",
   "metadata": {},
   "outputs": [],
   "source": [
    "import stripy as stripy\n",
    "\n",
    "xmin = eastings.min()\n",
    "xmax = eastings.max()\n",
    "ymin = northings.min()\n",
    "ymax = northings.max()\n",
    "extent = [xmin, xmax, ymin, ymax]\n",
    "\n",
    "# define a mesh with 20km x 20km resolution\n",
    "spacingX = 10000.0\n",
    "spacingY = 10000.0\n",
    "\n",
    "mesh = stripy.cartesian_meshes.square_mesh(extent, spacingX, spacingY, refinement_levels=0, tree=True)\n",
    "\n",
    "print(\"number of points = {}\".format(mesh.npoints))"
   ]
  },
  {
   "cell_type": "markdown",
   "id": "4d5fb732",
   "metadata": {},
   "source": [
    "## Count heat flow points per triangle \n",
    "\n",
    "This is a numpy wrapper around the `TRIPACK` routine which operates by retriangulation and is therefore not particularly fast."
   ]
  },
  {
   "cell_type": "code",
   "execution_count": null,
   "id": "aa6567ae",
   "metadata": {},
   "outputs": [],
   "source": [
    "triangles = mesh.containing_triangle(eastings, northings)"
   ]
  },
  {
   "cell_type": "code",
   "execution_count": null,
   "id": "5ef67086",
   "metadata": {},
   "outputs": [],
   "source": [
    "## The return_counts argument is quite new in numpy\n",
    "\n",
    "try:\n",
    "    tris, counts = np.unique(triangles, return_counts=True)\n",
    "except:\n",
    "\n",
    "    def unique_count(a):\n",
    "        unique, inverse = np.unique(a, return_inverse=True)\n",
    "        count = np.zeros(len(unique), np.int)\n",
    "        np.add.at(count, inverse, 1)\n",
    "        return unique, count\n",
    "\n",
    "    tris, counts = unique_count(triangles)\n",
    "    \n",
    "print(\"number of unique triangles = {}\".format(tris.shape[0]))"
   ]
  },
  {
   "cell_type": "code",
   "execution_count": null,
   "id": "904d4503",
   "metadata": {},
   "outputs": [],
   "source": [
    "## map to nodes so we can plot this\n",
    "\n",
    "hit_count = np.zeros(mesh.npoints)\n",
    "\n",
    "for i in range(0, tris.shape[0]):\n",
    "    hit_count[mesh.simplices[tris[i]]] += counts[i]\n",
    "\n",
    "hit_count /= 3.0\n",
    "\n",
    "print(\"mean number of hits = {}\".format(hit_count.mean()))"
   ]
  },
  {
   "cell_type": "code",
   "execution_count": null,
   "id": "ea456e6b",
   "metadata": {},
   "outputs": [],
   "source": [
    "fig = plt.figure(figsize=(10,5))\n",
    "ax = fig.add_subplot(111, projection=ccrs.PlateCarree())\n",
    "ax.coastlines(resolution='10m')\n",
    "ax.set_extent([135, 147, -39, -30])\n",
    "\n",
    "ax.scatter(mesh.x, mesh.y,\n",
    "           marker=\"o\", cmap=plt.cm.Reds, s=100, c=hit_count, alpha=0.33, transform=proj)\n",
    "\n",
    "ax.gridlines(draw_labels=True)\n",
    "plt.show()"
   ]
  },
  {
   "cell_type": "markdown",
   "id": "f54c9ef9",
   "metadata": {},
   "source": [
    "## Count points per vertex\n",
    "\n",
    "The `Triangulation.nearest_vertices` method uses a k-d tree to find the nearest vertices to a set of x,y points. It returns the nearest vertices and euclidean distance. This requires the k-d tree to have been built when the mesh was initialised (`tree=True`)"
   ]
  },
  {
   "cell_type": "code",
   "execution_count": null,
   "id": "4b357b1e",
   "metadata": {},
   "outputs": [],
   "source": [
    "distances, vertices = mesh.nearest_vertices(eastings, northings, k=1)\n",
    "nodes, ncounts = np.unique(vertices, return_counts=True)\n",
    "\n",
    "hit_countn = np.zeros(mesh.npoints)\n",
    "hit_countn[nodes] = ncounts"
   ]
  },
  {
   "cell_type": "code",
   "execution_count": null,
   "id": "a2046988",
   "metadata": {},
   "outputs": [],
   "source": [
    "fig = plt.figure(figsize=(10,5))\n",
    "ax = fig.add_subplot(111, projection=ccrs.PlateCarree())\n",
    "ax.coastlines(resolution='10m')\n",
    "ax.set_extent([135, 147, -39, -30])\n",
    "\n",
    "ax.scatter(mesh.x, mesh.y,\n",
    "           marker=\"o\", cmap=plt.cm.Reds, s=100, c=hit_countn, alpha=0.33, transform=proj)\n",
    "\n",
    "ax.gridlines(draw_labels=True)\n",
    "plt.show()"
   ]
  },
  {
   "cell_type": "markdown",
   "id": "3084dbe0",
   "metadata": {},
   "source": [
    "## Inverse distance weighted number of measurement points\n",
    "\n",
    "The k-d tree method provides a specified number of neighbours and the distance to those neighbours. This can be used in a number of ways to smooth or amalgamate data. Here for example is a weighted average of each earthquake to nearby nodes. \n",
    "\n",
    "We compute the distances to $N$ nearby vertices and distribute information to those vertices in inverse proportion to their distance.\n",
    "\n",
    "$$ w _i = \\frac{d _i}{\\sum_{i=1}^N d _i} $$\n",
    "\n",
    "Alternatively, we might map information to the vertices by applying a radially symmetric kernel to the point data without normalising."
   ]
  },
  {
   "cell_type": "code",
   "execution_count": null,
   "id": "5b36175b",
   "metadata": {},
   "outputs": [],
   "source": [
    "distances, vertices = mesh.nearest_vertices(eastings, northings, k=100)\n",
    "norm = distances.sum(axis=1)\n",
    "\n",
    "# distances, vertices are arrays of shape (data_size, 10)\n",
    "\n",
    "hit_countid = np.zeros(mesh.npoints)\n",
    "\n",
    "## numpy shouldn't try to vectorise this reduction operation\n",
    "\n",
    "for i in range(0,distances.shape[0]):\n",
    "    hit_countid[vertices[i,:]] += distances[i,:] / norm[i]\n",
    "\n",
    "\n",
    "hit_countidr = np.zeros(mesh.npoints)\n",
    "\n",
    "## numpy shouldn't try to vectorise this reduction operation\n",
    "\n",
    "for i in range(0,distances.shape[0]):\n",
    "    hit_countidr[vertices[i,:]] += np.exp( -distances[i,:] / 0.02 ) \n"
   ]
  },
  {
   "cell_type": "code",
   "execution_count": null,
   "id": "8e643761",
   "metadata": {},
   "outputs": [],
   "source": [
    "fig = plt.figure(figsize=(10,5))\n",
    "ax = fig.add_subplot(111, projection=ccrs.PlateCarree())\n",
    "ax.coastlines(resolution='10m')\n",
    "ax.set_extent([135, 147, -39, -30])\n",
    "\n",
    "ax.scatter(mesh.x, mesh.y,\n",
    "           marker=\"o\", cmap=plt.cm.Reds, s=100, c=hit_countid, alpha=0.33, transform=proj)\n",
    "\n",
    "ax.gridlines(draw_labels=True)\n",
    "plt.show()"
   ]
  },
  {
   "cell_type": "markdown",
   "id": "518f0740",
   "metadata": {},
   "source": [
    "The next example is [Ex7-Refinement-of-Triangulations](./Ex7-Refinement-of-Triangulations.ipynb)"
   ]
  }
 ],
 "metadata": {
  "jupytext": {
   "text_representation": {
    "extension": ".md",
    "format_name": "myst",
    "format_version": 0.12,
    "jupytext_version": "1.6.0"
   }
  },
  "kernelspec": {
   "display_name": "Python 3",
   "language": "python",
   "name": "python3"
  },
  "source_map": [
   12,
   29,
   36,
   46,
   66,
   72,
   88,
   94,
   98,
   116,
   129,
   140,
   146,
   154,
   165,
   177,
   200,
   211
  ]
 },
 "nbformat": 4,
 "nbformat_minor": 5
}