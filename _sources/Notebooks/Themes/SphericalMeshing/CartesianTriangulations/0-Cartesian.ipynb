{
 "cells": [
  {
   "cell_type": "markdown",
   "id": "federal-wilderness",
   "metadata": {},
   "source": [
    "# Cartesian Meshes\n",
    "\n",
    "  - [Ex1-Cartesian-Triangulations](Ex1-Cartesian-Triangulations.md)\n",
    "  - [Ex2-CartesianGrids.md](Ex2-CartesianGrids.md)\n",
    "  - [Ex3-Interpolation.md](Ex3-Interpolation.md)\n",
    "  - [Ex4-Gradients.md](Ex4-Gradients.md)\n",
    "  - [Ex5-Smoothing.md](Ex5-Smoothing.md)\n",
    "  - [Ex6-Scattered-Data.md](Ex6-Scattered-Data.md)\n",
    "  - [Ex7-Refinement-of-Triangulations.md](Ex7-Refinement-of-Triangulations.md)\n",
    "  - [Ex8-Spline-Tension.md](Ex8-Spline-Tension.md)\n",
    "  - [Ex9-Voronoi-Diagram.md](Ex9-Voronoi-Diagram.md)"
   ]
  },
  {
   "cell_type": "code",
   "execution_count": null,
   "id": "through-morris",
   "metadata": {},
   "outputs": [],
   "source": []
  },
  {
   "cell_type": "markdown",
   "id": "spoken-sculpture",
   "metadata": {},
   "source": [
    "```{toctree}\n",
    ":hidden:\n",
    ":titlesonly:\n",
    "\n",
    "\n",
    "Ex1-Cartesian-Triangulations\n",
    "Ex2-CartesianGrids\n",
    "Ex3-Interpolation\n",
    "Ex4-Gradients\n",
    "Ex5-Smoothing\n",
    "Ex6-Scattered-Data\n",
    "Ex7-Refinement-of-Triangulations\n",
    "Ex8-Spline-Tension\n",
    "Ex9-Voronoi-Diagram\n",
    "```"
   ]
  }
 ],
 "metadata": {
  "jupytext": {
   "text_representation": {
    "extension": ".md",
    "format_name": "myst",
    "format_version": 0.12,
    "jupytext_version": "1.6.0"
   }
  },
  "kernelspec": {
   "display_name": "Python 3",
   "language": "python",
   "name": "python3"
  },
  "language_info": {
   "codemirror_mode": {
    "name": "ipython",
    "version": 3
   },
   "file_extension": ".py",
   "mimetype": "text/x-python",
   "name": "python",
   "nbconvert_exporter": "python",
   "pygments_lexer": "ipython3",
   "version": "3.7.10"
  },
  "source_map": [
   12,
   26,
   28
  ]
 },
 "nbformat": 4,
 "nbformat_minor": 5
}