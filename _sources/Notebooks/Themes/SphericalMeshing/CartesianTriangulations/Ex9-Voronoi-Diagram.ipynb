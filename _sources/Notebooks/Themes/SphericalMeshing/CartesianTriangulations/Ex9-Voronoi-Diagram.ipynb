{
 "cells": [
  {
   "cell_type": "markdown",
   "id": "88139e9a",
   "metadata": {},
   "source": [
    "# Example 9 - Constructing the Voronoi diagram\n",
    "\n",
    "The dual of a Delaunay triangulation is its Voronoi diagram. Stripy can efficiently calculate the voronoi points from a triangulation and, optionally, build the Voronoi regions for you.\n",
    "\n",
    "## Contents\n",
    "\n",
    "- [Voronoi points](#Voronoi-points)\n",
    "- [Voronoi regions](#Voronoi-regions)"
   ]
  },
  {
   "cell_type": "code",
   "execution_count": null,
   "id": "08cbb9e6",
   "metadata": {},
   "outputs": [],
   "source": [
    "import numpy as np\n",
    "import stripy\n",
    "import matplotlib.pyplot as plt\n",
    "\n",
    "%matplotlib inline"
   ]
  },
  {
   "cell_type": "code",
   "execution_count": null,
   "id": "9aacfab7",
   "metadata": {},
   "outputs": [],
   "source": [
    "import stripy as stripy\n",
    "\n",
    "xmin = 0.0\n",
    "xmax = 10.0\n",
    "ymin = 0.0\n",
    "ymax = 10.0\n",
    "extent = [xmin, xmax, ymin, ymax]\n",
    "\n",
    "spacingX = 0.5\n",
    "spacingY = 0.5\n",
    "\n",
    "## Set up a coarse mesh for visual clarity\n",
    "\n",
    "mesh = stripy.cartesian_meshes.elliptical_mesh(extent, spacingX, spacingY)"
   ]
  },
  {
   "cell_type": "code",
   "execution_count": null,
   "id": "9b56c210",
   "metadata": {},
   "outputs": [],
   "source": [
    "fig = plt.figure(figsize=(10, 8), facecolor=\"none\")\n",
    "\n",
    "ax = fig.add_subplot(111, title=\"Delaunay triangulation\")\n",
    "ax.axis('off')\n",
    "ax.triplot(mesh.x, mesh.y, mesh.simplices, c='LightGrey', zorder=1)\n",
    "ax.scatter(mesh.x, mesh.y, c='C0', marker='.', zorder=2)\n",
    "\n",
    "plt.show()"
   ]
  },
  {
   "cell_type": "markdown",
   "id": "32527a66",
   "metadata": {},
   "source": [
    "## Voronoi points\n",
    "\n",
    "A voronoi point (or circumcentre) exists for every triangle in the mesh. They are calculated by finding a constant radius (the circumradius) that is shared between each point in the triangle. Depending on the mesh, some voronoi points will reside outside the area contained within a triangle.\n",
    "\n",
    "To calculate the Voronoi points from the mesh, use the `voronoi_points` method. This method may optionally return the circumradius, signed triangle area, or aspect ratio for each voronoi point."
   ]
  },
  {
   "cell_type": "code",
   "execution_count": null,
   "id": "266b7ea3",
   "metadata": {},
   "outputs": [],
   "source": [
    "vx, vy = mesh.voronoi_points()\n",
    "\n",
    "\n",
    "fig = plt.figure(figsize=(10, 8), facecolor=\"none\")\n",
    "\n",
    "ax = fig.add_subplot(111, title=\"Delaunay triangulation + Voronoi points\")\n",
    "ax.axis('off')\n",
    "ax.triplot(mesh.x, mesh.y, mesh.simplices, c='LightGrey', zorder=1)\n",
    "ax.scatter(mesh.x, mesh.y, c='C0', marker='.', zorder=2)\n",
    "ax.scatter(vx, vy, c='C1', marker='*', zorder=3)\n",
    "\n",
    "plt.show()"
   ]
  },
  {
   "cell_type": "markdown",
   "id": "ed35d3fe",
   "metadata": {},
   "source": [
    "## Voronoi regions\n",
    "\n",
    "Often it is desirable to obtain the corresponding region enclosed by voronoi points. We can easily find the line segments connecting each voronoi point by retrieving the neighbour simplices."
   ]
  },
  {
   "cell_type": "code",
   "execution_count": null,
   "id": "c71240e4",
   "metadata": {},
   "outputs": [],
   "source": [
    "neighbours = mesh.neighbour_simplices()\n",
    "\n",
    "circumcentres = np.column_stack([vx, vy])\n",
    "voronoi_edges = circumcentres[neighbours]\n",
    "voronoi_edges[neighbours == -1] = np.nan # remove edges at infinity\n",
    "\n",
    "\n",
    "lines = []\n",
    "lines.extend(zip(circumcentres, voronoi_edges[:,0,:]))\n",
    "lines.extend(zip(circumcentres, voronoi_edges[:,1,:]))\n",
    "lines.extend(zip(circumcentres, voronoi_edges[:,2,:]))"
   ]
  },
  {
   "cell_type": "code",
   "execution_count": null,
   "id": "04e43c47",
   "metadata": {},
   "outputs": [],
   "source": [
    "# Plot it\n",
    "from matplotlib.collections import LineCollection\n",
    "\n",
    "linesC = LineCollection(lines, edgecolor='k')\n",
    "\n",
    "fig = plt.figure(figsize=(10, 8), facecolor=\"none\")\n",
    "ax = fig.add_subplot(111, title='Voronoi diagram')\n",
    "ax.axis('off')\n",
    "ax.scatter(mesh.x, mesh.y, c='C0', marker='.', zorder=2)\n",
    "ax.scatter(vx, vy, c='C1', marker='*', zorder=3)\n",
    "ax.add_collection(linesC)\n",
    "\n",
    "plt.show()"
   ]
  },
  {
   "cell_type": "markdown",
   "id": "3e659571",
   "metadata": {},
   "source": [
    "Looks good! But in order to find which voronoi points belong to a region, we need to iterate through all of the triangles. Since each vertex in the Delaunay represents a voronoi \"site\", we can accumulate all of the circumcentres into a list and sort them using `voronoi_points_and_regions`."
   ]
  },
  {
   "cell_type": "code",
   "execution_count": null,
   "id": "40936fe6",
   "metadata": {},
   "outputs": [],
   "source": [
    "vx, vy, regions = mesh.voronoi_points_and_regions()\n",
    "\n",
    "\n",
    "linesC = LineCollection(lines, edgecolor='k')\n",
    "\n",
    "fig = plt.figure(figsize=(10, 8), facecolor=\"none\")\n",
    "ax = fig.add_subplot(111, title='Voronoi diagram')\n",
    "ax.axis('off')\n",
    "ax.scatter(mesh.x, mesh.y, c='C0', marker='.', zorder=2)\n",
    "ax.scatter(vx, vy, c='C1', marker='*', zorder=3)\n",
    "ax.add_collection(linesC)\n",
    "\n",
    "# highlight specific region\n",
    "r = 1\n",
    "region = regions[r]\n",
    "\n",
    "# iterate through region and connect up the points\n",
    "for i in range(len(region)):\n",
    "    i0 = region[i - 1]\n",
    "    i1 = region[i]\n",
    "\n",
    "    xx = [vx[i0], vx[i1]]\n",
    "    yy = [vy[i0], vy[i1]]\n",
    "    ax.plot(xx, yy, c='r', linewidth=5)"
   ]
  }
 ],
 "metadata": {
  "jupytext": {
   "text_representation": {
    "extension": ".md",
    "format_name": "myst",
    "format_version": 0.12,
    "jupytext_version": "1.6.0"
   }
  },
  "kernelspec": {
   "display_name": "Python 3",
   "language": "python",
   "name": "python3"
  },
  "source_map": [
   12,
   23,
   31,
   48,
   57,
   65,
   78,
   84,
   98,
   112,
   116
  ]
 },
 "nbformat": 4,
 "nbformat_minor": 5
}