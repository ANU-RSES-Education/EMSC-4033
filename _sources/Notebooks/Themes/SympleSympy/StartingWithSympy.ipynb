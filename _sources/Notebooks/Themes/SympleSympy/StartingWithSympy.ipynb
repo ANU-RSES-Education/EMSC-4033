{
 "cells": [
  {
   "cell_type": "markdown",
   "id": "31f99c86",
   "metadata": {},
   "source": [
    "# Getting started with `sympy`\n",
    "\n",
    "The package `sympy` adds symbolic mathematical manipulation to the python ecosystem. Like other computational \n",
    "algebra packages, it allows you to write expressions, simplify them, differentiate them and make substitutions.\n",
    "Sympy is relatively lightweight and is completely open source so it is quite an attractive starting point if you \n",
    "need to do some straightforward manipulations. \n",
    "\n",
    "It is possible to have `sympy` automatically generate code that you can include in other programs and, if you\n",
    "are very ambitious, you can build in `sympy` as a library into your own code !\n",
    "\n",
    "The documentation for `sympy` does assume some familiarity with computational algebra packages, you can\n",
    "find it here [https://docs.sympy.org/latest/index.html](https://docs.sympy.org/latest/index.html). \n",
    "\n",
    "This is a quick summary of some things that a symbolic algebra module can give you"
   ]
  },
  {
   "cell_type": "code",
   "execution_count": null,
   "id": "c3565d54",
   "metadata": {},
   "outputs": [],
   "source": [
    "import sympy\n",
    "import math\n",
    "import numpy as np"
   ]
  },
  {
   "cell_type": "markdown",
   "id": "8b309cf2",
   "metadata": {},
   "source": [
    "## Symbols\n",
    "\n",
    "Symbols are the building blocks of expressions and are defined like this"
   ]
  },
  {
   "cell_type": "code",
   "execution_count": null,
   "id": "ff51cddb",
   "metadata": {},
   "outputs": [],
   "source": [
    "from sympy.core.symbol import Symbol\n",
    "\n",
    "X = Symbol('x')\n",
    "Y = Symbol('y')\n",
    "psi = Symbol('\\psi')\n",
    "\n",
    "X + Y + psi"
   ]
  },
  {
   "cell_type": "markdown",
   "id": "ded749dc",
   "metadata": {},
   "source": [
    "## Mathematical Functions\n",
    "\n",
    "Symbols can be built into expressions using a collection of (the usual) mathematical functions and operators"
   ]
  },
  {
   "cell_type": "code",
   "execution_count": null,
   "id": "8e3a4e8c",
   "metadata": {},
   "outputs": [],
   "source": [
    "S = sympy.sqrt(X)\n",
    "S"
   ]
  },
  {
   "cell_type": "code",
   "execution_count": null,
   "id": "b61893cd",
   "metadata": {},
   "outputs": [],
   "source": [
    "phi = sympy.cos(X)**2 + sympy.sin(X)**2\n",
    "phi"
   ]
  },
  {
   "cell_type": "code",
   "execution_count": null,
   "id": "174aeb4e",
   "metadata": {
    "tags": [
     "raises-exception"
    ]
   },
   "outputs": [],
   "source": [
    "# But not ...\n",
    "\n",
    "np.sin(S)"
   ]
  },
  {
   "cell_type": "code",
   "execution_count": null,
   "id": "02106e88",
   "metadata": {},
   "outputs": [],
   "source": [
    "# and not ...\n",
    "\n",
    "math.sin(S)"
   ]
  },
  {
   "cell_type": "markdown",
   "id": "6d6964b8",
   "metadata": {},
   "source": [
    "## Simplification and Subsitution\n",
    "\n",
    "Since we are working with abstract symbols, we can simplify expressions but we cannot, in general, evaluate them \n",
    "unless we subsitute values for the symbols:"
   ]
  },
  {
   "cell_type": "code",
   "execution_count": null,
   "id": "0db65f34",
   "metadata": {},
   "outputs": [],
   "source": [
    "phi.simplify()"
   ]
  },
  {
   "cell_type": "code",
   "execution_count": null,
   "id": "8bd6f047",
   "metadata": {},
   "outputs": [],
   "source": [
    "S.subs(X, 8)"
   ]
  },
  {
   "cell_type": "code",
   "execution_count": null,
   "id": "47503837",
   "metadata": {},
   "outputs": [],
   "source": [
    "S.subs(X, -8)"
   ]
  },
  {
   "cell_type": "code",
   "execution_count": null,
   "id": "9e60265b",
   "metadata": {
    "tags": [
     "raises-exception"
    ]
   },
   "outputs": [],
   "source": [
    "np.sqrt(-8)"
   ]
  },
  {
   "cell_type": "markdown",
   "id": "99180f98",
   "metadata": {},
   "source": [
    "## Differentiation / Integration"
   ]
  },
  {
   "cell_type": "code",
   "execution_count": null,
   "id": "66a8ffa3",
   "metadata": {},
   "outputs": [],
   "source": [
    "Ds = S.diff(X)\n",
    "Ds"
   ]
  },
  {
   "cell_type": "code",
   "execution_count": null,
   "id": "99068da0",
   "metadata": {},
   "outputs": [],
   "source": [
    "Ds.integrate(X)"
   ]
  },
  {
   "cell_type": "code",
   "execution_count": null,
   "id": "ab608289",
   "metadata": {},
   "outputs": [],
   "source": [
    "Ds.integrate((X,2,3))"
   ]
  },
  {
   "cell_type": "code",
   "execution_count": null,
   "id": "c8fac91a",
   "metadata": {},
   "outputs": [],
   "source": []
  },
  {
   "cell_type": "markdown",
   "id": "05fee3e7",
   "metadata": {},
   "source": [
    "```{toctree}\n",
    ":hidden:\n",
    ":titlesonly:\n",
    "\n",
    "\n",
    "StartingWithSympy-2\n",
    "StartingWithSympy-3\n",
    "StartingWithSympy-4\n",
    "```"
   ]
  }
 ],
 "metadata": {
  "jupytext": {
   "text_representation": {
    "extension": ".md",
    "format_name": "myst",
    "format_version": 0.12,
    "jupytext_version": "1.6.0"
   }
  },
  "kernelspec": {
   "display_name": "Python 3",
   "language": "python",
   "name": "python3"
  },
  "source_map": [
   12,
   29,
   33,
   39,
   47,
   53,
   58,
   63,
   71,
   75,
   82,
   86,
   90,
   94,
   98,
   102,
   107,
   111,
   115,
   117
  ]
 },
 "nbformat": 4,
 "nbformat_minor": 5
}