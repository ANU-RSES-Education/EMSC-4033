{
 "cells": [
  {
   "cell_type": "markdown",
   "id": "ebab35f1",
   "metadata": {},
   "source": [
    "# The biharmonic equation for Stokes flow\n",
    "\n",
    "$$\\nabla^4 \\psi = -{\\rm Ra} \\frac{\\partial T}{\\partial x_1}$$\n",
    "   \n",
    "\n",
    "$$\\nabla^4 \\equiv \\nabla^2 ( \\nabla ^2) \\equiv \n",
    "                    \\left( \\frac{\\partial ^4}{\\partial x_1^4} + \n",
    "                    2 \\frac{\\partial ^2}{\\partial x_1^2} \\frac{\\partial ^2}{\\partial x_2^2} +\n",
    "                    \\frac{\\partial ^4}{\\partial x_2^4} \\right)$$ \n",
    "                    \n",
    "                    \n",
    "\n",
    "Solutions take the form:\n",
    "\n",
    "  - $ \\psi_0 = a \\sin k x \\cosh k y + b \\sin k x \\sinh k y $ \n",
    "  - $ \\psi_1 = c y \\sin k x \\cosh k y + d y \\sin k x \\sinh k y$"
   ]
  },
  {
   "cell_type": "code",
   "execution_count": null,
   "id": "0c87017d",
   "metadata": {},
   "outputs": [],
   "source": [
    "import sympy\n",
    "import math\n",
    "import numpy as np"
   ]
  },
  {
   "cell_type": "markdown",
   "id": "66a6fc9b",
   "metadata": {},
   "source": [
    "## Symbolic approach"
   ]
  },
  {
   "cell_type": "code",
   "execution_count": null,
   "id": "33eb4bff",
   "metadata": {},
   "outputs": [],
   "source": [
    "from sympy.core.symbol import Symbol\n",
    "from sympy.core.function import Function\n",
    "\n",
    "x       = Symbol('x')\n",
    "y       = Symbol('y')\n",
    "k       = Symbol('k', positive=True)\n",
    "\n",
    "A       = Symbol('A')\n",
    "B       = Symbol('B')\n",
    "C       = Symbol('C')\n",
    "D       = Symbol('D')\n",
    "\n",
    "Ra      = Symbol('Ra', positive=True)\n",
    "psi     = Function('psi')\n",
    "T       = Function('T')\n",
    "\n",
    "# Potential solution\n",
    "\n",
    "PSI1 = A * sympy.sin(k*x) * sympy.cosh(k*y) + B * sympy.sin(k*x) * sympy.sinh(k*y) \n",
    "PSI1"
   ]
  },
  {
   "cell_type": "markdown",
   "id": "0bad6867",
   "metadata": {},
   "source": [
    "Define the biharmonic operator and the biharmonic equation"
   ]
  },
  {
   "cell_type": "code",
   "execution_count": null,
   "id": "180bc549",
   "metadata": {},
   "outputs": [],
   "source": [
    "BH = psi(x,y).diff(x,4) + 2 * psi(x,y).diff((x,2),(y,2)) + psi(x,y).diff(y,4) \n",
    "eq1=sympy.Eq(BH, 0)\n",
    "eq2=sympy.Eq(BH, Ra*T(x,y).diff(x))"
   ]
  },
  {
   "cell_type": "markdown",
   "id": "14c725b3",
   "metadata": {},
   "source": [
    "Substitute the potential solution and verify that it is an eigenfunction of $\\nabla^4$"
   ]
  },
  {
   "cell_type": "code",
   "execution_count": null,
   "id": "41c9b176",
   "metadata": {},
   "outputs": [],
   "source": [
    "BH1 = BH.replace(psi(x,y), PSI1)\n",
    "# This is too complicated to simplify in this form ... (try it !)\n",
    "# BH1.simplify()"
   ]
  },
  {
   "cell_type": "code",
   "execution_count": null,
   "id": "d9683858",
   "metadata": {},
   "outputs": [],
   "source": [
    "BH2 = BH1.doit().simplify()\n",
    "(BH2 / PSI1).simplify()"
   ]
  },
  {
   "cell_type": "markdown",
   "id": "22a01fb3",
   "metadata": {},
   "source": [
    "There is another pair of solutions, $y * \\psi_0$"
   ]
  },
  {
   "cell_type": "code",
   "execution_count": null,
   "id": "3b639f7e",
   "metadata": {},
   "outputs": [],
   "source": [
    "PSI2 = y * PSI1\n",
    "\n",
    "BH1 = BH.replace(psi(x,y), PSI2).doit().simplify()\n",
    "BH2 = BH1.doit().simplify()\n",
    "(BH2 / PSI2).simplify()"
   ]
  },
  {
   "cell_type": "code",
   "execution_count": null,
   "id": "3cebd20c",
   "metadata": {},
   "outputs": [],
   "source": [
    "PSI = PSI1 + C * y * sympy.sin(k*x) * sympy.cosh(k*y) + D * y * sympy.sin(k*x) * sympy.sinh(k*y) \n",
    "PSI0 = PSI.factor().collect(sympy.cosh(k*y)).collect(sympy.sinh(k*y))\n",
    "PSI0 / sympy.sin(k*x)"
   ]
  },
  {
   "cell_type": "code",
   "execution_count": null,
   "id": "cb551713",
   "metadata": {},
   "outputs": [],
   "source": [
    "BH1 = BH.replace(psi(x,y), PSI).doit().simplify()\n",
    "BH2 = BH1.doit().simplify()\n",
    "BH3 = BH2.factor().collect(sympy.cosh(k*y)).collect(sympy.sinh(k*y))\n",
    "BH3 / sympy.sin(k*x)"
   ]
  },
  {
   "cell_type": "code",
   "execution_count": null,
   "id": "1508060a",
   "metadata": {},
   "outputs": [],
   "source": []
  }
 ],
 "metadata": {
  "jupytext": {
   "text_representation": {
    "extension": ".md",
    "format_name": "myst",
    "format_version": 0.12,
    "jupytext_version": "1.6.0"
   }
  },
  "kernelspec": {
   "display_name": "Python 3",
   "language": "python",
   "name": "python3"
  },
  "source_map": [
   12,
   31,
   35,
   39,
   60,
   64,
   68,
   72,
   78,
   81,
   85,
   93,
   99,
   106
  ]
 },
 "nbformat": 4,
 "nbformat_minor": 5
}