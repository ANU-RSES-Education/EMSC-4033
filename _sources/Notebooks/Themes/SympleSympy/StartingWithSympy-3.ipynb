{
 "cells": [
  {
   "cell_type": "markdown",
   "id": "57573ae3",
   "metadata": {},
   "source": [
    "# Using `sympy` for a PDE\n",
    "\n",
    "If we already know the form of the solution to a PDE, then there is no difference from\n",
    "the approach we just demonstrated with the simple harmonic oscillator. \n",
    "\n",
    "However, PDEs are more diverse and difficult to solve in general and it is \n",
    "very unlikely that you will be able to treat `sympy` as a black box for this.\n",
    "The documentation for the PDE solvers is here: https://docs.sympy.org/latest/modules/solvers/pde.html\n",
    "\n",
    "$$\n",
    "    \\frac{\\partial^2 u}{\\partial t^2} = c^2  \\frac{\\partial^2 u}{\\partial x^2}\n",
    "$$\n",
    "\n",
    "Let's just check to see that we can write this in the appropriate symbolic form that\n",
    "we can form the relevant derivatives"
   ]
  },
  {
   "cell_type": "code",
   "execution_count": null,
   "id": "6a1293e1",
   "metadata": {},
   "outputs": [],
   "source": [
    "import sympy\n",
    "import math\n",
    "import numpy as np"
   ]
  },
  {
   "cell_type": "markdown",
   "id": "4dee7c15",
   "metadata": {},
   "source": [
    "## Symbolic approach"
   ]
  },
  {
   "cell_type": "code",
   "execution_count": null,
   "id": "3c3af37b",
   "metadata": {},
   "outputs": [],
   "source": [
    "from sympy.core.symbol import Symbol\n",
    "from sympy.core.function import Function\n",
    "\n",
    "t     = Symbol('t')\n",
    "x     = Symbol('x')\n",
    "c     = Symbol('c', positive=True)\n",
    "omega = Symbol('omega', positive=True)\n",
    "k     = Symbol('k', positive=True)\n",
    "U     = Function('U')\n",
    "\n",
    "# Potential solution\n",
    "X = sympy.exp(-sympy.I * omega * t -sympy.I * k * x)\n",
    "X"
   ]
  },
  {
   "cell_type": "code",
   "execution_count": null,
   "id": "33bd6f8c",
   "metadata": {},
   "outputs": [],
   "source": [
    "F = U(t,x).diff(t,2) -  c**2 * U(t,x).diff(x,2)\n",
    "eq=sympy.Eq(F, 0)\n",
    "eq"
   ]
  },
  {
   "cell_type": "code",
   "execution_count": null,
   "id": "0e39aaaa",
   "metadata": {},
   "outputs": [],
   "source": [
    "eq=sympy.Eq(F, 0)\n",
    "eq"
   ]
  },
  {
   "cell_type": "code",
   "execution_count": null,
   "id": "1bd7898e",
   "metadata": {},
   "outputs": [],
   "source": [
    "eq2 = eq.replace(U(t,x), X).simplify()\n",
    "eq2"
   ]
  },
  {
   "cell_type": "code",
   "execution_count": null,
   "id": "31788578",
   "metadata": {},
   "outputs": [],
   "source": [
    "sympy.solve(eq2, k)"
   ]
  },
  {
   "cell_type": "code",
   "execution_count": null,
   "id": "7701d490",
   "metadata": {},
   "outputs": [],
   "source": [
    "eq2.subs(k, omega/c )"
   ]
  }
 ],
 "metadata": {
  "jupytext": {
   "text_representation": {
    "extension": ".md",
    "format_name": "myst",
    "format_version": 0.12,
    "jupytext_version": "1.6.0"
   }
  },
  "kernelspec": {
   "display_name": "Python 3",
   "language": "python",
   "name": "python3"
  },
  "source_map": [
   12,
   30,
   34,
   38,
   54,
   60,
   65,
   70,
   74
  ]
 },
 "nbformat": 4,
 "nbformat_minor": 5
}