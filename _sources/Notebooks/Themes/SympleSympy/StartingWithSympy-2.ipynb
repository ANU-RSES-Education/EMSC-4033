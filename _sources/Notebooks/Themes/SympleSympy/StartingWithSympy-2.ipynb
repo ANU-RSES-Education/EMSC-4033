{
 "cells": [
  {
   "cell_type": "markdown",
   "id": "ba8592d7",
   "metadata": {},
   "source": [
    "# Using `sympy` for ODEs\n",
    "\n",
    "We can use the capacity in `sympy` to differentiate symbolic expressions for simple verification of solutions of an ODE or PDE.\n",
    "For ODEs, there is an extensive set of documentation that deals with finding sets of solutions: \n",
    "https://docs.sympy.org/latest/modules/solvers/ode.html#ode-docs.\n",
    "\n",
    "Often, however, we are verifying a solution we know or suspect to have a certain form and we simply\n",
    "need `sympy` to make sure there are no mistakes. \n",
    "\n",
    "Let's begin with a simple harmonic oscillator:\n",
    "\n",
    "$$\n",
    "    \\frac{d^2 \\theta}{d t^2} = -k \\theta \n",
    "$$\n",
    "\n",
    "which we expect to have solutions like \n",
    "\n",
    "$$ \\theta = A \\cos(\\omega t + \\phi) $$\n",
    "\n",
    "Can we verify these solutions using symbolic manipulation ?"
   ]
  },
  {
   "cell_type": "code",
   "execution_count": null,
   "id": "c31b889d",
   "metadata": {},
   "outputs": [],
   "source": [
    "import sympy\n",
    "import math\n",
    "import numpy as np"
   ]
  },
  {
   "cell_type": "markdown",
   "id": "81715f53",
   "metadata": {},
   "source": [
    "## Symbolic approach"
   ]
  },
  {
   "cell_type": "code",
   "execution_count": null,
   "id": "97d1e7bd",
   "metadata": {},
   "outputs": [],
   "source": [
    "from sympy.core.symbol import Symbol\n",
    "\n",
    "t = Symbol('t')\n",
    "A = Symbol('A')\n",
    "\n",
    "omega = Symbol('omega', positive=True)\n",
    "phi = Symbol('phi')"
   ]
  },
  {
   "cell_type": "code",
   "execution_count": null,
   "id": "c815c47f",
   "metadata": {},
   "outputs": [],
   "source": [
    "theta = A * sympy.cos(omega * t + phi)"
   ]
  },
  {
   "cell_type": "markdown",
   "id": "72b460ad",
   "metadata": {},
   "source": [
    "Let's now check to see whether this form of theta is an eigenfunction of the ODE"
   ]
  },
  {
   "cell_type": "code",
   "execution_count": null,
   "id": "80732586",
   "metadata": {},
   "outputs": [],
   "source": [
    "theta.diff(t,2) / theta"
   ]
  },
  {
   "cell_type": "markdown",
   "id": "5e53fe4d",
   "metadata": {},
   "source": [
    "So, yes, this satisfies the equation subject to additional information needed to determine\n",
    "$\\phi$. The value of $\\omega$ is $\\sqrt{k}$.\n",
    "\n",
    "## Use of the `sympy` equation module (`Eq`)\n",
    "\n",
    "If we tell sympy that we have an equation, there are tools we can use to solve it"
   ]
  },
  {
   "cell_type": "code",
   "execution_count": null,
   "id": "7408aea8",
   "metadata": {},
   "outputs": [],
   "source": [
    "Theta = sympy.Function(\"Theta\")\n",
    "\n",
    "eq=sympy.Eq(Theta(t).diff(t,2) + omega**2 * Theta(t), 0)\n",
    "eq"
   ]
  },
  {
   "cell_type": "code",
   "execution_count": null,
   "id": "543e5e04",
   "metadata": {},
   "outputs": [],
   "source": [
    "sol=sympy.dsolve(eq,Theta(t)).rhs\n",
    "display(sol)\n",
    "display(sol.free_symbols)\n",
    "c1,c2 = list(sol.free_symbols)[0], list(sol.free_symbols)[1]\n",
    "display(c1, c2)"
   ]
  },
  {
   "cell_type": "code",
   "execution_count": null,
   "id": "55edba27",
   "metadata": {},
   "outputs": [],
   "source": [
    "myform = A * sympy.cos(omega * t + phi)\n",
    "myform"
   ]
  },
  {
   "cell_type": "code",
   "execution_count": null,
   "id": "64737fe0",
   "metadata": {},
   "outputs": [],
   "source": [
    "sympy.expand_trig(myform)"
   ]
  },
  {
   "cell_type": "code",
   "execution_count": null,
   "id": "899a22ba",
   "metadata": {},
   "outputs": [],
   "source": [
    "their_form = sol.subs([(c1, -A * sympy.sin(phi)), (c2, A * sympy.cos(phi))])\n",
    "their_form"
   ]
  },
  {
   "cell_type": "code",
   "execution_count": null,
   "id": "57ca58b0",
   "metadata": {},
   "outputs": [],
   "source": [
    "(myform - their_form).simplify()"
   ]
  },
  {
   "cell_type": "code",
   "execution_count": null,
   "id": "1aced733",
   "metadata": {},
   "outputs": [],
   "source": [
    "# Check to see if they are (exactly) equivalent\n",
    "\n",
    "myform.equals(their_form)"
   ]
  }
 ],
 "metadata": {
  "jupytext": {
   "text_representation": {
    "extension": ".md",
    "format_name": "myst",
    "format_version": 0.12,
    "jupytext_version": "1.6.0"
   }
  },
  "kernelspec": {
   "display_name": "Python 3",
   "language": "python",
   "name": "python3"
  },
  "source_map": [
   12,
   35,
   39,
   43,
   53,
   55,
   59,
   61,
   70,
   77,
   85,
   90,
   94,
   99,
   103
  ]
 },
 "nbformat": 4,
 "nbformat_minor": 5
}