{
 "cells": [
  {
   "cell_type": "markdown",
   "id": "continent-gothic",
   "metadata": {},
   "source": [
    "# An introduction to Version Control pt 2\n",
    "\n",
    "  > Version control is good for the soul\n",
    "  \n",
    "## Some setup is required\n",
    "\n",
    "We can run all this from the notebook (though perhaps it is easier in the terminal)\n",
    "\n",
    "```bash\n",
    "git config --global credential.helper store\n",
    "git config --global user.email \"profdiablo@underworldcode.org\"\n",
    "git config --global user.name  \"profdiablo\"\n",
    "```\n",
    "\n",
    "We also need to do one operation (in the terminal) that needs a password.\n",
    "The obvious thing is to try to obtain a copy of a private repository from our\n",
    "shared space ...\n",
    "\n",
    "## How do we get a copy of the information on github ? \n",
    "\n",
    "We can 'download' the sandbox repository to a local directory using the following command.\n",
    "(Change to the relevant directory as needed)\n",
    "\n",
    "```bash\n",
    "cd /home/jovyan/VIEPS-PYE/Notebooks/Introduction2VersionControl\n",
    "git clone https://github.com/vieps-pye-class-2019/shared-sandbox.git \n",
    "```\n",
    "\n",
    "Use the **GIT > Open Terminal** menu option above to make this work."
   ]
  },
  {
   "cell_type": "code",
   "execution_count": 1,
   "id": "exterior-minute",
   "metadata": {},
   "outputs": [],
   "source": [
    "%%sh\n",
    "\n",
    "# Type your code in this cell"
   ]
  },
  {
   "cell_type": "markdown",
   "id": "electric-testing",
   "metadata": {},
   "source": [
    "Take a look to see if this worked. What files are in the `shared-sandbox` directory. \n",
    "\n",
    "```bash\n",
    "# check if it worked\n",
    "ls -a shared-sandbox\n",
    "```\n",
    "\n",
    "There should be a (hidden) directory `.git` that actually contains the database of changes, the original files and all manner of logs that allow you to replay changes and check them."
   ]
  },
  {
   "cell_type": "code",
   "execution_count": 2,
   "id": "united-hypothesis",
   "metadata": {},
   "outputs": [],
   "source": [
    "%%sh\n",
    "\n",
    "# Type your code here"
   ]
  },
  {
   "cell_type": "markdown",
   "id": "found-ethiopia",
   "metadata": {},
   "source": [
    "## Example \n",
    "\n",
    "Here is a typical run through of what we do with git. First we can ask what has been changed / added etc\n",
    "\n",
    "```bash\n",
    "git status \n",
    "```\n",
    "```text\n",
    "bash-3.2$ git status\n",
    "\n",
    "\n",
    "    On branch master\n",
    "    Your branch is up to date with 'origin/master'.\n",
    "\n",
    "    Changes not staged for commit:\n",
    "      (use \"git add <file>...\" to update what will be committed)\n",
    "      (use \"git checkout -- <file>...\" to discard changes in working directory)\n",
    "\n",
    "            modified:   README.md\n",
    "\n",
    "    Untracked files:\n",
    "      (use \"git add <file>...\" to include in what will be committed)\n",
    "\n",
    "            .ipynb_checkpoints/\n",
    "            People.txt\n",
    "\n",
    "    no changes added to commit (use \"git add\" and/or \"git commit -a\")\n",
    "```\n",
    "\n",
    "We can ask git to start taking notice of a file that has been added:\n",
    "\n",
    "```bash\n",
    "git add People.txt --verbose\n",
    "```\n",
    "```text\n",
    "   bash-3.2$ git add People.txt --verbose \n",
    "   # but it is very quiet anyway\n",
    "```\n",
    "\n",
    "We can issue lots of git commands such as:\n",
    "\n",
    "   - `git rm`\n",
    "   - `git mv`\n",
    "   - `git add`\n",
    "   - `git help`\n",
    "   \n",
    "but when we are done telling git all about the changes we already made when we edited the files, we now tell it to take a snapshot of the state of our project and **commit** these changes. We must add a message when we make this commit and this tell us what changes we made.\n",
    "\n",
    "```bash\n",
    " git commit -m \"I have added my name to the People.txt list\"\n",
    "```\n",
    "\n",
    "```text\n",
    "    bash-3.2$ git commit -m \"I have added my name to the People.txt list\"\n",
    "    [master fdc97b1] I have added my name to the People.txt list\n",
    "     1 file changed, 7 insertions(+)\n",
    "     create mode 100644 People.txt\n",
    "```\n",
    "\n",
    "We can repeat this cycle of edit / commit as much as we like but we have not yet uploaded these changes for anyone else to see. This is done by **pushing** the changes back to the repository. This requires a network connection of course. Even if you are offline, though, it can be helpful to commit changes in little chunks with helpful messages because you can ALWAYS go back and recover **all the files in the state they were in when you made the commit**. \n",
    "\n",
    "```bash\n",
    "git push\n",
    "```\n",
    "\n",
    "```text\n",
    "    bash-3.2$ git push\n",
    "    Enumerating objects: 4, done.\n",
    "    Counting objects: 100% (4/4), done.\n",
    "    Delta compression using up to 8 threads\n",
    "    Compressing objects: 100% (3/3), done.\n",
    "    Writing objects: 100% (3/3), 447 bytes | 447.00 KiB/s, done.\n",
    "    Total 3 (delta 0), reused 0 (delta 0)\n",
    "    To https://github.com/vieps-pye-class-2019/shared-sandbox.git\n",
    "       242d062..fdc97b1  master -> master\n",
    "```"
   ]
  },
  {
   "cell_type": "code",
   "execution_count": 3,
   "id": "hollywood-germany",
   "metadata": {},
   "outputs": [
    {
     "name": "stdout",
     "output_type": "stream",
     "text": [
      "usage: git [--version] [--help] [-C <path>] [-c <name>=<value>]\r\n",
      "           [--exec-path[=<path>]] [--html-path] [--man-path] [--info-path]\r\n",
      "           [-p | --paginate | -P | --no-pager] [--no-replace-objects] [--bare]\r\n",
      "           [--git-dir=<path>] [--work-tree=<path>] [--namespace=<name>]\r\n",
      "           [--super-prefix=<path>] [--config-env=<name>=<envvar>]\r\n",
      "           <command> [<args>]\r\n",
      "\r\n",
      "These are common Git commands used in various situations:\r\n",
      "\r\n",
      "start a working area (see also: git help tutorial)\r\n",
      "   clone             Clone a repository into a new directory\r\n",
      "   init              Create an empty Git repository or reinitialize an existing one\r\n",
      "\r\n",
      "work on the current change (see also: git help everyday)\r\n",
      "   add               Add file contents to the index\r\n",
      "   mv                Move or rename a file, a directory, or a symlink\r\n",
      "   restore           Restore working tree files\r\n",
      "   rm                Remove files from the working tree and from the index\r\n",
      "   sparse-checkout   Initialize and modify the sparse-checkout\r\n",
      "\r\n",
      "examine the history and state (see also: git help revisions)\r\n",
      "   bisect            Use binary search to find the commit that introduced a bug\r\n",
      "   diff              Show changes between commits, commit and working tree, etc\r\n",
      "   grep              Print lines matching a pattern\r\n",
      "   log               Show commit logs\r\n",
      "   show              Show various types of objects\r\n",
      "   status            Show the working tree status\r\n",
      "\r\n",
      "grow, mark and tweak your common history\r\n",
      "   branch            List, create, or delete branches\r\n",
      "   commit            Record changes to the repository\r\n",
      "   merge             Join two or more development histories together\r\n",
      "   rebase            Reapply commits on top of another base tip\r\n",
      "   reset             Reset current HEAD to the specified state\r\n",
      "   switch            Switch branches\r\n",
      "   tag               Create, list, delete or verify a tag object signed with GPG\r\n",
      "\r\n",
      "collaborate (see also: git help workflows)\r\n",
      "   fetch             Download objects and refs from another repository\r\n",
      "   pull              Fetch from and integrate with another repository or a local branch\r\n",
      "   push              Update remote refs along with associated objects\r\n",
      "\r\n",
      "'git help -a' and 'git help -g' list available subcommands and some\r\n",
      "concept guides. See 'git help <command>' or 'git help <concept>'\r\n",
      "to read about a specific subcommand or concept.\r\n",
      "See 'git help git' for an overview of the system.\r\n"
     ]
    }
   ],
   "source": [
    "!git help "
   ]
  },
  {
   "cell_type": "markdown",
   "id": "complex-marker",
   "metadata": {},
   "source": [
    "## Exercise\n",
    "\n",
    "You can browse the directory in the file browser and you can add your name to the `People.txt` file. Now you should be able to commit your changes by following the pattern above:"
   ]
  },
  {
   "cell_type": "code",
   "execution_count": 4,
   "id": "vocational-following",
   "metadata": {},
   "outputs": [],
   "source": [
    "%%sh\n",
    "\n",
    "# git status etc etc "
   ]
  },
  {
   "cell_type": "markdown",
   "id": "proper-disabled",
   "metadata": {},
   "source": [
    "Discuss this as a class - does it work ? Do you expect it to work ?"
   ]
  },
  {
   "cell_type": "markdown",
   "id": "early-boulder",
   "metadata": {},
   "source": [
    "[Pt 3 - Going off on your own](3-YourOwnRepositories.ipynb)"
   ]
  },
  {
   "cell_type": "code",
   "execution_count": null,
   "id": "useful-track",
   "metadata": {},
   "outputs": [],
   "source": []
  }
 ],
 "metadata": {
  "jupytext": {
   "text_representation": {
    "extension": ".md",
    "format_name": "myst",
    "format_version": 0.12,
    "jupytext_version": "1.6.0"
   }
  },
  "kernelspec": {
   "display_name": "Python 3",
   "language": "python",
   "name": "python3"
  },
  "language_info": {
   "codemirror_mode": {
    "name": "ipython",
    "version": 3
   },
   "file_extension": ".py",
   "mimetype": "text/x-python",
   "name": "python",
   "nbconvert_exporter": "python",
   "pygments_lexer": "ipython3",
   "version": "3.7.10"
  },
  "source_map": [
   12,
   44,
   48,
   59,
   63,
   142,
   144,
   150,
   154,
   158,
   162
  ]
 },
 "nbformat": 4,
 "nbformat_minor": 5
}