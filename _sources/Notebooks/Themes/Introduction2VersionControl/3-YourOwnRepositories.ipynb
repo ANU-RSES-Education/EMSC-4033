{
 "cells": [
  {
   "cell_type": "markdown",
   "id": "49847759",
   "metadata": {},
   "source": [
    "# How to use git for yourself\n",
    "\n",
    "\n",
    "  > _I recommend this tutorial: [https://www.atlassian.com/git/tutorials/learn-git-with-bitbucket-cloud](https://www.atlassian.com/git/tutorials/learn-git-with-bitbucket-cloud) even though it focuses on bitbucket rather than github._\n",
    "\n",
    "\n",
    "We saw how git works in collaboration and also how that will cause some interesting things to happen when people work together on a set of files. The rest of this tutorial is a discussion using the team's github site to add files to our shared repository and create individual repositories. \n",
    "\n",
    "  > [https://github.com/vieps-pye-class-2019](https://github.com/vieps-pye-class-2019)\n",
    "\n",
    "Here are some of the approaches we will look at to manage shared files for our course:\n",
    "\n",
    "  - We can each have our own directory in the sandbox and keep ourselves to ourselves \n",
    "     - What issues might this cause with commit logs\n",
    "     - Can each person commit when they like ?\n",
    "     \n",
    "  - We can all make a repository of our own in the VIEPS-PYE team area\n",
    "     - How does this work in terms of collaboration on a project ?\n",
    "     - Would it be better to do more repositories and use them for a specific task ?\n",
    "     \n",
    "  - Because you all signed up for github, you also have personal repositories\n",
    "     - At the moment these are all public unless you registered as a student user\n",
    "     - Even if they are public, other people can only read them ... not change things\n",
    "     - Which is fine unless you want to collaborate. Can you see how to do that ?\n",
    "\n",
    "Think about how these approaches might be useful for you in the following cases:\n",
    "\n",
    "  - Writing a paper or report with coauthors\n",
    "  - Writing drafts of a thesis with comments from a supervisor\n",
    "  - Working on some python code in your own project\n",
    "  - Working on some python code with other people\n",
    "  \n",
    "What are the problems that are likely to come up and how do you think you might approach dealing with them ?\n",
    "\n",
    "\n",
    "## Different file types and text editing\n",
    "\n",
    "Our previous exercise in combining files showed how git tries to merge information from different version of files when it can parse the file and understand what it actually is. The tools that it uses are reasonable in the case of text files but largely meaningless in the case of binary files (like images, .docx files, etc). Git can only work out that there is a new version of the file and complain, it cannot try to merge. You can tell git to ignore specific types of files (using a `.gitignore` file in the project) and if you are planning a project with a lot of image files you might want to read about it [here](https://www.atlassian.com/git/tutorials/saving-changes/gitignore).\n",
    "\n",
    "Line-by-line comparison is also not ideal for writing code where **code-blocks** span multiple lines. Git's merging strategy may have problems if edits are made in the middle of a code block that might, in principle mess up the syntax. For example, imagine if you change a line which has a closing parenthesis for a multi-line function definition. \n",
    "\n",
    "These are issues that are avoided by \n",
    "\n",
    "  - Not trying to version inappropriate file types\n",
    "  - Making regular commits of small changes\n",
    "  - Anticipating trouble and working around it\n",
    "  - Using the other tools available in github to communicate with your collaborators and plan changes carefully.\n",
    "  - Branches (see [this page in the tutorial](https://www.atlassian.com/git/tutorials/using-branches)"
   ]
  },
  {
   "cell_type": "code",
   "execution_count": null,
   "id": "9b48e2a3",
   "metadata": {},
   "outputs": [],
   "source": []
  }
 ],
 "metadata": {
  "jupytext": {
   "text_representation": {
    "extension": ".md",
    "format_name": "myst",
    "format_version": 0.12,
    "jupytext_version": "1.6.0"
   }
  },
  "kernelspec": {
   "display_name": "Python 3",
   "language": "python",
   "name": "python3"
  },
  "source_map": [
   12,
   66
  ]
 },
 "nbformat": 4,
 "nbformat_minor": 5
}