{
 "cells": [
  {
   "cell_type": "markdown",
   "id": "b80c3381",
   "metadata": {
    "input_collapsed": true,
    "slideshow": {
     "slide_type": "slide"
    }
   },
   "source": [
    "# Partial Differential Equations of Groundwater Flow\n",
    "\n",
    "---"
   ]
  },
  {
   "cell_type": "markdown",
   "id": "4395c6c8",
   "metadata": {
    "slideshow": {
     "slide_type": "slide"
    }
   },
   "source": [
    "## How to interpret the equations\n",
    "\n",
    "If you are mathematically minded, then the groundwater flow equation by itself give you a really good feel for how the fluid works. You recognise a _diffusion equation_ and understand that it naturally comes about from a problem where the flux in some quantity is proportional to the gradient of this quantity. _(In this case, mass or volume flux is proportional to the pressure gradient. In the case of thermal diffusion, the heat flux is proportional to the temperature gradient)._  You also understand how the problem becomes more complicated when the material properties vary from place to place. \n",
    "\n",
    "For the less mathematically minded, remember that the Laplace equation above is the result of writing the rate of change of the pressure as a gradient of the flux. \n",
    "\n",
    "$$ S \\frac{\\partial h}{\\partial t} + H = -\\frac{\\partial }{\\partial x} \n",
    "            \\underbrace{\\left( - K \\frac{\\partial h}{\\partial x} \\right)}_\\text{flux} $$\n",
    "                        \n",
    "Here is a simple picture to help you visualise why the gradient of the flux controls the build up of pressure _(or temperature)_: the level of fluid builds up if the rate at which fluid enters the volume (_the mass flux_), \\\\(q_i\\\\), is larger than the rate at which fluid leaves the volume, \\\\(q_o\\\\). The values of the fluxes top / bottom in this case are only different if there is a gradient in the flux (a difference between the values at two points !). The greater the difference, the faster the pressure in the volume will change.\n",
    "\n",
    "<img src=\"images/BucketFlux.png\" alt=\"Bucket\" width=\"250\">"
   ]
  },
  {
   "cell_type": "markdown",
   "id": "ccab4ff5",
   "metadata": {
    "slideshow": {
     "slide_type": "fragment"
    }
   },
   "source": [
    "If the fluxes don't change, then change of the level, \\\\(\\Delta h\\\\) in this bucket over some interval, \\\\(\\Delta t\\\\),  is just proportional to the difference between the flux out and the flux in. \n",
    "\n",
    "$$  \\;\\;\\; \\frac{\\Delta h}{\\Delta t} \\propto q_o - q_i  $$"
   ]
  },
  {
   "cell_type": "markdown",
   "id": "08555693",
   "metadata": {
    "slideshow": {
     "slide_type": "subslide"
    }
   },
   "source": [
    "## Extension to 2D and 3D\n",
    "\n",
    "The flux is a vector quantity (the flow has a specific direction), so in 2D and 3D problems, we have a **vector** balance of the flux in / out of the local volume in each direction. \n",
    "\n",
    "\n",
    "$$ S \\frac{\\partial h}{\\partial t} + H = -\\frac{\\partial }{\\partial x} \n",
    "              \\underbrace{\\left( - K \\frac{\\partial h}{\\partial x} \\right)}_\\textrm{x flux}\n",
    "              -\\frac{\\partial }{\\partial y}\n",
    "              \\left( - K \\frac{\\partial h}{\\partial y} \\right) \n",
    "               -\\frac{\\partial }{\\partial z}\n",
    "              \\left( - K \\frac{\\partial h}{\\partial z} \\right) \n",
    " $$\n",
    " \n",
    "Which simplifies to \n",
    " \n",
    "$$  S\\frac{\\partial h}{\\partial t} + H = \n",
    "    K \\left( \\frac{\\partial^2 h}{\\partial x^2} + \\frac{\\partial^2 h}{\\partial y^2} + \\frac{\\partial^2 h}{\\partial z^2} \\right) \\textit{ $\\longrightarrow$ (3D, isotropic groundwater flow equation)}$$\n",
    "\n",
    "\\\\( K \\\\) may not be isotropic — it can vary with direction. In fact this is often the case because the crust is formed under the influence of gravity which introduces layers and preferential directions for faults / joints. Under these circumstances, we have a **tensor** valued coefficient. Let's worry about that another time."
   ]
  },
  {
   "cell_type": "markdown",
   "id": "b224bfe9",
   "metadata": {
    "slideshow": {
     "slide_type": "slide"
    }
   },
   "source": [
    "## Finite Differences\n",
    "\n",
    "Still working backwards !!\n",
    "\n",
    "In deriving the equations above, we always think about a small volume of material, and we imagine it shrinking to an infinitessimal size. This gives us the differential equations which relate changes in some quantity to its gradients in the spatial directions and in time. \n",
    "\n",
    "_What if we don't shrink the little boxes to an infinitessimal size ?_  \n",
    "\n",
    "In that case, we get an approximate version of what would happen in the real world because we are only looking at the gradients in a few places and averaging their effects over the whole of each box. If we choose just a few boxes, then we get a very rough approximation !\n",
    "\n",
    "Look at this picture in which we pick a small number of discrete points in a line and draw boxes around each one (boxes that touch each other). \n",
    "\n",
    "<img src=\"images/BlockFlux.png\" height=160px>"
   ]
  },
  {
   "cell_type": "markdown",
   "id": "0e1e33e0",
   "metadata": {
    "slideshow": {
     "slide_type": "-"
    }
   },
   "source": [
    "$$  S \\frac{\\partial h}{\\partial t} + H = -\\frac{\\partial }{\\partial x} \n",
    "            \\underbrace{\\left( - K \\frac{\\partial h}{\\partial x} \\right)}_{q}\n",
    "$$\n",
    "\n",
    "$$  S \\frac{\\Delta h}{\\Delta t} = - K \\frac{\\Delta q}{\\Delta x}\n",
    "\\textit{$\\longrightarrow$ ( approximate rate of change )}\n",
    "$$\n",
    "\n",
    "$$  q = \\frac{\\Delta h}{\\Delta x} \\textit{$\\longrightarrow$ ( approximate flux )} $$\n",
    "\n",
    "We use \\\\(\\Delta \\\\) here to indicate that we are not going to shrink the lengths to find the infinitessimal limit, but are going to leave the boxes at a finite size. If we have some initial values of \\\\(h\\\\) at the start of the calculation, we can calculate approximate fluxes on each of the vertical planes from the expression above. That means we can compute the approximate change in \\\\(h\\\\) with time at each of the point in the diagram. \n",
    "\n",
    "We can only calculate the changes at this finite set of points, but, if we have write this into a simple computer program, we can calculate this at an awful lot of points. Let's see if it works !"
   ]
  },
  {
   "cell_type": "code",
   "execution_count": null,
   "id": "c745c32b",
   "metadata": {
    "input_collapsed": true,
    "output_collapsed": true,
    "slideshow": {
     "slide_type": "skip"
    }
   },
   "outputs": [],
   "source": [
    "import numpy as np\n",
    "import matplotlib.pyplot as plt\n",
    "%pylab inline\n",
    "\n",
    "'''\n",
    "    This is a function to calculate the gradient at a point in a long line\n",
    "    of points. You feed it coordinates (X), values (H) and - optional - \n",
    "    boundary conditions. It returns the gradient.\n",
    "'''\n",
    "\n",
    "def gradx(X, H, leftbc=None, rightbc=None):\n",
    "  \n",
    "    size = len(H)    \n",
    "    gradP = numpy.zeros(size)\n",
    "\n",
    "    gradP[0] = (H[1] - H[0]) / ( X[1] - X[0] )\n",
    "    gradP[-1] = (H[-1] - H[-2]) / (X[-1] - X[-2])\n",
    "\n",
    "    if leftbc != None:\n",
    "        gradP[0] = leftbc\n",
    "        \n",
    "    if rightbc != None:\n",
    "        gradP[-1] = rightbc \n",
    "        \n",
    "    for i in range (1, size-1):\n",
    "        gradP[i] = (H[i+1] - H[i-1]) / ( X[i+1] - X[i-1] )\n",
    "            \n",
    "    return gradP"
   ]
  },
  {
   "cell_type": "markdown",
   "id": "3c04f0c9",
   "metadata": {
    "input_collapsed": false,
    "slideshow": {
     "slide_type": "slide"
    }
   },
   "source": [
    "Let's set up a bunch of points for $P_i$ from the diagram we sketched earlier. We start making this $\\sin(x)$ since we know that the derivative should be $\\cos(x)$ and so we can easily check how well it works.\n",
    "\n",
    "<img src=\"images/BlockFlux.png\" height=160px>"
   ]
  },
  {
   "cell_type": "code",
   "execution_count": null,
   "id": "e63d79b5",
   "metadata": {
    "output_collapsed": true,
    "slideshow": {
     "slide_type": "-"
    }
   },
   "outputs": [],
   "source": [
    "import numpy\n",
    "\n",
    "xP = numpy.linspace(0,2.0*numpy.pi,100)\n",
    "hP = numpy.sin(xP)\n",
    "gradx_hP = gradx(xP,hP)\n",
    "\n",
    "pass"
   ]
  },
  {
   "cell_type": "code",
   "execution_count": null,
   "id": "561248b0",
   "metadata": {
    "input_collapsed": true
   },
   "outputs": [],
   "source": [
    "plot(xP / numpy.pi, hP)\n",
    "plot(xP / numpy.pi, numpy.cos(xP), marker='+')\n",
    "plot(xP / numpy.pi, gradx_hP, linewidth=2)"
   ]
  },
  {
   "cell_type": "code",
   "execution_count": null,
   "id": "55b86d8d",
   "metadata": {
    "slideshow": {
     "slide_type": "-"
    }
   },
   "outputs": [],
   "source": [
    "hP2 = numpy.sin(xP) + 0.1 * numpy.sin(xP*3.0)\n",
    "gradx_hP2 = gradx(xP,hP2) "
   ]
  },
  {
   "cell_type": "code",
   "execution_count": null,
   "id": "6c2cb55b",
   "metadata": {
    "input_collapsed": true
   },
   "outputs": [],
   "source": [
    "plot(xP / math.pi, hP2)\n",
    "plot(xP / math.pi, numpy.cos(xP) + 0.3 * numpy.cos(xP*3.0), marker='+')\n",
    "plot(xP / math.pi, gradx_hP2, linewidth=2)"
   ]
  },
  {
   "cell_type": "markdown",
   "id": "27427cac",
   "metadata": {
    "slideshow": {
     "slide_type": "slide"
    }
   },
   "source": [
    "How about the second derivative, since we are dealing with a diffusion equation ?"
   ]
  },
  {
   "cell_type": "code",
   "execution_count": null,
   "id": "4f174484",
   "metadata": {
    "slideshow": {
     "slide_type": "-"
    }
   },
   "outputs": [],
   "source": [
    "# The rate of change with time is proportional to the gradient of the gradient !\n",
    "\n",
    "grad2x_hP = gradx(xP,gradx_hP)\n",
    "grad2x_hP2 = gradx(xP,gradx_hP2)"
   ]
  },
  {
   "cell_type": "code",
   "execution_count": null,
   "id": "dceb9a52",
   "metadata": {
    "input_collapsed": true,
    "output_collapsed": false
   },
   "outputs": [],
   "source": [
    "f, (ax1, ax2, ax3) = plt.subplots(1, 3, sharex=True)\n",
    "f.set_size_inches(15,5)\n",
    "\n",
    "ax1.plot(xP / math.pi, hP)\n",
    "ax1.plot(xP / math.pi, -numpy.sin(xP), marker='+')\n",
    "ax1.plot(xP / math.pi, grad2x_hP, linewidth=2)\n",
    "ax1.set_title( \"Value & 2nd derivative $\\sin(x)$\")\n",
    "\n",
    "ax2.plot(xP / math.pi, hP2)\n",
    "ax2.plot(xP / math.pi, -numpy.sin(xP) - 0.9 * numpy.sin(xP*3.0), marker='+')\n",
    "ax2.plot(xP / math.pi, grad2x_hP2, linewidth=2)\n",
    "ax2.set_title( \"Value & 2nd derivative $\\sin(x) + 0.1 \\sin(3x)$\")\n",
    "\n",
    "ax3.plot(xP / math.pi, -numpy.sin(xP) - grad2x_hP, marker=\".\")\n",
    "ax3.plot(xP / math.pi, -numpy.sin(xP) - 0.9 * numpy.sin(xP*3.0) - grad2x_hP2, marker=\"x\")\n",
    "ax3.set_ylim(-0.01, 0.1) \n",
    "ax3.set_title( \"Error\")"
   ]
  },
  {
   "cell_type": "markdown",
   "id": "aac225d5",
   "metadata": {
    "slideshow": {
     "slide_type": "slide"
    }
   },
   "source": [
    "So, it seems we can calculate reasonably accurate gradients with our little-boxes approximation. We can now try to solve the time-evolution of the pressure with the same function and see what happens. \n",
    "\n",
    "**Note:** In the previous plots, errors are less than 1% in the second derivative away from the boundary but nearer 5% there. On the other hand, we haven't even tried to do a clever job of building the interpolation / derivatives."
   ]
  },
  {
   "cell_type": "code",
   "execution_count": null,
   "id": "d6bafb67",
   "metadata": {},
   "outputs": [],
   "source": [
    "xP = linspace(0,math.pi,100)\n",
    "hP = numpy.sin(xP)\n",
    "hP2 = zeros(len(xP))\n",
    "\n",
    "# random initial wavelengths\n",
    "\n",
    "for k in range(1,25):\n",
    "    hP2 = hP2 + numpy.random.rand() * numpy.sin(xP * float(k)) \n",
    "\n",
    "hP2 = hP2 / max(hP2)    \n",
    "    \n",
    "gradx_hP = gradx(xP,hP)\n",
    "gradx_hP2 = gradx(xP,hP2)\n",
    "grad2x_hP = gradx(xP,gradx_hP)\n",
    "grad2x_hP2 = gradx(xP,gradx_hP2)    \n",
    "\n",
    "deltat = 0.002\n",
    "\n",
    "f, (ax1, ax2) = plt.subplots(1, 2, sharex=True)\n",
    "f.set_size_inches(16,6)\n",
    "ax1.set_title( \"Smoothly varying\")\n",
    "ax2.set_title( \"Wildly varying\")\n",
    "\n",
    "## Timestepping loop \n",
    "\n",
    "for time in range(0,500):\n",
    "    if(time%50==0):    \n",
    "        ax1.plot(xP / math.pi,hP)\n",
    "        ax2.plot(xP / math.pi,hP2)\n",
    "\n",
    "    hP = hP + deltat * grad2x_hP\n",
    "    hP2 = hP2 + deltat * grad2x_hP2\n",
    "    \n",
    "    # Boundary conditions\n",
    "    \n",
    "    hP[0] = hP[-1] = 0.0\n",
    "    hP2[0] = hP2[-1] = 0.0\n",
    "\n",
    "    # compute new gradients    \n",
    "    gradx_hP = gradx(xP,hP)\n",
    "    gradx_hP2 = gradx(xP,hP2)\n",
    "    grad2x_hP = gradx(xP,gradx_hP)\n",
    "    grad2x_hP2 = gradx(xP,gradx_hP2)    "
   ]
  },
  {
   "cell_type": "markdown",
   "id": "ee29891b",
   "metadata": {},
   "source": [
    "We can start to obtain results which are clearly \"right\" in the sense that they evolve quantitatively the way the solutions are supposed to. They act like diffusion solutions – smoothing rapidly fluctuating (short wavelength) regions quickly."
   ]
  },
  {
   "cell_type": "markdown",
   "id": "11886714",
   "metadata": {
    "slideshow": {
     "slide_type": "slide"
    }
   },
   "source": [
    "### Harder problems\n",
    "\n",
    "What about if we let \\\\(K\\\\) vary in space ?  We can guess how this will influence the solution, but we can also try it out. \n",
    "\n",
    "**Note** in the solution below, we can also see how sensitive the answer can be to _getting the numerical representation correct._ Although this is a specialised topic, I would like you to see that these results  always need to be tested against any analytic solutions you can find as it is very easy to calculate a lot of nonsense !\n",
    "\n",
    "_Try changing \\\\(\\Delta t\\\\) and then \\\\(\\Delta x\\\\)_ – is that what you expected ?"
   ]
  },
  {
   "cell_type": "code",
   "execution_count": null,
   "id": "1b72639f",
   "metadata": {
    "slideshow": {
     "slide_type": "-"
    }
   },
   "outputs": [],
   "source": [
    "# delta x = 1/100 ... also try 1/250 \n",
    "\n",
    "xP = linspace(0,math.pi,100)  \n",
    "\n",
    "# Check out what happens if you change this value from 0.0020 to 0.0025\n",
    "deltat = 0.0025\n",
    "\n",
    "hP = numpy.sin(xP)\n",
    "K = zeros(len(xP))\n",
    "\n",
    "# random initial wavelengths\n",
    "\n",
    "for k in range(1,10,1):\n",
    "    K = K + numpy.random.rand() * numpy.sin(xP * float(k)) / k\n",
    "\n",
    "K = K - min(K)\n",
    "K = 1.0 - 0.9 * K / max(K)  \n",
    "\n",
    "gradx_hP = gradx(xP,hP)\n",
    "grad2x_hP = gradx(xP,gradx_hP*K)\n",
    "\n",
    "f, (ax1, ax2) = plt.subplots(1, 2, sharex=True)\n",
    "f.set_size_inches(16,6)\n",
    "\n",
    "ax1.plot(xP / math.pi, K, marker=\".\")\n",
    "ax1.set_title( \"Coefficient $K$ varies with position\")\n",
    "\n",
    "## Timestepping loop \n",
    "\n",
    "for time in range(0,500):\n",
    "    hP = hP + deltat * grad2x_hP\n",
    "    hP2 = hP2 + deltat * grad2x_hP2    \n",
    "\n",
    "    # Boundary conditions   \n",
    "    hP[0] = hP[-1] = 0.0\n",
    "\n",
    "    # compute new gradients    \n",
    "    gradx_hP = gradx(xP,hP)\n",
    "    grad2x_hP = gradx(xP,gradx_hP*K)\n",
    "      \n",
    "    if(time%100==0):    \n",
    "        ax2.plot(xP / math.pi,hP)"
   ]
  },
  {
   "cell_type": "code",
   "execution_count": null,
   "id": "03081e05",
   "metadata": {},
   "outputs": [],
   "source": []
  },
  {
   "cell_type": "code",
   "execution_count": null,
   "id": "9ae73369",
   "metadata": {},
   "outputs": [],
   "source": []
  }
 ],
 "metadata": {
  "jupytext": {
   "text_representation": {
    "extension": ".md",
    "format_name": "myst",
    "format_version": 0.12,
    "jupytext_version": "1.6.0"
   }
  },
  "kernelspec": {
   "display_name": "Python 3",
   "language": "python",
   "name": "python3"
  },
  "source_map": [
   14,
   20,
   35,
   42,
   64,
   80,
   96,
   133,
   139,
   154,
   162,
   171,
   179,
   183,
   194,
   217,
   223,
   267,
   271,
   281,
   330,
   334
  ]
 },
 "nbformat": 4,
 "nbformat_minor": 5
}