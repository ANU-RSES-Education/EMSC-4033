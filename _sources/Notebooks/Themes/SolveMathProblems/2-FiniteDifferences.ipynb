{
 "cells": [
  {
   "cell_type": "markdown",
   "id": "breathing-vessel",
   "metadata": {},
   "source": [
    "# Finite difference operations\n",
    "\n",
    "At the end of this notebook, you will have learned how to...\n",
    "\n",
    "1. Use finite difference approximations to derive equations.\n",
    "2. Apply this to the 2D steady-state heat equation and solve a linear system of equations.\n",
    "3. Create periodic boundary conditions to simulate lateral variations in surface temperature.\n",
    "4. (if we have time...) code your own finite difference approximation to the heat equation for variable diffusivity.\n",
    "5. Solve temperature over complex geometries imported from GoCAD."
   ]
  },
  {
   "cell_type": "code",
   "execution_count": 1,
   "id": "improved-makeup",
   "metadata": {},
   "outputs": [],
   "source": [
    "# load the appropriate python modules\n",
    "import numpy as np\n",
    "import matplotlib.pyplot as plt\n",
    "%matplotlib inline"
   ]
  },
  {
   "cell_type": "markdown",
   "id": "religious-fountain",
   "metadata": {},
   "source": [
    "## 1. Finite difference approximations\n",
    "\n",
    "Ideally, an analytical solution would be obtained by integrating this equation with a set of boundary conditions.\n",
    "Unfortunately finding a solution is not a trivial task and may only satisfy a very specific topic you are interested in solving.\n",
    "The finite difference method approximates solutions to differential equations across a discreet domain with a set of boundary conditions along the edges of this domain.\n",
    "\n",
    "<img src=\"images/fd.png\" width=\"600\">\n",
    "\n",
    "As you can gather from the above image, resolution is important.\n",
    "If $h$ is too large the solution is not very accurate, and with time time-dependence it could become *unstable*.\n",
    "\n",
    "Lets take a simple function, \\\\(f(x) = \\sin (x)\\\\). We can calculate its derivatives analytically:\n",
    "\n",
    "$$\\begin{align}\n",
    "f'(x) &= \\cos (x) \\\\\n",
    "f''(x) &= -\\sin (x)\n",
    "\\end{align}$$\n",
    "\n",
    "or we could use finite differences to approximate the derivatives...\n",
    "\n",
    "$$\\begin{align}\n",
    "f'(x) &= \\lim_{h\\to0} \\frac{f(x+h) - f(x)}{h} \\\\\n",
    "f''(x)&= \\lim_{h\\to0} \\frac{f(x+2h) - 2f(x+h) + f(x)}{h^2}\n",
    "\\end{align}$$\n",
    "\n",
    "---\n",
    "\n",
    "> **EXERCISE 1** Play around with the code below to see what happens when you change $f(x)$ and vary $h$.\n",
    "\n",
    "---"
   ]
  },
  {
   "cell_type": "code",
   "execution_count": 2,
   "id": "fourth-brisbane",
   "metadata": {},
   "outputs": [
    {
     "data": {
      "image/png": "[encoded data removed]",
      "text/plain": [
       "<Figure size 432x288 with 1 Axes>"
      ]
     },
     "metadata": {
      "filenames": {
       "image/png": "/home/runner/work/EMSC-4033/EMSC-4033/Jupyterbook/_build/jupyter_execute/Notebooks/Themes/SolveMathProblems/2-FiniteDifferences_3_0.png"
      },
      "needs_background": "light"
     },
     "output_type": "display_data"
    }
   ],
   "source": [
    "# \"Resolution\"\n",
    "#  Try a few different values  \n",
    "\n",
    "number_of_points = 150\n",
    "\n",
    "# Data\n",
    "\n",
    "x = np.linspace(0,2*np.pi,number_of_points)\n",
    "xh = np.linspace(0,2*np.pi,1000) # 1000 is more than enough to plot\n",
    "\n",
    "f = np.sin(x)\n",
    "fh = np.sin(xh)\n",
    "dfh = np.cos(xh)\n",
    "d2fh = -fh\n",
    "\n",
    "# Normalization\n",
    "h = x[1] - x[0] # use np.diff(x) if x is not uniform\n",
    "\n",
    "# First derivatives\n",
    "df = np.diff(f, 1) / h # numpy version\n",
    "for i in range(x.size-1):\n",
    "    df[i] = (f[i+1]-f[i]) / h\n",
    "\n",
    "# Second derivatives\n",
    "ddf = np.diff(f, 2) / h**2 # numpy version\n",
    "for i in range(x.size-2):\n",
    "    ddf[i] = (f[i+2]-2*f[i+1]+f[i]) / h**2\n",
    "\n",
    "# Plotting\n",
    "fig = plt.figure(1)\n",
    "ax1 = fig.add_subplot(111)\n",
    "ax1.plot(x, f, 'black', linewidth=0.0, marker=\"+\", markersize=12, label=\"f (x)\")\n",
    "ax1.plot(x[:-1], df, 'red', linewidth=0.5, marker=\"+\", markersize=12, label=\"f ' (x)\")\n",
    "ax1.plot(x[:-2], ddf, 'green', linewidth=0.5, marker=\"+\", markersize=12, label=\"f '' (x)\")\n",
    "\n",
    "ax1.plot(xh, fh, 'black', lw=2, label=\"f (x)\")\n",
    "ax1.plot(xh, dfh, 'red', lw=2, label=\"f ' (x)\")\n",
    "ax1.plot(xh, d2fh, 'green', lw=2, label=\"f '' (x)\")\n",
    "\n",
    "ax1.legend()\n",
    "plt.show()"
   ]
  },
  {
   "cell_type": "markdown",
   "id": "sublime-queue",
   "metadata": {},
   "source": [
    "The useful part of this is that we can derive an equation without knowing any calculus!\n",
    "(Not that we recommend that!)\n",
    "\n",
    "Finite difference is just one of many techniques that fall under the umbrella of *numerical modelling*.\n",
    "Finite difference works by taking the average of neighbouring nodes within the domain to calculate the value on a specific node, \\\\(N_{i,j}\\\\).\n",
    "In 2D these neighbouring nodes would be \\\\(N_{i-1,j}, N_{i,j+1}, N_{i+1,j}, N_{i,j-1} \\\\).\n",
    "\n",
    "<img src=\"images/fd_ij.png\" width=\"500\">\n",
    "\n",
    "## 2. Finite difference approximations to the heat equation (implicit scheme)\n",
    "\n",
    "The 2D heat equation is given as:\n",
    "\n",
    "$$\\rho c_p \\frac{\\partial T}{\\partial t} = \\kappa \\left( \\frac{\\partial^2 T}{\\partial x^2} + \\frac{\\partial^2 T}{\\partial y^2} \\right) + H$$\n",
    "\n",
    "where \\\\(\\rho\\\\) is density, \\\\(c_p\\\\) is specific heat capacity, \\\\(\\kappa\\\\) is the thermal diffusivity coefficient, and \\\\(H\\\\) are heat sources.\n",
    "\n",
    "There are a few different ways to average - forward, backward, and central.\n",
    "For the heat equation we are going to use the 2nd order central difference, which applied to the heat equation is:\n",
    "\n",
    "$$\\kappa \\left( \\frac{T_{i,j-1}-2T_{i,j}+T_{i,j+1}}{\\Delta x^2} + \\frac{T_{i-1,j}-2T_{i,j}+T_{i+1,j}}{\\Delta y^2} \\right) = -H$$\n",
    "\n",
    "Note that we have made \\\\(\\rho c_p \\frac{\\partial T}{\\partial t} = 0\\\\) because initially we are only going to solve this in steady-state.\n",
    "Expanding the brackets and collecting like terms ( \\\\(T_{i,j-1}, T_{i-1,j}, T_{i,j}, T_{i+1,j}, T_{i,j+1}\\\\) ) we get,\n",
    "\n",
    "$$\\left[\\kappa\\frac{T_{i,j-1}}{\\Delta y^2}\\right] + \\left[\\kappa\\frac{T_{i-1,j}}{\\Delta x^2}\\right] - \\left[\\kappa\\frac{2T_{i,j}}{\\Delta x^2} - \\kappa\\frac{2T_{i,j}}{\\Delta y^2}\\right] + \\left[\\kappa\\frac{T_{i+1,j}}{\\Delta x^2}\\right] + \\left[\\kappa\\frac{T_{i,j+1}}{\\Delta y^2}\\right] = -H_{i,j}$$\n",
    "\n",
    "\\\\(H\\\\) can be constant or spatially variable, \\\\(H_{i,j}\\\\), it doesn't matter."
   ]
  },
  {
   "cell_type": "markdown",
   "id": "early-expansion",
   "metadata": {},
   "source": [
    "### 2.1 Solving a system of linear equations\n",
    "\n",
    "You may have noticed that finite differences are linear approximations of a derivative.\n",
    "Linear systems of equations are, it just so happens, very easy to solve using a computer!\n",
    "The way to go about this is to build a matrices in the form,\n",
    "\n",
    "$$\\mathbf{A x = b}$$\n",
    "\n",
    "- \\\\( \\mathbf{A} \\\\) is a square matrix, of shape `[n,n]`, that contains the finite difference operations.\n",
    "- \\\\( \\mathbf{b} \\\\) contains our heat source terms, \\\\(H \\\\), and has a shape `[1,n]`.\n",
    "- \\\\( \\mathbf{x} \\\\) is the temperature matrix, of shape `[1,n]`, for which we wish to solve.\n",
    "\n",
    "Here is a rectangular grid of nodes that we want to compute some finite difference operators on...\n",
    "\n",
    "<img src=\"images/fd_nodes.png\" width=\"500\">\n",
    "\n",
    "Using the finite difference approximation for constant diffusivity, $\\kappa$, the matrices will look like:\n",
    "\n",
    "$$\\mathbf{A} = \n",
    "\\begin{bmatrix}\n",
    "\\frac{\\kappa}{\\Delta y^2} & \\cdots & \\frac{\\kappa}{\\Delta x^2} & (\\frac{-2\\kappa}{\\Delta x^2}+\\frac{-2\\kappa}{\\Delta y^2}) & \\frac{\\kappa}{\\Delta x^2} & \\cdots & \\frac{\\kappa}{\\Delta y^2} & 0 & 0 & \\cdots \\\\\n",
    "0 & \\frac{\\kappa}{\\Delta y^2} & \\cdots & \\frac{\\kappa}{\\Delta x^2} & (\\frac{-2\\kappa}{\\Delta x^2}+\\frac{-2\\kappa}{\\Delta y^2}) & \\frac{\\kappa}{\\Delta x^2} & \\cdots & \\frac{\\kappa}{\\Delta y^2} & 0 & \\cdots \\\\\n",
    "\\vdots &  & \\ddots &  & \\ddots & \\ddots &  & \\ddots & & \\vdots \\\\\n",
    "\\cdots & 0 & 0 & \\frac{\\kappa}{\\Delta y^2} & \\cdots & \\frac{\\kappa}{\\Delta x^2} & (\\frac{-2\\kappa}{\\Delta x^2}+\\frac{-2\\kappa}{\\Delta y^2}) & \\frac{\\kappa}{\\Delta x^2} & \\cdots & \\frac{\\kappa}{\\Delta y^2}\n",
    "\\end{bmatrix}$$\n",
    "\n",
    "$$\\mathbf{x} =\n",
    "\\begin{bmatrix}\n",
    "T_{9} \\\\ T_{10} \\\\ \\vdots \\\\ T_{n}\n",
    "\\end{bmatrix}\n",
    "\\quad \\mathbf{b} = \n",
    "\\begin{bmatrix}\n",
    "-H_{9} \\\\ -H_{10} \\\\ \\vdots \\\\ -H_{n}\n",
    "\\end{bmatrix}\n",
    "$$"
   ]
  },
  {
   "cell_type": "code",
   "execution_count": 3,
   "id": "sized-daily",
   "metadata": {},
   "outputs": [
    {
     "name": "stdout",
     "output_type": "stream",
     "text": [
      "[[1. 0. 0. ... 0. 0. 0.]\n",
      " [0. 1. 0. ... 0. 0. 0.]\n",
      " [0. 0. 1. ... 0. 0. 0.]\n",
      " ...\n",
      " [0. 0. 0. ... 1. 0. 0.]\n",
      " [0. 0. 0. ... 0. 1. 0.]\n",
      " [0. 0. 0. ... 0. 0. 1.]]\n"
     ]
    }
   ],
   "source": [
    "nx, ny = 27, 25 # No more than nx=100, ny=100\n",
    "nodes = np.arange(nx*ny).reshape(ny,nx)\n",
    "dx, dy = 1., 1.\n",
    "\n",
    "# Create matrix structures\n",
    "A_matrix = np.zeros((nx*ny,nx*ny)) # square matrix\n",
    "b_matrix = np.zeros(nx*ny)\n",
    "\n",
    "# field variables\n",
    "H = 2e-6\n",
    "k = 3.0\n",
    "\n",
    "# boundary conditions (constant temperature)\n",
    "topBC = 300.0\n",
    "bottomBC = 800.0\n",
    "leftBC = 500.0\n",
    "rightBC = 500.0\n",
    "\n",
    "# boundary nodes\n",
    "top_nodes = nodes[0,:]\n",
    "bottom_nodes = nodes[-1,:]\n",
    "left_nodes = nodes[1:-1,0]\n",
    "right_nodes = nodes[1:-1,-1]\n",
    "\n",
    "for idx in top_nodes:\n",
    "    A_matrix[idx, idx] = 1.0\n",
    "    b_matrix[idx] = topBC\n",
    "for idx in bottom_nodes:\n",
    "    A_matrix[idx, idx] = 1.0\n",
    "    b_matrix[idx] = bottomBC\n",
    "for idx in left_nodes:\n",
    "    A_matrix[idx, idx] = 1.0\n",
    "    b_matrix[idx] = leftBC\n",
    "for idx in right_nodes:\n",
    "    A_matrix[idx, idx] = 1.0\n",
    "    b_matrix[idx] = rightBC\n",
    "\n",
    "bmask = np.zeros_like(nodes, dtype=bool)\n",
    "bmask[1:-1,1:-1] = True # these are nodes that do not intersect the boundary\n",
    "\n",
    "for idx in nodes[bmask]:\n",
    "    A_matrix[idx, idx-nx] = k/dy**2\n",
    "    A_matrix[idx, idx-1]  = k/dx**2\n",
    "    A_matrix[idx, idx]    = -2*k/dx**2 -2*k/dy**2\n",
    "    A_matrix[idx, idx+1]  = k/dx**2\n",
    "    A_matrix[idx, idx+nx] = k/dy**2\n",
    "    \n",
    "    b_matrix[idx] = -H\n",
    "\n",
    "print (A_matrix)"
   ]
  },
  {
   "cell_type": "code",
   "execution_count": 4,
   "id": "stuffed-cleaner",
   "metadata": {},
   "outputs": [
    {
     "data": {
      "image/png": "[encoded data removed]",
      "text/plain": [
       "<Figure size 720x288 with 2 Axes>"
      ]
     },
     "metadata": {
      "filenames": {
       "image/png": "/home/runner/work/EMSC-4033/EMSC-4033/Jupyterbook/_build/jupyter_execute/Notebooks/Themes/SolveMathProblems/2-FiniteDifferences_7_0.png"
      },
      "needs_background": "light"
     },
     "output_type": "display_data"
    }
   ],
   "source": [
    "temperature = np.linalg.solve(A_matrix, b_matrix) # solve x matrix\n",
    "\n",
    "fig = plt.figure(1, figsize=(10,4))\n",
    "ax1 = fig.add_subplot(111)\n",
    "\n",
    "im = ax1.imshow(temperature.reshape(ny,nx))\n",
    "ax1.set_title('Temperature (Kelvin)')\n",
    "ax1.contour(temperature.reshape(ny,nx)) # Lets plot some contours\n",
    "\n",
    "fig.colorbar(im)\n",
    "plt.show()"
   ]
  },
  {
   "cell_type": "markdown",
   "id": "accessory-sterling",
   "metadata": {},
   "source": [
    "Above we used numpy's linear algebra solver and plot the temperature field.\n",
    "\n",
    "---\n",
    "\n",
    "> **EXERCISE 2** Change the boundary conditions, heat production, and conductivity above then plot the result below.\n",
    "\n",
    "---\n",
    "\n",
    "Matrix $\\mathbf{A}$ is a banded diagonal matrix, which means that there are a lot of zeros.\n",
    "Since the data only takes up a fraction of the whole matrix, we could use [scipy's sparse module](http://docs.scipy.org/doc/scipy/reference/sparse.html) to conserve memory:\n",
    "\n",
    "    from scipy import sparse\n",
    "\n",
    "The `coo_matrix` is a common sparse matrix format that accepts a vector of row indices, column indices, and a vector of the same size for the values.\n",
    "\n",
    "    coo_matrix((data, (row, col))\n",
    "    \n",
    "where\n",
    "\n",
    "$$\n",
    "\\mathrm{row} =\n",
    "\\begin{bmatrix}\n",
    "r_{0} \\\\ r_{0} \\\\ r_{1} \\\\ \\vdots \\\\ r_{n}\n",
    "\\end{bmatrix}\n",
    "\\quad \\mathrm{col} = \n",
    "\\begin{bmatrix}\n",
    "c_{0} \\\\ c_{1} \\\\ c_{0} \\\\ \\vdots \\\\ c_{n}\n",
    "\\end{bmatrix}\n",
    "\\quad \\mathrm{val} = \n",
    "\\begin{bmatrix}\n",
    "v_{0,0} \\\\ v_{0,1} \\\\ v_{1,0} \\\\ \\vdots \\\\ v_{n,n}\n",
    "\\end{bmatrix}\n",
    "$$\n",
    "\n",
    "Now we can achieve much higher resolutions using a fraction of the memory."
   ]
  },
  {
   "cell_type": "code",
   "execution_count": null,
   "id": "amateur-canyon",
   "metadata": {},
   "outputs": [],
   "source": []
  },
  {
   "cell_type": "markdown",
   "id": "sought-projection",
   "metadata": {},
   "source": [
    "## 3. Boundary conditions\n",
    "\n",
    "In the previous exercise we used constant temperature boundary conditions on each wall in the model domain.\n",
    "These are Dirichelet boundary conditions:\n",
    "\n",
    "$$T(n) = T_{\\text{boundary}}$$\n",
    "\n",
    "The other boundary condition we want to use is Neumann, or flux, boundary conditions:\n",
    "\n",
    "$$\\frac{\\partial T}{\\partial y}(n) = -\\mathbf{q} = -\\kappa \\frac{\\partial T}{\\partial y}$$\n",
    "\n",
    "in the \\\\(y\\\\) direction for example, where \\\\(\\mathbf{q}\\\\) is the flux vector assigned to a wall of the domain.\n",
    "For insulated boundary conditions, \\\\(\\mathbf{q}=0 \\\\).\n",
    "This means that no heat enters or escapes from that boundary.\n",
    "For example, the finite difference form for this on the left wall of our domain would be:\n",
    "\n",
    "$$ \\kappa \\frac{T_{i,j}-T_{i+1,j}}{\\Delta x^2} = \\frac{\\mathbf{q}}{\\Delta x} - H$$\n",
    "\n",
    "which reduces to\n",
    "\n",
    "$$ \\kappa \\frac{T_{i,j}-T_{i+1,j}}{\\Delta x^2} = - H$$\n",
    "\n",
    "when \\\\( \\mathbf{q}=0 \\\\) \n",
    "\n",
    "### 3.1 Periodic boundary conditions\n",
    "\n",
    "In the next exercise you will need to assign Neumann boundary conditions to all walls of the domain; except the top wall where you will assign a periodic Dirichlet boundary condition described by the equation:\n",
    "\n",
    "$$T_\\text{surface} = T_0 + \\Delta T \\cos \\frac{2\\pi x}{\\lambda}$$\n",
    "\n",
    "Such surface temperature variations can arise as a result of topographic undulations and the altitude dependence of temperature in the Earth’s atmosphere.\n",
    "Horizontal surface temperature variations also occur at the boundaries between land and bodies of water, such as lakes or seas.\n",
    "\n",
    "---\n",
    "\n",
    "> **EXERCISE 3** Create a periodic surface temperature boundary condition using the code above, then make the rest of the walls insulated.\n",
    "\n",
    "---"
   ]
  },
  {
   "cell_type": "code",
   "execution_count": 5,
   "id": "third-venture",
   "metadata": {},
   "outputs": [],
   "source": [
    "# Empty space for your code\n",
    "# Copy the code you made above as a template"
   ]
  },
  {
   "cell_type": "markdown",
   "id": "valid-thumbnail",
   "metadata": {},
   "source": [
    "Lucky there is an analytical solution to test if your code is working correctly...\n",
    "\n",
    "$$T(x,y) = T_0 + \\Delta T \\cos \\frac{2 \\pi x}{\\lambda} e^{-2\\pi y/\\lambda}$$\n",
    "\n",
    "Set your Neumann boundary conditions to zero and use this to *benchmark* your code.\n",
    "Plot the results using `matplotlib`."
   ]
  },
  {
   "cell_type": "code",
   "execution_count": 6,
   "id": "popular-religious",
   "metadata": {},
   "outputs": [
    {
     "data": {
      "image/png": "[encoded data removed]",
      "text/plain": [
       "<Figure size 1152x288 with 3 Axes>"
      ]
     },
     "metadata": {
      "filenames": {
       "image/png": "/home/runner/work/EMSC-4033/EMSC-4033/Jupyterbook/_build/jupyter_execute/Notebooks/Themes/SolveMathProblems/2-FiniteDifferences_13_0.png"
      },
      "needs_background": "light"
     },
     "output_type": "display_data"
    }
   ],
   "source": [
    "T_analytical = np.zeros((ny,nx)) # write analytical solution\n",
    "\n",
    "\n",
    "fig, (ax1, ax2) = plt.subplots(1,2)\n",
    "fig.set_size_inches(16,4)\n",
    "\n",
    "# Analytical solution\n",
    "im1 = ax1.imshow(T_analytical.reshape(ny,nx))\n",
    "fig.colorbar(im1, ax=ax1)\n",
    "\n",
    "# Numerical solution\n",
    "## YOUR CODE GOES HERE\n",
    "\n",
    "plt.show()"
   ]
  },
  {
   "cell_type": "markdown",
   "id": "neural-powell",
   "metadata": {},
   "source": [
    "## 4. Explicit finite difference approximation\n",
    "\n",
    "So far we have an implicit approximation to the heat equation (great!) but what about an explicit approximation? Each have their own advantages.\n",
    "\n",
    "- Implicit approximations are numerically stable and can calculate a steady state solution in one solve.\n",
    "- Explicit approximations iterate to a steady-state solution and are only stable if the timestep size is suitably small.\n",
    "  - But it is easy to implement time-dependent solutions.\n",
    "  \n",
    "The time-dependent heat equation can be approximated using a first-order forward finite difference in time, and second-order central finite difference scheme in space:\n",
    "\n",
    "$$\n",
    "\\begin{align}\n",
    "    \\frac{\\partial T}{\\partial t} &= \\kappa \\frac{\\partial^2 T}{\\partial x^2} \\\\\n",
    "    \\frac{T^{n+1}_i - T^n_i}{\\Delta t} &= \\kappa \\frac{T^n_{i+1} - 2T^n_i + T^n_{i-1}}{\\Delta x^2}\n",
    "\\end{align}\n",
    "$$\n",
    "\n",
    "The temperature solution is updated iteratively by rearranging the above equation:\n",
    "\n",
    "$$\n",
    "T^{n+1}_i = T^n_i + \\kappa \\Delta t \\frac{T^n_{i+1} - 2T^n_i + T^n_{i-1}}{\\Delta x^2}\n",
    "$$\n",
    "\n",
    "We start with an initial condition of zero everywhere except for two Dirichlet boundary conditions at the top and bottom of the domain."
   ]
  },
  {
   "cell_type": "code",
   "execution_count": 7,
   "id": "sharp-studio",
   "metadata": {},
   "outputs": [],
   "source": [
    "T = np.zeros((ny,nx))\n",
    "# Initial conditions\n",
    "T[0,:] = 300.\n",
    "T[-1,:] = 800.\n",
    "\n",
    "k = 1.0\n",
    "\n",
    "# 1 timestep\n",
    "time = 0.0\n",
    "gradTx, gradTy = np.gradient(T, dx, dy)\n",
    "flux_x = k*gradTx\n",
    "flux_y = k*gradTy\n",
    "\n",
    "gradTxx, gradTxy = np.gradient(flux_x, dx, dy)\n",
    "gradTyx, gradTyy = np.gradient(flux_y, dx, dy)\n",
    "\n",
    "divT = gradTxx + gradTyy\n",
    "dt = (dx*dy)/k\n",
    "time += dt\n",
    "\n",
    "T_new = T + dt*divT"
   ]
  },
  {
   "cell_type": "code",
   "execution_count": 8,
   "id": "lonely-peter",
   "metadata": {},
   "outputs": [
    {
     "data": {
      "text/plain": [
       "<matplotlib.image.AxesImage at 0x7f7dd8884d10>"
      ]
     },
     "execution_count": 8,
     "metadata": {},
     "output_type": "execute_result"
    },
    {
     "data": {
      "image/png": "[encoded data removed]",
      "text/plain": [
       "<Figure size 720x288 with 2 Axes>"
      ]
     },
     "metadata": {
      "filenames": {
       "image/png": "/home/runner/work/EMSC-4033/EMSC-4033/Jupyterbook/_build/jupyter_execute/Notebooks/Themes/SolveMathProblems/2-FiniteDifferences_16_1.png"
      },
      "needs_background": "light"
     },
     "output_type": "display_data"
    }
   ],
   "source": [
    "fig, (ax1, ax2) = plt.subplots(1,2, sharey=True, figsize=(10,4))\n",
    "ax1.imshow(T)\n",
    "ax2.imshow(T_new)"
   ]
  },
  {
   "cell_type": "markdown",
   "id": "cognitive-detective",
   "metadata": {},
   "source": [
    "---\n",
    "\n",
    "> **EXERCISE 4** Create a loop to iterately update the temperature until we reach convergence. Use the solution from the implicit scheme to compare the results.\n",
    "\n",
    "---"
   ]
  },
  {
   "cell_type": "code",
   "execution_count": null,
   "id": "inappropriate-helicopter",
   "metadata": {},
   "outputs": [],
   "source": []
  }
 ],
 "metadata": {
  "jupytext": {
   "text_representation": {
    "extension": ".md",
    "format_name": "myst",
    "format_version": 0.12,
    "jupytext_version": "1.6.0"
   }
  },
  "kernelspec": {
   "display_name": "Python 3",
   "language": "python",
   "name": "python3"
  },
  "language_info": {
   "codemirror_mode": {
    "name": "ipython",
    "version": 3
   },
   "file_extension": ".py",
   "mimetype": "text/x-python",
   "name": "python",
   "nbconvert_exporter": "python",
   "pygments_lexer": "ipython3",
   "version": "3.7.10"
  },
  "source_map": [
   12,
   24,
   29,
   62,
   104,
   135,
   173,
   226,
   238,
   276,
   278,
   319,
   322,
   331,
   346,
   373,
   397,
   401,
   409
  ]
 },
 "nbformat": 4,
 "nbformat_minor": 5
}