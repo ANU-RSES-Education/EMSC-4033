{
 "cells": [
  {
   "cell_type": "markdown",
   "id": "packed-function",
   "metadata": {},
   "source": [
    "# Advanced finite difference\n",
    "\n",
    "This notebook assumes that you have completed the *finite difference operations* notebook."
   ]
  },
  {
   "cell_type": "code",
   "execution_count": null,
   "id": "trying-mason",
   "metadata": {},
   "outputs": [],
   "source": [
    "import numpy as np\n",
    "import matplotlib.pyplot as plt\n",
    "%matplotlib inline"
   ]
  },
  {
   "cell_type": "markdown",
   "id": "tired-gazette",
   "metadata": {},
   "source": [
    "## 1 Spatially variable diffusivity\n",
    "\n",
    "For most purposes we want $\\kappa$ to be spatially variable.\n",
    "The heat equation can be expressed as,\n",
    "\n",
    "$$\\frac{\\partial}{\\partial x} \\left( \\kappa \\frac{\\partial T}{\\partial x} \\right) + \\frac{\\partial}{\\partial y} \\left( \\kappa \\frac{\\partial T}{\\partial y} \\right) = -H $$\n",
    "\n",
    "The corresponding finite difference approximations in the $x$ and $y$ coordinates are,\n",
    "\n",
    "$$ \\frac{\\partial}{\\partial x} \\left( \\kappa \\frac{\\partial T}{\\partial x} \\right) = \\frac{1}{\\Delta x} \\left( \\frac{ \\kappa_{i+1/2,j} (T_{i+1,j}-T_{i,j}) }{\\Delta x} - \\frac{ \\kappa_{i-1/2,j} (T_{i,j}-T_{i-1,j}) }{\\Delta x} \\right) $$\n",
    "\n",
    "$$ \\frac{\\partial}{\\partial y} \\left( \\kappa \\frac{\\partial T}{\\partial y} \\right)  = \\frac{1}{\\Delta y} \\left( \\frac{ \\kappa_{i,j+1/2} (T_{i,j+1}-T_{i,j}) }{\\Delta y} - \\frac{ \\kappa_{i,j-1/2} (T_{i,j}-T_{i,j-1}) }{\\Delta y} \\right) $$\n",
    "\n",
    "where \\\\( \\kappa_{i+1/2,j} \\\\) can be averaged by,\n",
    "\n",
    "$$ \\kappa_{i+1/2,j} = \\frac{\\kappa_{i+1,j} + \\kappa_{i,j}}{2} $$\n",
    "\n",
    "---\n",
    "\n",
    "> **EXERCISE 1** Construct your own matrices using the finite difference approximation for non-constant diffusivity.\n",
    "\n",
    "---"
   ]
  },
  {
   "cell_type": "code",
   "execution_count": null,
   "id": "similar-journalist",
   "metadata": {},
   "outputs": [],
   "source": []
  },
  {
   "cell_type": "markdown",
   "id": "welsh-material",
   "metadata": {},
   "source": [
    "## 2. Modelling complex geometries\n",
    "\n",
    "Now for the fun part.\n",
    "In this section we take a 2D geological cross section (from some random part of the world) and model the temperature variation across different rock types.\n",
    "To do this requires assignment of thermal properties, \\\\( \\kappa, H \\\\), to each layer in the cross section.\n",
    "\n",
    "Before you attempt this, here is a checklist of what you should have accomplished:\n",
    "\n",
    "1. 2D steady-state heat solver for non-constant \\\\( \\kappa \\\\).\n",
    "2. Neumann and Dirichlet boundary conditions.\n",
    "3. Use of sparse matrices (optional, but recommended).\n",
    "\n",
    "Our model domain is 800 x 260 nodes and contains integers from 1 to 28 that correspond to a unique rock layer.\n",
    "Your task will be to create a conductivity and heat production field, that vary with lithology, and pass them to your solver.\n",
    "\n",
    "---\n",
    "\n",
    "> **EXERCISE 2** Assign thermal properties to the voxel data and solve steady-state diffusion\n",
    "\n",
    "---\n",
    "\n",
    "Create 3 plots: temperature, conductivity, and heat production.\n",
    "(You might want to give them distinct colourmaps to help distinguish them!)"
   ]
  },
  {
   "cell_type": "code",
   "execution_count": null,
   "id": "aggregate-currency",
   "metadata": {},
   "outputs": [],
   "source": [
    "voxel = np.load('voxel_data.npz')['data']\n",
    "voxel.shape"
   ]
  },
  {
   "cell_type": "code",
   "execution_count": null,
   "id": "opposite-blend",
   "metadata": {},
   "outputs": [],
   "source": [
    "fig = plt.figure(1, figsize=(20, 5))\n",
    "\n",
    "ax1 = fig.add_subplot(111)\n",
    "im1 = ax1.imshow(voxel, origin='lower', cmap='Paired', vmin=1, vmax=28)\n",
    "fig.colorbar(im1, ax=ax1)\n",
    "\n",
    "plt.show()"
   ]
  },
  {
   "cell_type": "markdown",
   "id": "medical-grocery",
   "metadata": {},
   "source": [
    "What we have is a 2D voxel model that was exported from GoCAD.\n",
    "Each colour represents a unique lithology.\n",
    "Pretty eh?\n",
    "\n",
    "Now we will assign these thermal properties and solve temperature across them."
   ]
  },
  {
   "cell_type": "code",
   "execution_count": null,
   "id": "adaptive-settlement",
   "metadata": {},
   "outputs": [],
   "source": []
  }
 ],
 "metadata": {
  "jupytext": {
   "text_representation": {
    "extension": ".md",
    "format_name": "myst",
    "format_version": 0.12,
    "jupytext_version": "1.6.0"
   }
  },
  "kernelspec": {
   "display_name": "Python 3",
   "language": "python",
   "name": "python3"
  },
  "source_map": [
   12,
   18,
   22,
   47,
   49,
   75,
   80,
   88,
   96
  ]
 },
 "nbformat": 4,
 "nbformat_minor": 5
}