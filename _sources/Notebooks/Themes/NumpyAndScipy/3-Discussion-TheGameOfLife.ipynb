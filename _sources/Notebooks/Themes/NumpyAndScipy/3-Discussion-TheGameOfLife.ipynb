{
 "cells": [
  {
   "cell_type": "code",
   "execution_count": null,
   "id": "7c1da3ae",
   "metadata": {
    "hide_input": true
   },
   "outputs": [],
   "source": [
    "%matplotlib inline\n",
    "import numpy as np\n",
    "import matplotlib.pyplot as plt"
   ]
  },
  {
   "cell_type": "markdown",
   "id": "baaff4c9",
   "metadata": {},
   "source": [
    "# The game of life (Advanced)\n",
    "\n",
    "This is an example of a __cellular automaton__ - a collection of rules that act on the state of a system and determine the updated state. These often have interesting, _emergent_ behaviours that are not obviously inherent in the rules.\n",
    "\n",
    "There is a similarity with Molecular Dynamics, Discrete Element Modeling, Agent-Based modeling and so on where simple rules acting locally produce bulk properties of the system. \n",
    "\n",
    "The game of life is simple enough in rules but can produce interesting emergent behaviour. It is a good template to explore some of the issues we always face in building models.\n",
    "\n",
    "Let's look a building a more challenging version of the problem - larger, faster, better analysis."
   ]
  },
  {
   "cell_type": "code",
   "execution_count": null,
   "id": "39f5921b",
   "metadata": {},
   "outputs": [],
   "source": [
    "# The rules of the game\n",
    "\n",
    "size     = 100\n",
    "lonely   = 2\n",
    "crowded  = 4\n",
    "breeding = 3"
   ]
  },
  {
   "cell_type": "markdown",
   "id": "35f4a203",
   "metadata": {},
   "source": [
    "We don't want to keep setting this thing up by hand. Here is a way to make an array of zeros and ones at random"
   ]
  },
  {
   "cell_type": "code",
   "execution_count": null,
   "id": "914bdd5b",
   "metadata": {},
   "outputs": [],
   "source": [
    "state = np.round(np.random.random_sample((size,size) )).astype(int)\n",
    "\n",
    "print state\n",
    "print \n",
    "print np.count_nonzero(state)\n",
    "print"
   ]
  },
  {
   "cell_type": "code",
   "execution_count": null,
   "id": "b455f9b6",
   "metadata": {},
   "outputs": [],
   "source": [
    "plt.imshow(state, interpolation='nearest', cmap=\"gray\") "
   ]
  },
  {
   "cell_type": "code",
   "execution_count": null,
   "id": "6e328bf3",
   "metadata": {},
   "outputs": [],
   "source": [
    "def live_neighbours(state):\n",
    "    ln = np.empty_like(state)\n",
    "    for index, value in np.ndenumerate(state):\n",
    "        #Need to add 2, becase the slicing works like 'up to but not including'\n",
    "        x0 = max(0,(index[0]-1))\n",
    "        x1 = max(0,(index[0]+2))\n",
    "        y0 = max(0,(index[1]-1))\n",
    "        y1 = max(0,(index[1]+2))\n",
    "        subarray = state[x0:x1, y0:y1]\n",
    "        ln[index] = subarray.sum() - value # need to subtract actual value at that cell...\n",
    "        \n",
    "    return ln"
   ]
  },
  {
   "cell_type": "code",
   "execution_count": null,
   "id": "2b8666f6",
   "metadata": {},
   "outputs": [],
   "source": [
    "ln = live_neighbours(state)\n",
    "\n",
    "print ln\n",
    "\n",
    "plt.imshow(ln, interpolation='nearest', cmap=\"jet\") \n",
    "plt.colorbar()"
   ]
  },
  {
   "cell_type": "markdown",
   "id": "56aca2b0",
   "metadata": {},
   "source": [
    "Let's use numpy to locate *quickly* the regions where the death conditions apply \n",
    "\n",
    "```python\n",
    "death1 = np.where(ln >= crowded)\n",
    "```\n",
    "\n",
    "Note the form that this returns - the coordinates where the condition applies"
   ]
  },
  {
   "cell_type": "code",
   "execution_count": null,
   "id": "eab929a2",
   "metadata": {},
   "outputs": [],
   "source": [
    "death1 = np.where(ln >= crowded)\n",
    "death2 = np.where(ln <  lonely)\n",
    "\n",
    "print death1"
   ]
  },
  {
   "cell_type": "code",
   "execution_count": null,
   "id": "bae116e9",
   "metadata": {},
   "outputs": [],
   "source": [
    "dying_cells = np.zeros_like(state)\n",
    "dying_cells[death1] = 1\n",
    "dying_cells[death2] = 1\n",
    "\n",
    "## \n",
    "\n",
    "plt.imshow(dying_cells, interpolation='nearest', cmap=\"gray_r\") \n",
    "plt.colorbar()"
   ]
  },
  {
   "cell_type": "code",
   "execution_count": null,
   "id": "29cfb6e8",
   "metadata": {},
   "outputs": [],
   "source": [
    "birth = np.where(ln == breeding)\n",
    "\n",
    "baby_cells = np.zeros_like(state)\n",
    "baby_cells[birth] = 1\n",
    "\n",
    "plt.imshow(baby_cells, interpolation='nearest', cmap=\"gray_r\") \n",
    "plt.colorbar()"
   ]
  },
  {
   "cell_type": "code",
   "execution_count": null,
   "id": "e6fb6f82",
   "metadata": {},
   "outputs": [],
   "source": [
    "## These should be complementary\n",
    "\n",
    "check = dying_cells + baby_cells\n",
    "print check.max()"
   ]
  },
  {
   "cell_type": "code",
   "execution_count": null,
   "id": "52a63edb",
   "metadata": {
    "solution": "hidden"
   },
   "outputs": [],
   "source": [
    "# Logical operations on the entire array to update state\n",
    "\n",
    "new_state = state.copy()\n",
    "new_state[death1]   = 0\n",
    "new_state[death2]   = 0\n",
    "new_state[birth]  = 1\n",
    "\n",
    "plt.imshow(new_state, interpolation='nearest', cmap=\"gray_r\",) \n",
    "plt.colorbar()\n",
    "plt.savefig(\"Frame-1.png\", dpi=300, format=\"png\" )"
   ]
  },
  {
   "cell_type": "code",
   "execution_count": null,
   "id": "c9bf5b98",
   "metadata": {},
   "outputs": [],
   "source": [
    "## Bundle this up to make a sequence of images\n",
    "\n",
    "state_list = [state.copy()]\n",
    "\n",
    "for i in range(0, 250):\n",
    "    \n",
    "    if i%50 == 0:\n",
    "        print i\n",
    "\n",
    "    ln = live_neighbours(state)\n",
    "\n",
    "    state[ln >= crowded]   = 0\n",
    "    state[ln <  lonely]    = 0\n",
    "    state[ln == breeding]  = 1\n",
    "\n",
    "    state_list.append(state.copy())\n",
    "    "
   ]
  },
  {
   "cell_type": "code",
   "execution_count": null,
   "id": "5ddd38e1",
   "metadata": {},
   "outputs": [],
   "source": [
    "state_list"
   ]
  },
  {
   "cell_type": "markdown",
   "id": "4acba475",
   "metadata": {
    "solution": "hidden",
    "solution_first": true
   },
   "source": [
    "### Exercise\n",
    "\n",
    "\n",
    "__Class Exercise:__ Now let's try to make a series of frames as images for a number of frames of the game of life. We could also try changing the parameters of the game to see what patterns develop. \n",
    "\n",
    "  - What resolution can we reach ? \n",
    "  - Can we work out ways to make this run faster ?\n",
    "  - What if there is more than one happy state where new cells grow ?"
   ]
  },
  {
   "cell_type": "code",
   "execution_count": null,
   "id": "95766855",
   "metadata": {
    "solution": "hidden"
   },
   "outputs": [],
   "source": [
    "def update_state(state):\n",
    "    new_state = state.copy()\n",
    "\n",
    "    ln = live_neighbours(state)\n",
    "    \n",
    "    death1 = np.where(ln >= crowded)\n",
    "    death2 = np.where(ln <  lonely)\n",
    "    birth  = np.where(ln == breeding)\n",
    "\n",
    "    new_state[death1]   = 0\n",
    "    new_state[death2]   = 0\n",
    "    new_state[birth]    = 1\n",
    "    \n",
    "    return new_state\n",
    "    "
   ]
  },
  {
   "cell_type": "code",
   "execution_count": null,
   "id": "f58e4327",
   "metadata": {
    "solution": "hidden"
   },
   "outputs": [],
   "source": [
    "# Initialise\n",
    "\n",
    "state = np.round(np.random.random_sample((size,size) )).astype(int)\n",
    "steps = 100\n",
    "\n",
    "# Loops and save image\n",
    "\n",
    "for step in range(0, steps):\n",
    "    \n",
    "    new_state = update_state(state)\n",
    "    print \"Step {} - living cells - {}\".format(step, np.count_nonzero(new_state))\n",
    "    \n",
    "    plt.imshow(new_state, interpolation='nearest', cmap=\"gray_r\",) \n",
    "    plt.savefig(\"Frame-{:04d}.png\".format(step), dpi=300, format=\"png\" )\n",
    "    \n",
    "    # We could keep all of these for later or discard\n",
    "    state = new_state"
   ]
  },
  {
   "cell_type": "markdown",
   "id": "4524f003",
   "metadata": {},
   "source": [
    "### Speedup\n",
    "\n",
    "What is taking the time in this computation ?\n",
    "\n",
    "  - Boundaries always reset to zero, do away with submatrix tests ?\n",
    "  - Fastest way to reset boundaries ?\n",
    "  - Logic tests or multiply or add / cap the max"
   ]
  },
  {
   "cell_type": "markdown",
   "id": "a64c0849",
   "metadata": {},
   "source": [
    "## Animation"
   ]
  },
  {
   "cell_type": "code",
   "execution_count": null,
   "id": "ae312620",
   "metadata": {},
   "outputs": [],
   "source": [
    "from matplotlib import animation, rc\n",
    "from IPython.display import HTML\n",
    "\n",
    "fig, ax = plt.subplots()\n",
    "fig.set_size_inches((7,7))\n",
    "animage = ax.imshow(state_list[0], interpolation='bilinear', cmap=plt.cm.bone)"
   ]
  },
  {
   "cell_type": "code",
   "execution_count": null,
   "id": "f65000f1",
   "metadata": {},
   "outputs": [],
   "source": [
    "def init():\n",
    "    animage.set_data(state_list[0])\n",
    "    return (animage,)\n",
    "\n",
    "def animate(i):\n",
    "    animage.set_data(state_list[i])\n",
    "    return (animage,)\n",
    "\n",
    "anim = animation.FuncAnimation(fig, animate, init_func=init,\n",
    "                               frames=len(state_list), interval=50, \n",
    "                               blit=True)"
   ]
  },
  {
   "cell_type": "code",
   "execution_count": null,
   "id": "e7887a33",
   "metadata": {},
   "outputs": [],
   "source": [
    "HTML(anim.to_jshtml())"
   ]
  },
  {
   "cell_type": "code",
   "execution_count": null,
   "id": "e1710ab9",
   "metadata": {},
   "outputs": [],
   "source": []
  },
  {
   "cell_type": "code",
   "execution_count": null,
   "id": "5b28e4ab",
   "metadata": {},
   "outputs": [],
   "source": []
  }
 ],
 "metadata": {
  "jupytext": {
   "text_representation": {
    "extension": ".md",
    "format_name": "myst",
    "format_version": 0.12,
    "jupytext_version": "1.6.0"
   }
  },
  "kernelspec": {
   "display_name": "Python 3",
   "language": "python",
   "name": "python3"
  },
  "source_map": [
   14,
   20,
   32,
   39,
   43,
   52,
   56,
   71,
   78,
   88,
   95,
   106,
   116,
   123,
   138,
   158,
   162,
   175,
   195,
   215,
   226,
   231,
   240,
   254,
   258,
   262
  ]
 },
 "nbformat": 4,
 "nbformat_minor": 5
}