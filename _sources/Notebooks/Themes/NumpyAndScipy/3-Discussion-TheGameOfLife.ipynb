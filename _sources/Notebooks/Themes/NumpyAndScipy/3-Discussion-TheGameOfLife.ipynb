{
 "cells": [
  {
   "cell_type": "code",
   "execution_count": 1,
   "id": "superior-registrar",
   "metadata": {
    "hide_input": true
   },
   "outputs": [],
   "source": [
    "%matplotlib inline\n",
    "import numpy as np\n",
    "import matplotlib.pyplot as plt"
   ]
  },
  {
   "cell_type": "markdown",
   "id": "regular-infrared",
   "metadata": {},
   "source": [
    "## The game of life (Advanced)\n",
    "\n",
    "This is an example of a __cellular automaton__ - a collection of rules that act on the state of a system and determine the updated state. These often have interesting, _emergent_ behaviours that are not obviously inherent in the rules.\n",
    "\n",
    "There is a similarity with Molecular Dynamics, Discrete Element Modeling, Agent-Based modeling and so on where simple rules acting locally produce bulk properties of the system. \n",
    "\n",
    "The game of life is simple enough in rules but can produce interesting emergent behaviour. It is a good template to explore some of the issues we always face in building models.\n",
    "\n",
    "Let's look a building a more challenging version of the problem - larger, faster, better analysis."
   ]
  },
  {
   "cell_type": "code",
   "execution_count": 2,
   "id": "prescription-balance",
   "metadata": {},
   "outputs": [],
   "source": [
    "# The rules of the game\n",
    "\n",
    "size     = 100\n",
    "lonely   = 2\n",
    "crowded  = 4\n",
    "breeding = 3"
   ]
  },
  {
   "cell_type": "markdown",
   "id": "suited-struggle",
   "metadata": {},
   "source": [
    "We don't want to keep setting this thing up by hand. Here is a way to make an array of zeros and ones at random"
   ]
  },
  {
   "cell_type": "code",
   "execution_count": 3,
   "id": "innovative-technique",
   "metadata": {},
   "outputs": [
    {
     "ename": "SyntaxError",
     "evalue": "Missing parentheses in call to 'print'. Did you mean print(state)? (<ipython-input-3-745c9426955c>, line 3)",
     "output_type": "error",
     "traceback": [
      "\u001b[0;36m  File \u001b[0;32m\"<ipython-input-3-745c9426955c>\"\u001b[0;36m, line \u001b[0;32m3\u001b[0m\n\u001b[0;31m    print state\u001b[0m\n\u001b[0m              ^\u001b[0m\n\u001b[0;31mSyntaxError\u001b[0m\u001b[0;31m:\u001b[0m Missing parentheses in call to 'print'. Did you mean print(state)?\n"
     ]
    }
   ],
   "source": [
    "state = np.round(np.random.random_sample((size,size) )).astype(int)\n",
    "\n",
    "print state\n",
    "print \n",
    "print np.count_nonzero(state)\n",
    "print"
   ]
  },
  {
   "cell_type": "code",
   "execution_count": 4,
   "id": "driven-worse",
   "metadata": {},
   "outputs": [
    {
     "ename": "NameError",
     "evalue": "name 'state' is not defined",
     "output_type": "error",
     "traceback": [
      "\u001b[0;31m---------------------------------------------------------------------------\u001b[0m",
      "\u001b[0;31mNameError\u001b[0m                                 Traceback (most recent call last)",
      "\u001b[0;32m<ipython-input-4-c7da5152f4f8>\u001b[0m in \u001b[0;36m<module>\u001b[0;34m\u001b[0m\n\u001b[0;32m----> 1\u001b[0;31m \u001b[0mplt\u001b[0m\u001b[0;34m.\u001b[0m\u001b[0mimshow\u001b[0m\u001b[0;34m(\u001b[0m\u001b[0mstate\u001b[0m\u001b[0;34m,\u001b[0m \u001b[0minterpolation\u001b[0m\u001b[0;34m=\u001b[0m\u001b[0;34m'nearest'\u001b[0m\u001b[0;34m,\u001b[0m \u001b[0mcmap\u001b[0m\u001b[0;34m=\u001b[0m\u001b[0;34m\"gray\"\u001b[0m\u001b[0;34m)\u001b[0m\u001b[0;34m\u001b[0m\u001b[0;34m\u001b[0m\u001b[0m\n\u001b[0m",
      "\u001b[0;31mNameError\u001b[0m: name 'state' is not defined"
     ]
    }
   ],
   "source": [
    "plt.imshow(state, interpolation='nearest', cmap=\"gray\") "
   ]
  },
  {
   "cell_type": "code",
   "execution_count": 5,
   "id": "purple-modeling",
   "metadata": {},
   "outputs": [],
   "source": [
    "def live_neighbours(state):\n",
    "    ln = np.empty_like(state)\n",
    "    for index, value in np.ndenumerate(state):\n",
    "        #Need to add 2, becase the slicing works like 'up to but not including'\n",
    "        x0 = max(0,(index[0]-1))\n",
    "        x1 = max(0,(index[0]+2))\n",
    "        y0 = max(0,(index[1]-1))\n",
    "        y1 = max(0,(index[1]+2))\n",
    "        subarray = state[x0:x1, y0:y1]\n",
    "        ln[index] = subarray.sum() - value # need to subtract actual value at that cell...\n",
    "        \n",
    "    return ln"
   ]
  },
  {
   "cell_type": "code",
   "execution_count": 6,
   "id": "civic-merchant",
   "metadata": {},
   "outputs": [
    {
     "ename": "SyntaxError",
     "evalue": "Missing parentheses in call to 'print'. Did you mean print(ln)? (<ipython-input-6-44352a3fa981>, line 3)",
     "output_type": "error",
     "traceback": [
      "\u001b[0;36m  File \u001b[0;32m\"<ipython-input-6-44352a3fa981>\"\u001b[0;36m, line \u001b[0;32m3\u001b[0m\n\u001b[0;31m    print ln\u001b[0m\n\u001b[0m           ^\u001b[0m\n\u001b[0;31mSyntaxError\u001b[0m\u001b[0;31m:\u001b[0m Missing parentheses in call to 'print'. Did you mean print(ln)?\n"
     ]
    }
   ],
   "source": [
    "ln = live_neighbours(state)\n",
    "\n",
    "print ln\n",
    "\n",
    "plt.imshow(ln, interpolation='nearest', cmap=\"jet\") \n",
    "plt.colorbar()"
   ]
  },
  {
   "cell_type": "markdown",
   "id": "coral-alexandria",
   "metadata": {},
   "source": [
    "Let's use numpy to locate *quickly* the regions where the death conditions apply \n",
    "\n",
    "```python\n",
    "death1 = np.where(ln >= crowded)\n",
    "```\n",
    "\n",
    "Note the form that this returns - the coordinates where the condition applies"
   ]
  },
  {
   "cell_type": "code",
   "execution_count": 7,
   "id": "weekly-commissioner",
   "metadata": {},
   "outputs": [
    {
     "ename": "SyntaxError",
     "evalue": "Missing parentheses in call to 'print'. Did you mean print(death1)? (<ipython-input-7-9de97f7c7f29>, line 4)",
     "output_type": "error",
     "traceback": [
      "\u001b[0;36m  File \u001b[0;32m\"<ipython-input-7-9de97f7c7f29>\"\u001b[0;36m, line \u001b[0;32m4\u001b[0m\n\u001b[0;31m    print death1\u001b[0m\n\u001b[0m               ^\u001b[0m\n\u001b[0;31mSyntaxError\u001b[0m\u001b[0;31m:\u001b[0m Missing parentheses in call to 'print'. Did you mean print(death1)?\n"
     ]
    }
   ],
   "source": [
    "death1 = np.where(ln >= crowded)\n",
    "death2 = np.where(ln <  lonely)\n",
    "\n",
    "print death1"
   ]
  },
  {
   "cell_type": "code",
   "execution_count": 8,
   "id": "constitutional-chile",
   "metadata": {},
   "outputs": [
    {
     "ename": "NameError",
     "evalue": "name 'state' is not defined",
     "output_type": "error",
     "traceback": [
      "\u001b[0;31m---------------------------------------------------------------------------\u001b[0m",
      "\u001b[0;31mNameError\u001b[0m                                 Traceback (most recent call last)",
      "\u001b[0;32m<ipython-input-8-ef8f34cc9c15>\u001b[0m in \u001b[0;36m<module>\u001b[0;34m\u001b[0m\n\u001b[0;32m----> 1\u001b[0;31m \u001b[0mdying_cells\u001b[0m \u001b[0;34m=\u001b[0m \u001b[0mnp\u001b[0m\u001b[0;34m.\u001b[0m\u001b[0mzeros_like\u001b[0m\u001b[0;34m(\u001b[0m\u001b[0mstate\u001b[0m\u001b[0;34m)\u001b[0m\u001b[0;34m\u001b[0m\u001b[0;34m\u001b[0m\u001b[0m\n\u001b[0m\u001b[1;32m      2\u001b[0m \u001b[0mdying_cells\u001b[0m\u001b[0;34m[\u001b[0m\u001b[0mdeath1\u001b[0m\u001b[0;34m]\u001b[0m \u001b[0;34m=\u001b[0m \u001b[0;36m1\u001b[0m\u001b[0;34m\u001b[0m\u001b[0;34m\u001b[0m\u001b[0m\n\u001b[1;32m      3\u001b[0m \u001b[0mdying_cells\u001b[0m\u001b[0;34m[\u001b[0m\u001b[0mdeath2\u001b[0m\u001b[0;34m]\u001b[0m \u001b[0;34m=\u001b[0m \u001b[0;36m1\u001b[0m\u001b[0;34m\u001b[0m\u001b[0;34m\u001b[0m\u001b[0m\n\u001b[1;32m      4\u001b[0m \u001b[0;34m\u001b[0m\u001b[0m\n\u001b[1;32m      5\u001b[0m \u001b[0;31m##\u001b[0m\u001b[0;34m\u001b[0m\u001b[0;34m\u001b[0m\u001b[0;34m\u001b[0m\u001b[0m\n",
      "\u001b[0;31mNameError\u001b[0m: name 'state' is not defined"
     ]
    }
   ],
   "source": [
    "dying_cells = np.zeros_like(state)\n",
    "dying_cells[death1] = 1\n",
    "dying_cells[death2] = 1\n",
    "\n",
    "## \n",
    "\n",
    "plt.imshow(dying_cells, interpolation='nearest', cmap=\"gray_r\") \n",
    "plt.colorbar()"
   ]
  },
  {
   "cell_type": "code",
   "execution_count": 9,
   "id": "broad-keyboard",
   "metadata": {},
   "outputs": [
    {
     "ename": "NameError",
     "evalue": "name 'ln' is not defined",
     "output_type": "error",
     "traceback": [
      "\u001b[0;31m---------------------------------------------------------------------------\u001b[0m",
      "\u001b[0;31mNameError\u001b[0m                                 Traceback (most recent call last)",
      "\u001b[0;32m<ipython-input-9-9f57bea3acd4>\u001b[0m in \u001b[0;36m<module>\u001b[0;34m\u001b[0m\n\u001b[0;32m----> 1\u001b[0;31m \u001b[0mbirth\u001b[0m \u001b[0;34m=\u001b[0m \u001b[0mnp\u001b[0m\u001b[0;34m.\u001b[0m\u001b[0mwhere\u001b[0m\u001b[0;34m(\u001b[0m\u001b[0mln\u001b[0m \u001b[0;34m==\u001b[0m \u001b[0mbreeding\u001b[0m\u001b[0;34m)\u001b[0m\u001b[0;34m\u001b[0m\u001b[0;34m\u001b[0m\u001b[0m\n\u001b[0m\u001b[1;32m      2\u001b[0m \u001b[0;34m\u001b[0m\u001b[0m\n\u001b[1;32m      3\u001b[0m \u001b[0mbaby_cells\u001b[0m \u001b[0;34m=\u001b[0m \u001b[0mnp\u001b[0m\u001b[0;34m.\u001b[0m\u001b[0mzeros_like\u001b[0m\u001b[0;34m(\u001b[0m\u001b[0mstate\u001b[0m\u001b[0;34m)\u001b[0m\u001b[0;34m\u001b[0m\u001b[0;34m\u001b[0m\u001b[0m\n\u001b[1;32m      4\u001b[0m \u001b[0mbaby_cells\u001b[0m\u001b[0;34m[\u001b[0m\u001b[0mbirth\u001b[0m\u001b[0;34m]\u001b[0m \u001b[0;34m=\u001b[0m \u001b[0;36m1\u001b[0m\u001b[0;34m\u001b[0m\u001b[0;34m\u001b[0m\u001b[0m\n\u001b[1;32m      5\u001b[0m \u001b[0;34m\u001b[0m\u001b[0m\n",
      "\u001b[0;31mNameError\u001b[0m: name 'ln' is not defined"
     ]
    }
   ],
   "source": [
    "birth = np.where(ln == breeding)\n",
    "\n",
    "baby_cells = np.zeros_like(state)\n",
    "baby_cells[birth] = 1\n",
    "\n",
    "plt.imshow(baby_cells, interpolation='nearest', cmap=\"gray_r\") \n",
    "plt.colorbar()"
   ]
  },
  {
   "cell_type": "code",
   "execution_count": 10,
   "id": "maritime-saint",
   "metadata": {},
   "outputs": [
    {
     "ename": "SyntaxError",
     "evalue": "invalid syntax (<ipython-input-10-d972af50b688>, line 4)",
     "output_type": "error",
     "traceback": [
      "\u001b[0;36m  File \u001b[0;32m\"<ipython-input-10-d972af50b688>\"\u001b[0;36m, line \u001b[0;32m4\u001b[0m\n\u001b[0;31m    print check.max()\u001b[0m\n\u001b[0m              ^\u001b[0m\n\u001b[0;31mSyntaxError\u001b[0m\u001b[0;31m:\u001b[0m invalid syntax\n"
     ]
    }
   ],
   "source": [
    "## These should be complementary\n",
    "\n",
    "check = dying_cells + baby_cells\n",
    "print check.max()"
   ]
  },
  {
   "cell_type": "code",
   "execution_count": 11,
   "id": "dated-george",
   "metadata": {
    "solution": "hidden"
   },
   "outputs": [
    {
     "ename": "NameError",
     "evalue": "name 'state' is not defined",
     "output_type": "error",
     "traceback": [
      "\u001b[0;31m---------------------------------------------------------------------------\u001b[0m",
      "\u001b[0;31mNameError\u001b[0m                                 Traceback (most recent call last)",
      "\u001b[0;32m<ipython-input-11-13803048a561>\u001b[0m in \u001b[0;36m<module>\u001b[0;34m\u001b[0m\n\u001b[1;32m      1\u001b[0m \u001b[0;31m# Logical operations on the entire array to update state\u001b[0m\u001b[0;34m\u001b[0m\u001b[0;34m\u001b[0m\u001b[0;34m\u001b[0m\u001b[0m\n\u001b[1;32m      2\u001b[0m \u001b[0;34m\u001b[0m\u001b[0m\n\u001b[0;32m----> 3\u001b[0;31m \u001b[0mnew_state\u001b[0m \u001b[0;34m=\u001b[0m \u001b[0mstate\u001b[0m\u001b[0;34m.\u001b[0m\u001b[0mcopy\u001b[0m\u001b[0;34m(\u001b[0m\u001b[0;34m)\u001b[0m\u001b[0;34m\u001b[0m\u001b[0;34m\u001b[0m\u001b[0m\n\u001b[0m\u001b[1;32m      4\u001b[0m \u001b[0mnew_state\u001b[0m\u001b[0;34m[\u001b[0m\u001b[0mdeath1\u001b[0m\u001b[0;34m]\u001b[0m   \u001b[0;34m=\u001b[0m \u001b[0;36m0\u001b[0m\u001b[0;34m\u001b[0m\u001b[0;34m\u001b[0m\u001b[0m\n\u001b[1;32m      5\u001b[0m \u001b[0mnew_state\u001b[0m\u001b[0;34m[\u001b[0m\u001b[0mdeath2\u001b[0m\u001b[0;34m]\u001b[0m   \u001b[0;34m=\u001b[0m \u001b[0;36m0\u001b[0m\u001b[0;34m\u001b[0m\u001b[0;34m\u001b[0m\u001b[0m\n",
      "\u001b[0;31mNameError\u001b[0m: name 'state' is not defined"
     ]
    }
   ],
   "source": [
    "# Logical operations on the entire array to update state\n",
    "\n",
    "new_state = state.copy()\n",
    "new_state[death1]   = 0\n",
    "new_state[death2]   = 0\n",
    "new_state[birth]  = 1\n",
    "\n",
    "plt.imshow(new_state, interpolation='nearest', cmap=\"gray_r\",) \n",
    "plt.colorbar()\n",
    "plt.savefig(\"Frame-1.png\", dpi=300, format=\"png\" )"
   ]
  },
  {
   "cell_type": "code",
   "execution_count": 12,
   "id": "sacred-anatomy",
   "metadata": {},
   "outputs": [
    {
     "ename": "SyntaxError",
     "evalue": "Missing parentheses in call to 'print'. Did you mean print(i)? (<ipython-input-12-036597bdef14>, line 8)",
     "output_type": "error",
     "traceback": [
      "\u001b[0;36m  File \u001b[0;32m\"<ipython-input-12-036597bdef14>\"\u001b[0;36m, line \u001b[0;32m8\u001b[0m\n\u001b[0;31m    print i\u001b[0m\n\u001b[0m          ^\u001b[0m\n\u001b[0;31mSyntaxError\u001b[0m\u001b[0;31m:\u001b[0m Missing parentheses in call to 'print'. Did you mean print(i)?\n"
     ]
    }
   ],
   "source": [
    "## Bundle this up to make a sequence of images\n",
    "\n",
    "state_list = [state.copy()]\n",
    "\n",
    "for i in range(0, 250):\n",
    "    \n",
    "    if i%50 == 0:\n",
    "        print i\n",
    "\n",
    "    ln = live_neighbours(state)\n",
    "\n",
    "    state[ln >= crowded]   = 0\n",
    "    state[ln <  lonely]    = 0\n",
    "    state[ln == breeding]  = 1\n",
    "\n",
    "    state_list.append(state.copy())\n",
    "    "
   ]
  },
  {
   "cell_type": "code",
   "execution_count": 13,
   "id": "electrical-cleaner",
   "metadata": {},
   "outputs": [
    {
     "ename": "NameError",
     "evalue": "name 'state_list' is not defined",
     "output_type": "error",
     "traceback": [
      "\u001b[0;31m---------------------------------------------------------------------------\u001b[0m",
      "\u001b[0;31mNameError\u001b[0m                                 Traceback (most recent call last)",
      "\u001b[0;32m<ipython-input-13-2f8a27d73c94>\u001b[0m in \u001b[0;36m<module>\u001b[0;34m\u001b[0m\n\u001b[0;32m----> 1\u001b[0;31m \u001b[0mstate_list\u001b[0m\u001b[0;34m\u001b[0m\u001b[0;34m\u001b[0m\u001b[0m\n\u001b[0m",
      "\u001b[0;31mNameError\u001b[0m: name 'state_list' is not defined"
     ]
    }
   ],
   "source": [
    "state_list"
   ]
  },
  {
   "cell_type": "markdown",
   "id": "favorite-dutch",
   "metadata": {
    "solution": "hidden",
    "solution_first": true
   },
   "source": [
    "### Exercise\n",
    "\n",
    "\n",
    "__Class Exercise:__ Now let's try to make a series of frames as images for a number of frames of the game of life. We could also try changing the parameters of the game to see what patterns develop. \n",
    "\n",
    "  - What resolution can we reach ? \n",
    "  - Can we work out ways to make this run faster ?\n",
    "  - What if there is more than one happy state where new cells grow ?"
   ]
  },
  {
   "cell_type": "code",
   "execution_count": 14,
   "id": "frequent-capture",
   "metadata": {
    "solution": "hidden"
   },
   "outputs": [],
   "source": [
    "def update_state(state):\n",
    "    new_state = state.copy()\n",
    "\n",
    "    ln = live_neighbours(state)\n",
    "    \n",
    "    death1 = np.where(ln >= crowded)\n",
    "    death2 = np.where(ln <  lonely)\n",
    "    birth  = np.where(ln == breeding)\n",
    "\n",
    "    new_state[death1]   = 0\n",
    "    new_state[death2]   = 0\n",
    "    new_state[birth]    = 1\n",
    "    \n",
    "    return new_state\n",
    "    "
   ]
  },
  {
   "cell_type": "code",
   "execution_count": 15,
   "id": "prepared-edgar",
   "metadata": {
    "solution": "hidden"
   },
   "outputs": [
    {
     "ename": "SyntaxError",
     "evalue": "invalid syntax (<ipython-input-15-afe02736947f>, line 11)",
     "output_type": "error",
     "traceback": [
      "\u001b[0;36m  File \u001b[0;32m\"<ipython-input-15-afe02736947f>\"\u001b[0;36m, line \u001b[0;32m11\u001b[0m\n\u001b[0;31m    print \"Step {} - living cells - {}\".format(step, np.count_nonzero(new_state))\u001b[0m\n\u001b[0m                                      ^\u001b[0m\n\u001b[0;31mSyntaxError\u001b[0m\u001b[0;31m:\u001b[0m invalid syntax\n"
     ]
    }
   ],
   "source": [
    "# Initialise\n",
    "\n",
    "state = np.round(np.random.random_sample((size,size) )).astype(int)\n",
    "steps = 100\n",
    "\n",
    "# Loops and save image\n",
    "\n",
    "for step in range(0, steps):\n",
    "    \n",
    "    new_state = update_state(state)\n",
    "    print \"Step {} - living cells - {}\".format(step, np.count_nonzero(new_state))\n",
    "    \n",
    "    plt.imshow(new_state, interpolation='nearest', cmap=\"gray_r\",) \n",
    "    plt.savefig(\"Frame-{:04d}.png\".format(step), dpi=300, format=\"png\" )\n",
    "    \n",
    "    # We could keep all of these for later or discard\n",
    "    state = new_state"
   ]
  },
  {
   "cell_type": "markdown",
   "id": "cosmetic-roads",
   "metadata": {},
   "source": [
    "### Speedup\n",
    "\n",
    "What is taking the time in this computation ?\n",
    "\n",
    "  - Boundaries always reset to zero, do away with submatrix tests ?\n",
    "  - Fastest way to reset boundaries ?\n",
    "  - Logic tests or multiply or add / cap the max"
   ]
  },
  {
   "cell_type": "markdown",
   "id": "varied-option",
   "metadata": {},
   "source": [
    "## Animation"
   ]
  },
  {
   "cell_type": "code",
   "execution_count": 16,
   "id": "sufficient-bermuda",
   "metadata": {},
   "outputs": [
    {
     "ename": "NameError",
     "evalue": "name 'state_list' is not defined",
     "output_type": "error",
     "traceback": [
      "\u001b[0;31m---------------------------------------------------------------------------\u001b[0m",
      "\u001b[0;31mNameError\u001b[0m                                 Traceback (most recent call last)",
      "\u001b[0;32m<ipython-input-16-4cfb96012f80>\u001b[0m in \u001b[0;36m<module>\u001b[0;34m\u001b[0m\n\u001b[1;32m      4\u001b[0m \u001b[0mfig\u001b[0m\u001b[0;34m,\u001b[0m \u001b[0max\u001b[0m \u001b[0;34m=\u001b[0m \u001b[0mplt\u001b[0m\u001b[0;34m.\u001b[0m\u001b[0msubplots\u001b[0m\u001b[0;34m(\u001b[0m\u001b[0;34m)\u001b[0m\u001b[0;34m\u001b[0m\u001b[0;34m\u001b[0m\u001b[0m\n\u001b[1;32m      5\u001b[0m \u001b[0mfig\u001b[0m\u001b[0;34m.\u001b[0m\u001b[0mset_size_inches\u001b[0m\u001b[0;34m(\u001b[0m\u001b[0;34m(\u001b[0m\u001b[0;36m7\u001b[0m\u001b[0;34m,\u001b[0m\u001b[0;36m7\u001b[0m\u001b[0;34m)\u001b[0m\u001b[0;34m)\u001b[0m\u001b[0;34m\u001b[0m\u001b[0;34m\u001b[0m\u001b[0m\n\u001b[0;32m----> 6\u001b[0;31m \u001b[0manimage\u001b[0m \u001b[0;34m=\u001b[0m \u001b[0max\u001b[0m\u001b[0;34m.\u001b[0m\u001b[0mimshow\u001b[0m\u001b[0;34m(\u001b[0m\u001b[0mstate_list\u001b[0m\u001b[0;34m[\u001b[0m\u001b[0;36m0\u001b[0m\u001b[0;34m]\u001b[0m\u001b[0;34m,\u001b[0m \u001b[0minterpolation\u001b[0m\u001b[0;34m=\u001b[0m\u001b[0;34m'bilinear'\u001b[0m\u001b[0;34m,\u001b[0m \u001b[0mcmap\u001b[0m\u001b[0;34m=\u001b[0m\u001b[0mplt\u001b[0m\u001b[0;34m.\u001b[0m\u001b[0mcm\u001b[0m\u001b[0;34m.\u001b[0m\u001b[0mbone\u001b[0m\u001b[0;34m)\u001b[0m\u001b[0;34m\u001b[0m\u001b[0;34m\u001b[0m\u001b[0m\n\u001b[0m",
      "\u001b[0;31mNameError\u001b[0m: name 'state_list' is not defined"
     ]
    },
    {
     "data": {
      "image/png": "[encoded data removed]",
      "text/plain": [
       "<Figure size 504x504 with 1 Axes>"
      ]
     },
     "metadata": {
      "filenames": {
       "image/png": "/home/runner/work/EMSC-4033/EMSC-4033/Jupyterbook/_build/jupyter_execute/Notebooks/Themes/NumpyAndScipy/3-Discussion-TheGameOfLife_21_1.png"
      },
      "needs_background": "light"
     },
     "output_type": "display_data"
    }
   ],
   "source": [
    "from matplotlib import animation, rc\n",
    "from IPython.display import HTML\n",
    "\n",
    "fig, ax = plt.subplots()\n",
    "fig.set_size_inches((7,7))\n",
    "animage = ax.imshow(state_list[0], interpolation='bilinear', cmap=plt.cm.bone)"
   ]
  },
  {
   "cell_type": "code",
   "execution_count": 17,
   "id": "dangerous-macedonia",
   "metadata": {},
   "outputs": [
    {
     "ename": "NameError",
     "evalue": "name 'state_list' is not defined",
     "output_type": "error",
     "traceback": [
      "\u001b[0;31m---------------------------------------------------------------------------\u001b[0m",
      "\u001b[0;31mNameError\u001b[0m                                 Traceback (most recent call last)",
      "\u001b[0;32m<ipython-input-17-f313b53a6163>\u001b[0m in \u001b[0;36m<module>\u001b[0;34m\u001b[0m\n\u001b[1;32m      8\u001b[0m \u001b[0;34m\u001b[0m\u001b[0m\n\u001b[1;32m      9\u001b[0m anim = animation.FuncAnimation(fig, animate, init_func=init,\n\u001b[0;32m---> 10\u001b[0;31m                                \u001b[0mframes\u001b[0m\u001b[0;34m=\u001b[0m\u001b[0mlen\u001b[0m\u001b[0;34m(\u001b[0m\u001b[0mstate_list\u001b[0m\u001b[0;34m)\u001b[0m\u001b[0;34m,\u001b[0m \u001b[0minterval\u001b[0m\u001b[0;34m=\u001b[0m\u001b[0;36m50\u001b[0m\u001b[0;34m,\u001b[0m\u001b[0;34m\u001b[0m\u001b[0;34m\u001b[0m\u001b[0m\n\u001b[0m\u001b[1;32m     11\u001b[0m                                blit=True)\n",
      "\u001b[0;31mNameError\u001b[0m: name 'state_list' is not defined"
     ]
    }
   ],
   "source": [
    "def init():\n",
    "    animage.set_data(state_list[0])\n",
    "    return (animage,)\n",
    "\n",
    "def animate(i):\n",
    "    animage.set_data(state_list[i])\n",
    "    return (animage,)\n",
    "\n",
    "anim = animation.FuncAnimation(fig, animate, init_func=init,\n",
    "                               frames=len(state_list), interval=50, \n",
    "                               blit=True)"
   ]
  },
  {
   "cell_type": "code",
   "execution_count": 18,
   "id": "square-northern",
   "metadata": {},
   "outputs": [
    {
     "ename": "NameError",
     "evalue": "name 'anim' is not defined",
     "output_type": "error",
     "traceback": [
      "\u001b[0;31m---------------------------------------------------------------------------\u001b[0m",
      "\u001b[0;31mNameError\u001b[0m                                 Traceback (most recent call last)",
      "\u001b[0;32m<ipython-input-18-3115c674a9d7>\u001b[0m in \u001b[0;36m<module>\u001b[0;34m\u001b[0m\n\u001b[0;32m----> 1\u001b[0;31m \u001b[0mHTML\u001b[0m\u001b[0;34m(\u001b[0m\u001b[0manim\u001b[0m\u001b[0;34m.\u001b[0m\u001b[0mto_jshtml\u001b[0m\u001b[0;34m(\u001b[0m\u001b[0;34m)\u001b[0m\u001b[0;34m)\u001b[0m\u001b[0;34m\u001b[0m\u001b[0;34m\u001b[0m\u001b[0m\n\u001b[0m",
      "\u001b[0;31mNameError\u001b[0m: name 'anim' is not defined"
     ]
    }
   ],
   "source": [
    "HTML(anim.to_jshtml())"
   ]
  },
  {
   "cell_type": "code",
   "execution_count": null,
   "id": "married-effect",
   "metadata": {},
   "outputs": [],
   "source": []
  },
  {
   "cell_type": "code",
   "execution_count": null,
   "id": "judicial-spread",
   "metadata": {},
   "outputs": [],
   "source": []
  }
 ],
 "metadata": {
  "jupytext": {
   "text_representation": {
    "extension": ".md",
    "format_name": "myst",
    "format_version": 0.12,
    "jupytext_version": "1.6.0"
   }
  },
  "kernelspec": {
   "display_name": "Python 3",
   "language": "python",
   "name": "python3"
  },
  "language_info": {
   "codemirror_mode": {
    "name": "ipython",
    "version": 3
   },
   "file_extension": ".py",
   "mimetype": "text/x-python",
   "name": "python",
   "nbconvert_exporter": "python",
   "pygments_lexer": "ipython3",
   "version": "3.7.10"
  },
  "source_map": [
   14,
   20,
   32,
   39,
   43,
   52,
   56,
   71,
   78,
   88,
   95,
   106,
   116,
   123,
   138,
   158,
   162,
   175,
   195,
   215,
   226,
   231,
   240,
   254,
   258,
   262
  ]
 },
 "nbformat": 4,
 "nbformat_minor": 5
}