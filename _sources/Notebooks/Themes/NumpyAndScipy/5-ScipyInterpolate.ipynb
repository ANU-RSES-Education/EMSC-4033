{
 "cells": [
  {
   "cell_type": "markdown",
   "id": "a88479f4",
   "metadata": {},
   "source": [
    "# `scipy.interpolate`\n",
    "\n",
    "This module provides general interpolation capability for data in 1, 2, and higher dimensions. This list of features is from the documentation:\n",
    "\n",
    "  - A class representing an interpolant (interp1d) in 1-D, offering several interpolation methods.\n",
    "\n",
    "  - Convenience function griddata offering a simple interface to interpolation in N dimensions (N = 1, 2, 3, 4, ...).     Object-oriented interface for the underlying routines is also available.\n",
    "  \n",
    "  - Functions for 1- and 2-dimensional (smoothed) cubic-spline interpolation, based on the FORTRAN library FITPACK.       There are both procedural and object-oriented interfaces for the FITPACK library.\n",
    "  \n",
    "  - Interpolation using Radial Basis Functions."
   ]
  },
  {
   "cell_type": "code",
   "execution_count": null,
   "id": "e206286f",
   "metadata": {},
   "outputs": [],
   "source": [
    "%matplotlib inline\n",
    "import matplotlib.pyplot as plt\n",
    "import numpy as np"
   ]
  },
  {
   "cell_type": "markdown",
   "id": "c275654d",
   "metadata": {},
   "source": [
    "## 1D data"
   ]
  },
  {
   "cell_type": "code",
   "execution_count": null,
   "id": "63846776",
   "metadata": {},
   "outputs": [],
   "source": [
    "from scipy.interpolate import interp1d"
   ]
  },
  {
   "cell_type": "code",
   "execution_count": null,
   "id": "a233add0",
   "metadata": {},
   "outputs": [],
   "source": [
    "x = np.linspace(0, 10, num=11, endpoint=True)\n",
    "y = np.cos(-x**2/9.0)\n",
    "f = interp1d(x, y, kind='linear') # default if kind=None\n",
    "f2 = interp1d(x, y, kind='cubic')\n",
    "f3 = interp1d(x, y, kind='nearest')"
   ]
  },
  {
   "cell_type": "code",
   "execution_count": null,
   "id": "862e7af9",
   "metadata": {},
   "outputs": [],
   "source": [
    "xnew = np.linspace(0, 10, num=41, endpoint=True)\n",
    "plt.plot(x, y, 'o', xnew, f(xnew), '-', xnew, f2(xnew), '--', xnew, f3(xnew), '.-')\n",
    "plt.legend(['data', 'linear', 'cubic', 'nearest'], loc='best')\n",
    "plt.show()"
   ]
  },
  {
   "cell_type": "markdown",
   "id": "1d382d6e",
   "metadata": {},
   "source": [
    "## nD data\n",
    "\n",
    "There are fewer approaches to n-dimensional data, the evaluation for arbitrary dimensions is always for points on an n dimensional grid."
   ]
  },
  {
   "cell_type": "code",
   "execution_count": null,
   "id": "fb3b19a5",
   "metadata": {},
   "outputs": [],
   "source": [
    "from scipy.interpolate import griddata\n",
    "\n",
    "def func(x, y):\n",
    "    return x*(1-x)*np.cos(4*np.pi*x) * np.sin(4*np.pi*y**2)**2"
   ]
  },
  {
   "cell_type": "code",
   "execution_count": null,
   "id": "57f0e641",
   "metadata": {
    "solution": "hidden",
    "solution_first": true
   },
   "outputs": [],
   "source": [
    "# A regular grid array of x,y coordinates\n",
    "\n",
    "grid_x, grid_y = np.mgrid[0:1:100j, 0:1:200j] # see np.info(np.mgrid) for an explanation of the 200j !!"
   ]
  },
  {
   "cell_type": "code",
   "execution_count": null,
   "id": "3a69128e",
   "metadata": {
    "solution": "hidden"
   },
   "outputs": [],
   "source": [
    "np.info(np.mgrid)"
   ]
  },
  {
   "cell_type": "code",
   "execution_count": null,
   "id": "92b4e8e7",
   "metadata": {},
   "outputs": [],
   "source": [
    "# A random sampling within the same area\n",
    "\n",
    "points = np.random.rand(1000, 2)\n",
    "values = func(points[:,0], points[:,1])\n",
    "\n",
    "# Resample from the values at these points onto the regular mesh\n",
    "\n",
    "grid_z0 = griddata(points, values, (grid_x, grid_y), method='nearest')\n",
    "grid_z1 = griddata(points, values, (grid_x, grid_y), method='linear')\n",
    "grid_z2 = griddata(points, values, (grid_x, grid_y), method='cubic')"
   ]
  },
  {
   "cell_type": "code",
   "execution_count": null,
   "id": "3322d333",
   "metadata": {},
   "outputs": [],
   "source": [
    "plt.subplot(221)\n",
    "plt.imshow(func(grid_x, grid_y).T, extent=(0,1,0,1), origin='lower', cmap='jet')\n",
    "plt.plot(points[:,0], points[:,1], 'k.', ms=1)\n",
    "plt.title('Original')\n",
    "plt.subplot(222)\n",
    "plt.imshow(grid_z0.T, extent=(0,1,0,1), origin='lower', cmap='jet')\n",
    "plt.title('Nearest')\n",
    "plt.subplot(223)\n",
    "plt.imshow(grid_z1.T, extent=(0,1,0,1), origin='lower', cmap='jet')\n",
    "plt.title('Linear')\n",
    "plt.subplot(224)\n",
    "plt.imshow(grid_z2.T, extent=(0,1,0,1), origin='lower', cmap='jet')\n",
    "plt.title('Cubic')\n",
    "plt.gcf().set_size_inches(6, 6)\n",
    "plt.show()"
   ]
  },
  {
   "cell_type": "markdown",
   "id": "7911872d",
   "metadata": {},
   "source": [
    "## Splines \n",
    "\n",
    "Which have the added benefit of giving smooth derivative information"
   ]
  },
  {
   "cell_type": "code",
   "execution_count": null,
   "id": "0da70196",
   "metadata": {},
   "outputs": [],
   "source": [
    "from scipy.interpolate import splrep, splev"
   ]
  },
  {
   "cell_type": "code",
   "execution_count": null,
   "id": "d130c429",
   "metadata": {},
   "outputs": [],
   "source": [
    "x = np.arange(0, 2*np.pi+np.pi/4, 2*np.pi/8)\n",
    "y = np.sin(x)\n",
    "tck = splrep(x, y, s=0)\n",
    "xnew = np.arange(0, 2*np.pi, np.pi/50)\n",
    "ynew = splev(xnew, tck, der=0)\n",
    "yder = splev(xnew, tck, der=1)"
   ]
  },
  {
   "cell_type": "code",
   "execution_count": null,
   "id": "c6363574",
   "metadata": {},
   "outputs": [],
   "source": [
    "plt.figure()\n",
    "plt.plot(x, y, 'x', xnew, ynew, xnew, np.sin(xnew), x, y, 'b')\n",
    "plt.legend(['Linear', 'Cubic Spline', 'True'])\n",
    "plt.axis([-0.05, 6.33, -1.05, 1.05])\n",
    "plt.title('Cubic-spline interpolation')\n",
    "plt.show()"
   ]
  },
  {
   "cell_type": "code",
   "execution_count": null,
   "id": "1fd098e4",
   "metadata": {},
   "outputs": [],
   "source": [
    "plt.figure()\n",
    "plt.plot(xnew, yder, xnew, np.cos(xnew),'--')\n",
    "plt.legend(['Cubic Spline', 'True'])\n",
    "plt.axis([-0.05, 6.33, -1.05, 1.05])\n",
    "plt.title('Derivative estimation from spline')\n",
    "plt.show()"
   ]
  },
  {
   "cell_type": "markdown",
   "id": "82664f50",
   "metadata": {},
   "source": [
    "__2D splines__ are also available"
   ]
  },
  {
   "cell_type": "code",
   "execution_count": null,
   "id": "b9920f4d",
   "metadata": {},
   "outputs": [],
   "source": [
    "from scipy.interpolate import bisplrep, bisplev\n",
    "\n",
    "# Gridded function (at low resolution ... doesn't need to be gridded data here)\n",
    "\n",
    "x, y = np.mgrid[-1:1:20j, -1:1:20j]\n",
    "z = (x+y) * np.exp(-6.0*(x*x+y*y))\n",
    "\n",
    "plt.figure()\n",
    "plt.pcolor(x, y, z, cmap='jet')\n",
    "plt.colorbar()\n",
    "plt.title(\"Sparsely sampled function.\")\n",
    "plt.show()"
   ]
  },
  {
   "cell_type": "code",
   "execution_count": null,
   "id": "6d0775c5",
   "metadata": {},
   "outputs": [],
   "source": [
    "xnew, ynew = np.mgrid[-1:1:70j, -1:1:70j]\n",
    "\n",
    "## Create the spline-representation object tck\n",
    "\n",
    "tck = bisplrep(x, y, z, s=0)\n",
    "znew = bisplev(xnew[:,0], ynew[0,:], tck)"
   ]
  },
  {
   "cell_type": "code",
   "execution_count": null,
   "id": "aba376ea",
   "metadata": {},
   "outputs": [],
   "source": [
    "plt.figure()\n",
    "plt.pcolor(xnew, ynew, znew, cmap='jet')\n",
    "plt.colorbar()\n",
    "plt.title(\"Interpolated function.\")\n",
    "plt.show()"
   ]
  },
  {
   "cell_type": "markdown",
   "id": "d8902c81",
   "metadata": {},
   "source": [
    "## See also\n",
    "\n",
    "  - Radial basis function interpolation for scattered data in n dimensions (slow for large numbers of points): `from scipy.interpolate import Rbf`\n",
    "  - `scipy.ndimage` for fast interpolation operations on image-like arrays\n",
    "  - B-splines on regular arrays are found in the `scipy.signal` module"
   ]
  },
  {
   "cell_type": "code",
   "execution_count": null,
   "id": "0053b9cb",
   "metadata": {},
   "outputs": [],
   "source": []
  }
 ],
 "metadata": {
  "jupytext": {
   "text_representation": {
    "extension": ".md",
    "format_name": "myst",
    "format_version": 0.12,
    "jupytext_version": "1.6.0"
   }
  },
  "kernelspec": {
   "display_name": "Python 3",
   "language": "python",
   "name": "python3"
  },
  "source_map": [
   12,
   26,
   30,
   34,
   38,
   46,
   51,
   57,
   64,
   73,
   79,
   92,
   108,
   114,
   118,
   127,
   136,
   143,
   147,
   162,
   171,
   177,
   186
  ]
 },
 "nbformat": 4,
 "nbformat_minor": 5
}