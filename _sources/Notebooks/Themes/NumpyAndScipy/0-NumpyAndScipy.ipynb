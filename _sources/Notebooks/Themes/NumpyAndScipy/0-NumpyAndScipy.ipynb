{
 "cells": [
  {
   "cell_type": "markdown",
   "id": "pointed-explanation",
   "metadata": {},
   "source": [
    "# Numpy and Scipy\n",
    "\n",
    "Some words\n",
    "\n",
    "\n",
    "```{toctree}\n",
    ":hidden:\n",
    ":titlesonly:\n",
    "\n",
    "\n",
    "1-IntroductionToNumpy\n",
    "2-Application-TheGameOfLife\n",
    "3-Discussion-TheGameOfLife\n",
    "4-IntroductionToScipy\n",
    "5-ScipyInterpolate\n",
    "6-ScipySpatialAndMeshing\n",
    "7-ScipyOptimize\n",
    "8-Numpy+ScipyMiscellany\n",
    "```"
   ]
  }
 ],
 "metadata": {
  "jupytext": {
   "text_representation": {
    "extension": ".md",
    "format_name": "myst",
    "format_version": 0.12,
    "jupytext_version": "1.6.0"
   }
  },
  "kernelspec": {
   "display_name": "Python 3",
   "language": "python",
   "name": "python3"
  },
  "source_map": [
   12
  ]
 },
 "nbformat": 4,
 "nbformat_minor": 5
}