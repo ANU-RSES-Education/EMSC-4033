{
 "cells": [
  {
   "cell_type": "markdown",
   "id": "proper-transsexual",
   "metadata": {},
   "source": [
    "# Numpy and Scipy\n",
    "\n",
    "Some words\n",
    "\n",
    "\n",
    "```{toctree}\n",
    ":hidden:\n",
    ":titlesonly:\n",
    "\n",
    "\n",
    "1-IntroductionToNumpy\n",
    "2-Application-TheGameOfLife\n",
    "3-Discussion-TheGameOfLife\n",
    "4-IntroductionToScipy\n",
    "5-ScipyInterpolate\n",
    "6-ScipySpatialAndMeshing\n",
    "7-ScipyOptimize\n",
    "8-Numpy+ScipyMiscellany\n",
    "```"
   ]
  }
 ],
 "metadata": {
  "jupytext": {
   "text_representation": {
    "extension": ".md",
    "format_name": "myst",
    "format_version": 0.12,
    "jupytext_version": "1.6.0"
   }
  },
  "kernelspec": {
   "display_name": "Python 3",
   "language": "python",
   "name": "python3"
  },
  "language_info": {
   "codemirror_mode": {
    "name": "ipython",
    "version": 3
   },
   "file_extension": ".py",
   "mimetype": "text/x-python",
   "name": "python",
   "nbconvert_exporter": "python",
   "pygments_lexer": "ipython3",
   "version": "3.7.10"
  },
  "source_map": [
   12
  ]
 },
 "nbformat": 4,
 "nbformat_minor": 5
}