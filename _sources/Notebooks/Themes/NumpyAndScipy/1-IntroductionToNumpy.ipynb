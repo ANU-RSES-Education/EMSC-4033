{
 "cells": [
  {
   "cell_type": "markdown",
   "id": "fe63a720",
   "metadata": {},
   "source": [
    "# Numpy data structures\n",
    "\n",
    "When we looked at python data structures, it was obvious that the only way to deal with arrays of values (matrices / vectors etc) would be via lists and lists of lists.\n",
    "\n",
    "This is slow and inefficient in both execution and writing code. \n",
    "\n",
    "`numpy` attempts to fix this."
   ]
  },
  {
   "cell_type": "code",
   "execution_count": null,
   "id": "579dbec9",
   "metadata": {},
   "outputs": [],
   "source": [
    "import numpy as np\n",
    "\n",
    "## This is a list of everything in the module\n",
    "np.__all__"
   ]
  },
  {
   "cell_type": "code",
   "execution_count": null,
   "id": "76bf0a91",
   "metadata": {},
   "outputs": [],
   "source": [
    "an_array = np.array([0,1,2,3,4,5,6], dtype=np.float)\n",
    "\n",
    "print (an_array)\n",
    "print( type(an_array))\n",
    "help(an_array)"
   ]
  },
  {
   "cell_type": "code",
   "execution_count": null,
   "id": "4c603fe3",
   "metadata": {},
   "outputs": [],
   "source": [
    "print(an_array.dtype)\n",
    "print(an_array.shape)"
   ]
  },
  {
   "cell_type": "code",
   "execution_count": null,
   "id": "b42ce4f3",
   "metadata": {},
   "outputs": [],
   "source": [
    "A = np.zeros((4,4))\n",
    "print (A)\n",
    "\n",
    "print (A.shape)\n",
    "print (A.diagonal())\n",
    "\n",
    "A[0,0] = 2.0\n",
    "print (A)\n",
    "\n",
    "np.fill_diagonal(A, 1.0)\n",
    "print (A)\n",
    "\n",
    "B = A.diagonal()\n",
    "B[0] = 2.0"
   ]
  },
  {
   "cell_type": "code",
   "execution_count": null,
   "id": "9d55974d",
   "metadata": {},
   "outputs": [],
   "source": [
    "for i in range(0,A.shape[0]):\n",
    "    A[i,i] = 1.0\n",
    "print (A)\n",
    "print()\n",
    "\n",
    "A[:,2] = 2.0\n",
    "print (A)\n",
    "print()\n",
    "\n",
    "A[2,:] = 4.0\n",
    "print (A)\n",
    "print()\n",
    "\n",
    "print (A.T)\n",
    "print()\n",
    "\n",
    "A[...] = 0.0\n",
    "print (A)\n",
    "print()\n",
    "\n",
    "for i in range(0,A.shape[0]):\n",
    "    A[i,:] = float(i)\n",
    "    \n",
    "print (A)\n",
    "print()\n",
    "\n",
    "for i in range(0,A.shape[0]):\n",
    "    A[i,:] = i\n",
    "    \n",
    "print (A)\n",
    "print()\n",
    "\n",
    "print (A[::2,::2] )\n",
    "\n",
    "\n",
    "print (A[::-1,::-1])"
   ]
  },
  {
   "cell_type": "markdown",
   "id": "4a21676c",
   "metadata": {},
   "source": [
    "## Speed"
   ]
  },
  {
   "cell_type": "code",
   "execution_count": null,
   "id": "123ea915",
   "metadata": {},
   "outputs": [],
   "source": [
    "%%timeit\n",
    "\n",
    "B = np.zeros((1000,1000))\n",
    "for i in range(0,1000):\n",
    "    for j in range(0,1000):\n",
    "        B[i,j] = 2.0\n",
    "        \n",
    "        "
   ]
  },
  {
   "cell_type": "code",
   "execution_count": null,
   "id": "48c2c52a",
   "metadata": {},
   "outputs": [],
   "source": [
    "%%timeit\n",
    "\n",
    "B = np.zeros((1000,1000))\n",
    "B[:,:] = 2.0"
   ]
  },
  {
   "cell_type": "code",
   "execution_count": null,
   "id": "a0870d80",
   "metadata": {},
   "outputs": [],
   "source": [
    "%%timeit\n",
    "\n",
    "B = np.zeros((1000,1000))\n",
    "B[...] = 2.0"
   ]
  },
  {
   "cell_type": "markdown",
   "id": "150b6e31",
   "metadata": {},
   "source": [
    "## Views of the data (are free)\n",
    "\n",
    "It costs very little to look at data in a different way (e.g. to view a 2D array as a 1D vector).\n",
    "\n",
    "Making a copy is a different story"
   ]
  },
  {
   "cell_type": "code",
   "execution_count": null,
   "id": "32998a15",
   "metadata": {},
   "outputs": [],
   "source": [
    "print( A.reshape((2,8)))\n",
    "print()\n",
    "\n",
    "print( A.reshape((-1)))\n",
    "print( A.ravel())\n",
    "print()\n",
    "\n",
    "print( A.reshape((1,-1)))\n",
    "print()"
   ]
  },
  {
   "cell_type": "code",
   "execution_count": null,
   "id": "03254bf2",
   "metadata": {},
   "outputs": [],
   "source": [
    "%%timeit \n",
    "\n",
    "A.reshape((1,-1))"
   ]
  },
  {
   "cell_type": "code",
   "execution_count": null,
   "id": "f9f00b08",
   "metadata": {},
   "outputs": [],
   "source": [
    "%%timeit\n",
    "\n",
    "elements = A.shape[0]*A.shape[1]\n",
    "B = np.empty(elements)\n",
    "B[...] = A[:,:].reshape(elements)"
   ]
  },
  {
   "cell_type": "code",
   "execution_count": null,
   "id": "2f10d18a",
   "metadata": {},
   "outputs": [],
   "source": [
    "%%timeit\n",
    "\n",
    "elements = A.shape[0]*A.shape[1]\n",
    "B = np.empty(elements)\n",
    "\n",
    "for i in range(0,A.shape[0]):\n",
    "    for j in range(0,A.shape[1]):\n",
    "        B[i+j*A.shape[1]] = A[i,j]"
   ]
  },
  {
   "cell_type": "markdown",
   "id": "7ed2ad4c",
   "metadata": {},
   "source": [
    "__Exercise:__ Try this again for a 10000x10000 array"
   ]
  },
  {
   "cell_type": "markdown",
   "id": "d84d6eaf",
   "metadata": {},
   "source": [
    "## Indexing / broadcasting\n",
    "\n",
    "In numpy, we can index an array by explicitly specifying elements, by specifying slices, by supplying lists of indices (or arrays), we can also supply a boolean array of the same shape as the original array which will select / return an array of all those entries where `True` applies.\n",
    "\n",
    "Although some of these might seem difficult to use, they are often the result of other numpy operations. For example `np.where` converts a truth array to a list of indices."
   ]
  },
  {
   "cell_type": "code",
   "execution_count": null,
   "id": "ec0610d9",
   "metadata": {},
   "outputs": [],
   "source": [
    "AA = np.zeros((100,100))\n",
    "\n",
    "AA[10,11] = 1.0\n",
    "AA[99,1]  = 2.0\n",
    "\n",
    "cond = np.where(AA >= 1.0)\n",
    "print (cond)\n",
    "print (AA[cond])\n",
    "print (AA[ AA >= 1])\n",
    "print(AA>=1.0)"
   ]
  },
  {
   "cell_type": "markdown",
   "id": "dd1ec9a7",
   "metadata": {},
   "source": [
    "---\n",
    "\n",
    "Broadcasting is a way of looping on arrays which have \"compatible\" but unequal sizes.\n",
    "\n",
    "For example, the element-wise multiplication of 2 arrays\n",
    "\n",
    "```python\n",
    "a = np.array([1.0, 2.0, 3.0])\n",
    "b = np.array([2.0, 2.0, 2.0]) \n",
    "print a * b\n",
    "```\n",
    "has an equivalent:\n",
    "\n",
    "```python\n",
    "a = np.array([1.0, 2.0, 3.0])\n",
    "b = np.array([2.0]) \n",
    "print a * b\n",
    "```\n",
    "\n",
    "or \n",
    "\n",
    "```python\n",
    "a = np.array([1.0, 2.0, 3.0])\n",
    "b = 2.0 \n",
    "print a * b\n",
    "```\n",
    "\n",
    "in which the \"appropriate\" interpretation of `b` is made in each case to achieve the result."
   ]
  },
  {
   "cell_type": "code",
   "execution_count": null,
   "id": "a9d60beb",
   "metadata": {},
   "outputs": [],
   "source": [
    "a = np.array([1.0, 2.0, 3.0])\n",
    "b = np.array([2.0, 2.0, 2.0]) \n",
    "\n",
    "print( a * b)\n",
    "\n",
    "b = np.array([2.0]) \n",
    "\n",
    "print (a * b)\n",
    "print (a * 2.0)"
   ]
  },
  {
   "cell_type": "markdown",
   "id": "cbbb5930",
   "metadata": {},
   "source": [
    "Arrays are compatible as long as each of their dimensions (shape) is either equal to the other or 1. \n",
    "\n",
    "Thus, above, the multplication works when `a.shape` is `(1,3)` and `b.shape` is either `(1,3)` or `(1,1)`\n",
    "\n",
    "(Actually, these are `(3,)` and `(1,)` in the examples above ..."
   ]
  },
  {
   "cell_type": "code",
   "execution_count": null,
   "id": "9a0f1396",
   "metadata": {},
   "outputs": [],
   "source": [
    "print (a.shape)\n",
    "print (b.shape)\n",
    "print ((a*b).shape)\n",
    "print ((a+b).shape)\n",
    "\n",
    "\n",
    "aa = a.reshape(1,3)\n",
    "bb = b.reshape(1,1)\n",
    "\n",
    "print (aa.shape)\n",
    "print (bb.shape)\n",
    "print ((aa*bb).shape)\n",
    "print ((aa+bb).shape)"
   ]
  },
  {
   "cell_type": "markdown",
   "id": "4ec8fac5",
   "metadata": {},
   "source": [
    "In multiple dimensions, the rule applies but, perhaps, is less immediately intuitive:"
   ]
  },
  {
   "cell_type": "code",
   "execution_count": null,
   "id": "e6673c8a",
   "metadata": {},
   "outputs": [],
   "source": [
    "a = np.array([[ 0.0, 0.0, 0.0],\n",
    "              [10.0,10.0,10.0],\n",
    "              [20.0,20.0,20.0],\n",
    "              [30.0,30.0,30.0]])\n",
    "b = np.array([[1.0,2.0,3.0]])\n",
    "print (a + b)\n",
    "print ()\n",
    "print (a.shape)\n",
    "print (b.shape)\n",
    "print ((a+b).shape)"
   ]
  },
  {
   "cell_type": "markdown",
   "id": "ab35ed2b",
   "metadata": {},
   "source": [
    "Note that this also works for"
   ]
  },
  {
   "cell_type": "code",
   "execution_count": null,
   "id": "af6c1ae9",
   "metadata": {},
   "outputs": [],
   "source": [
    "a = np.array([[ 0.0, 0.0, 0.0],\n",
    "              [10.0,10.0,10.0],\n",
    "              [20.0,20.0,20.0],\n",
    "              [30.0,30.0,30.0]])\n",
    "\n",
    "b = np.array([1.0,2.0,3.0])\n",
    "print (a + b)\n",
    "print ()\n",
    "print (a.shape)\n",
    "print (b.shape)\n",
    "print ((a+b).shape)"
   ]
  },
  {
   "cell_type": "markdown",
   "id": "fec29a4e",
   "metadata": {},
   "source": [
    "But not for"
   ]
  },
  {
   "cell_type": "code",
   "execution_count": null,
   "id": "338d20d2",
   "metadata": {},
   "outputs": [],
   "source": [
    "a = np.array([[ 0.0, 0.0, 0.0],\n",
    "              [10.0,10.0,10.0],\n",
    "              [20.0,20.0,20.0],\n",
    "              [30.0,30.0,30.0]])\n",
    "\n",
    "b = np.array([[1.0],[2.0],[3.0]])\n",
    "\n",
    "print (a.shape)\n",
    "print (b.shape)\n",
    "print ((a+b).shape)"
   ]
  },
  {
   "cell_type": "markdown",
   "id": "2d75f0ce",
   "metadata": {},
   "source": [
    "## Vector Operations"
   ]
  },
  {
   "cell_type": "code",
   "execution_count": null,
   "id": "9170bd9c",
   "metadata": {},
   "outputs": [],
   "source": [
    "X = np.arange(0.0, 2.0*np.pi, 0.0001)"
   ]
  },
  {
   "cell_type": "code",
   "execution_count": null,
   "id": "99972ec9",
   "metadata": {},
   "outputs": [],
   "source": [
    "print (X)"
   ]
  },
  {
   "cell_type": "code",
   "execution_count": null,
   "id": "70126070",
   "metadata": {},
   "outputs": [],
   "source": [
    "import math\n",
    "\n",
    "math.sin(X)"
   ]
  },
  {
   "cell_type": "code",
   "execution_count": null,
   "id": "713762a4",
   "metadata": {},
   "outputs": [],
   "source": [
    "np.sin(X)"
   ]
  },
  {
   "cell_type": "code",
   "execution_count": null,
   "id": "070011dd",
   "metadata": {},
   "outputs": [],
   "source": [
    "S = np.sin(X)\n",
    "C = np.cos(X)"
   ]
  },
  {
   "cell_type": "code",
   "execution_count": null,
   "id": "2e39b713",
   "metadata": {},
   "outputs": [],
   "source": [
    "S2 =  S**2 + C**2\n",
    "print (S2)"
   ]
  },
  {
   "cell_type": "code",
   "execution_count": null,
   "id": "789827c7",
   "metadata": {},
   "outputs": [],
   "source": [
    "print (S2 - 1.0)"
   ]
  },
  {
   "cell_type": "code",
   "execution_count": null,
   "id": "9752a674",
   "metadata": {},
   "outputs": [],
   "source": [
    "test = np.isclose(S2,1.0)\n",
    "print (test)"
   ]
  },
  {
   "cell_type": "code",
   "execution_count": null,
   "id": "5d427f30",
   "metadata": {},
   "outputs": [],
   "source": [
    "print (np.where(test == False))\n",
    "print (np.where(S2 == 0.0))"
   ]
  },
  {
   "cell_type": "markdown",
   "id": "09d44b6b",
   "metadata": {},
   "source": [
    "---\n",
    "\n",
    "__Exercise__: find out how long it takes to compute the sin, sqrt, power of a 1000000 length vector (array). How does this speed compare to using the normal `math` functions element by element in the array ? What happens if X is actually a complex array ?\n",
    "\n",
    "__Hints:__ you might find it useful to know about:\n",
    "  - `np.linspace` v `np.arange`\n",
    "  - `np.empty_like` or `np.zeros_like`\n",
    "  - the python `enumerate` function\n",
    "  - how to write a table in markdown\n",
    "  \n",
    "| description     | time   | notes |\n",
    "|-----------------|--------|-------|\n",
    "| `np.sin`        | ?      |       |\n",
    "| `math.sin`      | ?      |       |\n",
    "|                 | ?      |  -    |"
   ]
  },
  {
   "cell_type": "code",
   "execution_count": null,
   "id": "4cda587a",
   "metadata": {
    "solution": "hidden",
    "solution_first": true
   },
   "outputs": [],
   "source": [
    "X = np.linspace(0.0, 2.0*np.pi, 10000000)\n",
    "print (X.shape)\n",
    "\n",
    "# ... "
   ]
  },
  {
   "cell_type": "code",
   "execution_count": null,
   "id": "49768127",
   "metadata": {
    "solution": "hidden"
   },
   "outputs": [],
   "source": [
    "%%timeit\n",
    "S = np.sin(X)"
   ]
  },
  {
   "cell_type": "code",
   "execution_count": null,
   "id": "4979631e",
   "metadata": {
    "solution": "hidden"
   },
   "outputs": [],
   "source": [
    "%%timeit\n",
    "\n",
    "S = np.empty_like(X)\n",
    "for i, x in enumerate(X):\n",
    "    S[i] = math.sin(x)\n",
    "    "
   ]
  },
  {
   "cell_type": "code",
   "execution_count": null,
   "id": "f56f0d14",
   "metadata": {},
   "outputs": [],
   "source": [
    "XX = np.ones((100,100,100))\n",
    "XX.shape"
   ]
  },
  {
   "cell_type": "code",
   "execution_count": null,
   "id": "447c9750",
   "metadata": {},
   "outputs": [],
   "source": [
    "%%timeit\n",
    "np.sin(XX)"
   ]
  },
  {
   "cell_type": "code",
   "execution_count": null,
   "id": "1f5ed3bd",
   "metadata": {},
   "outputs": [],
   "source": [
    "%%timeit\n",
    "\n",
    "for i in range(0,100):\n",
    "    for j in range(0,100):\n",
    "        for k in range(0,100):\n",
    "            math.sin(XX[i,j,k])\n",
    "                    "
   ]
  },
  {
   "cell_type": "code",
   "execution_count": null,
   "id": "28286a1a",
   "metadata": {
    "solution": "hidden"
   },
   "outputs": [],
   "source": [
    "X = np.linspace(0.0, 2.0*np.pi, 10000000)\n",
    "Xj = X + 1.0j\n",
    "print (Xj.shape, Xj.dtype)"
   ]
  },
  {
   "cell_type": "code",
   "execution_count": null,
   "id": "1aba379c",
   "metadata": {
    "solution": "hidden"
   },
   "outputs": [],
   "source": [
    "%%timeit\n",
    "\n",
    "Sj = np.sin(Xj)"
   ]
  },
  {
   "cell_type": "code",
   "execution_count": null,
   "id": "b2fd3223",
   "metadata": {
    "solution": "hidden"
   },
   "outputs": [],
   "source": [
    "import cmath"
   ]
  },
  {
   "cell_type": "code",
   "execution_count": null,
   "id": "69eeac50",
   "metadata": {
    "solution": "hidden"
   },
   "outputs": [],
   "source": [
    "%%timeit\n",
    "\n",
    "Sj = np.empty_like(Xj)\n",
    "for i, x in enumerate(Xj):\n",
    "    Sj[i] = cmath.sin(x)\n",
    "    "
   ]
  },
  {
   "cell_type": "markdown",
   "id": "b341931f",
   "metadata": {
    "solution": "hidden",
    "solution_first": true
   },
   "source": [
    "__Exercise__: look through the functions below from numpy, choose 3 of them and work out how to use them on arrays of data. Write a few lines to explain what you find. \n",
    "\n",
    "  - `np.max` v. `np.argmax`\n",
    "  - `np.where`\n",
    "  - `np.logical_and`\n",
    "  - `np.fill_diagonal`\n",
    "  - `np.count_nonzero`\n",
    "  - `np.isinf` and `np.isnan`\n",
    "  \n",
    "  \n",
    "Here is an example: \n",
    "\n",
    "`np.concatenate` takes a number of arrays and glues them together. For 1D arrays this is simple:\n",
    "\n",
    "```python\n",
    "\n",
    "A = np.array([1.0,1.0,1.0,1.0])\n",
    "B = np.array([2.0,2.0,2.0,2.0])\n",
    "C = np.array([3.0,3.0,3.0,3.0])\n",
    "\n",
    "R = np.concatenate((A,B,C))\n",
    "\n",
    "# array([ 1.,  1.,  1.,  1.,  2.,  2.,  2.,  2.,  3.,  3.,  3.,  3.])\n",
    "```\n",
    "\n",
    "an equivalent statement is `np.hstack((A,B,C))` but note the difference with `np.vstack((A,B,C))`\n",
    "\n",
    "With higher dimensional arrays, the gluing takes place along one `axis`:\n",
    "\n",
    "```python\n",
    "A = np.array(([1.0,1.0,1.0,1.0],[2.0,2.0,2.0,2.0]))\n",
    "B = np.array(([3.0,3.0,3.0,3.0],[4.0,4.0,4.0,4.0]))\n",
    "C = np.array(([5.0,5.0,5.0,5.0],[6.0,6.0,6.0,6.0]))\n",
    "\n",
    "R = np.concatenate((A,B,C))\n",
    "print R\n",
    "print\n",
    "R = np.concatenate((A,B,C), axis=1)\n",
    "print R\n",
    "\n",
    "```"
   ]
  },
  {
   "cell_type": "code",
   "execution_count": null,
   "id": "5a71cc7e",
   "metadata": {
    "solution": "hidden"
   },
   "outputs": [],
   "source": [
    "# Test the results here \n",
    "\n",
    "A = np.array(([1.0,1.0,1.0,1.0],[2.0,2.0,2.0,2.0]))\n",
    "B = np.array(([3.0,3.0,3.0,3.0],[4.0,4.0,4.0,4.0]))\n",
    "C = np.array(([5.0,5.0,5.0,5.0],[6.0,6.0,6.0,6.0]))\n",
    "\n",
    "R = np.concatenate((A,B,C))\n",
    "print R\n",
    "print\n",
    "R = np.concatenate((A,B,C), axis=1)\n",
    "print R"
   ]
  }
 ],
 "metadata": {
  "jupytext": {
   "text_representation": {
    "extension": ".md",
    "format_name": "myst",
    "format_version": 0.12,
    "jupytext_version": "1.6.0"
   }
  },
  "kernelspec": {
   "display_name": "Python 3",
   "language": "python",
   "name": "python3"
  },
  "source_map": [
   12,
   22,
   29,
   37,
   42,
   59,
   96,
   100,
   111,
   118,
   123,
   131,
   143,
   149,
   157,
   166,
   170,
   178,
   189,
   220,
   230,
   238,
   252,
   256,
   267,
   271,
   283,
   287,
   298,
   302,
   306,
   310,
   316,
   320,
   325,
   330,
   334,
   339,
   342,
   360,
   370,
   377,
   388,
   393,
   398,
   408,
   416,
   424,
   430,
   441,
   485
  ]
 },
 "nbformat": 4,
 "nbformat_minor": 5
}