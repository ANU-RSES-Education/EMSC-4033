{
 "cells": [
  {
   "cell_type": "markdown",
   "id": "d4514c38",
   "metadata": {},
   "source": [
    "# scipy \n",
    "\n",
    "\n",
    "`scipy` is a collection of tools that are commonly encountered in scientific environments. The implementations are generally robust and reliable. The documentation varies in quality but is generally helpful. \n",
    "\n",
    "It is impossible to cover all the aspects of the entire package because it includes modules to cover an enormous range of functionality:\n",
    "\n",
    "  - `cluster`: clustering algorithms (data analysis)\n",
    "  - `constants`: physical / mathematical constants\n",
    "  - `fftpack`: fourier transforms\n",
    "  - `integrate`: numerical integration routines\n",
    "  - `interpolate`: various data interpolation routines\n",
    "  - `linalg`: linear algebra routines (matrices etc)\n",
    "  - `ndimage`: N dimensional image manipulation and resizing (also array manipulations)\n",
    "  - `odr`: Orthogonal distance regression\n",
    "  - `optimize`: Optimization / root finding\n",
    "  - `signal`: Signal processing\n",
    "  - `sparse`: Sparse matrix packages\n",
    "  - `spatial`: Spatial data / triangulation / Voronoi diagrams \n",
    "  - `special`: Special (mathematical) functions \n",
    "  - `stats`: Statistics routines\n",
    "  \n",
    "  \n",
    "Here we will just skim some of the available sub-modules and go through some of the examples provided."
   ]
  },
  {
   "cell_type": "code",
   "execution_count": null,
   "id": "0ce34a90",
   "metadata": {},
   "outputs": [],
   "source": [
    "## importing scipy does very little (mostly the numpy namespace)\n",
    "import numpy as np\n",
    "import scipy\n",
    "\n",
    "## to use the modules import each one separately\n",
    "from scipy import constants as constants\n",
    "\n",
    "print (constants.electron_mass)\n",
    "print ()\n",
    "print (constants.find(\"electron mass\"))\n",
    "print ()\n",
    "print (constants.value(\"electron mass\"),\" \", constants.unit(\"electron mass\"))"
   ]
  },
  {
   "cell_type": "code",
   "execution_count": null,
   "id": "93ae83de",
   "metadata": {},
   "outputs": [],
   "source": [
    "## Note, this is actually the numpy array as well\n",
    "\n",
    "help(scipy.ndarray)"
   ]
  },
  {
   "cell_type": "code",
   "execution_count": null,
   "id": "d5e020ec",
   "metadata": {},
   "outputs": [],
   "source": []
  }
 ],
 "metadata": {
  "jupytext": {
   "text_representation": {
    "extension": ".md",
    "format_name": "myst",
    "format_version": 0.12,
    "jupytext_version": "1.6.0"
   }
  },
  "kernelspec": {
   "display_name": "Python 3",
   "language": "python",
   "name": "python3"
  },
  "source_map": [
   12,
   39,
   54,
   60
  ]
 },
 "nbformat": 4,
 "nbformat_minor": 5
}