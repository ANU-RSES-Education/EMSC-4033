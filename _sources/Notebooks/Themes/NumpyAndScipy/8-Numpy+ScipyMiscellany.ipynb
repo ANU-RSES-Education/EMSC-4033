{
 "cells": [
  {
   "cell_type": "markdown",
   "id": "4cc78a81",
   "metadata": {
    "deletable": true,
    "editable": true
   },
   "source": [
    "#  Data storage\n",
    "\n",
    "Python provides file read write and object serialisation / reconstruction (python pickle module). `numpy` provides methods for storing and retrieving structured arrays quickly and efficiently (including data compression). `scipy` provides some helper functions for common file formats such as `netcdf` and `matlab` etc etc.\n",
    "\n",
    "Sometimes data are hard won - and reformatting them into easily retrieved files can be a lifesaver."
   ]
  },
  {
   "cell_type": "code",
   "execution_count": null,
   "id": "7f7c6bfa",
   "metadata": {
    "deletable": true,
    "editable": true
   },
   "outputs": [],
   "source": [
    "import numpy as np\n",
    "from scipy.io import netcdf"
   ]
  },
  {
   "cell_type": "markdown",
   "id": "b280edb8",
   "metadata": {
    "deletable": true,
    "editable": true
   },
   "source": [
    "## text-based data files\n",
    "\n",
    "Completely portable and human readable, text-based formats are common outputs from simple scripted programs, web searches, program logs etc. Reading and writing them is trivial, and it is easy to append information to a file. The only problem is that the conversion can be extremely slow. \n",
    "\n",
    "This example is taken from our mapping exercise and shows the benefit of converting data to binary formats.\n",
    "\n",
    "---\n",
    "\n",
    "```python\n",
    "\n",
    "# Seafloor age data and global image - data from Earthbyters\n",
    "\n",
    "# The data come as ascii lon / lat / age tuples with NaN for no data. \n",
    "# This can be loaded with ...\n",
    "\n",
    "age = np.loadtxt(\"global_age_data.3.6.xyz\")\n",
    "age_data = age.reshape(1801,3601,3)  # I looked at the data and figured out what numbers to use\n",
    "age_img  = age_data[:,:,2]\n",
    "\n",
    "# But this is super slow, so I have just stored the Age data on the grid (1801 x 3601) which we can reconstruct easily\n",
    "\n",
    "datasize = (1801, 3601, 3)\n",
    "age_data = np.empty(datasize)\n",
    "\n",
    "ages = np.load(\"global_age_data.3.6.z.npz\")[\"ageData\"]\n",
    "\n",
    "lats = np.linspace(90, -90, datasize[0])\n",
    "lons = np.linspace(-180.0,180.0, datasize[1])\n",
    "\n",
    "arrlons,arrlats = np.meshgrid(lons, lats)\n",
    "\n",
    "age_data[...,0] = arrlons[...]\n",
    "age_data[...,1] = arrlats[...]\n",
    "age_data[...,2] = ages[...]\n",
    "```\n",
    "\n",
    "\n",
    "---\n",
    "\n",
    "The timing comparison is astonishing\n",
    "\n",
    "On my laptop the numpy binary file is about a million times faster to read. I cut out the lat/lon values from this file to save some space, but this would add, at most, a factor of 3 to the npz timing."
   ]
  },
  {
   "cell_type": "code",
   "execution_count": null,
   "id": "6295a451",
   "metadata": {
    "deletable": true,
    "editable": true
   },
   "outputs": [],
   "source": [
    "%%timeit\n",
    "\n",
    "gadtxt = np.loadtxt(\"../../Data/Resources/global_age_data.3.6.xyz\")"
   ]
  },
  {
   "cell_type": "code",
   "execution_count": null,
   "id": "b074251e",
   "metadata": {
    "deletable": true,
    "editable": true
   },
   "outputs": [],
   "source": [
    "%%timeit\n",
    "\n",
    "gadnpy = np.load(\"../../Data/Resources/global_age_data.3.6.z.npz\")"
   ]
  },
  {
   "cell_type": "markdown",
   "id": "829da7f0",
   "metadata": {
    "deletable": true,
    "editable": true
   },
   "source": [
    "## netcdf\n",
    "\n",
    "Many earth-science datasets are stored in the `netcdf` format. `scipy` provides a reader for this format"
   ]
  },
  {
   "cell_type": "code",
   "execution_count": null,
   "id": "78025c3f",
   "metadata": {
    "deletable": true,
    "editable": true
   },
   "outputs": [],
   "source": [
    "nf = netcdf.netcdf_file(filename=\"../../Data/Resources/velocity_AU.nc\")\n",
    "\n",
    "from pprint import pprint # pretty printer for python objects\n",
    "\n",
    "pprint( nf.dimensions )\n",
    "pprint( nf.variables )\n",
    "\n",
    "print (nf.variables[\"lat\"].data.shape)\n",
    "print (nf.variables[\"lon\"].data.shape)\n",
    "print (nf.variables['ve'].data.shape)\n",
    "print (nf.variables['vn'].data.shape)"
   ]
  }
 ],
 "metadata": {
  "jupytext": {
   "text_representation": {
    "extension": ".md",
    "format_name": "myst",
    "format_version": 0.12,
    "jupytext_version": "1.6.0"
   }
  },
  "kernelspec": {
   "display_name": "Python 3",
   "language": "python",
   "name": "python3"
  },
  "source_map": [
   14,
   22,
   30,
   75,
   84,
   93,
   99
  ]
 },
 "nbformat": 4,
 "nbformat_minor": 5
}