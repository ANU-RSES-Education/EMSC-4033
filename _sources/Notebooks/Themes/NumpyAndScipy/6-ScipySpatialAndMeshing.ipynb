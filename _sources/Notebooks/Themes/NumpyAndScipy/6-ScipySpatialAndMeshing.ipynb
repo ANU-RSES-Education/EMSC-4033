{
 "cells": [
  {
   "cell_type": "markdown",
   "id": "9797fd5a",
   "metadata": {},
   "source": [
    "# `scipy.spatial` \n",
    "\n",
    "scipy.spatial can compute triangulations, Voronoi diagrams, and convex hulls of a set of points, by leveraging the `Qhull` library.\n",
    "\n",
    "Moreover, it contains `KDTree` implementations for nearest-neighbor point queries, and utilities for distance computations in various metrics.\n",
    "\n",
    "## Triangulations (qhull)"
   ]
  },
  {
   "cell_type": "code",
   "execution_count": null,
   "id": "dd0be39f",
   "metadata": {},
   "outputs": [],
   "source": [
    "%matplotlib inline\n",
    "\n",
    "import numpy as np\n",
    "from scipy.spatial import Delaunay, ConvexHull, Voronoi\n",
    "import matplotlib.pyplot as plt\n",
    "\n",
    "\n",
    "points = np.random.rand(30, 2)   # 30 random points in 2-D\n",
    "\n",
    "tri = Delaunay(points)\n",
    "hull = ConvexHull(points)\n",
    "voronoi = Voronoi(points)"
   ]
  },
  {
   "cell_type": "code",
   "execution_count": null,
   "id": "df4d5d12",
   "metadata": {},
   "outputs": [],
   "source": [
    "print (\"Neighbour triangles\\n\",tri.neighbors[0:5])\n",
    "print (\"Simplices\\n\", tri.simplices[0:5])\n",
    "print (\"Points\\n\", points[tri.simplices[0:5]])"
   ]
  },
  {
   "cell_type": "code",
   "execution_count": null,
   "id": "89abc991",
   "metadata": {},
   "outputs": [],
   "source": [
    "from scipy.spatial import delaunay_plot_2d\n",
    "delaunay_plot_2d(tri)\n",
    "pass"
   ]
  },
  {
   "cell_type": "code",
   "execution_count": null,
   "id": "ddb51907",
   "metadata": {},
   "outputs": [],
   "source": [
    "from scipy.spatial import convex_hull_plot_2d\n",
    "\n",
    "convex_hull_plot_2d(hull)\n",
    "pass"
   ]
  },
  {
   "cell_type": "code",
   "execution_count": null,
   "id": "e43c7345",
   "metadata": {},
   "outputs": [],
   "source": [
    "from scipy.spatial import voronoi_plot_2d\n",
    "\n",
    "voronoi_plot_2d(voronoi)\n",
    "pass"
   ]
  },
  {
   "cell_type": "markdown",
   "id": "4c42159f",
   "metadata": {},
   "source": [
    "## KDtree\n",
    "\n",
    "Allows very fast point to point searches."
   ]
  },
  {
   "cell_type": "code",
   "execution_count": null,
   "id": "958ee801",
   "metadata": {},
   "outputs": [],
   "source": [
    "from scipy.spatial import KDTree, cKDTree"
   ]
  },
  {
   "cell_type": "code",
   "execution_count": null,
   "id": "e2ae405a",
   "metadata": {},
   "outputs": [],
   "source": [
    "tree = cKDTree(points)\n",
    "\n",
    "print (tree.data)"
   ]
  },
  {
   "cell_type": "code",
   "execution_count": null,
   "id": "6dc0c8de",
   "metadata": {},
   "outputs": [],
   "source": [
    "%%timeit\n",
    "\n",
    "tree.query((0.5,0.5))"
   ]
  },
  {
   "cell_type": "code",
   "execution_count": null,
   "id": "d827d3e9",
   "metadata": {},
   "outputs": [],
   "source": [
    "test_points = np.random.rand(1000, 2)   # 1000 random points in 2-D"
   ]
  },
  {
   "cell_type": "code",
   "execution_count": null,
   "id": "d8ed6267",
   "metadata": {},
   "outputs": [],
   "source": [
    "%%timeit\n",
    "\n",
    "tree.query(test_points) "
   ]
  },
  {
   "cell_type": "code",
   "execution_count": null,
   "id": "03a25078",
   "metadata": {},
   "outputs": [],
   "source": [
    "more_points = np.random.rand(10000, 2)   # 1000 random points in 2-D\n",
    "\n",
    "big_tree = KDTree(more_points)"
   ]
  },
  {
   "cell_type": "code",
   "execution_count": null,
   "id": "af989057",
   "metadata": {},
   "outputs": [],
   "source": [
    "%%timeit\n",
    "\n",
    "KDTree(more_points)"
   ]
  },
  {
   "cell_type": "code",
   "execution_count": null,
   "id": "163dfb17",
   "metadata": {},
   "outputs": [],
   "source": [
    "%%timeit\n",
    "\n",
    "big_tree.query(test_points) "
   ]
  },
  {
   "cell_type": "markdown",
   "id": "1f3d6ae0",
   "metadata": {},
   "source": [
    "## Compare this to the brute-force version\n",
    "\n",
    "\n",
    "At what point does it make sense to use kdTree and not brute-force distance tests ?\n",
    "\n",
    "The brute force method takes a fixed time per sample point and a fixed cost associated with the N-neighbour distance computation (but this can be vectorised efficiently)."
   ]
  },
  {
   "cell_type": "code",
   "execution_count": null,
   "id": "deb3368c",
   "metadata": {},
   "outputs": [],
   "source": [
    "# Brute force version\n",
    "\n",
    "def brute_force_distance(pts, spt):\n",
    "\n",
    "    d = pts - spt\n",
    "    d2 = d**2\n",
    "    distances2 = np.einsum('ij->i',d2)\n",
    "    \n",
    "    nearest = np.argsort(distances2)[0]\n",
    "    \n",
    "    return np.sqrt(distances2[nearest]), nearest\n",
    "\n",
    "# print np.einsum('ij->i',distances2)"
   ]
  },
  {
   "cell_type": "code",
   "execution_count": null,
   "id": "378c4657",
   "metadata": {},
   "outputs": [],
   "source": [
    "print (brute_force_distance(more_points, (0.0,0.0)))\n",
    "print (big_tree.query((0.0,0.0)))"
   ]
  },
  {
   "cell_type": "code",
   "execution_count": null,
   "id": "56bb24c9",
   "metadata": {},
   "outputs": [],
   "source": [
    "%%timeit\n",
    "\n",
    "brute_force_distance(points, (0.5,0.5))\n",
    "brute_force_distance(points, (0.0,0.0))\n",
    "brute_force_distance(points, (0.25,0.25))"
   ]
  },
  {
   "cell_type": "code",
   "execution_count": null,
   "id": "1f17b455",
   "metadata": {},
   "outputs": [],
   "source": [
    "%%timeit\n",
    "\n",
    "tree.query(np.array([(0.5,0.5), (0.0,0.0), (0.25,0.25)]))"
   ]
  },
  {
   "cell_type": "code",
   "execution_count": null,
   "id": "c794b8b0",
   "metadata": {},
   "outputs": [],
   "source": [
    "%%timeit\n",
    "\n",
    "brute_force_distance(more_points, (0.5,0.5))\n",
    "# brute_force_distance(more_points, (0.0,0.0))\n",
    "# brute_force_distance(more_points, (0.25,0.25))"
   ]
  },
  {
   "cell_type": "code",
   "execution_count": null,
   "id": "7b321341",
   "metadata": {},
   "outputs": [],
   "source": [
    "%%timeit\n",
    "\n",
    "big_tree.query(np.array([(0.5,0.5), (0.0,0.0), (0.25,0.25)]))"
   ]
  },
  {
   "cell_type": "code",
   "execution_count": null,
   "id": "add38001",
   "metadata": {},
   "outputs": [],
   "source": []
  },
  {
   "cell_type": "code",
   "execution_count": null,
   "id": "3ebc7323",
   "metadata": {},
   "outputs": [],
   "source": []
  }
 ],
 "metadata": {
  "jupytext": {
   "text_representation": {
    "extension": ".md",
    "format_name": "myst",
    "format_version": 0.12,
    "jupytext_version": "1.6.0"
   }
  },
  "kernelspec": {
   "display_name": "Python 3",
   "language": "python",
   "name": "python3"
  },
  "source_map": [
   12,
   22,
   37,
   43,
   49,
   56,
   61,
   67,
   71,
   77,
   83,
   87,
   93,
   99,
   105,
   109,
   118,
   134,
   139,
   147,
   153,
   161,
   167,
   171
  ]
 },
 "nbformat": 4,
 "nbformat_minor": 5
}