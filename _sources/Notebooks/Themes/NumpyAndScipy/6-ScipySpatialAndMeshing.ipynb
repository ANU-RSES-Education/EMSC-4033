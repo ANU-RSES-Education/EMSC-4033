{
 "cells": [
  {
   "cell_type": "markdown",
   "id": "4c3647f4",
   "metadata": {},
   "source": [
    "# `scipy.spatial` \n",
    "\n",
    "scipy.spatial can compute triangulations, Voronoi diagrams, and convex hulls of a set of points, by leveraging the `Qhull` library.\n",
    "\n",
    "Moreover, it contains `KDTree` implementations for nearest-neighbor point queries, and utilities for distance computations in various metrics.\n",
    "\n",
    "## Triangulations (qhull)"
   ]
  },
  {
   "cell_type": "code",
   "execution_count": null,
   "id": "a2e314ef",
   "metadata": {},
   "outputs": [],
   "source": [
    "%matplotlib inline\n",
    "\n",
    "import numpy as np\n",
    "from scipy.spatial import Delaunay, ConvexHull, Voronoi\n",
    "import matplotlib.pyplot as plt\n",
    "\n",
    "\n",
    "points = np.random.rand(30, 2)   # 30 random points in 2-D\n",
    "\n",
    "tri = Delaunay(points)\n",
    "hull = ConvexHull(points)\n",
    "voronoi = Voronoi(points)"
   ]
  },
  {
   "cell_type": "code",
   "execution_count": null,
   "id": "31e81a9a",
   "metadata": {},
   "outputs": [],
   "source": [
    "print (\"Neighbour triangles\\n\",tri.neighbors[0:5])\n",
    "print (\"Simplices\\n\", tri.simplices[0:5])\n",
    "print (\"Points\\n\", points[tri.simplices[0:5]])"
   ]
  },
  {
   "cell_type": "code",
   "execution_count": null,
   "id": "ca60b60d",
   "metadata": {},
   "outputs": [],
   "source": [
    "from scipy.spatial import delaunay_plot_2d\n",
    "delaunay_plot_2d(tri)\n",
    "pass"
   ]
  },
  {
   "cell_type": "code",
   "execution_count": null,
   "id": "82a7ad0b",
   "metadata": {},
   "outputs": [],
   "source": [
    "from scipy.spatial import convex_hull_plot_2d\n",
    "\n",
    "convex_hull_plot_2d(hull)\n",
    "pass"
   ]
  },
  {
   "cell_type": "code",
   "execution_count": null,
   "id": "f8655b33",
   "metadata": {},
   "outputs": [],
   "source": [
    "from scipy.spatial import voronoi_plot_2d\n",
    "\n",
    "voronoi_plot_2d(voronoi)\n",
    "pass"
   ]
  },
  {
   "cell_type": "markdown",
   "id": "f0e7952c",
   "metadata": {},
   "source": [
    "## KDtree\n",
    "\n",
    "Allows very fast point to point searches."
   ]
  },
  {
   "cell_type": "code",
   "execution_count": null,
   "id": "e3d286f8",
   "metadata": {},
   "outputs": [],
   "source": [
    "from scipy.spatial import KDTree, cKDTree"
   ]
  },
  {
   "cell_type": "code",
   "execution_count": null,
   "id": "f38aa7a9",
   "metadata": {},
   "outputs": [],
   "source": [
    "tree = cKDTree(points)\n",
    "\n",
    "print (tree.data)"
   ]
  },
  {
   "cell_type": "code",
   "execution_count": null,
   "id": "9f538dca",
   "metadata": {},
   "outputs": [],
   "source": [
    "%%timeit\n",
    "\n",
    "tree.query((0.5,0.5))"
   ]
  },
  {
   "cell_type": "code",
   "execution_count": null,
   "id": "327d4a85",
   "metadata": {},
   "outputs": [],
   "source": [
    "test_points = np.random.rand(1000, 2)   # 1000 random points in 2-D"
   ]
  },
  {
   "cell_type": "code",
   "execution_count": null,
   "id": "52155588",
   "metadata": {},
   "outputs": [],
   "source": [
    "%%timeit\n",
    "\n",
    "tree.query(test_points) "
   ]
  },
  {
   "cell_type": "code",
   "execution_count": null,
   "id": "e6f3c99e",
   "metadata": {},
   "outputs": [],
   "source": [
    "more_points = np.random.rand(10000, 2)   # 1000 random points in 2-D\n",
    "\n",
    "big_tree = KDTree(more_points)"
   ]
  },
  {
   "cell_type": "code",
   "execution_count": null,
   "id": "149c95f3",
   "metadata": {},
   "outputs": [],
   "source": [
    "%%timeit\n",
    "\n",
    "KDTree(more_points)"
   ]
  },
  {
   "cell_type": "code",
   "execution_count": null,
   "id": "f67e09b2",
   "metadata": {},
   "outputs": [],
   "source": [
    "%%timeit\n",
    "\n",
    "big_tree.query(test_points) "
   ]
  },
  {
   "cell_type": "markdown",
   "id": "db43072f",
   "metadata": {},
   "source": [
    "## Compare this to the brute-force version\n",
    "\n",
    "\n",
    "At what point does it make sense to use kdTree and not brute-force distance tests ?\n",
    "\n",
    "The brute force method takes a fixed time per sample point and a fixed cost associated with the N-neighbour distance computation (but this can be vectorised efficiently)."
   ]
  },
  {
   "cell_type": "code",
   "execution_count": null,
   "id": "1b65026a",
   "metadata": {},
   "outputs": [],
   "source": [
    "# Brute force version\n",
    "\n",
    "def brute_force_distance(pts, spt):\n",
    "\n",
    "    d = pts - spt\n",
    "    d2 = d**2\n",
    "    distances2 = np.einsum('ij->i',d2)\n",
    "    \n",
    "    nearest = np.argsort(distances2)[0]\n",
    "    \n",
    "    return np.sqrt(distances2[nearest]), nearest\n",
    "\n",
    "# print np.einsum('ij->i',distances2)"
   ]
  },
  {
   "cell_type": "code",
   "execution_count": null,
   "id": "a1d01a09",
   "metadata": {},
   "outputs": [],
   "source": [
    "print (brute_force_distance(more_points, (0.0,0.0)))\n",
    "print (big_tree.query((0.0,0.0)))"
   ]
  },
  {
   "cell_type": "code",
   "execution_count": null,
   "id": "89b96529",
   "metadata": {},
   "outputs": [],
   "source": [
    "%%timeit\n",
    "\n",
    "brute_force_distance(points, (0.5,0.5))\n",
    "brute_force_distance(points, (0.0,0.0))\n",
    "brute_force_distance(points, (0.25,0.25))"
   ]
  },
  {
   "cell_type": "code",
   "execution_count": null,
   "id": "05741675",
   "metadata": {},
   "outputs": [],
   "source": [
    "%%timeit\n",
    "\n",
    "tree.query(np.array([(0.5,0.5), (0.0,0.0), (0.25,0.25)]))"
   ]
  },
  {
   "cell_type": "code",
   "execution_count": null,
   "id": "869e3c29",
   "metadata": {},
   "outputs": [],
   "source": [
    "%%timeit\n",
    "\n",
    "brute_force_distance(more_points, (0.5,0.5))\n",
    "# brute_force_distance(more_points, (0.0,0.0))\n",
    "# brute_force_distance(more_points, (0.25,0.25))"
   ]
  },
  {
   "cell_type": "code",
   "execution_count": null,
   "id": "243c6f29",
   "metadata": {},
   "outputs": [],
   "source": [
    "%%timeit\n",
    "\n",
    "big_tree.query(np.array([(0.5,0.5), (0.0,0.0), (0.25,0.25)]))"
   ]
  },
  {
   "cell_type": "code",
   "execution_count": null,
   "id": "26958c9a",
   "metadata": {},
   "outputs": [],
   "source": []
  },
  {
   "cell_type": "code",
   "execution_count": null,
   "id": "446050d9",
   "metadata": {},
   "outputs": [],
   "source": []
  }
 ],
 "metadata": {
  "jupytext": {
   "text_representation": {
    "extension": ".md",
    "format_name": "myst",
    "format_version": 0.12,
    "jupytext_version": "1.6.0"
   }
  },
  "kernelspec": {
   "display_name": "Python 3",
   "language": "python",
   "name": "python3"
  },
  "source_map": [
   12,
   22,
   37,
   43,
   49,
   56,
   61,
   67,
   71,
   77,
   83,
   87,
   93,
   99,
   105,
   109,
   118,
   134,
   139,
   147,
   153,
   161,
   167,
   171
  ]
 },
 "nbformat": 4,
 "nbformat_minor": 5
}