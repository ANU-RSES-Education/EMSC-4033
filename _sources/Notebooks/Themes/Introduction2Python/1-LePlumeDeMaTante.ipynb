{
 "cells": [
  {
   "cell_type": "markdown",
   "id": "96003de7",
   "metadata": {},
   "source": [
    "# Python Phrase Book\n",
    "\n",
    "The first thing we should do is become familiar with the shape and feel of python code because we can't really discuss the features of python without a few examples. So here is a little phrase book.\n",
    "\n",
    "```{admonition} Aside\n",
    "The Python name derives from *Monty Python's Flying Circus* which means you should be alarmed at the mention of a [Phrase Book](https://www.youtube.com/watch?v=C1Sw0PDgHU4)\n",
    "```"
   ]
  }
 ],
 "metadata": {
  "jupytext": {
   "text_representation": {
    "extension": ".md",
    "format_name": "myst",
    "format_version": 0.12,
    "jupytext_version": "1.6.0"
   }
  },
  "kernelspec": {
   "display_name": "Python 3",
   "language": "python",
   "name": "python3"
  },
  "source_map": [
   12
  ]
 },
 "nbformat": 4,
 "nbformat_minor": 5
}