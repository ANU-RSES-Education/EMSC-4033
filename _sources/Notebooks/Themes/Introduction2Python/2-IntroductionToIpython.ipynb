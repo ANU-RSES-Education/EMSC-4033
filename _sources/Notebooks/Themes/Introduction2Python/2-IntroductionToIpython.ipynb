{
 "cells": [
  {
   "cell_type": "markdown",
   "id": "occupational-layout",
   "metadata": {
    "deletable": true,
    "editable": true
   },
   "source": [
    "# ipython \n",
    "\n",
    "[ipython](https://ipython.org) is an _interactive_ version of the python interpreter. It provides a number of extras which are helpful when writing code. `ipython` code is almost always `python` code, and the differences are generally only important when editing a code in a live (interactive) environment. \n",
    "\n",
    "The `jupyter` notebook is a fine example of an interactive environment - you are changing the code as it runs and checking answers as you go. Because you may have a lot of half-completed results in an interactive script, you probably want to make as few mistakes as you can. This is the purpose of `ipython`.\n",
    "\n",
    "`ipython` provides access to the help / documentation system, provides tab completion of variable and function names, allows you see see what methods live inside a module ..."
   ]
  },
  {
   "cell_type": "code",
   "execution_count": 1,
   "id": "hidden-supplement",
   "metadata": {
    "deletable": true,
    "editable": true,
    "jupyter": {
     "outputs_hidden": true
    }
   },
   "outputs": [
    {
     "data": {
      "text/plain": [
       "1"
      ]
     },
     "execution_count": 1,
     "metadata": {},
     "output_type": "execute_result"
    }
   ],
   "source": [
    "## Try the autocomplete ... it works on functions that are in scope\n",
    "\n",
    "#print\n",
    "\n",
    "# it also works on variables\n",
    "\n",
    "long_but_helpful_variable_name = 1\n",
    "\n",
    "long_but_helpful_variable_name"
   ]
  },
  {
   "cell_type": "markdown",
   "id": "motivated-gossip",
   "metadata": {
    "deletable": true,
    "editable": true
   },
   "source": [
    "---\n",
    "\n",
    "It works on modules to list the available methods and variables. Take the `math` module, for example:"
   ]
  },
  {
   "cell_type": "code",
   "execution_count": 2,
   "id": "instrumental-visiting",
   "metadata": {
    "deletable": true,
    "editable": true,
    "jupyter": {
     "outputs_hidden": false
    },
    "tags": []
   },
   "outputs": [
    {
     "name": "stdout",
     "output_type": "stream",
     "text": [
      "Help on built-in function isnan in module math:\n",
      "\n",
      "isnan(x, /)\n",
      "    Return True if x is a NaN (not a number), and False otherwise.\n",
      "\n"
     ]
    }
   ],
   "source": [
    "import math\n",
    "\n",
    "math.isinf  # Try completion on this\n",
    "\n",
    "help(math.isnan)\n",
    "\n",
    "# try math.isinf() and hit shift-tab while the cursor is between the parentheses \n",
    "# you should see the same help pop up.\n",
    "\n",
    "# math.isinf()"
   ]
  },
  {
   "cell_type": "markdown",
   "id": "willing-finding",
   "metadata": {
    "deletable": true,
    "editable": true
   },
   "source": [
    "---\n",
    "\n",
    "It works on functions that take special arguments and tells you what you need to supply.\n",
    "\n",
    "Try this and try tabbing in the parenthesis when you use this function yourself:"
   ]
  },
  {
   "cell_type": "code",
   "execution_count": 3,
   "id": "removed-beaver",
   "metadata": {
    "deletable": true,
    "editable": true,
    "jupyter": {
     "outputs_hidden": false
    },
    "tags": [
     "raises-exception"
    ]
   },
   "outputs": [
    {
     "ename": "TypeError",
     "evalue": "capwords() missing 1 required positional argument: 's'",
     "output_type": "error",
     "traceback": [
      "\u001b[0;31m---------------------------------------------------------------------------\u001b[0m",
      "\u001b[0;31mTypeError\u001b[0m                                 Traceback (most recent call last)",
      "\u001b[0;32m<ipython-input-3-195c07cc461e>\u001b[0m in \u001b[0;36m<module>\u001b[0;34m\u001b[0m\n\u001b[1;32m      2\u001b[0m \u001b[0mstring\u001b[0m\u001b[0;34m.\u001b[0m\u001b[0mcapwords\u001b[0m\u001b[0;34m(\u001b[0m\u001b[0;34m\"the quality of mercy is not strained\"\u001b[0m\u001b[0;34m)\u001b[0m\u001b[0;34m\u001b[0m\u001b[0;34m\u001b[0m\u001b[0m\n\u001b[1;32m      3\u001b[0m \u001b[0;34m\u001b[0m\u001b[0m\n\u001b[0;32m----> 4\u001b[0;31m \u001b[0mstring\u001b[0m\u001b[0;34m.\u001b[0m\u001b[0mcapwords\u001b[0m\u001b[0;34m(\u001b[0m\u001b[0;34m)\u001b[0m\u001b[0;34m\u001b[0m\u001b[0;34m\u001b[0m\u001b[0m\n\u001b[0m",
      "\u001b[0;31mTypeError\u001b[0m: capwords() missing 1 required positional argument: 's'"
     ]
    }
   ],
   "source": [
    "import string\n",
    "string.capwords(\"the quality of mercy is not strained\")\n",
    "\n",
    "string.capwords()"
   ]
  },
  {
   "cell_type": "markdown",
   "id": "failing-external",
   "metadata": {
    "deletable": true,
    "editable": true
   },
   "source": [
    "It also provides special operations that allow you to drill down into the underlying shell / filesystem (but these are not standard python code any more)."
   ]
  },
  {
   "cell_type": "code",
   "execution_count": 4,
   "id": "impressive-shopping",
   "metadata": {
    "deletable": true,
    "editable": true,
    "jupyter": {
     "outputs_hidden": false
    }
   },
   "outputs": [
    {
     "name": "stdout",
     "output_type": "stream",
     "text": [
      "1-IntroductionToJupyterNotebooks.md  3-PythonDataTypes.md\r\n",
      "2-IntroductionToIpython.md\t     4-PythonClasses.md\r\n"
     ]
    },
    {
     "name": "stdout",
     "output_type": "stream",
     "text": [
      "\r\n"
     ]
    },
    {
     "name": "stdout",
     "output_type": "stream",
     "text": [
      "/home/runner/work/EMSC-4033/EMSC-4033/Notebooks/Themes/Introduction2Python\r\n"
     ]
    }
   ],
   "source": [
    "# execute simple unix shell commands \n",
    "\n",
    "!ls\n",
    "\n",
    "!echo \"\"\n",
    "\n",
    "!pwd"
   ]
  },
  {
   "cell_type": "markdown",
   "id": "acceptable-reynolds",
   "metadata": {
    "deletable": true,
    "editable": true
   },
   "source": [
    "---\n",
    "\n",
    "Another way to do this is to use the __cell magic__ functionality to direct the notebook to change the cell to something different (here everything in the cell is interpreted as a unix shell )"
   ]
  },
  {
   "cell_type": "code",
   "execution_count": 5,
   "id": "square-appreciation",
   "metadata": {
    "deletable": true,
    "editable": true,
    "jupyter": {
     "outputs_hidden": false
    }
   },
   "outputs": [
    {
     "name": "stdout",
     "output_type": "stream",
     "text": [
      "total 28\n",
      "-rw-r--r-- 1 runner docker 4910 Mar 22 11:52 1-IntroductionToJupyterNotebooks.md\n",
      "-rw-r--r-- 1 runner docker 3958 Mar 22 11:52 2-IntroductionToIpython.md\n",
      "-rw-r--r-- 1 runner docker 7245 Mar 22 11:52 3-PythonDataTypes.md\n",
      "-rw-r--r-- 1 runner docker 6764 Mar 22 11:52 4-PythonClasses.md\n",
      "\n",
      "/home/runner/work/EMSC-4033/EMSC-4033/Notebooks/Themes/Introduction2Python\n"
     ]
    }
   ],
   "source": [
    "%%sh \n",
    "\n",
    "ls -l\n",
    "\n",
    "echo \"\"\n",
    "\n",
    "pwd"
   ]
  },
  {
   "cell_type": "markdown",
   "id": "editorial-finding",
   "metadata": {
    "deletable": true,
    "editable": true
   },
   "source": [
    "---\n",
    "\n",
    "I don't advise using this too often as the code becomes more difficult to convert to python. \n",
    "\n",
    "  - A `%` is a one-line magic function that can go anywhere in the cell. \n",
    "  - A `%%` is a cell-wide function"
   ]
  },
  {
   "cell_type": "code",
   "execution_count": 6,
   "id": "indian-silence",
   "metadata": {
    "deletable": true,
    "editable": true,
    "jupyter": {
     "outputs_hidden": true
    }
   },
   "outputs": [],
   "source": [
    "%magic  # to see EVERYTHING in the magic system !"
   ]
  },
  {
   "cell_type": "markdown",
   "id": "written-summer",
   "metadata": {
    "deletable": true,
    "editable": true
   },
   "source": [
    "Useful magic functions:\n",
    "\n",
    "   - `%matplotlib inline` makes plots appear in the notebook and not an external window\n",
    "   - `%run FILE` runs the contents of the file in place of the given cell \n",
    "   - `%%timeit` times how long the cell takes to run\n",
    "   \n",
    "---"
   ]
  },
  {
   "cell_type": "markdown",
   "id": "humanitarian-noise",
   "metadata": {
    "deletable": true,
    "editable": true
   },
   "source": [
    "You can also run ipython in the terminal / shell on this machine. You will see that some of the interactivity still works in a text environment but not all of the pop up help is as helpful as in the notebooks.\n",
    "\n",
    "<a href=\"/terminals/1\"> Terminal </a>"
   ]
  }
 ],
 "metadata": {
  "jupytext": {
   "text_representation": {
    "extension": ".md",
    "format_name": "myst",
    "format_version": 0.12,
    "jupytext_version": "1.6.0"
   }
  },
  "kernelspec": {
   "display_name": "Python 3",
   "language": "python",
   "name": "python3"
  },
  "language_info": {
   "codemirror_mode": {
    "name": "ipython",
    "version": 3
   },
   "file_extension": ".py",
   "mimetype": "text/x-python",
   "name": "python",
   "nbconvert_exporter": "python",
   "pygments_lexer": "ipython3",
   "version": "3.7.10"
  },
  "source_map": [
   14,
   24,
   42,
   48,
   68,
   76,
   90,
   94,
   110,
   116,
   132,
   143,
   153,
   164
  ]
 },
 "nbformat": 4,
 "nbformat_minor": 5
}