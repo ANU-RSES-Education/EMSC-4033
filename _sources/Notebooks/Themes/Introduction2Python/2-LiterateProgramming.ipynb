{
 "cells": [],
 "metadata": {
  "jupytext": {
   "text_representation": {
    "extension": ".md",
    "format_name": "myst",
    "format_version": "0.9",
    "jupytext_version": "1.5.2"
   }
  },
  "kernelspec": {
   "display_name": "Python 3",
   "language": "python",
   "name": "python3"
  },
  "source_map": []
 },
 "nbformat": 4,
 "nbformat_minor": 5
}