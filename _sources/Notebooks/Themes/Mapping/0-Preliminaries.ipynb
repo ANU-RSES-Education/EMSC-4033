{
 "cells": [
  {
   "cell_type": "markdown",
   "id": "021a63e0",
   "metadata": {},
   "source": [
    "# Datasets\n",
    "\n",
    "We need to download some data for the examples. Some files are bundled with the notebooks because I am not smart enough to understand how to download them through the various web / ftp interfaces directly or I needed to filter or compress the information for the purposes of the class. Please go to the original sites if you need to use these data for anything other than the demonstrations in these notebooks.\n",
    "\n",
    "Most datasets are too large for the repository (and generally, that's not a place to keep anything which is not the primary target of revision management. The bundled data are compressed and will be unpacked (copied) to the `../../Data/Resources` directory by the \"download\" functions in this notebook. If you mess them up, just run the download again. Anything that is undamaged will just be be skipped anyway.\n",
    "\n",
    "## Global Magnetic Data\n",
    "\n",
    "Magnetic intensity data from [geomag.org](http://geomag.org/models/EMAG2/EMAG2_V2.tif)\n",
    "\n",
    "## Topography data\n",
    "\n",
    "ETOPO1 images are from NOAA - we use their geotifs which are subsampled from the original (enormous) dataset but \n",
    "\n",
    "## NASA Blue marble images\n",
    "\n",
    "Winter and Summer images for the Earth are grabbed for plotting examples. The winter ones (June) are used by default as these have less ice in the N. Hemisphere. \n",
    "\n",
    "## Earthquake hypocentres\n",
    "\n",
    "Are grabbed from the [NEIC](http://earthquake.usgs.gov/earthquakes/search/) - they are in the geoJSON format since that is very simple to read with python. The downloads are limited at 20k events so the time and magnitude range is whatever it takes to get just under this limit. The filenames give clues about that, but, so does the catalogue itself once it is read in.\n",
    "\n",
    "## Global age grid \n",
    "\n",
    "Taken from Earthbyte and reduced in size by throwing away the grid information and saving in compressed numpy format. \n",
    "\n",
    "## Global strain rate\n",
    "\n",
    "I grabbed the second invariant of the strain rate from the [global strain rate map](http://gsrm.unavco.org/intro) project through the 'Jules Vernes' portal."
   ]
  },
  {
   "cell_type": "code",
   "execution_count": null,
   "id": "8c76301b",
   "metadata": {
    "hide_input": false
   },
   "outputs": [],
   "source": [
    "%%sh\n",
    "\n",
    "ls -l Resources/"
   ]
  },
  {
   "cell_type": "markdown",
   "id": "66abb6d4",
   "metadata": {
    "solution": "shown",
    "solution_first": true
   },
   "source": [
    "## The datasets that we use for this course are kept in a central location. \n",
    "\n",
    "These can be downloaded on demand from the cloudstor service which is provided by AARNET.\n",
    "Anyone with an Australian university affiliation can ask for substantial storage on cloudstor\n",
    "and it is a fast, reliable service.\n",
    "\n",
    "   - Why do I do that ? \n",
    "\n",
    "So if you happen to delete or break one of the datasets, we can just get a new copy. Also,\n",
    "these kinds of data are not allowed on revision control sites like Github because they are \n",
    "large binary files and break the notion of revision control. \n",
    "\n",
    "There is a python module `cloudstor` that can grab data anonymously from read-only folders.\n",
    "\n",
    "``` python\n",
    "\n",
    "from cloudstor import cloudstor\n",
    "\n",
    "teaching_data = cloudstor(url=\"L93TxcmtLQzcfbk\", password='')\n",
    "teaching_data.list()\n",
    "\n",
    "```"
   ]
  },
  {
   "cell_type": "code",
   "execution_count": null,
   "id": "001e8f07",
   "metadata": {},
   "outputs": [],
   "source": [
    "from cloudstor import cloudstor\n",
    "teaching_data = cloudstor(url=\"L93TxcmtLQzcfbk\", password='')\n",
    "teaching_data.list()"
   ]
  },
  {
   "cell_type": "code",
   "execution_count": null,
   "id": "4e2f0387",
   "metadata": {},
   "outputs": [],
   "source": [
    "download_list = [\n",
    " 'AusMagAll.tiff',\n",
    " 'BlueMarbleNG-TB_2004-12-01_rgb_3600x1800.TIFF',\n",
    " 'EMAG2_image_V2_Small.tif',\n",
    " 'EMAG2_image_V2_no_compr.tif',\n",
    " 'ETOPO1_Ice_c_geotiff.tif',\n",
    " 'Etopo1_3600x1800.tif',\n",
    " 'color_etopo1_ice_low.tif',\n",
    " 'etopo1_grayscale_hillshade.tif',\n",
    " 'etopo1_grayscale_hillshade_small.tif',\n",
    " 'events_4.5+by_year_1970-2019.npy',\n",
    " 'global_age_data.3.6.z.npz',\n",
    " 'sec_invariant_strain_0.2.dat',\n",
    " 'velocity_AU.nc',\n",
    " 'velocity_EU.nc',\n",
    " 'velocity_IN.nc',\n",
    " 'velocity_NA.nc',\n",
    " 'velocity_NNR.nc',\n",
    " 'velocity_OK.nc',\n",
    " 'velocity_PA.nc'\n",
    "]\n",
    "\n",
    "for file in download_list:\n",
    "    import os\n",
    "    # Check if it exists already / is the same size\n",
    "    teaching_data.download_file_if_distinct(file, os.path.join(\"Resources\",file))\n",
    "    \n",
    " "
   ]
  },
  {
   "cell_type": "code",
   "execution_count": null,
   "id": "00865041",
   "metadata": {},
   "outputs": [],
   "source": [
    "ls Resources/"
   ]
  },
  {
   "cell_type": "code",
   "execution_count": null,
   "id": "c4e3291a",
   "metadata": {},
   "outputs": [],
   "source": [
    "# This is how we download a whole directory - we don't have a size-check comparison for that case\n",
    "\n",
    "teaching_data.download_directory(\"EQs\",\"Resources/EQs\")\n",
    "teaching_data.download_directory(\"HYP_50M_SR_W\",\"Resources/HYP_50M_SR_W\")\n",
    "teaching_data.download_directory(\"OB_50M\",\"Resources/OB_50M\")"
   ]
  },
  {
   "cell_type": "code",
   "execution_count": null,
   "id": "bfd9d8b1",
   "metadata": {},
   "outputs": [],
   "source": [
    "# Extract any files that were downloaded as zip archives (keep the originals to avoid re-downloading)\n",
    "\n",
    "import zipfile\n",
    "import glob\n",
    "\n",
    "for zipped in glob.glob(\"Resources/*.zip\"):\n",
    "    with zipfile.ZipFile(zipped) as zf:\n",
    "        zf.extractall(\"Resources\")\n",
    "        print (\"Unzipped {}\".format(zipped))"
   ]
  },
  {
   "cell_type": "code",
   "execution_count": null,
   "id": "26d5bc4f",
   "metadata": {},
   "outputs": [],
   "source": []
  }
 ],
 "metadata": {
  "jupytext": {
   "kernelspec": {
    "display_name": "Python 3",
    "language": "python",
    "name": "python3"
   },
   "text_representation": {
    "extension": ".md",
    "format_name": "myst",
    "format_version": 0.13,
    "jupytext_version": "1.10.3"
   }
  },
  "kernelspec": {
   "display_name": "Python 3",
   "language": "python",
   "name": "python3"
  },
  "source_map": [
   16,
   48,
   56,
   81,
   87,
   118,
   122,
   130,
   142
  ]
 },
 "nbformat": 4,
 "nbformat_minor": 5
}