{
 "cells": [
  {
   "cell_type": "markdown",
   "id": "1b7730a6",
   "metadata": {},
   "source": [
    "#  Cartopy\n",
    "\n",
    "Is a mapping and imaging package originating from the Met. Office in the UK. The home page for the package is http://scitools.org.uk/cartopy/. Like many python packages, the [documentation](http://scitools.org.uk/cartopy/docs/latest/index.html) is patchy and the best way to learn is to try to do things and ask other people who have figured out this and that. \n",
    "\n",
    "We are going to work through a number of the examples and try to extend them to do the kinds of things you might find interesting and useful in the future. The examples are in the form of a [gallery](http://scitools.org.uk/cartopy/docs/latest/gallery.html)\n",
    "\n",
    "You might also want to look at the [list of map projections](http://scitools.org.uk/cartopy/docs/latest/crs/projections.html) from time to time. Not all maps can be plotted in every projection (sometimes because of bugs and sometimes because they are not supposed to work for the data you have) but you can try them and see what happens.\n",
    "\n",
    "Cartopy is built on top of a lot of the matplotlib graphing tools. It works by introducing a series of projections associated with the axes of a graph. On top of that there is a big toolkit for reading in images, finding data from standard web feeds, and manipulating geographical objects. Many, many libraries are involved and sometimes things break. Luckily the installation that is built for this course is about as reliable as we can ever get. I'm just warning you, though, that it can be quite tough if you want to put this on your laptop from scratch."
   ]
  },
  {
   "cell_type": "markdown",
   "id": "8a929c91",
   "metadata": {},
   "source": [
    "## Let's get started\n",
    "\n",
    "We have a number of imports that we will need almost every time. \n",
    "\n",
    "If we are going to plot anything then we need to include **matplotlib**."
   ]
  },
  {
   "cell_type": "code",
   "execution_count": null,
   "id": "a1ff79b1",
   "metadata": {
    "hide_input": false
   },
   "outputs": [],
   "source": [
    "%pylab inline\n",
    "\n",
    "import matplotlib.pyplot as plt\n",
    "\n",
    "import cartopy\n",
    "import cartopy.crs as ccrs"
   ]
  },
  {
   "cell_type": "code",
   "execution_count": null,
   "id": "b7cca18a",
   "metadata": {
    "hide_input": true
   },
   "outputs": [],
   "source": [
    "import cartopy.crs as ccrs\n",
    "import matplotlib.pyplot as plt\n",
    "\n",
    "ax = plt.axes(projection=ccrs.PlateCarree())\n",
    "ax.stock_img()\n",
    "ax.coastlines()"
   ]
  },
  {
   "cell_type": "markdown",
   "id": "a2d351b1",
   "metadata": {},
   "source": [
    "The simplest plot: global map using the default image built into the package and adding coastlines"
   ]
  },
  {
   "cell_type": "code",
   "execution_count": null,
   "id": "125a1eaf",
   "metadata": {},
   "outputs": [],
   "source": [
    "fig = plt.figure(figsize=(12, 12), facecolor=\"none\")\n",
    "ax  = plt.axes(projection=ccrs.Mercator())\n",
    "\n",
    "    # make the map global rather than have it zoom in to\n",
    "    # the extents of any plotted data\n",
    "    \n",
    "ax.set_global()\n",
    "ax.coastlines()  \n",
    "ax.stock_img()"
   ]
  },
  {
   "cell_type": "markdown",
   "id": "dcb9996a",
   "metadata": {},
   "source": [
    "Try changing the projection - either look at the list in the link I gave you above or use the tab-completion feature of iPython to see what ``ccrs`` has available ( not everything will be a projection, but you can see what works and what breaks ).\n",
    "\n",
    "Here is how you can plot a region instead of the globe:"
   ]
  },
  {
   "cell_type": "code",
   "execution_count": null,
   "id": "e89dbc94",
   "metadata": {},
   "outputs": [],
   "source": [
    "fig = plt.figure(figsize=(12, 12), facecolor=\"none\")\n",
    "ax  = plt.axes(projection=ccrs.Robinson())    \n",
    "ax.set_extent([0, 40, 28, 48])\n",
    "\n",
    "ax.coastlines(resolution='50m')  \n",
    "ax.stock_img()"
   ]
  },
  {
   "cell_type": "code",
   "execution_count": null,
   "id": "2294122a",
   "metadata": {},
   "outputs": [],
   "source": [
    "help(ax.stock_img)"
   ]
  },
  {
   "cell_type": "code",
   "execution_count": null,
   "id": "078d6d11",
   "metadata": {},
   "outputs": [],
   "source": []
  }
 ],
 "metadata": {
  "jupytext": {
   "text_representation": {
    "extension": ".md",
    "format_name": "myst",
    "format_version": 0.13,
    "jupytext_version": "1.10.3"
   }
  },
  "kernelspec": {
   "display_name": "Python 3",
   "language": "python",
   "name": "python3"
  },
  "source_map": [
   12,
   24,
   32,
   43,
   52,
   56,
   66,
   72,
   81,
   85
  ]
 },
 "nbformat": 4,
 "nbformat_minor": 5
}