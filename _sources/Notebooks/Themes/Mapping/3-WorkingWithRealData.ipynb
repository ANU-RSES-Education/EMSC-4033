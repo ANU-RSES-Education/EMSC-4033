{
 "cells": [
  {
   "cell_type": "markdown",
   "id": "b24ce5d5",
   "metadata": {},
   "source": [
    "# Australian magnetic intensity\n",
    "\n",
    "Here I am going to show you how to make a map of magnetic intensity using 2 different datasets and various masks. The data for the Australian continent came from tiles from the AuScope data portal which I downloaded one day and stitched together with an open-source geotiff tool.\n",
    "\n",
    "We'll use that dataset in conjunction with the global magnetic dataset that we downloaded from the 0-Preliminaries.md notebook. If you did not already do this, then please, go back, run the notebook and download all the files that we need."
   ]
  },
  {
   "cell_type": "code",
   "execution_count": null,
   "id": "56d91f64",
   "metadata": {},
   "outputs": [],
   "source": [
    "%pylab inline\n",
    "from osgeo import gdal\n",
    "import cartopy\n",
    "import cartopy.crs as ccrs\n",
    "import matplotlib.pyplot as plt"
   ]
  },
  {
   "cell_type": "code",
   "execution_count": null,
   "id": "be672bea",
   "metadata": {},
   "outputs": [],
   "source": [
    "from cloudstor import cloudstor\n",
    "teaching_data = cloudstor(url=\"L93TxcmtLQzcfbk\", password='')\n",
    "\n",
    "teaching_data.download_file_if_distinct(\"EMAG2_image_V2_no_compr.tif\", \"Resources/EMAG2_image_V2_no_compr.tif\")\n",
    "teaching_data.download_file_if_distinct(\"AusMagAll.tiff\", \"Resources/AusMagAll.tiff\")"
   ]
  },
  {
   "cell_type": "code",
   "execution_count": null,
   "id": "73f88826",
   "metadata": {},
   "outputs": [],
   "source": [
    "base_projection   = ccrs.PlateCarree() \n",
    "globalmag         = gdal.Open(\"Resources/EMAG2_image_V2_no_compr.tif\")\n",
    "globalmag_img     = globalmag.ReadAsArray().transpose(1,2,0)\n",
    "del(globalmag)"
   ]
  },
  {
   "cell_type": "code",
   "execution_count": null,
   "id": "a3a3fd8d",
   "metadata": {},
   "outputs": [],
   "source": [
    "# High resolution total magnetic intensity image map for Australia's land mass (with background masked)\n",
    "\n",
    "austmag      = gdal.Open(\"Resources/AusMagAll.tiff\")\n",
    "austmag_img  = austmag.ReadAsArray().transpose(1,2,0)    \n",
    "\n",
    "## Note that we can use the metadata to find the span of the data in the image\n",
    "\n",
    "trans =  austmag.GetGeoTransform()\n",
    "austmag_extent = [trans[0], trans[0] + austmag.RasterXSize*trans[1],\n",
    "                  trans[3] + austmag.RasterYSize*trans[5], trans[3]]\n",
    "\n",
    "print( austmag_extent)\n",
    "print( austmag_img.shape)\n",
    "print( austmag_img.T.shape)\n",
    "\n",
    "# Mask out (alpha=0.0) areas with no information (blank = white)\n",
    "\n",
    "red, green, blue, alpha = austmag_img.T  # Temporarily unpack the bands for readability\n",
    "blank_areas = (red == 255) & (blue == 255) & (green == 255)\n",
    "austmag_img[...,3][blank_areas.T] = 0\n",
    "\n",
    "del(austmag)"
   ]
  },
  {
   "cell_type": "code",
   "execution_count": null,
   "id": "23f12449",
   "metadata": {},
   "outputs": [],
   "source": [
    "# And here it is ... \n",
    "\n",
    "fig = plt.figure(figsize=(8, 10), facecolor=\"none\")\n",
    "ax  = plt.axes(projection=ccrs.PlateCarree())\n",
    "ax.set_extent(austmag_extent)\n",
    "plt.imshow(austmag_img, zorder=0, transform=ccrs.PlateCarree(), extent=austmag_extent)\n",
    "ax.coastlines(color=\"Black\", zorder=1)  \n",
    "plt.show()\n",
    "\n",
    "\n",
    "# This one is a bit flat, but we can boost the contrast \n",
    "# (either channel by channel or all with the same N)\n",
    "\n",
    "N = 3.0\n",
    "austmag_img[...,0] = 255 * (austmag_img[...,0] / 255.0)**N\n",
    "austmag_img[...,1] = 255 * (austmag_img[...,1] / 255.0)**N \n",
    "austmag_img[...,2] = 255 * (austmag_img[...,2] / 255.0)**N \n",
    "\n",
    "\n",
    "fig = plt.figure(figsize=(8, 10), facecolor=\"none\")\n",
    "ax  = plt.axes(projection=ccrs.PlateCarree())\n",
    "ax.set_extent(austmag_extent)\n",
    "plt.imshow(austmag_img, zorder=0, transform=ccrs.PlateCarree(), extent=austmag_extent)\n",
    "ax.coastlines(color=\"Black\", zorder=1)  \n",
    "plt.show()\n",
    "\n",
    "# Try changing N !"
   ]
  },
  {
   "cell_type": "markdown",
   "id": "5148cfc0",
   "metadata": {},
   "source": [
    "## Features\n",
    "\n",
    "We already used the ``coastlines`` command, but this is actually a special case of how we add *features* to our maps. Features can be things like rivers or roads, towns, political boundaries. There is a web service called [Natural Earth](http://www.naturalearthdata.com/features/) where you can download this information. Cartopy provides functions to grab this information without having to construct the URL by hand. The only problem is that you still need to know what stuff you can grab. Here are some examples though, and you can see how to choose a resolution for the information which is useful for zoomed in or zoomed out maps."
   ]
  },
  {
   "cell_type": "code",
   "execution_count": null,
   "id": "74a7bd87",
   "metadata": {},
   "outputs": [],
   "source": [
    "# \"Features\" such as land, ocean, coastlines (50m =  the 1:50 million scale)\n",
    "\n",
    "import cartopy.feature as cfeature\n",
    "\n",
    "land = cfeature.NaturalEarthFeature('physical', 'land', '50m',\n",
    "                           edgecolor=\"green\",\n",
    "                           facecolor=\"white\")\n",
    "\n",
    "ocean = cfeature.NaturalEarthFeature('physical', 'ocean', '50m',\n",
    "                           edgecolor=\"green\",\n",
    "                           facecolor=\"blue\")\n",
    "\n",
    "coastline = cfeature.NaturalEarthFeature('physical', 'coastline', '50m',\n",
    "                           edgecolor=(1.0,0.8,0.0),\n",
    "                           facecolor=\"none\")\n",
    "\n",
    "# Add these to the plot object as\n",
    "# ax.add_feature(coastline, linewidth=4, edgecolor=(1,0,1), zorder=1)\n",
    "# and so forth. zorder is used to force the layering as required."
   ]
  },
  {
   "cell_type": "code",
   "execution_count": null,
   "id": "f1d2a8c8",
   "metadata": {},
   "outputs": [],
   "source": [
    "fig = plt.figure(figsize=(12, 12), facecolor=\"none\")\n",
    "ax  = plt.axes(projection=ccrs.PlateCarree())\n",
    "ax.set_extent(austmag_extent)\n",
    "plt.imshow(austmag_img, zorder=0, transform=ccrs.PlateCarree(), extent=austmag_extent)\n",
    "ax.add_feature(coastline, linewidth=1, edgecolor=\"Black\", zorder=1)\n",
    "plt.show()"
   ]
  },
  {
   "cell_type": "markdown",
   "id": "d7c2c122",
   "metadata": {},
   "source": [
    "Now let us add the global (lower resolution) dataset in the background, mask things up and add coastlines"
   ]
  },
  {
   "cell_type": "code",
   "execution_count": null,
   "id": "9f0a9685",
   "metadata": {},
   "outputs": [],
   "source": [
    "projection = ccrs.PlateCarree()\n",
    "base_projection = ccrs.PlateCarree()\n",
    "global_extent     = [-180.0, 180.0, -90.0, 90.0]\n",
    "\n",
    "fig = plt.figure(figsize=(12, 12), facecolor=\"none\")\n",
    "ax = plt.axes(projection=projection)\n",
    "ax.set_extent([90, 180, -50, 5])\n",
    "\n",
    "ax.imshow(globalmag_img, origin='upper', transform=base_projection, extent=global_extent, zorder=0)\n",
    "# ax.add_feature(land, facecolor=\"red\", edgecolor=\"red\", alpha=0.1, linewidth=0.5, zorder=1)\n",
    "ax.add_feature(ocean, facecolor=(0.4,0.4,0.6), edgecolor=(0.0,0.0,0.0), linewidth=1, alpha=0.6, zorder=3)\n",
    "ax.imshow(austmag_img, origin='upper', transform=base_projection, extent=austmag_extent, zorder=2)\n",
    "ax.add_feature(coastline, edgecolor=\"black\", linewidth=1, zorder=3)\n",
    "\n",
    "plt.show()"
   ]
  },
  {
   "cell_type": "code",
   "execution_count": null,
   "id": "10310bcf",
   "metadata": {},
   "outputs": [],
   "source": []
  }
 ],
 "metadata": {
  "jupytext": {
   "text_representation": {
    "extension": ".md",
    "format_name": "myst",
    "format_version": 0.13,
    "jupytext_version": "1.10.3"
   }
  },
  "kernelspec": {
   "display_name": "Python 3",
   "language": "python",
   "name": "python3"
  },
  "source_map": [
   12,
   20,
   28,
   36,
   43,
   68,
   96,
   102,
   124,
   131,
   135,
   153
  ]
 },
 "nbformat": 4,
 "nbformat_minor": 5
}