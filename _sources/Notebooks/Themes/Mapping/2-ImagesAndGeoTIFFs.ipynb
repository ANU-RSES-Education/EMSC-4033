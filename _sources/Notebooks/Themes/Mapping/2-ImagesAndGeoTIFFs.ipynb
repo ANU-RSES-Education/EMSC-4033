{
 "cells": [
  {
   "cell_type": "markdown",
   "id": "6fa1d520",
   "metadata": {},
   "source": [
    "# Handling images\n",
    "\n",
    "We will work with images which are in **geotiff** format. These are standard image files (i.e. they are ``.tif`` files) but they also contain information on the coordinates and the base projection of the image. There are various tools for making and converting these images but one important thing to know is that they are the becoming a standard that you are very likely to encounter as a way to store data and deliver it on the web. If you download tiles of data served up as google earth layers, you may well find that you have a geotiff. \n",
    "\n",
    "Here is an example - it uses the **gdal** library for manipulating geospatial data. The image is a freely available download of the NASA *blue marble* image set which I retrieved for you."
   ]
  },
  {
   "cell_type": "code",
   "execution_count": null,
   "id": "0c419652",
   "metadata": {},
   "outputs": [],
   "source": [
    "%pylab inline\n",
    "\n",
    "import cartopy\n",
    "from osgeo import gdal\n",
    "import cartopy.crs as ccrs\n",
    "import matplotlib.pyplot as plt"
   ]
  },
  {
   "cell_type": "code",
   "execution_count": null,
   "id": "76ad2d7e",
   "metadata": {},
   "outputs": [],
   "source": [
    "from cloudstor import cloudstor\n",
    "teaching_data = cloudstor(url=\"L93TxcmtLQzcfbk\", password='')\n",
    "\n",
    "teaching_data.download_file_if_distinct(\"BlueMarbleNG-TB_2004-12-01_rgb_3600x1800.TIFF\", \"Resources/BlueMarbleNG-TB_2004-12-01_rgb_3600x1800.TIFF\")\n",
    "teaching_data.download_file_if_distinct(\"EMAG2_image_V2_no_compr.tif\", \"Resources/EMAG2_image_V2_no_compr.tif\")\n",
    "teaching_data.download_file_if_distinct(\"color_etopo1_ice_low.tif\", \"Resources/color_etopo1_ice_low.tif\")"
   ]
  },
  {
   "cell_type": "code",
   "execution_count": null,
   "id": "a3fa3047",
   "metadata": {},
   "outputs": [],
   "source": [
    "globalmarble      = gdal.Open(\"Resources/BlueMarbleNG-TB_2004-12-01_rgb_3600x1800.TIFF\")\n",
    "globalmarble_img  = globalmarble.ReadAsArray().transpose(1,2,0)\n",
    "\n",
    "# Note that we convert the gdal object into an image array - and also have to re-organise the data \n",
    "# This is a numpy call that you can look up to see what it does and you can also look\n",
    "# at the original array data to see what is there."
   ]
  },
  {
   "cell_type": "code",
   "execution_count": null,
   "id": "b7c6dfb3",
   "metadata": {},
   "outputs": [],
   "source": [
    "fig = plt.figure(figsize=(12, 12), facecolor=\"none\")\n",
    "plt.imshow(globalmarble_img)"
   ]
  },
  {
   "cell_type": "markdown",
   "id": "05d5d82f",
   "metadata": {},
   "source": [
    "This looks really nice but it is just the original image plotted in its original shape. \n",
    "\n",
    "The gdal object can tell you the projection which applies to the original data and various other attributes. This might not seems particularly useful at this point, but it is helpful to realise that there is a lot of information being passed around behind the scenes when you use these tools."
   ]
  },
  {
   "cell_type": "code",
   "execution_count": null,
   "id": "970381ec",
   "metadata": {},
   "outputs": [],
   "source": [
    "print (\"1 - \", globalmarble.GetProjection(), \"\\n\")\n",
    "print (\"2 - \", globalmarble.GetDescription(), \"\\n\")\n",
    "print (\"3 - \", globalmarble.GetMetadata(), \"\\n\")\n",
    "print (\"4 - \", globalmarble.GetGeoTransform())"
   ]
  },
  {
   "cell_type": "markdown",
   "id": "bd028251",
   "metadata": {},
   "source": [
    "## Projections\n",
    "\n",
    "What if we want to use a different projection for the image. For example, we might want to use this as a background to plot some other information. How does this work ?\n",
    "\n",
    "Let's try what we used before to plot with a different projection. Specifically, let's try an orthographic projection which should wrap the image around a sphere and show us the disk from a particular orientation. Here is one I made earlier ... the output should look like this:\n",
    "\n",
    "<img src=\"../Images/OrthographicProjectionBlueMarble.png\" width=30%>"
   ]
  },
  {
   "cell_type": "code",
   "execution_count": null,
   "id": "ee772a87",
   "metadata": {},
   "outputs": [],
   "source": [
    "fig = plt.figure(figsize=(12, 12), facecolor=\"none\")\n",
    "ax = plt.axes(projection=ccrs.Orthographic())\n",
    "plt.imshow(globalmarble_img, zorder=0)\n",
    "ax.coastlines(color=\"Yellow\", zorder=1)  \n",
    "plt.show()"
   ]
  },
  {
   "cell_type": "markdown",
   "id": "562deb11",
   "metadata": {},
   "source": [
    "OK, that didn't look like the sample image that I claimed it should and the reason is that we didn't tell the plotting routines what the original projection for the data was. Here is the fix: tell the ``imshow`` command the transformation of the original data - (this can take a little while to process)."
   ]
  },
  {
   "cell_type": "code",
   "execution_count": null,
   "id": "6b1a128a",
   "metadata": {},
   "outputs": [],
   "source": [
    "fig = plt.figure(figsize=(12, 12), facecolor=\"none\")\n",
    "ax = plt.axes(projection=ccrs.Orthographic())\n",
    "plt.imshow(globalmarble_img, zorder=0, transform=ccrs.PlateCarree())\n",
    "ax.coastlines(color=\"Yellow\", zorder=1)  \n",
    "\n",
    "plt.show()"
   ]
  },
  {
   "cell_type": "markdown",
   "id": "b643bc68",
   "metadata": {},
   "source": [
    "You can try other projections here, though I have found quite a few do not behave in quite the way you expect !\n",
    "\n",
    "Feel free to play with these data which are global magnetic intensity, the global etopo database of topography and bathymetry in color format and a black/white (height only) version of the same thing, all of them have the base projection of **PlateCarree**. Note that we can define a variable which points to this function and pass it into the transform argument of ``imshow``"
   ]
  },
  {
   "cell_type": "code",
   "execution_count": null,
   "id": "0e97917d",
   "metadata": {},
   "outputs": [],
   "source": [
    "base_projection   = ccrs.PlateCarree() \n",
    "\n",
    "globalmag         = gdal.Open(\"Resources/EMAG2_image_V2_no_compr.tif\")\n",
    "globalmag_img     = globalmag.ReadAsArray().transpose(1,2,0)\n",
    "globalmag_img_s   = globalmag_img[::2,::2,::]\n",
    "del(globalmag)\n",
    "\n",
    "globaletopo       = gdal.Open(\"Resources/color_etopo1_ice_low.tif\")\n",
    "globaletopo_img   = globaletopo.ReadAsArray().transpose(1,2,0)\n",
    "del(globaletopo)"
   ]
  },
  {
   "cell_type": "code",
   "execution_count": null,
   "id": "5a9fd74c",
   "metadata": {},
   "outputs": [],
   "source": [
    "print (globalmag_img.shape)\n",
    "print (globalmag_img_s.shape)\n",
    "print (globalmarble_img.shape)"
   ]
  },
  {
   "cell_type": "code",
   "execution_count": null,
   "id": "a114cb10",
   "metadata": {},
   "outputs": [],
   "source": [
    "# Global pretty map ... can you make one centred on Australia and save it to an image ?\n",
    "\n",
    "#projection = ccrs.Orthographic(central_longitude=80.0, central_latitude=30.0, globe=None)\n",
    "this_projection = ccrs.PlateCarree()\n",
    "\n",
    "global_extent     = [-180.0, 180.0, -90.0, 90.0]\n",
    "\n",
    "fig = plt.figure(figsize=(12, 12), facecolor=\"none\")\n",
    "ax = plt.axes(projection=this_projection)\n",
    "ax.imshow(globalmag_img_s, origin='upper', transform=base_projection, extent=global_extent)\n",
    "ax.imshow(globalmarble_img, origin='upper', transform=base_projection, extent=global_extent, alpha=0.5)\n",
    "ax.coastlines(color=\"yellow\")\n",
    "\n",
    "plt.show()"
   ]
  },
  {
   "cell_type": "code",
   "execution_count": null,
   "id": "adbea49b",
   "metadata": {},
   "outputs": [],
   "source": []
  }
 ],
 "metadata": {
  "jupytext": {
   "text_representation": {
    "extension": ".md",
    "format_name": "myst",
    "format_version": 0.13,
    "jupytext_version": "1.10.3"
   }
  },
  "kernelspec": {
   "display_name": "Python 3",
   "language": "python",
   "name": "python3"
  },
  "source_map": [
   12,
   20,
   29,
   38,
   47,
   50,
   56,
   61,
   71,
   77,
   81,
   88,
   94,
   107,
   113,
   130
  ]
 },
 "nbformat": 4,
 "nbformat_minor": 5
}