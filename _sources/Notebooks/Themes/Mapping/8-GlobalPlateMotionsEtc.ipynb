{
 "cells": [
  {
   "cell_type": "markdown",
   "id": "applied-guitar",
   "metadata": {},
   "source": [
    "# Global Plate Motions"
   ]
  },
  {
   "cell_type": "markdown",
   "id": "secure-medicaid",
   "metadata": {
    "solution": "hidden",
    "solution_first": true
   },
   "source": [
    "Figure 1 from my SIAM News publication in 2015: http://www.moresi.info/posts/Computational-Challenges-SIAM-NEWS/\n",
    "\n",
    "\n",
    "_The surface of the Earth is continually moving in response to convection currents in the underlying mantle. A map of the surface velocities shows the motions are organised into a strikingly simple pattern of surface \"plates\" that are almost rigid bodies. The surface strain rate - coloured contours - is concentrated at the plate boundaries. On closer inspection, there are many regions within the continental crust where the motions are diffuse, not at all plate-like. The arrows are colored by their angle to North as a means of distinguishing the different plates. The scale is such that the longest vector represents 10cm/yr._\n",
    "\n",
    "The image is composed of a background grayscale topography / bathymetry map, plate motion vectors (in a Europe-fixed frame) and contours of the observed strain rate second invariant. These data are available after running [Notebook 0](/notebooks/Mapping/0%20-%20Preliminaries.ipynb#) to download / install everything."
   ]
  },
  {
   "cell_type": "code",
   "execution_count": 1,
   "id": "future-memphis",
   "metadata": {},
   "outputs": [
    {
     "name": "stdout",
     "output_type": "stream",
     "text": [
      "Populating the interactive namespace from numpy and matplotlib\n"
     ]
    }
   ],
   "source": [
    "%pylab inline\n",
    "\n",
    "from osgeo import gdal\n",
    "from osgeo import gdal_array\n",
    "\n",
    "import cartopy.crs as ccrs\n",
    "import matplotlib.pyplot as plt\n",
    "\n",
    "import cartopy.feature as cfeature\n",
    "\n",
    "from scipy.io import netcdf"
   ]
  },
  {
   "cell_type": "code",
   "execution_count": 2,
   "id": "searching-power",
   "metadata": {},
   "outputs": [],
   "source": [
    "# The colormap routine creates enormous arrays in intermediary calculations. This is\n",
    "# a way to avoid memory errors: process to RGB (int8) in advance\n",
    "\n",
    "def apply_colormap_to_image(rawimage, colormap, norm):\n",
    "\n",
    "    greyimage = norm(rawimage)\n",
    "    rgbimage = np.empty((greyimage.shape[0], greyimage.shape[1] , 4), dtype=uint8)\n",
    "\n",
    "    for i in range(0, greyimage.shape[0]):\n",
    "        rgbimage[i,:,:] = colormap(greyimage[i,:]) * 256\n",
    "                \n",
    "    rgbimage2 = rgbimage[:,:,0:3]        \n",
    "    \n",
    "    return rgbimage2\n",
    "    "
   ]
  },
  {
   "cell_type": "code",
   "execution_count": 3,
   "id": "independent-layer",
   "metadata": {},
   "outputs": [
    {
     "ename": "OSError",
     "evalue": "Resources/sec_invariant_strain_0.2.dat not found.",
     "output_type": "error",
     "traceback": [
      "\u001b[0;31m---------------------------------------------------------------------------\u001b[0m",
      "\u001b[0;31mOSError\u001b[0m                                   Traceback (most recent call last)",
      "\u001b[0;32m<ipython-input-3-6917b24db7bf>\u001b[0m in \u001b[0;36m<module>\u001b[0;34m\u001b[0m\n\u001b[1;32m      3\u001b[0m \u001b[0;34m\u001b[0m\u001b[0m\n\u001b[1;32m      4\u001b[0m \u001b[0mstrainrate_extent\u001b[0m\u001b[0;34m=\u001b[0m\u001b[0;34m[\u001b[0m\u001b[0;34m-\u001b[0m\u001b[0;36m180\u001b[0m\u001b[0;34m,\u001b[0m\u001b[0;36m180\u001b[0m\u001b[0;34m,\u001b[0m\u001b[0;34m-\u001b[0m\u001b[0;36m68\u001b[0m\u001b[0;34m,\u001b[0m\u001b[0;36m80\u001b[0m\u001b[0;34m]\u001b[0m\u001b[0;34m\u001b[0m\u001b[0;34m\u001b[0m\u001b[0m\n\u001b[0;32m----> 5\u001b[0;31m \u001b[0mstrainrate\u001b[0m \u001b[0;34m=\u001b[0m \u001b[0mnumpy\u001b[0m\u001b[0;34m.\u001b[0m\u001b[0mloadtxt\u001b[0m\u001b[0;34m(\u001b[0m\u001b[0;34m\"Resources/sec_invariant_strain_0.2.dat\"\u001b[0m\u001b[0;34m)\u001b[0m\u001b[0;34m\u001b[0m\u001b[0;34m\u001b[0m\u001b[0m\n\u001b[0m\u001b[1;32m      6\u001b[0m \u001b[0mstrainrate_data\u001b[0m \u001b[0;34m=\u001b[0m \u001b[0mstrainrate\u001b[0m\u001b[0;34m.\u001b[0m\u001b[0mreshape\u001b[0m\u001b[0;34m(\u001b[0m\u001b[0;36m741\u001b[0m\u001b[0;34m,\u001b[0m\u001b[0;36m1800\u001b[0m\u001b[0;34m,\u001b[0m\u001b[0;36m3\u001b[0m\u001b[0;34m)\u001b[0m  \u001b[0;31m# I had to look at the data to work this out !\u001b[0m\u001b[0;34m\u001b[0m\u001b[0;34m\u001b[0m\u001b[0m\n\u001b[1;32m      7\u001b[0m \u001b[0;31m# strainrate_img  = strainrate_data[:,:,2] # Not actually used here !\u001b[0m\u001b[0;34m\u001b[0m\u001b[0;34m\u001b[0m\u001b[0;34m\u001b[0m\u001b[0m\n",
      "\u001b[0;32m/usr/share/miniconda3/envs/jupyter/lib/python3.7/site-packages/numpy/lib/npyio.py\u001b[0m in \u001b[0;36mloadtxt\u001b[0;34m(fname, dtype, comments, delimiter, converters, skiprows, usecols, unpack, ndmin, encoding, max_rows, like)\u001b[0m\n\u001b[1;32m   1063\u001b[0m             \u001b[0mfname\u001b[0m \u001b[0;34m=\u001b[0m \u001b[0mos_fspath\u001b[0m\u001b[0;34m(\u001b[0m\u001b[0mfname\u001b[0m\u001b[0;34m)\u001b[0m\u001b[0;34m\u001b[0m\u001b[0;34m\u001b[0m\u001b[0m\n\u001b[1;32m   1064\u001b[0m         \u001b[0;32mif\u001b[0m \u001b[0m_is_string_like\u001b[0m\u001b[0;34m(\u001b[0m\u001b[0mfname\u001b[0m\u001b[0;34m)\u001b[0m\u001b[0;34m:\u001b[0m\u001b[0;34m\u001b[0m\u001b[0;34m\u001b[0m\u001b[0m\n\u001b[0;32m-> 1065\u001b[0;31m             \u001b[0mfh\u001b[0m \u001b[0;34m=\u001b[0m \u001b[0mnp\u001b[0m\u001b[0;34m.\u001b[0m\u001b[0mlib\u001b[0m\u001b[0;34m.\u001b[0m\u001b[0m_datasource\u001b[0m\u001b[0;34m.\u001b[0m\u001b[0mopen\u001b[0m\u001b[0;34m(\u001b[0m\u001b[0mfname\u001b[0m\u001b[0;34m,\u001b[0m \u001b[0;34m'rt'\u001b[0m\u001b[0;34m,\u001b[0m \u001b[0mencoding\u001b[0m\u001b[0;34m=\u001b[0m\u001b[0mencoding\u001b[0m\u001b[0;34m)\u001b[0m\u001b[0;34m\u001b[0m\u001b[0;34m\u001b[0m\u001b[0m\n\u001b[0m\u001b[1;32m   1066\u001b[0m             \u001b[0mfencoding\u001b[0m \u001b[0;34m=\u001b[0m \u001b[0mgetattr\u001b[0m\u001b[0;34m(\u001b[0m\u001b[0mfh\u001b[0m\u001b[0;34m,\u001b[0m \u001b[0;34m'encoding'\u001b[0m\u001b[0;34m,\u001b[0m \u001b[0;34m'latin1'\u001b[0m\u001b[0;34m)\u001b[0m\u001b[0;34m\u001b[0m\u001b[0;34m\u001b[0m\u001b[0m\n\u001b[1;32m   1067\u001b[0m             \u001b[0mfh\u001b[0m \u001b[0;34m=\u001b[0m \u001b[0miter\u001b[0m\u001b[0;34m(\u001b[0m\u001b[0mfh\u001b[0m\u001b[0;34m)\u001b[0m\u001b[0;34m\u001b[0m\u001b[0;34m\u001b[0m\u001b[0m\n",
      "\u001b[0;32m/usr/share/miniconda3/envs/jupyter/lib/python3.7/site-packages/numpy/lib/_datasource.py\u001b[0m in \u001b[0;36mopen\u001b[0;34m(path, mode, destpath, encoding, newline)\u001b[0m\n\u001b[1;32m    192\u001b[0m \u001b[0;34m\u001b[0m\u001b[0m\n\u001b[1;32m    193\u001b[0m     \u001b[0mds\u001b[0m \u001b[0;34m=\u001b[0m \u001b[0mDataSource\u001b[0m\u001b[0;34m(\u001b[0m\u001b[0mdestpath\u001b[0m\u001b[0;34m)\u001b[0m\u001b[0;34m\u001b[0m\u001b[0;34m\u001b[0m\u001b[0m\n\u001b[0;32m--> 194\u001b[0;31m     \u001b[0;32mreturn\u001b[0m \u001b[0mds\u001b[0m\u001b[0;34m.\u001b[0m\u001b[0mopen\u001b[0m\u001b[0;34m(\u001b[0m\u001b[0mpath\u001b[0m\u001b[0;34m,\u001b[0m \u001b[0mmode\u001b[0m\u001b[0;34m,\u001b[0m \u001b[0mencoding\u001b[0m\u001b[0;34m=\u001b[0m\u001b[0mencoding\u001b[0m\u001b[0;34m,\u001b[0m \u001b[0mnewline\u001b[0m\u001b[0;34m=\u001b[0m\u001b[0mnewline\u001b[0m\u001b[0;34m)\u001b[0m\u001b[0;34m\u001b[0m\u001b[0;34m\u001b[0m\u001b[0m\n\u001b[0m\u001b[1;32m    195\u001b[0m \u001b[0;34m\u001b[0m\u001b[0m\n\u001b[1;32m    196\u001b[0m \u001b[0;34m\u001b[0m\u001b[0m\n",
      "\u001b[0;32m/usr/share/miniconda3/envs/jupyter/lib/python3.7/site-packages/numpy/lib/_datasource.py\u001b[0m in \u001b[0;36mopen\u001b[0;34m(self, path, mode, encoding, newline)\u001b[0m\n\u001b[1;32m    529\u001b[0m                                       encoding=encoding, newline=newline)\n\u001b[1;32m    530\u001b[0m         \u001b[0;32melse\u001b[0m\u001b[0;34m:\u001b[0m\u001b[0;34m\u001b[0m\u001b[0;34m\u001b[0m\u001b[0m\n\u001b[0;32m--> 531\u001b[0;31m             \u001b[0;32mraise\u001b[0m \u001b[0mIOError\u001b[0m\u001b[0;34m(\u001b[0m\u001b[0;34m\"%s not found.\"\u001b[0m \u001b[0;34m%\u001b[0m \u001b[0mpath\u001b[0m\u001b[0;34m)\u001b[0m\u001b[0;34m\u001b[0m\u001b[0;34m\u001b[0m\u001b[0m\n\u001b[0m\u001b[1;32m    532\u001b[0m \u001b[0;34m\u001b[0m\u001b[0m\n\u001b[1;32m    533\u001b[0m \u001b[0;34m\u001b[0m\u001b[0m\n",
      "\u001b[0;31mOSError\u001b[0m: Resources/sec_invariant_strain_0.2.dat not found."
     ]
    }
   ],
   "source": [
    "base_projection     = ccrs.PlateCarree() \n",
    "global_extent     = [-180.0, 180.0, -90.0, 90.0]\n",
    "\n",
    "strainrate_extent=[-180,180,-68,80]\n",
    "strainrate = numpy.loadtxt(\"Resources/sec_invariant_strain_0.2.dat\")\n",
    "strainrate_data = strainrate.reshape(741,1800,3)  # I had to look at the data to work this out !\n",
    "# strainrate_img  = strainrate_data[:,:,2] # Not actually used here !"
   ]
  },
  {
   "cell_type": "code",
   "execution_count": 4,
   "id": "blond-definition",
   "metadata": {},
   "outputs": [
    {
     "ename": "AttributeError",
     "evalue": "'NoneType' object has no attribute 'ReadAsArray'",
     "output_type": "error",
     "traceback": [
      "\u001b[0;31m---------------------------------------------------------------------------\u001b[0m",
      "\u001b[0;31mAttributeError\u001b[0m                            Traceback (most recent call last)",
      "\u001b[0;32m<ipython-input-4-95874eac3f62>\u001b[0m in \u001b[0;36m<module>\u001b[0;34m\u001b[0m\n\u001b[1;32m      5\u001b[0m \u001b[0;34m\u001b[0m\u001b[0m\n\u001b[1;32m      6\u001b[0m \u001b[0metopoH\u001b[0m \u001b[0;34m=\u001b[0m \u001b[0mgdal\u001b[0m\u001b[0;34m.\u001b[0m\u001b[0mOpen\u001b[0m\u001b[0;34m(\u001b[0m\u001b[0;34m\"Resources/ETOPO1_Ice_c_geotiff.tif\"\u001b[0m\u001b[0;34m)\u001b[0m\u001b[0;34m\u001b[0m\u001b[0;34m\u001b[0m\u001b[0m\n\u001b[0;32m----> 7\u001b[0;31m \u001b[0metopoH_img\u001b[0m \u001b[0;34m=\u001b[0m \u001b[0metopoH\u001b[0m\u001b[0;34m.\u001b[0m\u001b[0mReadAsArray\u001b[0m\u001b[0;34m(\u001b[0m\u001b[0;34m)\u001b[0m\u001b[0;34m[\u001b[0m\u001b[0;34m:\u001b[0m\u001b[0;34m:\u001b[0m\u001b[0;36m2\u001b[0m\u001b[0;34m,\u001b[0m\u001b[0;34m:\u001b[0m\u001b[0;34m:\u001b[0m\u001b[0;36m2\u001b[0m\u001b[0;34m]\u001b[0m\u001b[0;34m.\u001b[0m\u001b[0mastype\u001b[0m\u001b[0;34m(\u001b[0m\u001b[0mnumpy\u001b[0m\u001b[0;34m.\u001b[0m\u001b[0mfloat16\u001b[0m\u001b[0;34m)\u001b[0m\u001b[0;34m\u001b[0m\u001b[0;34m\u001b[0m\u001b[0m\n\u001b[0m\u001b[1;32m      8\u001b[0m \u001b[0;32mdel\u001b[0m\u001b[0;34m(\u001b[0m\u001b[0metopoH\u001b[0m\u001b[0;34m)\u001b[0m\u001b[0;34m\u001b[0m\u001b[0;34m\u001b[0m\u001b[0m\n\u001b[1;32m      9\u001b[0m \u001b[0;34m\u001b[0m\u001b[0m\n",
      "\u001b[0;31mAttributeError\u001b[0m: 'NoneType' object has no attribute 'ReadAsArray'"
     ]
    }
   ],
   "source": [
    "# Note: we need to manage the memory here since the Docker version has more \n",
    "# memory constraints than the native installation. Be sure to del() unused arrays/images\n",
    "\n",
    "# Etopo Height field as geotiff\n",
    "\n",
    "etopoH = gdal.Open(\"Resources/ETOPO1_Ice_c_geotiff.tif\") \n",
    "etopoH_img = etopoH.ReadAsArray()[::2,::2].astype(numpy.float16)\n",
    "del(etopoH)\n",
    "\n",
    "colormap = plt.get_cmap('Greys')\n",
    "norm = matplotlib.colors.Normalize(vmin=-10000, vmax=5000)\n",
    "etopoH_img_grey = apply_colormap_to_image(etopoH_img, colormap, norm)\n",
    "\n",
    "# These are alternative images \n",
    "\n",
    "# etopo1       = gdal.Open(\"Resources/color_etopo1_ice_low.tif\")\n",
    "# etopo_img    = etopo1.ReadAsArray().transpose(1,2,0)\n",
    "# del(etopo1)\n",
    "\n",
    "# global_shrelief = gdal.Open(\"Resources/etopo1_grayscale_hillshade.tif\")\n",
    "# global_shrelief_img = global_shrelief.ReadAsArray()[::2,::2].astype(numpy.float16)\n",
    "# del(global_shrelief)\n",
    "# print \"global_shrelief_img - \", global_shrelief_img.shape"
   ]
  },
  {
   "cell_type": "code",
   "execution_count": 5,
   "id": "returning-synthetic",
   "metadata": {},
   "outputs": [
    {
     "ename": "NameError",
     "evalue": "name 'etopoH_img_grey' is not defined",
     "output_type": "error",
     "traceback": [
      "\u001b[0;31m---------------------------------------------------------------------------\u001b[0m",
      "\u001b[0;31mNameError\u001b[0m                                 Traceback (most recent call last)",
      "\u001b[0;32m<ipython-input-5-fb5bb627425d>\u001b[0m in \u001b[0;36m<module>\u001b[0;34m\u001b[0m\n\u001b[1;32m      3\u001b[0m \u001b[0mfig\u001b[0m \u001b[0;34m=\u001b[0m \u001b[0mplt\u001b[0m\u001b[0;34m.\u001b[0m\u001b[0mfigure\u001b[0m\u001b[0;34m(\u001b[0m\u001b[0mfigsize\u001b[0m\u001b[0;34m=\u001b[0m\u001b[0;34m(\u001b[0m\u001b[0;36m12\u001b[0m\u001b[0;34m,\u001b[0m \u001b[0;36m6\u001b[0m\u001b[0;34m)\u001b[0m\u001b[0;34m,\u001b[0m \u001b[0mfacecolor\u001b[0m\u001b[0;34m=\u001b[0m\u001b[0;34m\"none\"\u001b[0m\u001b[0;34m)\u001b[0m\u001b[0;34m\u001b[0m\u001b[0;34m\u001b[0m\u001b[0m\n\u001b[1;32m      4\u001b[0m \u001b[0max\u001b[0m \u001b[0;34m=\u001b[0m \u001b[0mplt\u001b[0m\u001b[0;34m.\u001b[0m\u001b[0maxes\u001b[0m\u001b[0;34m(\u001b[0m\u001b[0mprojection\u001b[0m\u001b[0;34m=\u001b[0m\u001b[0mbase_projection\u001b[0m\u001b[0;34m)\u001b[0m\u001b[0;34m\u001b[0m\u001b[0;34m\u001b[0m\u001b[0m\n\u001b[0;32m----> 5\u001b[0;31m ax.imshow(etopoH_img_grey[::1,::1], transform=ccrs.PlateCarree(), origin=\"upper\", \n\u001b[0m\u001b[1;32m      6\u001b[0m           alpha=1.0, extent=global_extent,  zorder=0)\n",
      "\u001b[0;31mNameError\u001b[0m: name 'etopoH_img_grey' is not defined"
     ]
    },
    {
     "name": "stderr",
     "output_type": "stream",
     "text": [
      "/usr/share/miniconda3/envs/jupyter/lib/python3.7/site-packages/cartopy/mpl/geoaxes.py:388: MatplotlibDeprecationWarning: \n",
      "The 'inframe' parameter of draw() was deprecated in Matplotlib 3.3 and will be removed two minor releases later. Use Axes.redraw_in_frame() instead. If any parameter follows 'inframe', they should be passed as keyword, not positionally.\n",
      "  inframe=inframe)\n"
     ]
    },
    {
     "data": {
      "image/png": "[encoded data removed]",
      "text/plain": [
       "<Figure size 864x432 with 1 Axes>"
      ]
     },
     "metadata": {
      "filenames": {
       "image/png": "/home/runner/work/EMSC-4033/EMSC-4033/Jupyterbook/_build/jupyter_execute/Notebooks/Themes/Mapping/8-GlobalPlateMotionsEtc_6_2.png"
      },
      "needs_background": "light"
     },
     "output_type": "display_data"
    }
   ],
   "source": [
    "# How does that look in the Native Projection ?\n",
    "\n",
    "fig = plt.figure(figsize=(12, 6), facecolor=\"none\")\n",
    "ax = plt.axes(projection=base_projection)\n",
    "ax.imshow(etopoH_img_grey[::1,::1], transform=ccrs.PlateCarree(), origin=\"upper\", \n",
    "          alpha=1.0, extent=global_extent,  zorder=0)"
   ]
  },
  {
   "cell_type": "code",
   "execution_count": 6,
   "id": "corporate-circulation",
   "metadata": {},
   "outputs": [],
   "source": [
    "# Some features we need for the map \n",
    "\n",
    "\n",
    "coastline = cfeature.NaturalEarthFeature('physical', 'coastline', '50m',\n",
    "                           edgecolor=(0.0,0.0,0.0),\n",
    "                           facecolor=\"none\")\n",
    "\n",
    "rivers = cfeature.NaturalEarthFeature('physical', 'rivers_lake_centerlines', '50m',\n",
    "                                        edgecolor='Blue', facecolor=\"none\")\n",
    "\n",
    "lakes = cfeature.NaturalEarthFeature('physical', 'lakes', '50m',\n",
    "                                        edgecolor=\"blue\", facecolor=\"blue\")\n",
    "\n",
    "ocean = cfeature.NaturalEarthFeature('physical', 'ocean', '50m',\n",
    "                           edgecolor=\"green\",\n",
    "                           facecolor=\"blue\")\n",
    "\n",
    "graticules_5 = cfeature.NaturalEarthFeature('physical', 'graticules_5', '10m',\n",
    "                           edgecolor=\"black\", facecolor=None)"
   ]
  },
  {
   "cell_type": "code",
   "execution_count": 7,
   "id": "breathing-scottish",
   "metadata": {},
   "outputs": [
    {
     "ename": "FileNotFoundError",
     "evalue": "[Errno 2] No such file or directory: 'Resources/velocity_NNR.nc'",
     "output_type": "error",
     "traceback": [
      "\u001b[0;31m---------------------------------------------------------------------------\u001b[0m",
      "\u001b[0;31mFileNotFoundError\u001b[0m                         Traceback (most recent call last)",
      "\u001b[0;32m<ipython-input-7-0729626ba249>\u001b[0m in \u001b[0;36m<module>\u001b[0;34m\u001b[0m\n\u001b[1;32m      1\u001b[0m \u001b[0;31m## Reading the velocity vector data from the EU-fixed dataset\u001b[0m\u001b[0;34m\u001b[0m\u001b[0;34m\u001b[0m\u001b[0;34m\u001b[0m\u001b[0m\n\u001b[1;32m      2\u001b[0m \u001b[0;34m\u001b[0m\u001b[0m\n\u001b[0;32m----> 3\u001b[0;31m \u001b[0mrootgrp\u001b[0m \u001b[0;34m=\u001b[0m \u001b[0mnetcdf\u001b[0m\u001b[0;34m.\u001b[0m\u001b[0mnetcdf_file\u001b[0m\u001b[0;34m(\u001b[0m\u001b[0mfilename\u001b[0m\u001b[0;34m=\u001b[0m\u001b[0;34m\"Resources/velocity_NNR.nc\"\u001b[0m\u001b[0;34m,\u001b[0m \u001b[0mversion\u001b[0m\u001b[0;34m=\u001b[0m\u001b[0;36m2\u001b[0m\u001b[0;34m)\u001b[0m\u001b[0;34m\u001b[0m\u001b[0;34m\u001b[0m\u001b[0m\n\u001b[0m\u001b[1;32m      4\u001b[0m \u001b[0;34m\u001b[0m\u001b[0m\n\u001b[1;32m      5\u001b[0m \u001b[0mve\u001b[0m \u001b[0;34m=\u001b[0m \u001b[0mrootgrp\u001b[0m\u001b[0;34m.\u001b[0m\u001b[0mvariables\u001b[0m\u001b[0;34m[\u001b[0m\u001b[0;34m\"ve\"\u001b[0m\u001b[0;34m]\u001b[0m\u001b[0;34m\u001b[0m\u001b[0;34m\u001b[0m\u001b[0m\n",
      "\u001b[0;32m/usr/share/miniconda3/envs/jupyter/lib/python3.7/site-packages/scipy/io/netcdf.py\u001b[0m in \u001b[0;36m__init__\u001b[0;34m(self, filename, mode, mmap, version, maskandscale)\u001b[0m\n\u001b[1;32m    247\u001b[0m             \u001b[0mself\u001b[0m\u001b[0;34m.\u001b[0m\u001b[0mfilename\u001b[0m \u001b[0;34m=\u001b[0m \u001b[0mfilename\u001b[0m\u001b[0;34m\u001b[0m\u001b[0;34m\u001b[0m\u001b[0m\n\u001b[1;32m    248\u001b[0m             \u001b[0momode\u001b[0m \u001b[0;34m=\u001b[0m \u001b[0;34m'r+'\u001b[0m \u001b[0;32mif\u001b[0m \u001b[0mmode\u001b[0m \u001b[0;34m==\u001b[0m \u001b[0;34m'a'\u001b[0m \u001b[0;32melse\u001b[0m \u001b[0mmode\u001b[0m\u001b[0;34m\u001b[0m\u001b[0;34m\u001b[0m\u001b[0m\n\u001b[0;32m--> 249\u001b[0;31m             \u001b[0mself\u001b[0m\u001b[0;34m.\u001b[0m\u001b[0mfp\u001b[0m \u001b[0;34m=\u001b[0m \u001b[0mopen\u001b[0m\u001b[0;34m(\u001b[0m\u001b[0mself\u001b[0m\u001b[0;34m.\u001b[0m\u001b[0mfilename\u001b[0m\u001b[0;34m,\u001b[0m \u001b[0;34m'%sb'\u001b[0m \u001b[0;34m%\u001b[0m \u001b[0momode\u001b[0m\u001b[0;34m)\u001b[0m\u001b[0;34m\u001b[0m\u001b[0;34m\u001b[0m\u001b[0m\n\u001b[0m\u001b[1;32m    250\u001b[0m             \u001b[0;32mif\u001b[0m \u001b[0mmmap\u001b[0m \u001b[0;32mis\u001b[0m \u001b[0;32mNone\u001b[0m\u001b[0;34m:\u001b[0m\u001b[0;34m\u001b[0m\u001b[0;34m\u001b[0m\u001b[0m\n\u001b[1;32m    251\u001b[0m                 \u001b[0;31m# Mmapped files on PyPy cannot be usually closed\u001b[0m\u001b[0;34m\u001b[0m\u001b[0;34m\u001b[0m\u001b[0;34m\u001b[0m\u001b[0m\n",
      "\u001b[0;31mFileNotFoundError\u001b[0m: [Errno 2] No such file or directory: 'Resources/velocity_NNR.nc'"
     ]
    }
   ],
   "source": [
    "## Reading the velocity vector data from the EU-fixed dataset\n",
    "\n",
    "rootgrp = netcdf.netcdf_file(filename=\"Resources/velocity_NNR.nc\", version=2)\n",
    "\n",
    "ve = rootgrp.variables[\"ve\"]\n",
    "vn = rootgrp.variables[\"vn\"]\n",
    "\n",
    "lonv = rootgrp.variables[\"lon\"]\n",
    "latv = rootgrp.variables[\"lat\"]\n",
    "\n",
    "lons = lonv[::5]\n",
    "lats = latv[::5]\n",
    "llX, llY = np.meshgrid(lons,lats)\n",
    "\n",
    "#llX = llX.reshape(-1)\n",
    "#llY = llY.reshape(-1)\n",
    "\n",
    "Veast = (np.array(ve[::5,::5]).T)\n",
    "Vnorth = (np.array(vn[::5,::5]).T)\n",
    "\n",
    "Vorientation = np.arctan2(Vnorth,Veast)"
   ]
  },
  {
   "cell_type": "code",
   "execution_count": 8,
   "id": "distinguished-banks",
   "metadata": {},
   "outputs": [
    {
     "ename": "NameError",
     "evalue": "name 'etopoH_img_grey' is not defined",
     "output_type": "error",
     "traceback": [
      "\u001b[0;31m---------------------------------------------------------------------------\u001b[0m",
      "\u001b[0;31mNameError\u001b[0m                                 Traceback (most recent call last)",
      "\u001b[0;32m<ipython-input-8-9e9d0ba1ff14>\u001b[0m in \u001b[0;36m<module>\u001b[0;34m\u001b[0m\n\u001b[1;32m     12\u001b[0m \u001b[0;34m\u001b[0m\u001b[0m\n\u001b[1;32m     13\u001b[0m \u001b[0;31m# Still too large for the memory\u001b[0m\u001b[0;34m\u001b[0m\u001b[0;34m\u001b[0m\u001b[0;34m\u001b[0m\u001b[0m\n\u001b[0;32m---> 14\u001b[0;31m ax.imshow(etopoH_img_grey[::4,::4,:], transform=ccrs.PlateCarree(), origin=\"upper\", \n\u001b[0m\u001b[1;32m     15\u001b[0m           alpha=1.0, extent=global_extent, interpolation=\"spline16\", zorder=0)\n\u001b[1;32m     16\u001b[0m \u001b[0;34m\u001b[0m\u001b[0m\n",
      "\u001b[0;31mNameError\u001b[0m: name 'etopoH_img_grey' is not defined"
     ]
    },
    {
     "data": {
      "image/png": "[encoded data removed]",
      "text/plain": [
       "<Figure size 864x432 with 1 Axes>"
      ]
     },
     "metadata": {
      "filenames": {
       "image/png": "/home/runner/work/EMSC-4033/EMSC-4033/Jupyterbook/_build/jupyter_execute/Notebooks/Themes/Mapping/8-GlobalPlateMotionsEtc_9_1.png"
      },
      "needs_background": "light"
     },
     "output_type": "display_data"
    }
   ],
   "source": [
    "# I used Robinson in the article but it keeps crashing for me now !\n",
    "\n",
    "#projection = ccrs.PlateCarree() # For debugging, this one is quick\n",
    "#projection = ccrs.Orthographic(central_longitude=-150.0, central_latitude=60.0, globe=None)\n",
    "#projection = ccrs.Orthographic(central_longitude=120.0, central_latitude=5.0, globe=None)\n",
    "projection = ccrs.Mollweide(central_longitude=120)\n",
    "#projection = ccrs.Robinson(central_longitude=120) # This is the one in the paper\n",
    "\n",
    "fig = plt.figure(figsize=(12, 6), facecolor=\"none\")\n",
    "\n",
    "ax = plt.axes(projection=projection)\n",
    "\n",
    "# Still too large for the memory \n",
    "ax.imshow(etopoH_img_grey[::4,::4,:], transform=ccrs.PlateCarree(), origin=\"upper\", \n",
    "          alpha=1.0, extent=global_extent, interpolation=\"spline16\", zorder=0)\n",
    "\n",
    "\n",
    "mappable2 = ax.contourf(strainrate_data[:,:,0], strainrate_data[:,:,1], strainrate_data[:,:,2], \n",
    "         levels=[10, 20, 50, 100, 200, 500], linestyle=None, vmin=1.0, vmax=200,\n",
    "         transform=base_projection,  cmap=cm.OrRd_r, alpha=0.75, \n",
    "         extent=strainrate_extent, extend=\"max\", zorder=12)\n",
    "\n",
    "plt.colorbar(mappable=mappable2, shrink=0.5)\n",
    "\n",
    "\n",
    "mappable1 = ax.quiver(llX, llY, Veast, Vnorth, Vorientation, scale=2000, transform=ccrs.PlateCarree(),\n",
    "        cmap=cm.Blues, alpha=0.7, zorder=13, pivot=\"mid\")\n",
    "\n",
    "\n",
    "ax.add_feature(coastline, linewidth=1.0,  edgecolor=\"#000000\", zorder=2, alpha=0.75)\n",
    "# ax.add_feature(rivers,    linewidth=1,    edgecolor=\"Blue\", zorder=2)\n",
    "# ax.add_feature(lakes,     linewidth=1,    edgecolor=\"Blue\", zorder=3, alpha=0.25)\n",
    "# ax.add_feature(graticules_5, linewidth=0.25, edgecolor=\"black\", linestyle=\":\", zorder=1, alpha=0.75)"
   ]
  },
  {
   "cell_type": "code",
   "execution_count": 9,
   "id": "productive-manchester",
   "metadata": {},
   "outputs": [],
   "source": [
    "#fig.savefig(\"PlateMotionsPlateCarree.png\", dpi=300) \n",
    "#fig.savefig(\"PlateMotionsRobinson.png\", dpi=500)\n",
    "fig.savefig(\"PlateMotionsMollweide.png\", dpi=500)"
   ]
  },
  {
   "cell_type": "code",
   "execution_count": 10,
   "id": "affecting-spring",
   "metadata": {},
   "outputs": [
    {
     "ename": "AttributeError",
     "evalue": "'NoneType' object has no attribute 'ReadAsArray'",
     "output_type": "error",
     "traceback": [
      "\u001b[0;31m---------------------------------------------------------------------------\u001b[0m",
      "\u001b[0;31mAttributeError\u001b[0m                            Traceback (most recent call last)",
      "\u001b[0;32m<ipython-input-10-cd3a3590f7b9>\u001b[0m in \u001b[0;36m<module>\u001b[0;34m\u001b[0m\n\u001b[1;32m      2\u001b[0m \u001b[0;34m\u001b[0m\u001b[0m\n\u001b[1;32m      3\u001b[0m \u001b[0mglobalrelief\u001b[0m      \u001b[0;34m=\u001b[0m \u001b[0mgdal\u001b[0m\u001b[0;34m.\u001b[0m\u001b[0mOpen\u001b[0m\u001b[0;34m(\u001b[0m\u001b[0;34m\"Resources/HYP_50M_SR_W/HYP_50M_SR_W.tif\"\u001b[0m\u001b[0;34m)\u001b[0m\u001b[0;34m\u001b[0m\u001b[0;34m\u001b[0m\u001b[0m\n\u001b[0;32m----> 4\u001b[0;31m \u001b[0mglobalrelief_img\u001b[0m  \u001b[0;34m=\u001b[0m \u001b[0mglobalrelief\u001b[0m\u001b[0;34m.\u001b[0m\u001b[0mReadAsArray\u001b[0m\u001b[0;34m(\u001b[0m\u001b[0;34m)\u001b[0m\u001b[0;34m.\u001b[0m\u001b[0mtranspose\u001b[0m\u001b[0;34m(\u001b[0m\u001b[0;36m1\u001b[0m\u001b[0;34m,\u001b[0m\u001b[0;36m2\u001b[0m\u001b[0;34m,\u001b[0m\u001b[0;36m0\u001b[0m\u001b[0;34m)\u001b[0m\u001b[0;34m\u001b[0m\u001b[0;34m\u001b[0m\u001b[0m\n\u001b[0m\u001b[1;32m      5\u001b[0m \u001b[0;32mdel\u001b[0m\u001b[0;34m(\u001b[0m\u001b[0mglobalrelief\u001b[0m\u001b[0;34m)\u001b[0m\u001b[0;34m\u001b[0m\u001b[0;34m\u001b[0m\u001b[0m\n\u001b[1;32m      6\u001b[0m \u001b[0;34m\u001b[0m\u001b[0m\n",
      "\u001b[0;31mAttributeError\u001b[0m: 'NoneType' object has no attribute 'ReadAsArray'"
     ]
    }
   ],
   "source": [
    "## This was an alternative to the background image which I thought might look good:\n",
    "\n",
    "globalrelief      = gdal.Open(\"Resources/HYP_50M_SR_W/HYP_50M_SR_W.tif\")\n",
    "globalrelief_img  = globalrelief.ReadAsArray().transpose(1,2,0)\n",
    "del(globalrelief)\n",
    "\n",
    "globalbathym      = gdal.Open(\"Resources/OB_50M/OB_50M.tif\")\n",
    "globalbathym_img  = globalbathym.ReadAsArray().transpose(1,2,0)\n",
    "del(globalbathym)\n",
    "\n",
    "print (\"etopoH_img - \", etopoH_img.shape)\n",
    "print (\"globalrelief_img - \", globalrelief_img.shape)\n",
    "\n",
    "blended_img = np.empty_like(globalrelief_img)\n",
    "blended_img[...,0] = np.where( etopoH_img < 0.0, globalbathym_img[...,0], globalrelief_img[...,0] )\n",
    "blended_img[...,1] = np.where( etopoH_img < 0.0, globalbathym_img[...,1], globalrelief_img[...,1] )\n",
    "blended_img[...,2] = np.where( etopoH_img < 0.0, globalbathym_img[...,2], globalrelief_img[...,2] )\n",
    "\n",
    "del(globalbathym_img)\n",
    "del(globalrelief_img)\n",
    "\n",
    "fig = plt.figure(figsize=(12, 6), facecolor=\"none\")\n",
    "ax = plt.axes(projection=base_projection)\n",
    "ax.imshow(blended_img[::1,::1], transform=ccrs.PlateCarree(), origin=\"upper\", \n",
    "          alpha=1.0, extent=global_extent,  zorder=0)"
   ]
  },
  {
   "cell_type": "code",
   "execution_count": 11,
   "id": "otherwise-plant",
   "metadata": {},
   "outputs": [
    {
     "data": {
      "text/plain": [
       "'\\nimport scipy.ndimage\\nimport scipy.misc\\n\\n\\netopoH = gdal.Open(\"Resources/ETOPO1_Ice_g_geotiff.tif\")\\netopoH_img = etopoH.ReadAsArray()\\n\\nprint \\n\\netopoH_transform = etopoH.GetGeoTransform()\\nglobalrelief_transform = globalrelief.GetGeoTransform()\\n\\n# Resize to match globalrelief ... this resize is int only ??\\n\\nglobaletopoH = scipy.misc.imresize(etopoH_img, globalrelief_img.shape, mode=\\'F\\')\\n\\n## How to turn this array back into the appropriate geotiff\\n\\nfrom osgeo import gdal\\nfrom osgeo import osr\\n\\n# data exists in \\'ary\\' with values range 0 - 255\\n# Uncomment the next line if ary[0][0] is upper-left corner\\n#ary = numpy.flipup(ary)\\n\\nNy, Nx = globaletopoH.shape\\ndriver = gdal.GetDriverByName(\"GTiff\")\\n# Final argument is optional but will produce much smaller output file\\nds = driver.Create(\\'output.tif\\', Nx, Ny, 1, gdal.GDT_Float64, [\\'COMPRESS=LZW\\'])\\n\\n# this assumes the projection is Geographic lat/lon WGS 84\\nsrs = osr.SpatialReference()\\nsrs.ImportFromEPSG(4326)\\nds.SetProjection(srs.ExportToWkt())\\n\\nds.SetGeoTransform( globalrelief_transform  ) # define GeoTransform tuple\\nds.GetRasterBand(1).WriteArray(globaletopoH)\\nds = None\\n'"
      ]
     },
     "execution_count": 11,
     "metadata": {},
     "output_type": "execute_result"
    }
   ],
   "source": [
    "# Do this if the relief / bathym sizes don't match the etopo data (to make the blended image)\n",
    "# The datasets we downloaded can be manipulated trivially without the need for this and I have\n",
    "# commented it all out so you can run all cells without reprocessing the data files. \n",
    "\n",
    "\n",
    "\"\"\"\n",
    "import scipy.ndimage\n",
    "import scipy.misc\n",
    "\n",
    "\n",
    "etopoH = gdal.Open(\"Resources/ETOPO1_Ice_g_geotiff.tif\")\n",
    "etopoH_img = etopoH.ReadAsArray()\n",
    "\n",
    "print \n",
    "\n",
    "etopoH_transform = etopoH.GetGeoTransform()\n",
    "globalrelief_transform = globalrelief.GetGeoTransform()\n",
    "\n",
    "# Resize to match globalrelief ... this resize is int only ??\n",
    "\n",
    "globaletopoH = scipy.misc.imresize(etopoH_img, globalrelief_img.shape, mode='F')\n",
    "\n",
    "## How to turn this array back into the appropriate geotiff\n",
    "\n",
    "from osgeo import gdal\n",
    "from osgeo import osr\n",
    "\n",
    "# data exists in 'ary' with values range 0 - 255\n",
    "# Uncomment the next line if ary[0][0] is upper-left corner\n",
    "#ary = numpy.flipup(ary)\n",
    "\n",
    "Ny, Nx = globaletopoH.shape\n",
    "driver = gdal.GetDriverByName(\"GTiff\")\n",
    "# Final argument is optional but will produce much smaller output file\n",
    "ds = driver.Create('output.tif', Nx, Ny, 1, gdal.GDT_Float64, ['COMPRESS=LZW'])\n",
    "\n",
    "# this assumes the projection is Geographic lat/lon WGS 84\n",
    "srs = osr.SpatialReference()\n",
    "srs.ImportFromEPSG(4326)\n",
    "ds.SetProjection(srs.ExportToWkt())\n",
    "\n",
    "ds.SetGeoTransform( globalrelief_transform  ) # define GeoTransform tuple\n",
    "ds.GetRasterBand(1).WriteArray(globaletopoH)\n",
    "ds = None\n",
    "\"\"\""
   ]
  }
 ],
 "metadata": {
  "jupytext": {
   "text_representation": {
    "extension": ".md",
    "format_name": "myst",
    "format_version": 0.13,
    "jupytext_version": "1.10.3"
   }
  },
  "kernelspec": {
   "display_name": "Python 3",
   "language": "python",
   "name": "python3"
  },
  "language_info": {
   "codemirror_mode": {
    "name": "ipython",
    "version": 3
   },
   "file_extension": ".py",
   "mimetype": "text/x-python",
   "name": "python",
   "nbconvert_exporter": "python",
   "pygments_lexer": "ipython3",
   "version": "3.7.10"
  },
  "source_map": [
   12,
   16,
   25,
   39,
   57,
   67,
   93,
   102,
   124,
   148,
   184,
   190,
   218
  ]
 },
 "nbformat": 4,
 "nbformat_minor": 5
}