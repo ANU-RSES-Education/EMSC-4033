{
 "cells": [
  {
   "cell_type": "markdown",
   "id": "great-research",
   "metadata": {},
   "source": [
    "# Global Plate Motions"
   ]
  },
  {
   "cell_type": "markdown",
   "id": "tested-delay",
   "metadata": {
    "solution": "hidden",
    "solution_first": true
   },
   "source": [
    "Figure 1 from my SIAM News publication in 2015: http://www.moresi.info/posts/Computational-Challenges-SIAM-NEWS/\n",
    "\n",
    "\n",
    "_The surface of the Earth is continually moving in response to convection currents in the underlying mantle. A map of the surface velocities shows the motions are organised into a strikingly simple pattern of surface \"plates\" that are almost rigid bodies. The surface strain rate - coloured contours - is concentrated at the plate boundaries. On closer inspection, there are many regions within the continental crust where the motions are diffuse, not at all plate-like. The arrows are colored by their angle to North as a means of distinguishing the different plates. The scale is such that the longest vector represents 10cm/yr._\n",
    "\n",
    "The image is composed of a background grayscale topography / bathymetry map, plate motion vectors (in a Europe-fixed frame) and contours of the observed strain rate second invariant. These data are available after running [Notebook 0](/notebooks/Mapping/0%20-%20Preliminaries.ipynb#) to download / install everything."
   ]
  },
  {
   "cell_type": "code",
   "execution_count": 1,
   "id": "alleged-persian",
   "metadata": {},
   "outputs": [
    {
     "name": "stdout",
     "output_type": "stream",
     "text": [
      "Populating the interactive namespace from numpy and matplotlib\n"
     ]
    }
   ],
   "source": [
    "%pylab inline\n",
    "\n",
    "from osgeo import gdal\n",
    "from osgeo import gdal_array\n",
    "\n",
    "import cartopy.crs as ccrs\n",
    "import matplotlib.pyplot as plt\n",
    "\n",
    "import cartopy.feature as cfeature\n",
    "\n",
    "from scipy.io import netcdf"
   ]
  },
  {
   "cell_type": "code",
   "execution_count": 2,
   "id": "hydraulic-graduation",
   "metadata": {},
   "outputs": [
    {
     "name": "stdout",
     "output_type": "stream",
     "text": [
      "Cloudstore connection established\n"
     ]
    },
    {
     "name": "stdout",
     "output_type": "stream",
     "text": [
      "Remote and local file size both 10.85 MB, skipping - Resources/BlueMarbleNG-TB_2004-12-01_rgb_3600x1800.TIFF\n"
     ]
    },
    {
     "name": "stdout",
     "output_type": "stream",
     "text": [
      "Remote and local file size both 43.76 MB, skipping - Resources/color_etopo1_ice_low.tif\n"
     ]
    },
    {
     "name": "stdout",
     "output_type": "stream",
     "text": [
      "Remote and local file size both 147.72 MB, skipping - Resources/EMAG2_image_V2_no_compr.tif\n"
     ]
    },
    {
     "name": "stdout",
     "output_type": "stream",
     "text": [
      "Remote and local file size both 21.99 MB, skipping - Resources/global_age_data.3.6.z.npz\n"
     ]
    },
    {
     "name": "stdout",
     "output_type": "stream",
     "text": [
      "Downloaded Resources/etopo1_grayscale_hillshade.tif (116.62 MB)\n"
     ]
    },
    {
     "ename": "KeyboardInterrupt",
     "evalue": "",
     "output_type": "error",
     "traceback": [
      "\u001b[0;31m---------------------------------------------------------------------------\u001b[0m",
      "\u001b[0;31mKeyboardInterrupt\u001b[0m                         Traceback (most recent call last)",
      "\u001b[0;32m<ipython-input-2-f25782082a58>\u001b[0m in \u001b[0;36m<module>\u001b[0;34m\u001b[0m\n\u001b[1;32m      8\u001b[0m \u001b[0mteaching_data\u001b[0m\u001b[0;34m.\u001b[0m\u001b[0mdownload_file_if_distinct\u001b[0m\u001b[0;34m(\u001b[0m\u001b[0;34m\"etopo1_grayscale_hillshade.tif\"\u001b[0m\u001b[0;34m,\u001b[0m \u001b[0;34m\"Resources/etopo1_grayscale_hillshade.tif\"\u001b[0m\u001b[0;34m)\u001b[0m\u001b[0;34m\u001b[0m\u001b[0;34m\u001b[0m\u001b[0m\n\u001b[1;32m      9\u001b[0m \u001b[0;34m\u001b[0m\u001b[0m\n\u001b[0;32m---> 10\u001b[0;31m \u001b[0mteaching_data\u001b[0m\u001b[0;34m.\u001b[0m\u001b[0mdownload_file_if_distinct\u001b[0m\u001b[0;34m(\u001b[0m\u001b[0;34m\"HYP_50M_SR_W/HYP_50M_SR_W.tif\"\u001b[0m\u001b[0;34m,\u001b[0m \u001b[0;34m\"Resources/HYP_50M_SR_W/HYP_50M_SR_W.tif\"\u001b[0m\u001b[0;34m)\u001b[0m\u001b[0;34m\u001b[0m\u001b[0;34m\u001b[0m\u001b[0m\n\u001b[0m\u001b[1;32m     11\u001b[0m \u001b[0mteaching_data\u001b[0m\u001b[0;34m.\u001b[0m\u001b[0mdownload_file_if_distinct\u001b[0m\u001b[0;34m(\u001b[0m\u001b[0;34m\"OB_50M/OB_50M.tif\"\u001b[0m\u001b[0;34m,\u001b[0m \u001b[0;34m\"Resources/OB_50M/OB_50M.tif\"\u001b[0m\u001b[0;34m)\u001b[0m\u001b[0;34m\u001b[0m\u001b[0;34m\u001b[0m\u001b[0m\n",
      "\u001b[0;32m/usr/share/miniconda3/envs/jupyter/lib/python3.7/site-packages/cloudstor/cloudstor_webdav.py\u001b[0m in \u001b[0;36mdownload_file_if_distinct\u001b[0;34m(self, remote_path, local_path, check_size, silent)\u001b[0m\n\u001b[1;32m    111\u001b[0m \u001b[0;34m\u001b[0m\u001b[0m\n\u001b[1;32m    112\u001b[0m         \u001b[0;32mif\u001b[0m \u001b[0mcheck_size\u001b[0m \u001b[0;34m==\u001b[0m \u001b[0;32mFalse\u001b[0m \u001b[0;32mor\u001b[0m \u001b[0mself\u001b[0m\u001b[0;34m.\u001b[0m\u001b[0mcompare_remote\u001b[0m\u001b[0;34m(\u001b[0m\u001b[0mremote_path\u001b[0m\u001b[0;34m,\u001b[0m \u001b[0mlocal_path\u001b[0m\u001b[0;34m)\u001b[0m \u001b[0;34m==\u001b[0m \u001b[0;32mFalse\u001b[0m \u001b[0;34m:\u001b[0m\u001b[0;34m\u001b[0m\u001b[0;34m\u001b[0m\u001b[0m\n\u001b[0;32m--> 113\u001b[0;31m             \u001b[0mself\u001b[0m\u001b[0;34m.\u001b[0m\u001b[0mdownload_file\u001b[0m\u001b[0;34m(\u001b[0m\u001b[0mremote_path\u001b[0m\u001b[0;34m,\u001b[0m \u001b[0mlocal_path\u001b[0m\u001b[0;34m)\u001b[0m\u001b[0;34m\u001b[0m\u001b[0;34m\u001b[0m\u001b[0m\n\u001b[0m\u001b[1;32m    114\u001b[0m             \u001b[0;32mif\u001b[0m \u001b[0;32mnot\u001b[0m \u001b[0msilent\u001b[0m\u001b[0;34m:\u001b[0m\u001b[0;34m\u001b[0m\u001b[0;34m\u001b[0m\u001b[0m\n\u001b[1;32m    115\u001b[0m                 \u001b[0;32mimport\u001b[0m \u001b[0mos\u001b[0m\u001b[0;34m\u001b[0m\u001b[0;34m\u001b[0m\u001b[0m\n",
      "\u001b[0;32m/usr/share/miniconda3/envs/jupyter/lib/python3.7/site-packages/webdav/client.py\u001b[0m in \u001b[0;36m_wrapper\u001b[0;34m(self, *args, **kw)\u001b[0m\n\u001b[1;32m     68\u001b[0m         \u001b[0mlog\u001b[0m\u001b[0;34m.\u001b[0m\u001b[0mdebug\u001b[0m\u001b[0;34m(\u001b[0m\u001b[0;34mf'Requesting {fn}({args}, {kw})'\u001b[0m\u001b[0;34m)\u001b[0m\u001b[0;34m\u001b[0m\u001b[0;34m\u001b[0m\u001b[0m\n\u001b[1;32m     69\u001b[0m         \u001b[0;32mtry\u001b[0m\u001b[0;34m:\u001b[0m\u001b[0;34m\u001b[0m\u001b[0;34m\u001b[0m\u001b[0m\n\u001b[0;32m---> 70\u001b[0;31m             \u001b[0mres\u001b[0m \u001b[0;34m=\u001b[0m \u001b[0mfn\u001b[0m\u001b[0;34m(\u001b[0m\u001b[0mself\u001b[0m\u001b[0;34m,\u001b[0m \u001b[0;34m*\u001b[0m\u001b[0margs\u001b[0m\u001b[0;34m,\u001b[0m \u001b[0;34m**\u001b[0m\u001b[0mkw\u001b[0m\u001b[0;34m)\u001b[0m\u001b[0;34m\u001b[0m\u001b[0;34m\u001b[0m\u001b[0m\n\u001b[0m\u001b[1;32m     71\u001b[0m         \u001b[0;32mexcept\u001b[0m \u001b[0mrequests\u001b[0m\u001b[0;34m.\u001b[0m\u001b[0mConnectionError\u001b[0m\u001b[0;34m:\u001b[0m\u001b[0;34m\u001b[0m\u001b[0;34m\u001b[0m\u001b[0m\n\u001b[1;32m     72\u001b[0m             \u001b[0;32mraise\u001b[0m \u001b[0mNoConnection\u001b[0m\u001b[0;34m(\u001b[0m\u001b[0mself\u001b[0m\u001b[0;34m.\u001b[0m\u001b[0mwebdav\u001b[0m\u001b[0;34m.\u001b[0m\u001b[0mhostname\u001b[0m\u001b[0;34m)\u001b[0m\u001b[0;34m\u001b[0m\u001b[0;34m\u001b[0m\u001b[0m\n",
      "\u001b[0;32m/usr/share/miniconda3/envs/jupyter/lib/python3.7/site-packages/webdav/client.py\u001b[0m in \u001b[0;36mdownload_file\u001b[0;34m(self, remote_path, local_path, progress)\u001b[0m\n\u001b[1;32m    413\u001b[0m \u001b[0;34m\u001b[0m\u001b[0m\n\u001b[1;32m    414\u001b[0m         \u001b[0;32mwith\u001b[0m \u001b[0mopen\u001b[0m\u001b[0;34m(\u001b[0m\u001b[0mlocal_path\u001b[0m\u001b[0;34m,\u001b[0m \u001b[0;34m'wb'\u001b[0m\u001b[0;34m)\u001b[0m \u001b[0;32mas\u001b[0m \u001b[0mlocal_file\u001b[0m\u001b[0;34m:\u001b[0m\u001b[0;34m\u001b[0m\u001b[0;34m\u001b[0m\u001b[0m\n\u001b[0;32m--> 415\u001b[0;31m             \u001b[0mresponse\u001b[0m \u001b[0;34m=\u001b[0m \u001b[0mself\u001b[0m\u001b[0;34m.\u001b[0m\u001b[0mexecute_request\u001b[0m\u001b[0;34m(\u001b[0m\u001b[0;34m'download'\u001b[0m\u001b[0;34m,\u001b[0m \u001b[0murn\u001b[0m\u001b[0;34m.\u001b[0m\u001b[0mquote\u001b[0m\u001b[0;34m(\u001b[0m\u001b[0;34m)\u001b[0m\u001b[0;34m)\u001b[0m\u001b[0;34m\u001b[0m\u001b[0;34m\u001b[0m\u001b[0m\n\u001b[0m\u001b[1;32m    416\u001b[0m             \u001b[0;32mfor\u001b[0m \u001b[0mblock\u001b[0m \u001b[0;32min\u001b[0m \u001b[0mresponse\u001b[0m\u001b[0;34m.\u001b[0m\u001b[0miter_content\u001b[0m\u001b[0;34m(\u001b[0m\u001b[0;36m1024\u001b[0m\u001b[0;34m)\u001b[0m\u001b[0;34m:\u001b[0m\u001b[0;34m\u001b[0m\u001b[0;34m\u001b[0m\u001b[0m\n\u001b[1;32m    417\u001b[0m                 \u001b[0mlocal_file\u001b[0m\u001b[0;34m.\u001b[0m\u001b[0mwrite\u001b[0m\u001b[0;34m(\u001b[0m\u001b[0mblock\u001b[0m\u001b[0;34m)\u001b[0m\u001b[0;34m\u001b[0m\u001b[0;34m\u001b[0m\u001b[0m\n",
      "\u001b[0;32m/usr/share/miniconda3/envs/jupyter/lib/python3.7/site-packages/webdav/client.py\u001b[0m in \u001b[0;36mexecute_request\u001b[0;34m(self, action, path, data, headers_ext)\u001b[0m\n\u001b[1;32m    162\u001b[0m             \u001b[0mheaders\u001b[0m\u001b[0;34m=\u001b[0m\u001b[0mself\u001b[0m\u001b[0;34m.\u001b[0m\u001b[0mget_headers\u001b[0m\u001b[0;34m(\u001b[0m\u001b[0maction\u001b[0m\u001b[0;34m,\u001b[0m \u001b[0mheaders_ext\u001b[0m\u001b[0;34m)\u001b[0m\u001b[0;34m,\u001b[0m\u001b[0;34m\u001b[0m\u001b[0;34m\u001b[0m\u001b[0m\n\u001b[1;32m    163\u001b[0m             \u001b[0mtimeout\u001b[0m\u001b[0;34m=\u001b[0m\u001b[0mself\u001b[0m\u001b[0;34m.\u001b[0m\u001b[0mtimeout\u001b[0m\u001b[0;34m,\u001b[0m\u001b[0;34m\u001b[0m\u001b[0;34m\u001b[0m\u001b[0m\n\u001b[0;32m--> 164\u001b[0;31m             \u001b[0mdata\u001b[0m\u001b[0;34m=\u001b[0m\u001b[0mdata\u001b[0m\u001b[0;34m\u001b[0m\u001b[0;34m\u001b[0m\u001b[0m\n\u001b[0m\u001b[1;32m    165\u001b[0m         )\n\u001b[1;32m    166\u001b[0m         \u001b[0;32mif\u001b[0m \u001b[0mresponse\u001b[0m\u001b[0;34m.\u001b[0m\u001b[0mstatus_code\u001b[0m \u001b[0;34m==\u001b[0m \u001b[0;36m507\u001b[0m\u001b[0;34m:\u001b[0m\u001b[0;34m\u001b[0m\u001b[0;34m\u001b[0m\u001b[0m\n",
      "\u001b[0;32m/usr/share/miniconda3/envs/jupyter/lib/python3.7/site-packages/requests/sessions.py\u001b[0m in \u001b[0;36mrequest\u001b[0;34m(self, method, url, params, data, headers, cookies, files, auth, timeout, allow_redirects, proxies, hooks, stream, verify, cert, json)\u001b[0m\n\u001b[1;32m    540\u001b[0m         }\n\u001b[1;32m    541\u001b[0m         \u001b[0msend_kwargs\u001b[0m\u001b[0;34m.\u001b[0m\u001b[0mupdate\u001b[0m\u001b[0;34m(\u001b[0m\u001b[0msettings\u001b[0m\u001b[0;34m)\u001b[0m\u001b[0;34m\u001b[0m\u001b[0;34m\u001b[0m\u001b[0m\n\u001b[0;32m--> 542\u001b[0;31m         \u001b[0mresp\u001b[0m \u001b[0;34m=\u001b[0m \u001b[0mself\u001b[0m\u001b[0;34m.\u001b[0m\u001b[0msend\u001b[0m\u001b[0;34m(\u001b[0m\u001b[0mprep\u001b[0m\u001b[0;34m,\u001b[0m \u001b[0;34m**\u001b[0m\u001b[0msend_kwargs\u001b[0m\u001b[0;34m)\u001b[0m\u001b[0;34m\u001b[0m\u001b[0;34m\u001b[0m\u001b[0m\n\u001b[0m\u001b[1;32m    543\u001b[0m \u001b[0;34m\u001b[0m\u001b[0m\n\u001b[1;32m    544\u001b[0m         \u001b[0;32mreturn\u001b[0m \u001b[0mresp\u001b[0m\u001b[0;34m\u001b[0m\u001b[0;34m\u001b[0m\u001b[0m\n",
      "\u001b[0;32m/usr/share/miniconda3/envs/jupyter/lib/python3.7/site-packages/requests/sessions.py\u001b[0m in \u001b[0;36msend\u001b[0;34m(self, request, **kwargs)\u001b[0m\n\u001b[1;32m    695\u001b[0m \u001b[0;34m\u001b[0m\u001b[0m\n\u001b[1;32m    696\u001b[0m         \u001b[0;32mif\u001b[0m \u001b[0;32mnot\u001b[0m \u001b[0mstream\u001b[0m\u001b[0;34m:\u001b[0m\u001b[0;34m\u001b[0m\u001b[0;34m\u001b[0m\u001b[0m\n\u001b[0;32m--> 697\u001b[0;31m             \u001b[0mr\u001b[0m\u001b[0;34m.\u001b[0m\u001b[0mcontent\u001b[0m\u001b[0;34m\u001b[0m\u001b[0;34m\u001b[0m\u001b[0m\n\u001b[0m\u001b[1;32m    698\u001b[0m \u001b[0;34m\u001b[0m\u001b[0m\n\u001b[1;32m    699\u001b[0m         \u001b[0;32mreturn\u001b[0m \u001b[0mr\u001b[0m\u001b[0;34m\u001b[0m\u001b[0;34m\u001b[0m\u001b[0m\n",
      "\u001b[0;32m/usr/share/miniconda3/envs/jupyter/lib/python3.7/site-packages/requests/models.py\u001b[0m in \u001b[0;36mcontent\u001b[0;34m(self)\u001b[0m\n\u001b[1;32m    829\u001b[0m                 \u001b[0mself\u001b[0m\u001b[0;34m.\u001b[0m\u001b[0m_content\u001b[0m \u001b[0;34m=\u001b[0m \u001b[0;32mNone\u001b[0m\u001b[0;34m\u001b[0m\u001b[0;34m\u001b[0m\u001b[0m\n\u001b[1;32m    830\u001b[0m             \u001b[0;32melse\u001b[0m\u001b[0;34m:\u001b[0m\u001b[0;34m\u001b[0m\u001b[0;34m\u001b[0m\u001b[0m\n\u001b[0;32m--> 831\u001b[0;31m                 \u001b[0mself\u001b[0m\u001b[0;34m.\u001b[0m\u001b[0m_content\u001b[0m \u001b[0;34m=\u001b[0m \u001b[0;34mb''\u001b[0m\u001b[0;34m.\u001b[0m\u001b[0mjoin\u001b[0m\u001b[0;34m(\u001b[0m\u001b[0mself\u001b[0m\u001b[0;34m.\u001b[0m\u001b[0miter_content\u001b[0m\u001b[0;34m(\u001b[0m\u001b[0mCONTENT_CHUNK_SIZE\u001b[0m\u001b[0;34m)\u001b[0m\u001b[0;34m)\u001b[0m \u001b[0;32mor\u001b[0m \u001b[0;34mb''\u001b[0m\u001b[0;34m\u001b[0m\u001b[0;34m\u001b[0m\u001b[0m\n\u001b[0m\u001b[1;32m    832\u001b[0m \u001b[0;34m\u001b[0m\u001b[0m\n\u001b[1;32m    833\u001b[0m         \u001b[0mself\u001b[0m\u001b[0;34m.\u001b[0m\u001b[0m_content_consumed\u001b[0m \u001b[0;34m=\u001b[0m \u001b[0;32mTrue\u001b[0m\u001b[0;34m\u001b[0m\u001b[0;34m\u001b[0m\u001b[0m\n",
      "\u001b[0;32m/usr/share/miniconda3/envs/jupyter/lib/python3.7/site-packages/requests/models.py\u001b[0m in \u001b[0;36mgenerate\u001b[0;34m()\u001b[0m\n\u001b[1;32m    751\u001b[0m             \u001b[0;32mif\u001b[0m \u001b[0mhasattr\u001b[0m\u001b[0;34m(\u001b[0m\u001b[0mself\u001b[0m\u001b[0;34m.\u001b[0m\u001b[0mraw\u001b[0m\u001b[0;34m,\u001b[0m \u001b[0;34m'stream'\u001b[0m\u001b[0;34m)\u001b[0m\u001b[0;34m:\u001b[0m\u001b[0;34m\u001b[0m\u001b[0;34m\u001b[0m\u001b[0m\n\u001b[1;32m    752\u001b[0m                 \u001b[0;32mtry\u001b[0m\u001b[0;34m:\u001b[0m\u001b[0;34m\u001b[0m\u001b[0;34m\u001b[0m\u001b[0m\n\u001b[0;32m--> 753\u001b[0;31m                     \u001b[0;32mfor\u001b[0m \u001b[0mchunk\u001b[0m \u001b[0;32min\u001b[0m \u001b[0mself\u001b[0m\u001b[0;34m.\u001b[0m\u001b[0mraw\u001b[0m\u001b[0;34m.\u001b[0m\u001b[0mstream\u001b[0m\u001b[0;34m(\u001b[0m\u001b[0mchunk_size\u001b[0m\u001b[0;34m,\u001b[0m \u001b[0mdecode_content\u001b[0m\u001b[0;34m=\u001b[0m\u001b[0;32mTrue\u001b[0m\u001b[0;34m)\u001b[0m\u001b[0;34m:\u001b[0m\u001b[0;34m\u001b[0m\u001b[0;34m\u001b[0m\u001b[0m\n\u001b[0m\u001b[1;32m    754\u001b[0m                         \u001b[0;32myield\u001b[0m \u001b[0mchunk\u001b[0m\u001b[0;34m\u001b[0m\u001b[0;34m\u001b[0m\u001b[0m\n\u001b[1;32m    755\u001b[0m                 \u001b[0;32mexcept\u001b[0m \u001b[0mProtocolError\u001b[0m \u001b[0;32mas\u001b[0m \u001b[0me\u001b[0m\u001b[0;34m:\u001b[0m\u001b[0;34m\u001b[0m\u001b[0;34m\u001b[0m\u001b[0m\n",
      "\u001b[0;32m/usr/share/miniconda3/envs/jupyter/lib/python3.7/site-packages/urllib3/response.py\u001b[0m in \u001b[0;36mstream\u001b[0;34m(self, amt, decode_content)\u001b[0m\n\u001b[1;32m    574\u001b[0m         \u001b[0;32melse\u001b[0m\u001b[0;34m:\u001b[0m\u001b[0;34m\u001b[0m\u001b[0;34m\u001b[0m\u001b[0m\n\u001b[1;32m    575\u001b[0m             \u001b[0;32mwhile\u001b[0m \u001b[0;32mnot\u001b[0m \u001b[0mis_fp_closed\u001b[0m\u001b[0;34m(\u001b[0m\u001b[0mself\u001b[0m\u001b[0;34m.\u001b[0m\u001b[0m_fp\u001b[0m\u001b[0;34m)\u001b[0m\u001b[0;34m:\u001b[0m\u001b[0;34m\u001b[0m\u001b[0;34m\u001b[0m\u001b[0m\n\u001b[0;32m--> 576\u001b[0;31m                 \u001b[0mdata\u001b[0m \u001b[0;34m=\u001b[0m \u001b[0mself\u001b[0m\u001b[0;34m.\u001b[0m\u001b[0mread\u001b[0m\u001b[0;34m(\u001b[0m\u001b[0mamt\u001b[0m\u001b[0;34m=\u001b[0m\u001b[0mamt\u001b[0m\u001b[0;34m,\u001b[0m \u001b[0mdecode_content\u001b[0m\u001b[0;34m=\u001b[0m\u001b[0mdecode_content\u001b[0m\u001b[0;34m)\u001b[0m\u001b[0;34m\u001b[0m\u001b[0;34m\u001b[0m\u001b[0m\n\u001b[0m\u001b[1;32m    577\u001b[0m \u001b[0;34m\u001b[0m\u001b[0m\n\u001b[1;32m    578\u001b[0m                 \u001b[0;32mif\u001b[0m \u001b[0mdata\u001b[0m\u001b[0;34m:\u001b[0m\u001b[0;34m\u001b[0m\u001b[0;34m\u001b[0m\u001b[0m\n",
      "\u001b[0;32m/usr/share/miniconda3/envs/jupyter/lib/python3.7/site-packages/urllib3/response.py\u001b[0m in \u001b[0;36mread\u001b[0;34m(self, amt, decode_content, cache_content)\u001b[0m\n\u001b[1;32m    517\u001b[0m             \u001b[0;32melse\u001b[0m\u001b[0;34m:\u001b[0m\u001b[0;34m\u001b[0m\u001b[0;34m\u001b[0m\u001b[0m\n\u001b[1;32m    518\u001b[0m                 \u001b[0mcache_content\u001b[0m \u001b[0;34m=\u001b[0m \u001b[0;32mFalse\u001b[0m\u001b[0;34m\u001b[0m\u001b[0;34m\u001b[0m\u001b[0m\n\u001b[0;32m--> 519\u001b[0;31m                 \u001b[0mdata\u001b[0m \u001b[0;34m=\u001b[0m \u001b[0mself\u001b[0m\u001b[0;34m.\u001b[0m\u001b[0m_fp\u001b[0m\u001b[0;34m.\u001b[0m\u001b[0mread\u001b[0m\u001b[0;34m(\u001b[0m\u001b[0mamt\u001b[0m\u001b[0;34m)\u001b[0m \u001b[0;32mif\u001b[0m \u001b[0;32mnot\u001b[0m \u001b[0mfp_closed\u001b[0m \u001b[0;32melse\u001b[0m \u001b[0;34mb\"\"\u001b[0m\u001b[0;34m\u001b[0m\u001b[0;34m\u001b[0m\u001b[0m\n\u001b[0m\u001b[1;32m    520\u001b[0m                 if (\n\u001b[1;32m    521\u001b[0m                     \u001b[0mamt\u001b[0m \u001b[0;34m!=\u001b[0m \u001b[0;36m0\u001b[0m \u001b[0;32mand\u001b[0m \u001b[0;32mnot\u001b[0m \u001b[0mdata\u001b[0m\u001b[0;34m\u001b[0m\u001b[0;34m\u001b[0m\u001b[0m\n",
      "\u001b[0;32m/usr/share/miniconda3/envs/jupyter/lib/python3.7/http/client.py\u001b[0m in \u001b[0;36mread\u001b[0;34m(self, amt)\u001b[0m\n\u001b[1;32m    459\u001b[0m             \u001b[0;31m# Amount is given, implement using readinto\u001b[0m\u001b[0;34m\u001b[0m\u001b[0;34m\u001b[0m\u001b[0;34m\u001b[0m\u001b[0m\n\u001b[1;32m    460\u001b[0m             \u001b[0mb\u001b[0m \u001b[0;34m=\u001b[0m \u001b[0mbytearray\u001b[0m\u001b[0;34m(\u001b[0m\u001b[0mamt\u001b[0m\u001b[0;34m)\u001b[0m\u001b[0;34m\u001b[0m\u001b[0;34m\u001b[0m\u001b[0m\n\u001b[0;32m--> 461\u001b[0;31m             \u001b[0mn\u001b[0m \u001b[0;34m=\u001b[0m \u001b[0mself\u001b[0m\u001b[0;34m.\u001b[0m\u001b[0mreadinto\u001b[0m\u001b[0;34m(\u001b[0m\u001b[0mb\u001b[0m\u001b[0;34m)\u001b[0m\u001b[0;34m\u001b[0m\u001b[0;34m\u001b[0m\u001b[0m\n\u001b[0m\u001b[1;32m    462\u001b[0m             \u001b[0;32mreturn\u001b[0m \u001b[0mmemoryview\u001b[0m\u001b[0;34m(\u001b[0m\u001b[0mb\u001b[0m\u001b[0;34m)\u001b[0m\u001b[0;34m[\u001b[0m\u001b[0;34m:\u001b[0m\u001b[0mn\u001b[0m\u001b[0;34m]\u001b[0m\u001b[0;34m.\u001b[0m\u001b[0mtobytes\u001b[0m\u001b[0;34m(\u001b[0m\u001b[0;34m)\u001b[0m\u001b[0;34m\u001b[0m\u001b[0;34m\u001b[0m\u001b[0m\n\u001b[1;32m    463\u001b[0m         \u001b[0;32melse\u001b[0m\u001b[0;34m:\u001b[0m\u001b[0;34m\u001b[0m\u001b[0;34m\u001b[0m\u001b[0m\n",
      "\u001b[0;32m/usr/share/miniconda3/envs/jupyter/lib/python3.7/http/client.py\u001b[0m in \u001b[0;36mreadinto\u001b[0;34m(self, b)\u001b[0m\n\u001b[1;32m    503\u001b[0m         \u001b[0;31m# connection, and the user is reading more bytes than will be provided\u001b[0m\u001b[0;34m\u001b[0m\u001b[0;34m\u001b[0m\u001b[0;34m\u001b[0m\u001b[0m\n\u001b[1;32m    504\u001b[0m         \u001b[0;31m# (for example, reading in 1k chunks)\u001b[0m\u001b[0;34m\u001b[0m\u001b[0;34m\u001b[0m\u001b[0;34m\u001b[0m\u001b[0m\n\u001b[0;32m--> 505\u001b[0;31m         \u001b[0mn\u001b[0m \u001b[0;34m=\u001b[0m \u001b[0mself\u001b[0m\u001b[0;34m.\u001b[0m\u001b[0mfp\u001b[0m\u001b[0;34m.\u001b[0m\u001b[0mreadinto\u001b[0m\u001b[0;34m(\u001b[0m\u001b[0mb\u001b[0m\u001b[0;34m)\u001b[0m\u001b[0;34m\u001b[0m\u001b[0;34m\u001b[0m\u001b[0m\n\u001b[0m\u001b[1;32m    506\u001b[0m         \u001b[0;32mif\u001b[0m \u001b[0;32mnot\u001b[0m \u001b[0mn\u001b[0m \u001b[0;32mand\u001b[0m \u001b[0mb\u001b[0m\u001b[0;34m:\u001b[0m\u001b[0;34m\u001b[0m\u001b[0;34m\u001b[0m\u001b[0m\n\u001b[1;32m    507\u001b[0m             \u001b[0;31m# Ideally, we would raise IncompleteRead if the content-length\u001b[0m\u001b[0;34m\u001b[0m\u001b[0;34m\u001b[0m\u001b[0;34m\u001b[0m\u001b[0m\n",
      "\u001b[0;32m/usr/share/miniconda3/envs/jupyter/lib/python3.7/socket.py\u001b[0m in \u001b[0;36mreadinto\u001b[0;34m(self, b)\u001b[0m\n\u001b[1;32m    587\u001b[0m         \u001b[0;32mwhile\u001b[0m \u001b[0;32mTrue\u001b[0m\u001b[0;34m:\u001b[0m\u001b[0;34m\u001b[0m\u001b[0;34m\u001b[0m\u001b[0m\n\u001b[1;32m    588\u001b[0m             \u001b[0;32mtry\u001b[0m\u001b[0;34m:\u001b[0m\u001b[0;34m\u001b[0m\u001b[0;34m\u001b[0m\u001b[0m\n\u001b[0;32m--> 589\u001b[0;31m                 \u001b[0;32mreturn\u001b[0m \u001b[0mself\u001b[0m\u001b[0;34m.\u001b[0m\u001b[0m_sock\u001b[0m\u001b[0;34m.\u001b[0m\u001b[0mrecv_into\u001b[0m\u001b[0;34m(\u001b[0m\u001b[0mb\u001b[0m\u001b[0;34m)\u001b[0m\u001b[0;34m\u001b[0m\u001b[0;34m\u001b[0m\u001b[0m\n\u001b[0m\u001b[1;32m    590\u001b[0m             \u001b[0;32mexcept\u001b[0m \u001b[0mtimeout\u001b[0m\u001b[0;34m:\u001b[0m\u001b[0;34m\u001b[0m\u001b[0;34m\u001b[0m\u001b[0m\n\u001b[1;32m    591\u001b[0m                 \u001b[0mself\u001b[0m\u001b[0;34m.\u001b[0m\u001b[0m_timeout_occurred\u001b[0m \u001b[0;34m=\u001b[0m \u001b[0;32mTrue\u001b[0m\u001b[0;34m\u001b[0m\u001b[0;34m\u001b[0m\u001b[0m\n",
      "\u001b[0;32m/usr/share/miniconda3/envs/jupyter/lib/python3.7/ssl.py\u001b[0m in \u001b[0;36mrecv_into\u001b[0;34m(self, buffer, nbytes, flags)\u001b[0m\n\u001b[1;32m   1069\u001b[0m                   \u001b[0;34m\"non-zero flags not allowed in calls to recv_into() on %s\"\u001b[0m \u001b[0;34m%\u001b[0m\u001b[0;34m\u001b[0m\u001b[0;34m\u001b[0m\u001b[0m\n\u001b[1;32m   1070\u001b[0m                   self.__class__)\n\u001b[0;32m-> 1071\u001b[0;31m             \u001b[0;32mreturn\u001b[0m \u001b[0mself\u001b[0m\u001b[0;34m.\u001b[0m\u001b[0mread\u001b[0m\u001b[0;34m(\u001b[0m\u001b[0mnbytes\u001b[0m\u001b[0;34m,\u001b[0m \u001b[0mbuffer\u001b[0m\u001b[0;34m)\u001b[0m\u001b[0;34m\u001b[0m\u001b[0;34m\u001b[0m\u001b[0m\n\u001b[0m\u001b[1;32m   1072\u001b[0m         \u001b[0;32melse\u001b[0m\u001b[0;34m:\u001b[0m\u001b[0;34m\u001b[0m\u001b[0;34m\u001b[0m\u001b[0m\n\u001b[1;32m   1073\u001b[0m             \u001b[0;32mreturn\u001b[0m \u001b[0msuper\u001b[0m\u001b[0;34m(\u001b[0m\u001b[0;34m)\u001b[0m\u001b[0;34m.\u001b[0m\u001b[0mrecv_into\u001b[0m\u001b[0;34m(\u001b[0m\u001b[0mbuffer\u001b[0m\u001b[0;34m,\u001b[0m \u001b[0mnbytes\u001b[0m\u001b[0;34m,\u001b[0m \u001b[0mflags\u001b[0m\u001b[0;34m)\u001b[0m\u001b[0;34m\u001b[0m\u001b[0;34m\u001b[0m\u001b[0m\n",
      "\u001b[0;32m/usr/share/miniconda3/envs/jupyter/lib/python3.7/ssl.py\u001b[0m in \u001b[0;36mread\u001b[0;34m(self, len, buffer)\u001b[0m\n\u001b[1;32m    927\u001b[0m         \u001b[0;32mtry\u001b[0m\u001b[0;34m:\u001b[0m\u001b[0;34m\u001b[0m\u001b[0;34m\u001b[0m\u001b[0m\n\u001b[1;32m    928\u001b[0m             \u001b[0;32mif\u001b[0m \u001b[0mbuffer\u001b[0m \u001b[0;32mis\u001b[0m \u001b[0;32mnot\u001b[0m \u001b[0;32mNone\u001b[0m\u001b[0;34m:\u001b[0m\u001b[0;34m\u001b[0m\u001b[0;34m\u001b[0m\u001b[0m\n\u001b[0;32m--> 929\u001b[0;31m                 \u001b[0;32mreturn\u001b[0m \u001b[0mself\u001b[0m\u001b[0;34m.\u001b[0m\u001b[0m_sslobj\u001b[0m\u001b[0;34m.\u001b[0m\u001b[0mread\u001b[0m\u001b[0;34m(\u001b[0m\u001b[0mlen\u001b[0m\u001b[0;34m,\u001b[0m \u001b[0mbuffer\u001b[0m\u001b[0;34m)\u001b[0m\u001b[0;34m\u001b[0m\u001b[0;34m\u001b[0m\u001b[0m\n\u001b[0m\u001b[1;32m    930\u001b[0m             \u001b[0;32melse\u001b[0m\u001b[0;34m:\u001b[0m\u001b[0;34m\u001b[0m\u001b[0;34m\u001b[0m\u001b[0m\n\u001b[1;32m    931\u001b[0m                 \u001b[0;32mreturn\u001b[0m \u001b[0mself\u001b[0m\u001b[0;34m.\u001b[0m\u001b[0m_sslobj\u001b[0m\u001b[0;34m.\u001b[0m\u001b[0mread\u001b[0m\u001b[0;34m(\u001b[0m\u001b[0mlen\u001b[0m\u001b[0;34m)\u001b[0m\u001b[0;34m\u001b[0m\u001b[0;34m\u001b[0m\u001b[0m\n",
      "\u001b[0;31mKeyboardInterrupt\u001b[0m: "
     ]
    }
   ],
   "source": [
    "from cloudstor import cloudstor\n",
    "teaching_data = cloudstor(url=\"L93TxcmtLQzcfbk\", password='')\n",
    "\n",
    "teaching_data.download_file_if_distinct(\"BlueMarbleNG-TB_2004-12-01_rgb_3600x1800.TIFF\", \"Resources/BlueMarbleNG-TB_2004-12-01_rgb_3600x1800.TIFF\")\n",
    "teaching_data.download_file_if_distinct(\"color_etopo1_ice_low.tif\", \"Resources/color_etopo1_ice_low.tif\")\n",
    "teaching_data.download_file_if_distinct(\"EMAG2_image_V2_no_compr.tif\", \"Resources/EMAG2_image_V2_no_compr.tif\")\n",
    "teaching_data.download_file_if_distinct(\"global_age_data.3.6.z.npz\", \"Resources/global_age_data.3.6.z.npz\")\n",
    "teaching_data.download_file_if_distinct(\"etopo1_grayscale_hillshade.tif\", \"Resources/etopo1_grayscale_hillshade.tif\")\n",
    "\n",
    "teaching_data.download_file_if_distinct(\"HYP_50M_SR_W/HYP_50M_SR_W.tif\", \"Resources/HYP_50M_SR_W/HYP_50M_SR_W.tif\")\n",
    "teaching_data.download_file_if_distinct(\"OB_50M/OB_50M.tif\", \"Resources/OB_50M/OB_50M.tif\")"
   ]
  },
  {
   "cell_type": "code",
   "execution_count": null,
   "id": "sharing-preservation",
   "metadata": {},
   "outputs": [],
   "source": [
    "# The colormap routine creates enormous arrays in intermediary calculations. This is\n",
    "# a way to avoid memory errors: process to RGB (int8) in advance\n",
    "\n",
    "def apply_colormap_to_image(rawimage, colormap, norm):\n",
    "\n",
    "    greyimage = norm(rawimage)\n",
    "    rgbimage = np.empty((greyimage.shape[0], greyimage.shape[1] , 4), dtype=uint8)\n",
    "\n",
    "    for i in range(0, greyimage.shape[0]):\n",
    "        rgbimage[i,:,:] = colormap(greyimage[i,:]) * 256\n",
    "                \n",
    "    rgbimage2 = rgbimage[:,:,0:3]        \n",
    "    \n",
    "    return rgbimage2\n",
    "    "
   ]
  },
  {
   "cell_type": "code",
   "execution_count": null,
   "id": "elementary-resource",
   "metadata": {},
   "outputs": [],
   "source": [
    "base_projection     = ccrs.PlateCarree() \n",
    "global_extent     = [-180.0, 180.0, -90.0, 90.0]\n",
    "\n",
    "strainrate_extent=[-180,180,-68,80]\n",
    "strainrate = numpy.loadtxt(\"Resources/sec_invariant_strain_0.2.dat\")\n",
    "strainrate_data = strainrate.reshape(741,1800,3)  # I had to look at the data to work this out !\n",
    "# strainrate_img  = strainrate_data[:,:,2] # Not actually used here !"
   ]
  },
  {
   "cell_type": "code",
   "execution_count": null,
   "id": "amino-performer",
   "metadata": {},
   "outputs": [],
   "source": [
    "# Note: we need to manage the memory here since the Docker version has more \n",
    "# memory constraints than the native installation. Be sure to del() unused arrays/images\n",
    "\n",
    "# Etopo Height field as geotiff\n",
    "\n",
    "etopoH = gdal.Open(\"Resources/ETOPO1_Ice_c_geotiff.tif\") \n",
    "etopoH_img = etopoH.ReadAsArray()[::2,::2].astype(numpy.float16)\n",
    "del(etopoH)\n",
    "\n",
    "colormap = plt.get_cmap('Greys')\n",
    "norm = matplotlib.colors.Normalize(vmin=-10000, vmax=5000)\n",
    "etopoH_img_grey = apply_colormap_to_image(etopoH_img, colormap, norm)\n",
    "\n",
    "# These are alternative images \n",
    "\n",
    "# etopo1       = gdal.Open(\"Resources/color_etopo1_ice_low.tif\")\n",
    "# etopo_img    = etopo1.ReadAsArray().transpose(1,2,0)\n",
    "# del(etopo1)\n",
    "\n",
    "# global_shrelief = gdal.Open(\"Resources/etopo1_grayscale_hillshade.tif\")\n",
    "# global_shrelief_img = global_shrelief.ReadAsArray()[::2,::2].astype(numpy.float16)\n",
    "# del(global_shrelief)\n",
    "# print \"global_shrelief_img - \", global_shrelief_img.shape"
   ]
  },
  {
   "cell_type": "code",
   "execution_count": null,
   "id": "thrown-retreat",
   "metadata": {},
   "outputs": [],
   "source": [
    "# How does that look in the Native Projection ?\n",
    "\n",
    "fig = plt.figure(figsize=(12, 6), facecolor=\"none\")\n",
    "ax = plt.axes(projection=base_projection)\n",
    "ax.imshow(etopoH_img_grey[::1,::1], transform=ccrs.PlateCarree(), origin=\"upper\", \n",
    "          alpha=1.0, extent=global_extent,  zorder=0)"
   ]
  },
  {
   "cell_type": "code",
   "execution_count": null,
   "id": "reasonable-beijing",
   "metadata": {},
   "outputs": [],
   "source": [
    "# Some features we need for the map \n",
    "\n",
    "\n",
    "coastline = cfeature.NaturalEarthFeature('physical', 'coastline', '50m',\n",
    "                           edgecolor=(0.0,0.0,0.0),\n",
    "                           facecolor=\"none\")\n",
    "\n",
    "rivers = cfeature.NaturalEarthFeature('physical', 'rivers_lake_centerlines', '50m',\n",
    "                                        edgecolor='Blue', facecolor=\"none\")\n",
    "\n",
    "lakes = cfeature.NaturalEarthFeature('physical', 'lakes', '50m',\n",
    "                                        edgecolor=\"blue\", facecolor=\"blue\")\n",
    "\n",
    "ocean = cfeature.NaturalEarthFeature('physical', 'ocean', '50m',\n",
    "                           edgecolor=\"green\",\n",
    "                           facecolor=\"blue\")\n",
    "\n",
    "graticules_5 = cfeature.NaturalEarthFeature('physical', 'graticules_5', '10m',\n",
    "                           edgecolor=\"black\", facecolor=None)"
   ]
  },
  {
   "cell_type": "code",
   "execution_count": null,
   "id": "incoming-adaptation",
   "metadata": {},
   "outputs": [],
   "source": [
    "## Reading the velocity vector data from the EU-fixed dataset\n",
    "\n",
    "rootgrp = netcdf.netcdf_file(filename=\"Resources/velocity_NNR.nc\", version=2)\n",
    "\n",
    "ve = rootgrp.variables[\"ve\"]\n",
    "vn = rootgrp.variables[\"vn\"]\n",
    "\n",
    "lonv = rootgrp.variables[\"lon\"]\n",
    "latv = rootgrp.variables[\"lat\"]\n",
    "\n",
    "lons = lonv[::5]\n",
    "lats = latv[::5]\n",
    "llX, llY = np.meshgrid(lons,lats)\n",
    "\n",
    "#llX = llX.reshape(-1)\n",
    "#llY = llY.reshape(-1)\n",
    "\n",
    "Veast = (np.array(ve[::5,::5]).T)\n",
    "Vnorth = (np.array(vn[::5,::5]).T)\n",
    "\n",
    "Vorientation = np.arctan2(Vnorth,Veast)"
   ]
  },
  {
   "cell_type": "code",
   "execution_count": null,
   "id": "demonstrated-patio",
   "metadata": {},
   "outputs": [],
   "source": [
    "# I used Robinson in the article but it keeps crashing for me now !\n",
    "\n",
    "#projection = ccrs.PlateCarree() # For debugging, this one is quick\n",
    "#projection = ccrs.Orthographic(central_longitude=-150.0, central_latitude=60.0, globe=None)\n",
    "#projection = ccrs.Orthographic(central_longitude=120.0, central_latitude=5.0, globe=None)\n",
    "projection = ccrs.Mollweide(central_longitude=120)\n",
    "#projection = ccrs.Robinson(central_longitude=120) # This is the one in the paper\n",
    "\n",
    "fig = plt.figure(figsize=(12, 6), facecolor=\"none\")\n",
    "\n",
    "ax = plt.axes(projection=projection)\n",
    "\n",
    "# Still too large for the memory \n",
    "ax.imshow(etopoH_img_grey[::4,::4,:], transform=ccrs.PlateCarree(), origin=\"upper\", \n",
    "          alpha=1.0, extent=global_extent, interpolation=\"spline16\", zorder=0)\n",
    "\n",
    "\n",
    "mappable2 = ax.contourf(strainrate_data[:,:,0], strainrate_data[:,:,1], strainrate_data[:,:,2], \n",
    "         levels=[10, 20, 50, 100, 200, 500], linestyle=None, vmin=1.0, vmax=200,\n",
    "         transform=base_projection,  cmap=cm.OrRd_r, alpha=0.75, \n",
    "         extent=strainrate_extent, extend=\"max\", zorder=12)\n",
    "\n",
    "plt.colorbar(mappable=mappable2, shrink=0.5)\n",
    "\n",
    "\n",
    "mappable1 = ax.quiver(llX, llY, Veast, Vnorth, Vorientation, scale=2000, transform=ccrs.PlateCarree(),\n",
    "        cmap=cm.Blues, alpha=0.7, zorder=13, pivot=\"mid\")\n",
    "\n",
    "\n",
    "ax.add_feature(coastline, linewidth=1.0,  edgecolor=\"#000000\", zorder=2, alpha=0.75)\n",
    "# ax.add_feature(rivers,    linewidth=1,    edgecolor=\"Blue\", zorder=2)\n",
    "# ax.add_feature(lakes,     linewidth=1,    edgecolor=\"Blue\", zorder=3, alpha=0.25)\n",
    "# ax.add_feature(graticules_5, linewidth=0.25, edgecolor=\"black\", linestyle=\":\", zorder=1, alpha=0.75)"
   ]
  },
  {
   "cell_type": "code",
   "execution_count": null,
   "id": "received-factor",
   "metadata": {},
   "outputs": [],
   "source": [
    "#fig.savefig(\"PlateMotionsPlateCarree.png\", dpi=300) \n",
    "#fig.savefig(\"PlateMotionsRobinson.png\", dpi=500)\n",
    "fig.savefig(\"PlateMotionsMollweide.png\", dpi=500)"
   ]
  },
  {
   "cell_type": "code",
   "execution_count": null,
   "id": "physical-theory",
   "metadata": {},
   "outputs": [],
   "source": [
    "## This was an alternative to the background image which I thought might look good:\n",
    "\n",
    "globalrelief      = gdal.Open(\"Resources/HYP_50M_SR_W/HYP_50M_SR_W.tif\")\n",
    "globalrelief_img  = globalrelief.ReadAsArray().transpose(1,2,0)\n",
    "del(globalrelief)\n",
    "\n",
    "globalbathym      = gdal.Open(\"Resources/OB_50M/OB_50M.tif\")\n",
    "globalbathym_img  = globalbathym.ReadAsArray().transpose(1,2,0)\n",
    "del(globalbathym)\n",
    "\n",
    "print (\"etopoH_img - \", etopoH_img.shape)\n",
    "print (\"globalrelief_img - \", globalrelief_img.shape)\n",
    "\n",
    "blended_img = np.empty_like(globalrelief_img)\n",
    "blended_img[...,0] = np.where( etopoH_img < 0.0, globalbathym_img[...,0], globalrelief_img[...,0] )\n",
    "blended_img[...,1] = np.where( etopoH_img < 0.0, globalbathym_img[...,1], globalrelief_img[...,1] )\n",
    "blended_img[...,2] = np.where( etopoH_img < 0.0, globalbathym_img[...,2], globalrelief_img[...,2] )\n",
    "\n",
    "del(globalbathym_img)\n",
    "del(globalrelief_img)\n",
    "\n",
    "fig = plt.figure(figsize=(12, 6), facecolor=\"none\")\n",
    "ax = plt.axes(projection=base_projection)\n",
    "ax.imshow(blended_img[::1,::1], transform=ccrs.PlateCarree(), origin=\"upper\", \n",
    "          alpha=1.0, extent=global_extent,  zorder=0)"
   ]
  },
  {
   "cell_type": "code",
   "execution_count": null,
   "id": "altered-glory",
   "metadata": {},
   "outputs": [],
   "source": [
    "# Do this if the relief / bathym sizes don't match the etopo data (to make the blended image)\n",
    "# The datasets we downloaded can be manipulated trivially without the need for this and I have\n",
    "# commented it all out so you can run all cells without reprocessing the data files. \n",
    "\n",
    "\n",
    "\"\"\"\n",
    "import scipy.ndimage\n",
    "import scipy.misc\n",
    "\n",
    "\n",
    "etopoH = gdal.Open(\"Resources/ETOPO1_Ice_g_geotiff.tif\")\n",
    "etopoH_img = etopoH.ReadAsArray()\n",
    "\n",
    "print \n",
    "\n",
    "etopoH_transform = etopoH.GetGeoTransform()\n",
    "globalrelief_transform = globalrelief.GetGeoTransform()\n",
    "\n",
    "# Resize to match globalrelief ... this resize is int only ??\n",
    "\n",
    "globaletopoH = scipy.misc.imresize(etopoH_img, globalrelief_img.shape, mode='F')\n",
    "\n",
    "## How to turn this array back into the appropriate geotiff\n",
    "\n",
    "from osgeo import gdal\n",
    "from osgeo import osr\n",
    "\n",
    "# data exists in 'ary' with values range 0 - 255\n",
    "# Uncomment the next line if ary[0][0] is upper-left corner\n",
    "#ary = numpy.flipup(ary)\n",
    "\n",
    "Ny, Nx = globaletopoH.shape\n",
    "driver = gdal.GetDriverByName(\"GTiff\")\n",
    "# Final argument is optional but will produce much smaller output file\n",
    "ds = driver.Create('output.tif', Nx, Ny, 1, gdal.GDT_Float64, ['COMPRESS=LZW'])\n",
    "\n",
    "# this assumes the projection is Geographic lat/lon WGS 84\n",
    "srs = osr.SpatialReference()\n",
    "srs.ImportFromEPSG(4326)\n",
    "ds.SetProjection(srs.ExportToWkt())\n",
    "\n",
    "ds.SetGeoTransform( globalrelief_transform  ) # define GeoTransform tuple\n",
    "ds.GetRasterBand(1).WriteArray(globaletopoH)\n",
    "ds = None\n",
    "\"\"\""
   ]
  }
 ],
 "metadata": {
  "jupytext": {
   "text_representation": {
    "extension": ".md",
    "format_name": "myst",
    "format_version": 0.13,
    "jupytext_version": "1.10.3"
   }
  },
  "kernelspec": {
   "display_name": "Python 3",
   "language": "python",
   "name": "python3"
  },
  "language_info": {
   "codemirror_mode": {
    "name": "ipython",
    "version": 3
   },
   "file_extension": ".py",
   "mimetype": "text/x-python",
   "name": "python",
   "nbconvert_exporter": "python",
   "pygments_lexer": "ipython3",
   "version": "3.7.10"
  },
  "source_map": [
   12,
   16,
   25,
   39,
   53,
   71,
   81,
   107,
   116,
   138,
   162,
   198,
   204,
   232
  ]
 },
 "nbformat": 4,
 "nbformat_minor": 5
}