{
 "cells": [
  {
   "cell_type": "markdown",
   "id": "1a075609",
   "metadata": {},
   "source": [
    "# How to use contours to view global data\n",
    "\n",
    "We will look at a couple of datasets and see how best to view them with contours instead of rendering everything as a global image. We have global strain rate and global sea-floor age. Both datasets have holes in them !"
   ]
  },
  {
   "cell_type": "code",
   "execution_count": null,
   "id": "1d112a65",
   "metadata": {},
   "outputs": [],
   "source": [
    "%pylab inline\n",
    "\n",
    "from osgeo import gdal\n",
    "import cartopy\n",
    "import cartopy.crs as ccrs\n",
    "import matplotlib.pyplot as plt"
   ]
  },
  {
   "cell_type": "code",
   "execution_count": null,
   "id": "82645466",
   "metadata": {},
   "outputs": [],
   "source": [
    "from cloudstor import cloudstor\n",
    "teaching_data = cloudstor(url=\"L93TxcmtLQzcfbk\", password='')\n",
    "\n",
    "teaching_data.download_file_if_distinct(\"BlueMarbleNG-TB_2004-12-01_rgb_3600x1800.TIFF\", \"Resources/BlueMarbleNG-TB_2004-12-01_rgb_3600x1800.TIFF\")\n",
    "teaching_data.download_file_if_distinct(\"color_etopo1_ice_low.tif\", \"Resources/color_etopo1_ice_low.tif\")\n",
    "teaching_data.download_file_if_distinct(\"global_age_data.3.6.z.npz\", \"Resources/global_age_data.3.6.z.npz\")\n",
    "teaching_data.download_file_if_distinct(\"sec_invariant_strain_0.2.dat\", \"Resources/sec_invariant_strain_0.2.dat\")"
   ]
  },
  {
   "cell_type": "code",
   "execution_count": null,
   "id": "22c2c37f",
   "metadata": {},
   "outputs": [],
   "source": [
    "global_extent     = [-180.0, 180.0, -90.0, 90.0]\n",
    "globalmarble      = gdal.Open(\"Resources/BlueMarbleNG-TB_2004-12-01_rgb_3600x1800.TIFF\")\n",
    "globalmarble_img  = globalmarble.ReadAsArray().transpose(1,2,0)\n",
    "globaletopo       = gdal.Open(\"Resources/color_etopo1_ice_low.tif\")\n",
    "globaletopo_img   = globaletopo.ReadAsArray().transpose(1,2,0)\n",
    "\n",
    "del(globalmarble)\n",
    "del(globaletopo)"
   ]
  },
  {
   "cell_type": "code",
   "execution_count": null,
   "id": "b908725d",
   "metadata": {},
   "outputs": [],
   "source": [
    "# Global strain rate data - from Unavco\n",
    "\n",
    "strainrate_extent=[-180,180,-68,80]\n",
    "strainrate = numpy.loadtxt(\"Resources/sec_invariant_strain_0.2.dat\")\n",
    "strainrate_data = strainrate.reshape(741,1800,3)  # I had to look at the data to work this out !\n",
    "# strainrate_img  = strainrate_data[:,:,2]"
   ]
  },
  {
   "cell_type": "code",
   "execution_count": null,
   "id": "dc869895",
   "metadata": {},
   "outputs": [],
   "source": [
    "projection1 = ccrs.Orthographic(central_longitude=140.0, central_latitude=0.0, globe=None)\n",
    "projection2 = ccrs.Mollweide()\n",
    "\n",
    "base_projection = ccrs.PlateCarree()\n",
    "\n",
    "fig = plt.figure(figsize=(12, 12), facecolor=\"none\")\n",
    "ax = plt.subplot(111, projection=projection2)\n",
    "ax.set_global()\n",
    "\n",
    "ax.imshow(globaletopo_img, origin='upper', transform=base_projection, extent=global_extent, zorder=0)\n",
    "ax.imshow(globalmarble_img, origin='upper', transform=base_projection, extent=global_extent, alpha=0.5, zorder=1)\n",
    "\n",
    "ax.contourf(strainrate_data[:,:,0], strainrate_data[:,:,1], strainrate_data[:,:,2], \n",
    "         levels=[20,30,40,50,60,70,80,90,100,300,500,1000], linewidth=0.0,\n",
    "         transform=base_projection,  cmap=\"YlOrRd\", zorder=2, alpha=0.8, extent=strainrate_extent)\n",
    "\n",
    "\n",
    "plt.show()"
   ]
  },
  {
   "cell_type": "code",
   "execution_count": null,
   "id": "a54569c4",
   "metadata": {},
   "outputs": [],
   "source": [
    "# Seafloor age data and global image - data from Earthbyters\n",
    "\n",
    "# The data come as ascii lon / lat / age tuples with NaN for no data. \n",
    "# This can be loaded with ...\n",
    "\n",
    "# age = numpy.loadtxt(\"Resources/global_age_data.3.6.xyz\")\n",
    "# age_data = age.reshape(1801,3601,3)  # I looked at the data and figured out what numbers to use\n",
    "# age_img  = age_data[:,:,2]\n",
    "\n",
    "# But this is super slow, so I have just stored the Age data on the grid (1801 x 3601) which we can reconstruct easily\n",
    "\n",
    "datasize = (1801, 3601, 3)\n",
    "age_data = np.empty(datasize)\n",
    "\n",
    "ages = np.load(\"Resources/global_age_data.3.6.z.npz\")[\"ageData\"]\n",
    "\n",
    "lats = np.linspace(90, -90, datasize[0])\n",
    "lons = np.linspace(-180.0,180.0, datasize[1])\n",
    "\n",
    "arrlons,arrlats = np.meshgrid(lons, lats)\n",
    "\n",
    "age_data[...,0] = arrlons[...]\n",
    "age_data[...,1] = arrlats[...]\n",
    "age_data[...,2] = ages[...]"
   ]
  },
  {
   "cell_type": "code",
   "execution_count": null,
   "id": "eab0bea3",
   "metadata": {},
   "outputs": [],
   "source": [
    "import cartopy.feature as cfeature\n",
    "\n",
    "projection = ccrs.PlateCarree()\n",
    "\n",
    "coastline = cfeature.NaturalEarthFeature('physical', 'coastline', '50m',\n",
    "                           edgecolor=(0.0,0.0,0.0),\n",
    "                           facecolor=\"none\")\n",
    "\n",
    "globaletopo_img2 = globaletopo_img.copy()\n",
    "globaletopo_img2[...] = 255 * (globaletopo_img[...] / 255.0) ** 2.0\n",
    "\n",
    "fig = plt.figure(figsize=(10, 10), facecolor=\"none\", edgecolor=\"none\")\n",
    "ax = plt.axes(projection=projection)\n",
    "ax.imshow(globaletopo_img2, origin='upper', transform=base_projection, extent=global_extent, zorder=0, alpha=0.5)\n",
    "ax.add_feature(coastline, linewidth=0.33, edgecolor=\"Black\", zorder=1)\n",
    "\n",
    "cf = contourf(age_data[:,:,0], age_data[:,:,1], age_data[:,:,2], \n",
    "         levels = arange(0.5,250,10), vmin=0, vmax=150,\n",
    "         transform=base_projection,  cmap=\"RdYlBu\",zorder=2, alpha=0.75)\n",
    "\n",
    "contour(age_data[:,:,0], age_data[:,:,1], age_data[:,:,2], levels = (0.1,0.5), colors=\"white\", transform=base_projection)\n",
    "\n",
    "\n",
    "# Want to keep the image ? Do something like this:\n",
    "# plt.savefig(\"GlobalAgeMap.png\", dpi=300, frameon=False, edgecolor=\"none\", facecolor=\"none\", bbox_inches='tight', pad_inches=0.0)\n",
    "plt.show()"
   ]
  },
  {
   "cell_type": "code",
   "execution_count": null,
   "id": "024a60fb",
   "metadata": {},
   "outputs": [],
   "source": [
    "projection = ccrs.Robinson(central_longitude=145)\n",
    "\n",
    "coastline = cfeature.NaturalEarthFeature('physical', 'coastline', '50m',\n",
    "                           edgecolor=(0.2,0.2,0.2),\n",
    "                           facecolor=\"none\")\n",
    "\n",
    "\n",
    "fig = plt.figure(figsize=(10, 10), facecolor=\"none\", edgecolor=\"none\")\n",
    "ax = plt.axes(projection=projection)\n",
    "\n",
    "ax.imshow(globaletopo_img2, origin='upper', transform=base_projection, extent=global_extent, zorder=0, alpha=0.5)\n",
    "\n",
    "\n",
    "cf = contourf(age_data[:,:,0], age_data[:,:,1], age_data[:,:,2], \n",
    "         levels = arange(0.5,250,10), vmin=0, vmax=150,\n",
    "         transform=base_projection,  cmap=\"bone_r\",zorder=2, alpha=0.75)\n",
    "\n",
    "\n",
    "contour(age_data[:,:,0], age_data[:,:,1], age_data[:,:,2], levels = (0.1,0.5), colors=\"white\", transform=base_projection)\n",
    "\n",
    "ax.contourf(strainrate_data[:,:,0], strainrate_data[:,:,1], strainrate_data[:,:,2], \n",
    "         levels=[20,30,40,50,60,70,80,90,100,300,500,1000], linewidth=0.0,\n",
    "         transform=base_projection,  cmap=\"YlOrRd\", zorder=2, alpha=0.8, extent=strainrate_extent)\n",
    "\n",
    "ax.add_feature(coastline, linewidth=0.33, zorder=3)\n",
    "\n",
    "plt.savefig(\"GlobalAgeAndStrainRate.png\", dpi=300, frameon=False, edgecolor=\"none\", facecolor=\"none\", bbox_inches='tight', pad_inches=0.0)"
   ]
  },
  {
   "cell_type": "code",
   "execution_count": null,
   "id": "09aee14a",
   "metadata": {},
   "outputs": [],
   "source": [
    "# This is how I saved the Earthbyte file from the original xyz format\n",
    "# np.savez_compressed(\"Resources/global_age_data.3.6.z.npz\",ageData=age_data[...,2])"
   ]
  },
  {
   "cell_type": "code",
   "execution_count": null,
   "id": "474d80a7",
   "metadata": {},
   "outputs": [],
   "source": []
  }
 ],
 "metadata": {
  "jupytext": {
   "text_representation": {
    "extension": ".md",
    "format_name": "myst",
    "format_version": 0.13,
    "jupytext_version": "1.10.3"
   }
  },
  "kernelspec": {
   "display_name": "Python 3",
   "language": "python",
   "name": "python3"
  },
  "source_map": [
   12,
   18,
   27,
   37,
   48,
   57,
   78,
   105,
   134,
   164,
   169
  ]
 },
 "nbformat": 4,
 "nbformat_minor": 5
}