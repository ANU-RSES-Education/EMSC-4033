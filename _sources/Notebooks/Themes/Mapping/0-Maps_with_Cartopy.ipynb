{
 "cells": [
  {
   "cell_type": "markdown",
   "id": "52f312e5",
   "metadata": {},
   "source": [
    "# Maps with the Cartopy Package\n",
    "\n",
    "We will work through many of the interesting things that you can do with the `cartopy` package. You will need to understand numpy well, including the slicing notation, broadcasting of indices, and masking (e.g. indexing by boolean arrays). We will be grabbing data from online sources and from on-demand servers.\n",
    "\n",
    "  - [Downloading the data we need](0-Preliminaries.md)\n",
    "  - [About the `cartopy` package](1-IntroductingCartopy.md)\n",
    "  - [Images and GeoTIFF images](2-ImagesAndGeoTIFFs.md)\n",
    "  - [Examples with real data](3-WorkingWithRealData.md)\n",
    "  - [Contouring on the globe](4-ContouringGlobalData.md)\n",
    "  - [Dealing with point-by-point data](5-WorkingWithPointData.md)\n",
    "  - [Online topography](6-WorkingWithShuttleRadarTopography.md)\n",
    "  - [On demand maps](7-WorkingWithOn-DemandMappingServices.md)\n",
    "  - [Example: plate motions](8-GlobalPlateMotionsEtc.md)\n",
    "  - [Example: Himalayan data](9-HimalayaRegionMapsAndImages.md)\n",
    "  - [Example: Himalayan data 2](9a-HimalayaRegionMapsAndImages-Pt2.md)\n",
    "\n",
    "\n",
    "```{toctree}\n",
    ":hidden:\n",
    ":titlesonly:\n",
    "\n",
    "\n",
    "0-Preliminaries\n",
    "1-IntroductingCartopy\n",
    "2-ImagesAndGeoTIFFs\n",
    "3-WorkingWithRealData\n",
    "4-ContouringGlobalData\n",
    "5-WorkingWithPointData\n",
    "6-WorkingWithShuttleRadarTopography\n",
    "7-WorkingWithOn-DemandMappingServices\n",
    "8-GlobalPlateMotionsEtc\n",
    "9-HimalayaRegionMapsAndImages\n",
    "9a-HimalayaRegionMapsAndImages-Pt2\n",
    "```"
   ]
  }
 ],
 "metadata": {
  "jupytext": {
   "text_representation": {
    "extension": ".md",
    "format_name": "myst",
    "format_version": 0.12,
    "jupytext_version": "1.9.1"
   }
  },
  "kernelspec": {
   "display_name": "Python 3",
   "language": "python",
   "name": "python3"
  },
  "source_map": [
   12
  ]
 },
 "nbformat": 4,
 "nbformat_minor": 5
}