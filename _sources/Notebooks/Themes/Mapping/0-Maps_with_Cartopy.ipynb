{
 "cells": [
  {
   "cell_type": "markdown",
   "id": "honest-flooring",
   "metadata": {},
   "source": [
    "# Maps with the Cartopy Package\n",
    "\n",
    "Introductory text\n",
    "\n",
    "\n",
    "\n",
    "```{toctree}\n",
    ":hidden:\n",
    ":titlesonly:\n",
    "\n",
    "\n",
    "0-Preliminaries\n",
    "1-IntroductingCartopy\n",
    "2-ImagesAndGeoTIFFs\n",
    "3-WorkingWithRealData\n",
    "4-ContouringGlobalData\n",
    "5-WorkingWithPointData\n",
    "6-WorkingWithShuttleRadarTopography\n",
    "7-WorkingWithOn-DemandMappingServices\n",
    "8-GlobalPlateMotionsEtc\n",
    "9-HimalayaRegionMapsAndImages\n",
    "9a-HimalayaRegionMapsAndImages-Pt2\n",
    "```"
   ]
  }
 ],
 "metadata": {
  "jupytext": {
   "text_representation": {
    "extension": ".md",
    "format_name": "myst",
    "format_version": 0.12,
    "jupytext_version": "1.9.1"
   }
  },
  "kernelspec": {
   "display_name": "Python 3",
   "language": "python",
   "name": "python3"
  },
  "language_info": {
   "codemirror_mode": {
    "name": "ipython",
    "version": 3
   },
   "file_extension": ".py",
   "mimetype": "text/x-python",
   "name": "python",
   "nbconvert_exporter": "python",
   "pygments_lexer": "ipython3",
   "version": "3.7.10"
  },
  "source_map": [
   12
  ]
 },
 "nbformat": 4,
 "nbformat_minor": 5
}