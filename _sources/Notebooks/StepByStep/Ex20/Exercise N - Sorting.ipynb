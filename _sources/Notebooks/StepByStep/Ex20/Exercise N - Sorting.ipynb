{
 "cells": [
  {
   "cell_type": "markdown",
   "metadata": {},
   "source": [
    "# Exercise N - Visualising sorting algorithms\n",
    "*Andrew Valentine - andrew.valentine@anu.edu.au*\n",
    "\n",
    "We have already seen that Python provides various 'sorting' functions, as built-ins or within modules. But how do they work? In this practical we will look at a few different sorting algorithms, and visualise how they work.\n",
    "\n",
    "### Gnome sort ###\n",
    "\n",
    "Gnome sort is a very simple sorting algorithm. Imagine you have a line of objects that need to be sorted. If the object next to you and the one immediately in front of it are in the wrong order, you swap them and take one step backwards (unless you are at the start of the line). Otherwise, you take one step forward. You repeat this, starting from the first object, until all objects are sorted.\n",
    "\n",
    "### Bubble sort ### \n",
    "\n",
    "Bubble sort is rather similar. You start at the first object, and walk forwards down the line. If the object next to you is in the wrong order compared to the object _in front_ of it, you swap them. However, you do not take any backwards steps. Once you get to the end of the line, you go straight back to the start and repeat until you have all objects in the desired order.\n",
    "\n",
    "### Selection sort ###\n",
    "\n",
    "In selection sort, you guarantee that all objects behind you are sorted. As you walk forward down the line of objects, you look at the object next to you and everything in front of it. You identify which of these objects is the smallest, and swap it with the object next to you. You then take one step forward and repeat.\n",
    "\n",
    "### Shell sort ###\n",
    "\n",
    "In Shell sort, you use the bubble sort algorithm, except that you initially only compare every $N$-th object. You gradually reduce $N$ as sorting proceeds. For example, suppose you wish to sort objects labelled\n",
    "\n",
    "`ABCDEFGHIJKLMNO`\n",
    "\n",
    "Initially you sort every 5th object, using bubble sort. So, you ensure that the sequences\n",
    "`A    F    K    `, ` B    G    L   `, `  C    H    M  `, `   D    I    N ` and `    E    J    O` \n",
    "are each correctly sorted individually (i.e., `A`, `F` and `K` are now in the correct order, but `A`, `B` and `C` may not be). Next, you might sort every 3rd object, looking at the sequences\n",
    "`A  D  G  J  M  `, ` B  E  H  K  N ` and `  C  F  I  L  O`.\n",
    "Finally, you do a third pass where you sort objects individually, i.e. you apply bubble sort to the entire list.\n",
    "\n",
    "For more details, and a variety of other sorting algorithms, see [this Wikipedia page](https://en.wikipedia.org/wiki/Sorting_algorithm).\n",
    "\n",
    "We can make a disordered array of integers:"
   ]
  },
  {
   "cell_type": "code",
   "execution_count": null,
   "metadata": {},
   "outputs": [],
   "source": [
    "import numpy as np\n",
    "data = np.arange(100)\n",
    "np.random.shuffle(data)\n",
    "data"
   ]
  },
  {
   "cell_type": "markdown",
   "metadata": {},
   "source": [
    "Write your own implementations of the four sorting algorithms, and make an animation like this showing how the array changes as sorting proceeds."
   ]
  },
  {
   "cell_type": "markdown",
   "metadata": {},
   "source": [
    "Gnome sort is a very simple sorting algorithm. Imagine you have a line of objects that need to be sorted. If the object next to you and the one immediately in front of it are in the wrong order, you swap them and take one step backwards (unless you are at the start of the line). Otherwise, you take one step forward. You repeat this, starting from the first object, until all objects are sorted."
   ]
  },
  {
   "cell_type": "code",
   "execution_count": null,
   "metadata": {},
   "outputs": [],
   "source": [
    "def sort_gnome(x):\n",
    "    \"\"\"gnome sorting\n",
    "    \n",
    "    Parameters\n",
    "    ----------\n",
    "    x : 1d array\n",
    "        the array to sort\n",
    "    \"\"\"\n",
    "    \n",
    "    length = len(x)\n",
    "    \n",
    "    i = 0\n",
    "    while i < len(x)-1:\n",
    "        n2 = x[i+1]\n",
    "        n1 = x[i]\n",
    "        \n",
    "        if n2 < n1:\n",
    "            x[i+1] = n1\n",
    "            x[i] = n2\n",
    "            i = i-1\n",
    "            if i < 0:\n",
    "                i = 0\n",
    "        else:\n",
    "            i += 1\n",
    "            \n",
    "    return x\n",
    "        "
   ]
  },
  {
   "cell_type": "code",
   "execution_count": null,
   "metadata": {},
   "outputs": [],
   "source": [
    "x2 = sort_gnome(data)"
   ]
  },
  {
   "cell_type": "code",
   "execution_count": null,
   "metadata": {},
   "outputs": [],
   "source": [
    "x2"
   ]
  },
  {
   "cell_type": "code",
   "execution_count": null,
   "metadata": {},
   "outputs": [],
   "source": [
    "from IPython.display import HTML\n",
    "fp = open('sortingalgorithms.html','r')\n",
    "html = fp.read()\n",
    "fp.close()\n",
    "HTML(html)"
   ]
  },
  {
   "cell_type": "code",
   "execution_count": null,
   "metadata": {},
   "outputs": [],
   "source": []
  }
 ],
 "metadata": {
  "kernelspec": {
   "display_name": "Python 3",
   "language": "python",
   "name": "python3"
  },
  "language_info": {
   "codemirror_mode": {
    "name": "ipython",
    "version": 3
   },
   "file_extension": ".py",
   "mimetype": "text/x-python",
   "name": "python",
   "nbconvert_exporter": "python",
   "pygments_lexer": "ipython3",
   "version": "3.6.6"
  }
 },
 "nbformat": 4,
 "nbformat_minor": 2
}
