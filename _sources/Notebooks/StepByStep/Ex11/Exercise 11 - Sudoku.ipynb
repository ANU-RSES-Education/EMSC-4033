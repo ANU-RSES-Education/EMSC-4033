{
 "cells": [
  {
   "cell_type": "markdown",
   "metadata": {},
   "source": [
    "## Exercise 11 - Sudoku\n",
    "\n",
    "This exercise is a little more challenging than many of the ones we have encountered so far, and you can skip it if you feel your time would be better spent elsewhere. However, if you have been finding the course easy it should be a fun challenge.\n",
    "\n",
    "You are probably all familiar with Sudoku - the Japanese puzzle where you put numbers into a 9 x 9 grid. The rules are:\n",
    "- Each row must contain each of the numbers 1-9 exactly once\n",
    "- Each column must contain each of the numbers 1-9 exactly once\n",
    "- Each of the 9 3 x 3 sub-blocks of the grid must contain each of the numbers 1-9 exactly once.\n",
    "\n",
    "Can you write a computer program to solve any Sudoku?\n",
    "\n",
    "To get you started, here is an example Sudoku grid (using `0` to indicate a blank cell:\n",
    "```python\n",
    "sudoku = np.array([[5,3,0,0,7,0,0,0,0],\n",
    "                   [6,0,0,1,9,5,0,0,0],\n",
    "                   [0,9,8,0,0,0,0,6,0],\n",
    "                   [8,0,0,0,6,0,0,0,3],\n",
    "                   [4,0,0,8,0,3,0,0,1],\n",
    "                   [7,0,0,0,2,0,0,0,6],\n",
    "                   [0,6,0,0,0,0,2,8,0],\n",
    "                   [0,0,0,4,1,9,0,0,5],\n",
    "                   [0,0,0,0,8,0,0,7,9]])\n",
    "```\n",
    "You can find more grids online.\n",
    "\n",
    "*Hint:* Break the task down into pieces. Start by writing a function that displays Sudoku grids nicely. Next, write one that checks whether a grid is complete, or contains errors. Then think about the various steps involved in solving the Sudoku, and implement these one-at-a-time."
   ]
  },
  {
   "cell_type": "code",
   "execution_count": null,
   "metadata": {},
   "outputs": [],
   "source": [
    "# Try it here!\n"
   ]
  }
 ],
 "metadata": {
  "kernelspec": {
   "display_name": "Python 3",
   "language": "python",
   "name": "python3"
  },
  "language_info": {
   "codemirror_mode": {
    "name": "ipython",
    "version": 3
   },
   "file_extension": ".py",
   "mimetype": "text/x-python",
   "name": "python",
   "nbconvert_exporter": "python",
   "pygments_lexer": "ipython3",
   "version": "3.6.6"
  }
 },
 "nbformat": 4,
 "nbformat_minor": 2
}
