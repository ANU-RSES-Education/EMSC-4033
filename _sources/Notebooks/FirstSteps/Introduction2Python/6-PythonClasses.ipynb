{
 "cells": [
  {
   "cell_type": "markdown",
   "id": "7cba38a7",
   "metadata": {},
   "source": [
    "# Classes and objects\n",
    "\n",
    "Python is an object oriented language. We briefly mentioned that objects are self-contained entities that bundle together data and functionality. We also discussed how we can have multiple copies of objects.\n",
    "\n",
    "Pretty much everything in python is an object. It may not be obvious at this point why it is useful to have a language that works this way and, in fact, this is not something we will dwell upon.\n",
    "\n",
    "However, it is important to be able to recognise that certain things are objects and that objects are defined by a language construct called a `class` if only to be able to read the documentation and know what to expect.\n",
    "\n",
    "Let's just look at a couple of examples - ways to bundle up some data easily"
   ]
  },
  {
   "cell_type": "code",
   "execution_count": null,
   "id": "44ce0573",
   "metadata": {},
   "outputs": [],
   "source": [
    "class colour(object):\n",
    "    \n",
    "    rgb = (0.0,0.0,0.0)\n",
    "    description = \"Black\"\n",
    "    \n",
    "    "
   ]
  },
  {
   "cell_type": "code",
   "execution_count": null,
   "id": "63795b2d",
   "metadata": {},
   "outputs": [],
   "source": [
    "c = colour()\n",
    "d = colour()"
   ]
  },
  {
   "cell_type": "code",
   "execution_count": null,
   "id": "68594223",
   "metadata": {},
   "outputs": [],
   "source": [
    "print (c.description)\n",
    "print (c.rgb)\n",
    "print (d.description)\n",
    "print (d.rgb)"
   ]
  },
  {
   "cell_type": "code",
   "execution_count": null,
   "id": "05174c82",
   "metadata": {},
   "outputs": [],
   "source": [
    "d.description = 'Blue'\n",
    "d.rgb = (0.0,0.0,1.0)"
   ]
  },
  {
   "cell_type": "code",
   "execution_count": null,
   "id": "c88af937",
   "metadata": {},
   "outputs": [],
   "source": [
    "print (c.description)\n",
    "print (c.rgb)\n",
    "print (d.description)\n",
    "print (d.rgb)"
   ]
  },
  {
   "cell_type": "markdown",
   "id": "57dbc4ba",
   "metadata": {},
   "source": [
    "`colour` is a data container that standardises how we refer to colours. By default it is \"Black\" but we can always change the values. The only thing is, we can also do this:"
   ]
  },
  {
   "cell_type": "code",
   "execution_count": null,
   "id": "ab22725a",
   "metadata": {},
   "outputs": [],
   "source": [
    "d.complement = (1.0,1.0,0.0)\n",
    "print (d.complement)"
   ]
  },
  {
   "cell_type": "code",
   "execution_count": null,
   "id": "e679531c",
   "metadata": {
    "tags": [
     "raises-exception"
    ]
   },
   "outputs": [],
   "source": [
    "print (c.complement)  # This is expected to fail (why ?)"
   ]
  },
  {
   "cell_type": "markdown",
   "id": "51494127",
   "metadata": {},
   "source": [
    "So much for standardisation ! \n",
    "\n",
    "The `colour` class defines how objects will look once defined, but each 'instance' of the class (here `c` and `d`) lives a life of its own once built."
   ]
  },
  {
   "cell_type": "code",
   "execution_count": null,
   "id": "6a298574",
   "metadata": {},
   "outputs": [],
   "source": [
    "class colour(object):\n",
    "    \n",
    "    rgb = (0.0,0.0,0.0)\n",
    "    description = \"Black\"\n",
    "    complement  = (1.0,1.0,1.0)\n",
    "    \n",
    "e = colour()\n",
    "print (e.complement)"
   ]
  },
  {
   "cell_type": "code",
   "execution_count": null,
   "id": "57e444fa",
   "metadata": {
    "tags": [
     "raises-exception"
    ]
   },
   "outputs": [],
   "source": [
    "print (c.complement)  # This is also expected to fail (why ?)"
   ]
  },
  {
   "cell_type": "code",
   "execution_count": null,
   "id": "118d549e",
   "metadata": {},
   "outputs": [],
   "source": [
    "print (type(e) == type(d))"
   ]
  },
  {
   "cell_type": "markdown",
   "id": "08c0d8b6",
   "metadata": {},
   "source": [
    "And changing the definition of the class does not affect the instances that have already been defined. The class definition is copied into the object. \n",
    "\n",
    "---\n",
    "\n",
    "A better way to deal with this is to define some methods that also live in the class and use those to set values of data at initialisation time, and to define how the class behaves.\n",
    "\n",
    "Let's look at a better way to initialise the class:"
   ]
  },
  {
   "cell_type": "code",
   "execution_count": null,
   "id": "585f5893",
   "metadata": {},
   "outputs": [],
   "source": [
    "class colour2(object):   \n",
    "    \"\"\"\n",
    "    An rgb colour object with a description of the colour \n",
    "    \"\"\"\n",
    "    \n",
    "    def __init__(self, rgb = (0.0,0.0,0.0), description=\"Black\"):\n",
    "        \n",
    "        self.rgb = rgb\n",
    "        self.description = description\n",
    "        self.complement = ( 1.0 - rgb[0], 1.0 - rgb[1], 1.0-rgb[2] )\n",
    "        \n",
    "        return\n",
    "\n",
    "new_c = colour2(rgb=(1.0,0.0,0.0), description=\"Red\")\n",
    "new_d = colour2(rgb=(0.0,1.0,0.0), description=\"Green\")\n",
    "\n",
    "print (new_c.rgb)\n",
    "print (new_c.complement)\n"
   ]
  },
  {
   "cell_type": "code",
   "execution_count": null,
   "id": "caa5f70a",
   "metadata": {},
   "outputs": [],
   "source": [
    "help(colour2)"
   ]
  },
  {
   "cell_type": "code",
   "execution_count": null,
   "id": "3f9f6c8e",
   "metadata": {},
   "outputs": [],
   "source": [
    "class colour2(object):   \n",
    "    \"\"\"\n",
    "    An rgb colour object with a description of the colour \n",
    "    \"\"\"\n",
    "    \n",
    "    def __init__(self, rgb = (0.0,0.0,0.0), description=\"Black\"):\n",
    "        \n",
    "        self.rgb = rgb\n",
    "        self.description = description\n",
    "        self.complement = ( 1.0 - rgb[0], 1.0 - rgb[1], 1.0-rgb[2] )\n",
    "        \n",
    "        return\n",
    "\n",
    "    def mix(self, other):\n",
    "        if type(self) != type(other):\n",
    "            print (\"Cannot mix apples and oranges\")\n",
    "            return\n",
    "        else:\n",
    "            return ( 0.5*(self.rgb[0]+other.rgb[0]),\n",
    "                     0.5*(self.rgb[1]+other.rgb[1]),\n",
    "                     0.5*(self.rgb[2]+other.rgb[2]) )\n",
    "        \n",
    "    def mixmax(self, other):\n",
    "        if type(self) != type(other):\n",
    "            print (\"Cannot mix apples and oranges\")\n",
    "            return\n",
    "        else:\n",
    "            return ( min(self.rgb[0]+other.rgb[0],1.0),\n",
    "                     min(self.rgb[1]+other.rgb[1],1.0),\n",
    "                     min(self.rgb[2]+other.rgb[2],1.0) )\n"
   ]
  },
  {
   "cell_type": "code",
   "execution_count": null,
   "id": "1c7c98ea",
   "metadata": {},
   "outputs": [],
   "source": [
    "new_c = colour2(rgb=(1.0,0.0,0.0), description=\"Red\")\n",
    "new_d = colour2(rgb=(0.0,1.0,0.0), description=\"Green\")"
   ]
  },
  {
   "cell_type": "code",
   "execution_count": null,
   "id": "0d107773",
   "metadata": {},
   "outputs": [],
   "source": [
    "print (new_c.mix(new_d))\n",
    "print (new_c.mixmax(new_d))"
   ]
  },
  {
   "cell_type": "markdown",
   "id": "46c407b2",
   "metadata": {},
   "source": [
    "## More interesting stuff\n",
    "\n",
    "One of the extensibility secrets of python is that all the language operators are defined by special 'invisible' functions on the classes. \n",
    "\n",
    "Look at the following example."
   ]
  },
  {
   "cell_type": "code",
   "execution_count": null,
   "id": "f0fc9b3a",
   "metadata": {},
   "outputs": [],
   "source": [
    "class colour3(object):   \n",
    "    \"\"\"\n",
    "    An rgb colour object with a description of the colour \n",
    "    \"\"\"\n",
    "    \n",
    "    def __init__(self, rgb = (0.0,0.0,0.0), description=\"Black\"):\n",
    "        \n",
    "        self.rgb = rgb\n",
    "        self.description = description\n",
    "        self.complement = ( 1.0 - rgb[0], 1.0 - rgb[1], 1.0-rgb[2] )\n",
    "        \n",
    "        return\n",
    "\n",
    "    def mix(self, other):\n",
    "        if type(self) != type(other):\n",
    "            print (\"Cannot mix apples and oranges\")\n",
    "            return\n",
    "        else:\n",
    "            return ( 0.5*(self.rgb[0]+other.rgb[0]),\n",
    "                     0.5*(self.rgb[1]+other.rgb[1]),\n",
    "                     0.5*(self.rgb[2]+other.rgb[2]) )\n",
    "        \n",
    "    def mixmax(self, other):\n",
    "        if type(self) != type(other):\n",
    "            print (\"Cannot mix apples and oranges\")\n",
    "            return\n",
    "        else:\n",
    "            return ( min(self.rgb[0]+other.rgb[0],1.0),\n",
    "                     min(self.rgb[1]+other.rgb[1],1.0),\n",
    "                     min(self.rgb[2]+other.rgb[2],1.0) )\n",
    "\n",
    "        \n",
    "    def __add__(self, other):\n",
    "        \n",
    "        return self.mix(other)\n",
    "\n",
    "\n",
    "    def __mul__(self, other):\n",
    "        \n",
    "        return self.mixmax(other)\n",
    "\n",
    "\n",
    "\n",
    "    \n",
    "new_c = colour3(rgb=(1.0,0.0,0.0), description=\"Red\")\n",
    "new_d = colour3(rgb=(0.0,1.0,0.0), description=\"Green\")"
   ]
  },
  {
   "cell_type": "code",
   "execution_count": null,
   "id": "0af98c88",
   "metadata": {},
   "outputs": [],
   "source": [
    "print (new_c.mix(new_d))\n",
    "print (new_c + new_d)\n",
    "\n",
    "print (new_c.mixmax(new_d))\n",
    "print (new_c * new_d)"
   ]
  },
  {
   "cell_type": "markdown",
   "id": "28f85289",
   "metadata": {},
   "source": [
    "That's all we really need to know about classes, but if you want to know more about that last example, you'll need to know about this page at the very least: [Object Model: numeric types](https://docs.python.org/2/reference/datamodel.html#emulating-numeric-types) from the python documentation. This is mostly advanced stuff, but if you find yourself being given a class description when you ask for help on something, this information will help you."
   ]
  },
  {
   "cell_type": "code",
   "execution_count": null,
   "id": "79ff51ab",
   "metadata": {},
   "outputs": [],
   "source": [
    "## 1. Another example would be to make sure to set complement any time rgb gets changed\n",
    "## 2. Another example would be to show how to subclass colour and match types so anything with an rgb works for mixing"
   ]
  }
 ],
 "metadata": {
  "jupytext": {
   "text_representation": {
    "extension": ".md",
    "format_name": "myst",
    "format_version": 0.12,
    "jupytext_version": "1.6.0"
   }
  },
  "kernelspec": {
   "display_name": "Python 3",
   "language": "python",
   "name": "python3"
  },
  "source_map": [
   12,
   25,
   34,
   39,
   46,
   51,
   56,
   60,
   65,
   69,
   75,
   86,
   92,
   94,
   104,
   126,
   130,
   164,
   169,
   172,
   180,
   229,
   235,
   239
  ]
 },
 "nbformat": 4,
 "nbformat_minor": 5
}