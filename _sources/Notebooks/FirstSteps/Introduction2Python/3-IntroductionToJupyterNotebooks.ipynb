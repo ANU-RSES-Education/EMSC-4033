{
 "cells": [
  {
   "cell_type": "markdown",
   "id": "df6d1388",
   "metadata": {
    "deletable": true,
    "editable": true
   },
   "source": [
    "# Jupyter Notebooks \n",
    "\n",
    "We are going to be using the literate-programming, `jupyter` notebook system in all of our examples and a version of python known as `ipython` in the notebooks themselves\n",
    "\n",
    "The notebook is a __live__ document that can contain a number of different types of content, \n",
    "including fragments of programs that can actually be run within the text. It requires some form\n",
    "of computational substrate to run (otherwise you will just see the preview). The rocket icon in the \n",
    "menu bar will launch this page as a notebook so that you can run the examples.\n",
    "\n",
    "\n",
    "```{image} ../images/rocket-icon.png\n",
    ":align: center\n",
    ":width: 80%\n",
    "```\n",
    "\n",
    "You can use the notebooks as a scratchpad to process data, for example, \n",
    "and the workflow that you develop is recorded and can be revisited. \n",
    "It's like a lab notebook but for data manipulation and programming. \n",
    "You can export the document you produce as a pdf to make a lab report (etc)."
   ]
  },
  {
   "cell_type": "markdown",
   "id": "ed64c1cd",
   "metadata": {},
   "source": [
    "A notebook is made up of different __cells__ which contain different types of content and which can be _executed_ by selecting the cell and _running_ it (see toolbar).\n",
    "The results of running a cell depend on the content of the cell. It may produce an output cell beneath it with results, or it may reformat itself.\n",
    "Formatting looks something like this:\n",
    "\n",
    "```` myst\n",
    "## Formatted text\n",
    "\n",
    "This uses an almost-already-formatted version of text known as `markdown` to make content that can be formatted to look similar to a word document, but which also tends to highlight the intended formatting even if not processed. It is quite a useful form to learn for taking notes.\n",
    "\n",
    "If you look at the raw content you will see how to make\n",
    "\n",
    "  - bullet points\n",
    "    - nested bullet points as well as \n",
    "    - text in __bold__ \n",
    "    - text in _italics_ (or emphasised) \n",
    "  \n",
    "``` sh\n",
    "echo \"Code that can be highlighted for different languages\"\n",
    "ls -l\n",
    "```\n",
    "\n",
    "```python\n",
    "print (\"including python, unix shell scripts, fortran\")\n",
    "\n",
    "for i in range(0,100):\n",
    "    print (i)\n",
    "```\n",
    "````\n",
    "\n",
    "## Formatted text\n",
    "\n",
    "This uses an almost-already-formatted version of text known as `markdown` to make content that can be formatted to look similar to a word document, but which also tends to highlight the intended formatting even if not processed. It is quite a useful form to learn for taking notes.\n",
    "\n",
    "If you look at the raw content you will see how to make\n",
    "\n",
    "   - bullet points\n",
    "     - nested bullet points as well as \n",
    "     - text in __bold__ \n",
    "     - text in _italics_ (or emphasised) \n",
    "   \n",
    "``` sh\n",
    "echo \"Code that can be highlighted for different languages\"\n",
    "ls -l\n",
    "```\n",
    "\n",
    "```python\n",
    "print (\"including python, unix shell scripts, fortran\")\n",
    "\n",
    "for i in range(0,100):\n",
    "    print (i)\n",
    "```\n",
    "\n",
    "Mathematical symbols and formulae that can appear in the text like this _\"the circumference of a circle is $2\\pi r$\"_ or as equations like this:\n",
    "\n",
    "$$\n",
    "    A = \\pi r^2\n",
    "$$\n",
    "\n",
    "BUT you will need to be able to parse the $\\LaTeX$ language to write mathematics. \n",
    "\n",
    "You can add links like this: [also see the markdown cheatsheet](https://github.com/adam-p/markdown-here/wiki/Markdown-Cheatsheet)\n",
    "\n",
    "And images like this: \n",
    "\n",
    "Running cells containing formatted code will replace the cell with the formatted version. This allows you to write a well-formatted page with interleaved code which also can be executed.\n",
    "\n",
    "\n",
    "## Python code\n",
    "\n",
    "Cells which are defined to be code cells contain python statements which will be executed when the cell is run. If multiple cells have code, then they will be run in the order you choose (or if you \"run all\" or \"run all above\" they will be run in the order they are listed)."
   ]
  },
  {
   "cell_type": "code",
   "execution_count": null,
   "id": "c720ed31",
   "metadata": {
    "jupyter": {
     "outputs_hidden": false
    },
    "solution": "hidden"
   },
   "outputs": [],
   "source": [
    "## Example of a simple python code cell\n",
    "\n",
    "print( \"Hello little world\")\n",
    "a = 1\n",
    "\n",
    "## The last statement in a cell prints its value \n",
    "a\n",
    "\n",
    "## (this is sometimes a little confusing - add a pass statement to get rid of this !)\n",
    "\n",
    "#pass"
   ]
  },
  {
   "cell_type": "markdown",
   "id": "5a77541f",
   "metadata": {
    "deletable": true,
    "editable": true
   },
   "source": [
    "When you run a code cell, it is just the same as typing all the code into the interpreter. If you run a cell twice it is the same as if you typed everything twice ... the notebook remembers ! You can run some of a notebook or all of it, and you can run cells out of order. This is great for experimenting and getting things right, but be careful, this can break things easily."
   ]
  },
  {
   "cell_type": "code",
   "execution_count": null,
   "id": "d38870d6",
   "metadata": {
    "jupyter": {
     "outputs_hidden": false
    }
   },
   "outputs": [],
   "source": [
    "print (\"Run number {}\".format(a))\n",
    "        \n",
    "a += 1"
   ]
  },
  {
   "cell_type": "markdown",
   "id": "f29ac53b",
   "metadata": {
    "deletable": true,
    "editable": true
   },
   "source": [
    "## A more interesting exercise\n",
    "\n",
    "Why does this not work ?\n",
    "\n",
    "```python\n",
    "print (\"Run number {}\".format(b) )\n",
    "b += 1\n",
    "```\n",
    "\n",
    "and, more importantly, how would you fix this ?"
   ]
  },
  {
   "cell_type": "code",
   "execution_count": null,
   "id": "e7d44dba",
   "metadata": {
    "jupyter": {
     "outputs_hidden": false
    },
    "solution": "hidden"
   },
   "outputs": [],
   "source": [
    "# Try it !!"
   ]
  },
  {
   "cell_type": "code",
   "execution_count": null,
   "id": "b3fb1e7a",
   "metadata": {
    "tags": [
     "hide-cell"
    ]
   },
   "outputs": [],
   "source": [
    "\n",
    "## Because b hasn't been defined. \n",
    "\n",
    "try:\n",
    "    print (\"Run number {}\".format(c))\n",
    "except: \n",
    "    print (\"Run number 1\")\n",
    "    c = 1\n",
    "        \n",
    "c += 1"
   ]
  }
 ],
 "metadata": {
  "jupytext": {
   "text_representation": {
    "extension": ".md",
    "format_name": "myst",
    "format_version": "0.9",
    "jupytext_version": "1.5.2"
   }
  },
  "kernelspec": {
   "display_name": "Python 3",
   "language": "python",
   "name": "python3"
  },
  "source_map": [
   14,
   36,
   109,
   128,
   132,
   142,
   156,
   165
  ]
 },
 "nbformat": 4,
 "nbformat_minor": 5
}