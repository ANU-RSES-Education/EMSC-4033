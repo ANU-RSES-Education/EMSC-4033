{
 "cells": [
  {
   "cell_type": "markdown",
   "id": "5d476803",
   "metadata": {},
   "source": [
    "# Python data types\n",
    "\n",
    "Python can be a little strange in providing lots of data types, dynamic type allocation, and some interconversion. \n",
    "\n",
    "\n",
    "## Numbers\n",
    "\n",
    "Integers, Floating point numbers, and complex numbers are available automatically."
   ]
  },
  {
   "cell_type": "code",
   "execution_count": null,
   "id": "1b66b8ef",
   "metadata": {},
   "outputs": [],
   "source": [
    "f = 1.0\n",
    "i = 1\n",
    "\n",
    "print (f, i)\n",
    "print \n",
    "print (\"Value of f is {}, value of i is {}\".format(f,i))\n",
    "print \n",
    "print (\"Value of f is {:f}, value of i is {:f}\".format(f,i))"
   ]
  },
  {
   "cell_type": "code",
   "execution_count": null,
   "id": "30a2bda0",
   "metadata": {
    "tags": [
     "raises-exception"
    ]
   },
   "outputs": [],
   "source": [
    "## BUT !! \n",
    "\n",
    "print (\"Value of f is {:d}, value of i is {:f}\".format(f,i))"
   ]
  },
  {
   "cell_type": "code",
   "execution_count": null,
   "id": "d9859a8e",
   "metadata": {},
   "outputs": [],
   "source": [
    "c = 0.0 + 1.0j\n",
    "\n",
    "print (c)\n",
    "\n",
    "print (\"Value of c is {:f}\".format(c))\n",
    "\n",
    "print (\"Value of c**2 is {:f}\".format(c**2))"
   ]
  },
  {
   "cell_type": "markdown",
   "id": "4131cf07",
   "metadata": {},
   "source": [
    "---\n",
    "\n",
    "Notes: The `math` module needs to be imported before you can use it."
   ]
  },
  {
   "cell_type": "code",
   "execution_count": null,
   "id": "7ac9b6cd",
   "metadata": {},
   "outputs": [],
   "source": [
    "import math\n",
    "math.sqrt(f)"
   ]
  },
  {
   "cell_type": "code",
   "execution_count": null,
   "id": "05fd5a2e",
   "metadata": {
    "tags": [
     "raises-exception"
    ]
   },
   "outputs": [],
   "source": [
    "math.sqrt(c)"
   ]
  },
  {
   "cell_type": "code",
   "execution_count": null,
   "id": "cef8bc5d",
   "metadata": {
    "tags": [
     "raises-exception"
    ]
   },
   "outputs": [],
   "source": [
    "math.sqrt(-1)"
   ]
  },
  {
   "cell_type": "code",
   "execution_count": null,
   "id": "256bec32",
   "metadata": {},
   "outputs": [],
   "source": [
    "import cmath\n",
    "\n",
    "print (cmath.sqrt(f))\n",
    "print (cmath.sqrt(c))\n",
    "print (cmath.sqrt(-1))"
   ]
  },
  {
   "cell_type": "markdown",
   "id": "ef6961a2",
   "metadata": {},
   "source": [
    "### numbers as objects \n",
    "\n",
    "Virtually everything in python is an object. This means that it is a __thing__ that can have multiple copies made (all of which behave independently) and which knows how to __do__ certain operations on itself. \n",
    "\n",
    "For example, a floating point number knows certain things that it can do as well as simply \"being\" a number:"
   ]
  },
  {
   "cell_type": "code",
   "execution_count": null,
   "id": "e8a57081",
   "metadata": {},
   "outputs": [],
   "source": [
    "f"
   ]
  },
  {
   "cell_type": "code",
   "execution_count": null,
   "id": "cf67de1f",
   "metadata": {},
   "outputs": [],
   "source": [
    "help(f)"
   ]
  },
  {
   "cell_type": "code",
   "execution_count": null,
   "id": "288d4f72",
   "metadata": {},
   "outputs": [],
   "source": [
    "print (f.is_integer() ) # Strange eh ?\n",
    "print (f.conjugate())\n",
    "print (c.conjugate())\n",
    "print (f.__truediv__(2.0) ) # This looks odd, but it is the way that f / 2.0 is implemented underneath"
   ]
  },
  {
   "cell_type": "code",
   "execution_count": null,
   "id": "00a4079d",
   "metadata": {},
   "outputs": [],
   "source": [
    "1.0.__truediv__(2.0)"
   ]
  },
  {
   "cell_type": "markdown",
   "id": "dea69da5",
   "metadata": {},
   "source": [
    "## Strings"
   ]
  },
  {
   "cell_type": "code",
   "execution_count": null,
   "id": "36067952",
   "metadata": {},
   "outputs": [],
   "source": [
    "s = 'hello'\n",
    "print (s[1]  )\n",
    "print (s[-1])\n",
    "print (len(s)      )  \n",
    "print (s + ' world')"
   ]
  },
  {
   "cell_type": "code",
   "execution_count": null,
   "id": "649e7a32",
   "metadata": {},
   "outputs": [],
   "source": [
    "ss = \"\\t\\t HellO \\n \\t\\t world\\n  \\t\\t !!!\\n\\n \"\n",
    "print (ss)\n",
    "print (ss.partition(' '))"
   ]
  },
  {
   "cell_type": "code",
   "execution_count": null,
   "id": "29dc315c",
   "metadata": {},
   "outputs": [],
   "source": [
    "\"Hello World\".lower()"
   ]
  },
  {
   "cell_type": "code",
   "execution_count": null,
   "id": "4e2b34c1",
   "metadata": {},
   "outputs": [],
   "source": [
    "print (s[-1],\" \", s[0:-1])"
   ]
  },
  {
   "cell_type": "markdown",
   "id": "958754ce",
   "metadata": {},
   "source": [
    "---\n",
    "\n",
    "But one of the problems with strings as data structures is that they are immutable. To change anything, we need to make copies of the data"
   ]
  },
  {
   "cell_type": "code",
   "execution_count": null,
   "id": "6504a3ea",
   "metadata": {
    "tags": [
     "raises-exception"
    ]
   },
   "outputs": [],
   "source": [
    "s[1] = 'a'"
   ]
  },
  {
   "cell_type": "markdown",
   "id": "b0260618",
   "metadata": {},
   "source": [
    "---\n",
    "\n",
    "## tuples and lists and sets\n",
    "\n",
    "Tuples are bundles of data in a structured form but they are not vectors ... and they are immutable"
   ]
  },
  {
   "cell_type": "code",
   "execution_count": null,
   "id": "9cea0e07",
   "metadata": {},
   "outputs": [],
   "source": [
    "a = (1.0, 2.0, 0.0)\n",
    "b = (3.0, 2.0, 4.0)\n",
    "\n",
    "print (a[1])\n",
    "print (a + b)"
   ]
  },
  {
   "cell_type": "code",
   "execution_count": null,
   "id": "9965510e",
   "metadata": {
    "tags": [
     "raises-exception"
    ]
   },
   "outputs": [],
   "source": [
    "print (a-b)"
   ]
  },
  {
   "cell_type": "code",
   "execution_count": null,
   "id": "1d4b212e",
   "metadata": {
    "tags": [
     "raises-exception"
    ]
   },
   "outputs": [],
   "source": [
    "print (a*b)"
   ]
  },
  {
   "cell_type": "code",
   "execution_count": null,
   "id": "6ff8aae2",
   "metadata": {},
   "outputs": [],
   "source": [
    "print( 2*a)"
   ]
  },
  {
   "cell_type": "code",
   "execution_count": null,
   "id": "5440c3e8",
   "metadata": {
    "tags": [
     "raises-exception"
    ]
   },
   "outputs": [],
   "source": [
    "a[1] = 2"
   ]
  },
  {
   "cell_type": "code",
   "execution_count": null,
   "id": "c3cc59e9",
   "metadata": {},
   "outputs": [],
   "source": [
    "e = ('a', 'b', 1.0)\n",
    "2 * e"
   ]
  },
  {
   "cell_type": "markdown",
   "id": "8e5f8900",
   "metadata": {},
   "source": [
    "---\n",
    "\n",
    "Lists are more flexible than tuples, they can be assigned to, have items removed etc"
   ]
  },
  {
   "cell_type": "code",
   "execution_count": null,
   "id": "73523485",
   "metadata": {},
   "outputs": [],
   "source": [
    "l  = [1.0, 2.0, 3.0]\n",
    "ll = ['a', 'b', 'c']\n",
    "lll = [1.0, 'a', (1, 2, 3), ['f', 'g', 'h']]\n",
    "\n",
    "print (l)\n",
    "print (ll)\n",
    "print (l[2], ll[2])\n",
    "print (2*l)\n",
    "print (l+l)\n",
    "print (lll)\n",
    "print (lll[3], \" -- sub item 3 --> \", lll[3][1])"
   ]
  },
  {
   "cell_type": "code",
   "execution_count": null,
   "id": "dc80f2cb",
   "metadata": {
    "tags": [
     "raises-exception"
    ]
   },
   "outputs": [],
   "source": [
    "2.0*l"
   ]
  },
  {
   "cell_type": "code",
   "execution_count": null,
   "id": "a601b86b",
   "metadata": {},
   "outputs": [],
   "source": [
    "l[2] = 2.99\n",
    "l"
   ]
  },
  {
   "cell_type": "code",
   "execution_count": null,
   "id": "d8919ee1",
   "metadata": {},
   "outputs": [],
   "source": [
    "l.append(3.0)\n",
    "print (l)"
   ]
  },
  {
   "cell_type": "code",
   "execution_count": null,
   "id": "4270a076",
   "metadata": {},
   "outputs": [],
   "source": [
    "ll += 'b'\n",
    "print (ll)\n",
    "ll.remove('b')  # removes the first one !\n",
    "print (ll) "
   ]
  },
  {
   "cell_type": "code",
   "execution_count": null,
   "id": "029424f6",
   "metadata": {
    "hide_input": false,
    "tags": [
     "raises-exception"
    ]
   },
   "outputs": [],
   "source": [
    "l += [5.0]\n",
    "print (\"1 - \", l)\n",
    "l.remove(5.0)\n",
    "print (\"2 - \", l)\n",
    "l.remove(3.0)\n",
    "print( \"3 - \", l)\n",
    "l.remove(4.0)\n",
    "print (\"4 - \", l)"
   ]
  },
  {
   "cell_type": "markdown",
   "id": "7cb306d7",
   "metadata": {},
   "source": [
    "---\n",
    "\n",
    "Sets are special list-like collections of unique items. NOTE that the elements are not ordered (no such thing as `s[1]`"
   ]
  },
  {
   "cell_type": "code",
   "execution_count": null,
   "id": "213681a5",
   "metadata": {},
   "outputs": [],
   "source": [
    "s = set([6, 5, 4, 3, 2, 1, 1, 1, 1])\n",
    "print (s)\n",
    "s.add(7)\n",
    "print (s)\n",
    "s.add(1)\n",
    "\n",
    "s2 = set([5, 6, 7, 8, 9, 10, 11])\n",
    "\n",
    "s.intersection(s2)\n",
    "s.union(s2)"
   ]
  },
  {
   "cell_type": "markdown",
   "id": "992c70c7",
   "metadata": {},
   "source": [
    "## Dictionaries\n",
    "\n",
    "These are very useful data collections where the information can be looked up by name instead of a numerical index. This will come in handy as a lightweight database and is commonly something we need to use when using modules to read in data."
   ]
  },
  {
   "cell_type": "code",
   "execution_count": null,
   "id": "4cc870eb",
   "metadata": {},
   "outputs": [],
   "source": [
    "d = { \"item1\": ['a', 'b', 'c'], \"item2\": ['c', 'd', 'e']}\n",
    "\n",
    "print (d[\"item1\"])\n",
    "print (d[\"item1\"][1])\n",
    "\n",
    "d1 = {\"Small Number\":1.0, \"Tiny Number\":0.00000001, \"Big Number\": 100000000.0}\n",
    "\n",
    "print (d1[\"Small Number\"] + d1[\"Tiny Number\"])\n",
    "print (d1[\"Small Number\"] + d1[\"Big Number\"])\n",
    "\n",
    "print (d1.keys())\n",
    "\n",
    "for k in d1.keys():\n",
    "    print (\"{:>15s}\".format(k), \" --> \", d1[k])"
   ]
  },
  {
   "cell_type": "markdown",
   "id": "d33099be",
   "metadata": {},
   "source": [
    "More useful is the fact that the dictionary can have as a key, anything that can be converted using the `hash` function into a unique number. Strings, obviously, work well but anything immutable can be hashed:"
   ]
  },
  {
   "cell_type": "code",
   "execution_count": null,
   "id": "2bc8fe51",
   "metadata": {},
   "outputs": [],
   "source": [
    "def hashfn(item):\n",
    "    try:\n",
    "        h = hash(item)\n",
    "        print (\"{}\".format(str(item)), \" --> \", h)\n",
    "    except:\n",
    "        print (\"{}\".format(item), \" -->  unhashable type {}\".format((type(item))))\n",
    "    return\n",
    "\n",
    "\n",
    "hashfn(\"abc\")\n",
    "hashfn(\"abd\")\n",
    "hashfn(\"alphabeta\")\n",
    "hashfn(\"abcdefghi\")\n",
    "\n",
    "hashfn(1.0)\n",
    "hashfn(1.00000000000001)\n",
    "hashfn(2.1)\n",
    "\n",
    "hashfn(('a', 'b'))\n",
    "hashfn((1.0, 2.0))\n",
    "\n",
    "hashfn([1, 2, 3])\n",
    "\n",
    "import math\n",
    "hashfn(math.sin)  # weird ones !! "
   ]
  },
  {
   "cell_type": "markdown",
   "id": "62bca4c2",
   "metadata": {
    "solution": "hidden"
   },
   "source": [
    "---\n",
    "\n",
    "__Exercise__: _Build a reverse lookup table_\n",
    "\n",
    "Suppose you have this dictionary of phone numbers:\n",
    "\n",
    "```python\n",
    "phone_book = { \"Achibald\":   (\"04\", \"1234 4321\"), \n",
    "               \"Barrington\": (\"08\", \"1111 4444\"),\n",
    "               \"Chaotica\" :  (\"07\", \"5555 1234\") }\n",
    "\n",
    "```\n",
    "\n",
    "Can you construct a reverse phone book to look up who is calling from their phone number ?"
   ]
  },
  {
   "cell_type": "markdown",
   "id": "ac92f7e8",
   "metadata": {
    "solution": "shown",
    "solution_first": true
   },
   "source": [
    "__Solution:__ Here is a possible solution for the simple version of the problem but this could still use some error checking (if you type in a wrong number)"
   ]
  },
  {
   "cell_type": "code",
   "execution_count": null,
   "id": "97d945f9",
   "metadata": {},
   "outputs": [],
   "source": [
    "# Name: ( area code, number )\n",
    "phone_book = { \"Achibald\":   (\"04\", \"1234 4321\"), \n",
    "               \"Barrington\": (\"08\", \"1111 4444\"),\n",
    "               \"Chaotica\" :  (\"07\", \"5555 1234\") }"
   ]
  },
  {
   "cell_type": "code",
   "execution_count": null,
   "id": "6fb4bdea",
   "metadata": {},
   "outputs": [],
   "source": [
    "newdict = {}\n",
    "for key in phone_book:\n",
    "    newdict[phone_book[key]] = key\n",
    "newdict"
   ]
  },
  {
   "cell_type": "code",
   "execution_count": null,
   "id": "991302ac",
   "metadata": {},
   "outputs": [],
   "source": [
    "letters_and_numbers = [['a', 1], ['b', 2], ['c', 3]]"
   ]
  },
  {
   "cell_type": "code",
   "execution_count": null,
   "id": "c1ca07ef",
   "metadata": {},
   "outputs": [],
   "source": [
    "[i**2 for i in range(10)]"
   ]
  },
  {
   "cell_type": "code",
   "execution_count": null,
   "id": "4b2b0232",
   "metadata": {},
   "outputs": [],
   "source": [
    "phone_book.items()"
   ]
  },
  {
   "cell_type": "code",
   "execution_count": null,
   "id": "b2b7cdc5",
   "metadata": {},
   "outputs": [],
   "source": [
    "%%timeit\n",
    "\n",
    "{val:key for key, val in phone_book.items()}"
   ]
  },
  {
   "cell_type": "code",
   "execution_count": null,
   "id": "40ed623d",
   "metadata": {},
   "outputs": [],
   "source": [
    "for letter, number in letters_and_numbers:\n",
    "    print(number * letter)"
   ]
  },
  {
   "cell_type": "code",
   "execution_count": null,
   "id": "d0fcfe1e",
   "metadata": {
    "solution": "shown"
   },
   "outputs": [],
   "source": [
    "# Name: ( area code, number )\n",
    "phone_book = { \"Achibald\":   (\"04\", \"1234 4321\"), \n",
    "               \"Barrington\": (\"08\", \"1111 4444\"),\n",
    "               \"Chaotica\" :  (\"07\", \"5555 1234\") }\n",
    "\n",
    "reverse_phone_book = {}"
   ]
  },
  {
   "cell_type": "code",
   "execution_count": null,
   "id": "88d8a635",
   "metadata": {
    "solution": "shown"
   },
   "outputs": [],
   "source": [
    "%%timeit\n",
    "\n",
    "for key in phone_book.keys():\n",
    "    reverse_phone_book[phone_book[key]] = key\n",
    "\n",
    "    "
   ]
  },
  {
   "cell_type": "code",
   "execution_count": null,
   "id": "9c00ccac",
   "metadata": {},
   "outputs": [],
   "source": [
    "print (reverse_phone_book[('07', '5555 1234')])"
   ]
  },
  {
   "cell_type": "code",
   "execution_count": null,
   "id": "56ae1854",
   "metadata": {},
   "outputs": [],
   "source": []
  }
 ],
 "metadata": {
  "jupytext": {
   "text_representation": {
    "extension": ".md",
    "format_name": "myst",
    "format_version": 0.13,
    "jupytext_version": "1.10.3"
   }
  },
  "kernelspec": {
   "display_name": "Python 3",
   "language": "python",
   "name": "python3"
  },
  "source_map": [
   12,
   23,
   34,
   42,
   50,
   56,
   61,
   67,
   73,
   79,
   87,
   91,
   95,
   102,
   104,
   108,
   116,
   122,
   126,
   128,
   134,
   138,
   146,
   154,
   160,
   166,
   170,
   176,
   179,
   185,
   199,
   205,
   210,
   215,
   222,
   234,
   240,
   251,
   257,
   272,
   276,
   304,
   321,
   325,
   332,
   339,
   343,
   347,
   351,
   357,
   362,
   373,
   384,
   388
  ]
 },
 "nbformat": 4,
 "nbformat_minor": 5
}