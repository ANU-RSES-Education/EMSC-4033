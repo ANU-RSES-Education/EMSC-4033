{
 "cells": [
  {
   "cell_type": "markdown",
   "id": "0d278980",
   "metadata": {},
   "source": [
    "# An introduction to Version Control pt 2\n",
    "\n",
    "  > Version control is good for the soul\n",
    "  \n",
    "## Some setup is required\n",
    "\n",
    "We can run all this from the notebook (though perhaps it is easier in the terminal)\n",
    "\n",
    "```bash\n",
    "git config --global credential.helper store\n",
    "git config --global user.email \"profdiablo@underworldcode.org\"\n",
    "git config --global user.name  \"profdiablo\"\n",
    "```\n",
    "\n",
    "We also need to do one operation (in the terminal) that needs a password.\n",
    "The obvious thing is to try to obtain a copy of a private repository from our\n",
    "shared space ...\n",
    "\n",
    "## How do we get a copy of the information on github ? \n",
    "\n",
    "We can 'download' the sandbox repository to a local directory using the following command.\n",
    "(Change to the relevant directory as needed)\n",
    "\n",
    "```bash\n",
    "cd /home/jovyan/VIEPS-PYE/Notebooks/Introduction2VersionControl\n",
    "git clone https://github.com/vieps-pye-class-2019/shared-sandbox.git \n",
    "```\n",
    "\n",
    "Use the **GIT > Open Terminal** menu option above to make this work."
   ]
  },
  {
   "cell_type": "code",
   "execution_count": null,
   "id": "26b49460",
   "metadata": {},
   "outputs": [],
   "source": [
    "%%sh\n",
    "\n",
    "# Type your code in this cell"
   ]
  },
  {
   "cell_type": "markdown",
   "id": "7896ae42",
   "metadata": {},
   "source": [
    "Take a look to see if this worked. What files are in the `shared-sandbox` directory. \n",
    "\n",
    "```bash\n",
    "# check if it worked\n",
    "ls -a shared-sandbox\n",
    "```\n",
    "\n",
    "There should be a (hidden) directory `.git` that actually contains the database of changes, the original files and all manner of logs that allow you to replay changes and check them."
   ]
  },
  {
   "cell_type": "code",
   "execution_count": null,
   "id": "c68b5bfd",
   "metadata": {},
   "outputs": [],
   "source": [
    "%%sh\n",
    "\n",
    "# Type your code here"
   ]
  },
  {
   "cell_type": "markdown",
   "id": "2c6768fe",
   "metadata": {},
   "source": [
    "## Example \n",
    "\n",
    "Here is a typical run through of what we do with git. First we can ask what has been changed / added etc\n",
    "\n",
    "```bash\n",
    "git status \n",
    "```\n",
    "```text\n",
    "bash-3.2$ git status\n",
    "\n",
    "\n",
    "    On branch master\n",
    "    Your branch is up to date with 'origin/master'.\n",
    "\n",
    "    Changes not staged for commit:\n",
    "      (use \"git add <file>...\" to update what will be committed)\n",
    "      (use \"git checkout -- <file>...\" to discard changes in working directory)\n",
    "\n",
    "            modified:   README.md\n",
    "\n",
    "    Untracked files:\n",
    "      (use \"git add <file>...\" to include in what will be committed)\n",
    "\n",
    "            .ipynb_checkpoints/\n",
    "            People.txt\n",
    "\n",
    "    no changes added to commit (use \"git add\" and/or \"git commit -a\")\n",
    "```\n",
    "\n",
    "We can ask git to start taking notice of a file that has been added:\n",
    "\n",
    "```bash\n",
    "git add People.txt --verbose\n",
    "```\n",
    "```text\n",
    "   bash-3.2$ git add People.txt --verbose \n",
    "   # but it is very quiet anyway\n",
    "```\n",
    "\n",
    "We can issue lots of git commands such as:\n",
    "\n",
    "   - `git rm`\n",
    "   - `git mv`\n",
    "   - `git add`\n",
    "   - `git help`\n",
    "   \n",
    "but when we are done telling git all about the changes we already made when we edited the files, we now tell it to take a snapshot of the state of our project and **commit** these changes. We must add a message when we make this commit and this tell us what changes we made.\n",
    "\n",
    "```bash\n",
    " git commit -m \"I have added my name to the People.txt list\"\n",
    "```\n",
    "\n",
    "```text\n",
    "    bash-3.2$ git commit -m \"I have added my name to the People.txt list\"\n",
    "    [master fdc97b1] I have added my name to the People.txt list\n",
    "     1 file changed, 7 insertions(+)\n",
    "     create mode 100644 People.txt\n",
    "```\n",
    "\n",
    "We can repeat this cycle of edit / commit as much as we like but we have not yet uploaded these changes for anyone else to see. This is done by **pushing** the changes back to the repository. This requires a network connection of course. Even if you are offline, though, it can be helpful to commit changes in little chunks with helpful messages because you can ALWAYS go back and recover **all the files in the state they were in when you made the commit**. \n",
    "\n",
    "```bash\n",
    "git push\n",
    "```\n",
    "\n",
    "```text\n",
    "    bash-3.2$ git push\n",
    "    Enumerating objects: 4, done.\n",
    "    Counting objects: 100% (4/4), done.\n",
    "    Delta compression using up to 8 threads\n",
    "    Compressing objects: 100% (3/3), done.\n",
    "    Writing objects: 100% (3/3), 447 bytes | 447.00 KiB/s, done.\n",
    "    Total 3 (delta 0), reused 0 (delta 0)\n",
    "    To https://github.com/vieps-pye-class-2019/shared-sandbox.git\n",
    "       242d062..fdc97b1  master -> master\n",
    "```"
   ]
  },
  {
   "cell_type": "code",
   "execution_count": null,
   "id": "d483c787",
   "metadata": {},
   "outputs": [],
   "source": [
    "!git help "
   ]
  },
  {
   "cell_type": "markdown",
   "id": "a7d17f56",
   "metadata": {},
   "source": [
    "## Exercise\n",
    "\n",
    "You can browse the directory in the file browser and you can add your name to the `People.txt` file. Now you should be able to commit your changes by following the pattern above:"
   ]
  },
  {
   "cell_type": "code",
   "execution_count": null,
   "id": "7e388927",
   "metadata": {},
   "outputs": [],
   "source": [
    "%%sh\n",
    "\n",
    "# git status etc etc "
   ]
  },
  {
   "cell_type": "markdown",
   "id": "beb0d945",
   "metadata": {},
   "source": [
    "Discuss this as a class - does it work ? Do you expect it to work ?"
   ]
  },
  {
   "cell_type": "markdown",
   "id": "403a2bfd",
   "metadata": {},
   "source": [
    "[Pt 3 - Going off on your own](3-YourOwnRepositories.ipynb)"
   ]
  },
  {
   "cell_type": "code",
   "execution_count": null,
   "id": "262cfddd",
   "metadata": {},
   "outputs": [],
   "source": []
  }
 ],
 "metadata": {
  "jupytext": {
   "text_representation": {
    "extension": ".md",
    "format_name": "myst",
    "format_version": 0.12,
    "jupytext_version": "1.6.0"
   }
  },
  "kernelspec": {
   "display_name": "Python 3",
   "language": "python",
   "name": "python3"
  },
  "source_map": [
   12,
   44,
   48,
   59,
   63,
   142,
   144,
   150,
   154,
   158,
   162
  ]
 },
 "nbformat": 4,
 "nbformat_minor": 5
}