{
 "cells": [
  {
   "cell_type": "markdown",
   "metadata": {},
   "source": [
    "# Exercise 6 - More loops\n",
    "\n",
    "We have already encountered one way of repeating calculations - the `while` loop. Python also provides a second kind of loop, the `for` loop. This allows us to do a calculation for each of the entries in a list, tuple or dictionary.\n",
    "\n",
    "Typically, a `for` loop takes the form:\n",
    "```python\n",
    "for <variable> in <collection>:\n",
    "    [calculations using <variable>]\n",
    "```\n",
    "As with the `while` loop, everything within the indented block is executed multiple times, with the `<variable>` getting set equal to a different element of `<collection>` on each pass. `<collection>` may be any 'iterable', such as a list. For example, the following code would calculate the sum of all the entries in `a`:\n",
    "```python\n",
    "a = [1,5,9]\n",
    "s = 0\n",
    "for x in a:\n",
    "    s += x\n",
    "    print(x,s)\n",
    "print(\"Total is:\",s)\n",
    "```\n",
    "It is possible to use `continue` and `break` statements within a `for` loop, just as in a `while` loop.\n",
    "\n",
    "**&#10148; Try it out!**"
   ]
  },
  {
   "cell_type": "code",
   "execution_count": null,
   "metadata": {},
   "outputs": [],
   "source": [
    "# Try it here!\n"
   ]
  },
  {
   "cell_type": "markdown",
   "metadata": {},
   "source": [
    "Often, we simply want to perform a calculation $n$ times, counting off as we go. To allow this, Python provides the `range` function, which is a special kind of iterable. It can be used as follows:\n",
    "```python\n",
    "n = 20\n",
    "for i in range(n):\n",
    "    print(i)\n",
    "```\n",
    "**&#10148; Try it out!**"
   ]
  },
  {
   "cell_type": "code",
   "execution_count": null,
   "metadata": {},
   "outputs": [],
   "source": [
    "# Try it here!\n"
   ]
  },
  {
   "cell_type": "markdown",
   "metadata": {},
   "source": [
    "You should have seen that by default, the counting starts from 0, and continues up to $n-1$ (so that there are a total of $n$ passes through the loop). If you want to start from a different number, you can provide this:\n",
    "```python\n",
    "istart = 3\n",
    "istop = 15\n",
    "for i in range(istart,istop):\n",
    "    print(i)\n",
    "```\n",
    "**&#10148; Try it out!**"
   ]
  },
  {
   "cell_type": "code",
   "execution_count": null,
   "metadata": {},
   "outputs": [],
   "source": [
    "# Try it here!\n"
   ]
  },
  {
   "cell_type": "markdown",
   "metadata": {},
   "source": [
    "Notice that the counting starts with `istart`, and finishes with `istop-1`. We can also count in increments of `istep`:\n",
    "```python\n",
    "istart = 3\n",
    "istop = 15\n",
    "istep = 4\n",
    "for i in range(istart,istop,istep):\n",
    "    print(i)\n",
    "```\n",
    "This will print `istart`, `istart+istep`, `istart+2*istep` etc, but not any value equal to or greater than `istep`.\n",
    "**&#10148; Try it out!**"
   ]
  },
  {
   "cell_type": "code",
   "execution_count": null,
   "metadata": {},
   "outputs": [],
   "source": [
    "# Try it here!\n"
   ]
  },
  {
   "cell_type": "markdown",
   "metadata": {},
   "source": [
    "The value of $\\pi$ can be found via an infinite sum\n",
    "$$\\pi = 2\\sum_{k=0}^\\infty \\frac{2^k k!^2}{(2k+1)!}$$\n",
    "where $n!$ denotes the factorial of $n$, $n! = n(n-1)(n-2)\\ldots 1$. This can be computed by initialising a variable to contain the value `1`, and then looping through the integers up to `n` multiplying the variable by each.\n",
    "\n",
    "**&#10148; By summing the first $N$ terms in the series, compute an approximation to $\\pi$ and explore how the accuracy of the approximation changes with $N$.** A good starting point is $N=20$."
   ]
  },
  {
   "cell_type": "code",
   "execution_count": null,
   "metadata": {},
   "outputs": [],
   "source": [
    "# Try it here!\n"
   ]
  },
  {
   "cell_type": "markdown",
   "metadata": {},
   "source": [
    "Often, we may need to iterate through a collection of objects (such as a list), but also keep a count of how many objects we have dealt with. There are various ways this could be done - one might be:\n",
    "```python\n",
    "a = [3,5,7]\n",
    "for i in range(len(a)):\n",
    "    print(\"Object number\", i, \" is \", a[i])\n",
    "```\n",
    "However, Python provides the `enumerate` function for precisely this purpose:\n",
    "```python\n",
    "a = [3,5,7]\n",
    "for i, ai in enumerate(a):\n",
    "    print(\"Object number\", i, \" is \", ai)\n",
    "```\n",
    "The iterable created by `enumerate` returns a tuple of `(index, object)` pairs, which can be assigned to a pair of variables (here, `i` and `ai`).\n",
    "\n",
    "**&#10148; Try it out!**"
   ]
  },
  {
   "cell_type": "code",
   "execution_count": null,
   "metadata": {},
   "outputs": [],
   "source": [
    "# Try it here!\n"
   ]
  },
  {
   "cell_type": "markdown",
   "metadata": {},
   "source": [
    "Another common circumstance is that we have two (or more) collections, and we want to access the $i$th element of each simultaneously. Again, this could be achieved using something like:\n",
    "```python\n",
    "a = [3,5,7]\n",
    "b = ['a','b','c']\n",
    "for i in range(len(a)):\n",
    "    print(\"The letter associated with \",a[i],\" is \",b[i])\n",
    "```\n",
    "but Python also provides the `zip` function for this purpose: \n",
    "```python\n",
    "a = [3,5,7]\n",
    "b = ['a','b','c']\n",
    "for ai, bi in zip(a,b):\n",
    "    print(\"The letter associated with \",ai,\" is \",bi)\n",
    "```\n",
    "This creates an iterator which returns a tuple on each iteration, containing the $i$th element of each of the collections passed to `zip`. The elements of this tuple can be assigned to variables (here, `ai` and `bi`).\n",
    "\n",
    "**&#10148; Try it out!**"
   ]
  },
  {
   "cell_type": "code",
   "execution_count": null,
   "metadata": {},
   "outputs": [],
   "source": [
    "# Try it here!\n"
   ]
  },
  {
   "cell_type": "markdown",
   "metadata": {},
   "source": [
    "Finally, a `for` loop can be used to build a list using the following shorthand:\n",
    "```python\n",
    "<list> = [ <expression involving variable> for <variable> in <collection> ]\n",
    "```\n",
    "e.g.\n",
    "```python\n",
    "a = [i**2 for i in range(3,13,2)]\n",
    "```\n",
    "This is sometimes known as a `list comprehension`. A tuple can be built similarly\n",
    "```python\n",
    "a = tuple(i**2 for i in range(3,13,2))\n",
    "```\n",
    "and\n",
    "```python\n",
    "a = {x:y for x,y in zip(['a','b','c'],[1,2,3])}\n",
    "```\n",
    "can be used to construct a dictionary.\n",
    "\n",
    "**&#10148; Try it out!**"
   ]
  },
  {
   "cell_type": "markdown",
   "metadata": {},
   "source": [
    "# Try it here!\n"
   ]
  },
  {
   "cell_type": "markdown",
   "metadata": {},
   "source": [
    "Another infinite series generating $\\pi$ is given by Madhava of Sangamagrama:\n",
    "$$\\pi = \\sqrt{12}\\sum_{k=0}^\\infty \\frac{(-3)^{-k}}{2k+1}$$ \n",
    "**&#10148; By computing the first $N$ terms of this expression, and comparing them to the first $N$ terms of the expression given earlier, determine which series converges faster (i.e., which gives better results for small $N$?).**"
   ]
  },
  {
   "cell_type": "code",
   "execution_count": null,
   "metadata": {},
   "outputs": [],
   "source": [
    "# Try it here!"
   ]
  },
  {
   "cell_type": "markdown",
   "metadata": {},
   "source": [
    "## Prime numbers\n",
    "\n",
    "The [Sieve of Eratosthenes](https://en.wikipedia.org/wiki/Sieve_of_Eratosthenes) is a method for finding prime numbers (i.e., integers which are not divisible by any other integers except themselves and one).  Suppose you want to find all the prime numbers less than or equal to 25. First, you write down a list of all the numbers from 2 up to 25:\n",
    "```text\n",
    "2 3 4 5 6 7 8 9 10 11 12 13 14 15 16 17 18 19 20 21 22 23 24 25\n",
    "```\n",
    "Now, you start crossing out numbers. First, we consider the first entry in the list, 2. We keep this, but cross out every second number thereafter:\n",
    "```text\n",
    "2 3 X 5 X 7 X 9 X 11 X 13 X 15 X 17 X 19 X 21 X 23 X 25\n",
    "^Start here\n",
    "```\n",
    "We move our pointer to the next not-crossed-out number, 3. We then cross out every 3rd entry (counting ones that are already crossed out):\n",
    "```text\n",
    "2 3 X 5 X 7 X X X 11 X 13 X X X 17 X 19 X X X 23 X 25\n",
    "  ^Start here\n",
    "```\n",
    "The next not-crossed out number is 5, so we remove every 5th entry:\n",
    "```text\n",
    "2 3 X 5 X 7 X X X 11 X 13 X X X 17 X 19 X X X 23 X X\n",
    "      ^Start here\n",
    "```\n",
    "If we continue this procedure, we will find that we do not cross out any more numbers. The remaining numbers - 2, 3, 5, 7, 11, 13, 17, 19 and 23 - are all the primes less than (or equal to) 25.\n",
    "\n",
    "**&#10148; Write a function that takes a single input, $N$, and returns the list of all prime numbers less than $N$.**"
   ]
  },
  {
   "cell_type": "code",
   "execution_count": null,
   "metadata": {},
   "outputs": [],
   "source": [
    "# Try it here!\n"
   ]
  }
 ],
 "metadata": {
  "kernelspec": {
   "display_name": "Python 3",
   "language": "python",
   "name": "python3"
  },
  "language_info": {
   "codemirror_mode": {
    "name": "ipython",
    "version": 3
   },
   "file_extension": ".py",
   "mimetype": "text/x-python",
   "name": "python",
   "nbconvert_exporter": "python",
   "pygments_lexer": "ipython3",
   "version": "3.6.6"
  }
 },
 "nbformat": 4,
 "nbformat_minor": 2
}
