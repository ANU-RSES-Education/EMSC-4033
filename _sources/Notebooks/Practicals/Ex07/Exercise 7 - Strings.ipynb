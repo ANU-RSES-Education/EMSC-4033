{
 "cells": [
  {
   "cell_type": "markdown",
   "metadata": {},
   "source": [
    "# Exercise 7 - Strings\n",
    "\n",
    "Until now, we have mainly been dealing with numeric data (numbers). However, it is often necessary to process text sequences, referred to as 'character strings'. In this exercise, we will see some of the mechanisms Python provides for text processing.\n",
    "\n",
    "As we have already seen, any literal text sequence can be entered between a pair of inverted commas (\" \" or ' '), and stored to a variable. Python allows both single and double quotes to be used (not all languages do, so be careful if translating this sort of thinking to another language in the future). \n",
    "```python\n",
    "name = \"Hamlet\"\n",
    "quote = 'To be or not to be: that is the question.'\n",
    "```\n",
    "If we look at `type(name)`, we see that Python has a `str` type to represent strings.\n",
    "\n",
    "To join two strings together, we can simply combine them using the `+` operator:\n",
    "```python\n",
    "x = name+\" says \"+quote\n",
    "print(x)\n",
    "```\n",
    "We can enter quotation marks in a string literal by using the *other* kind of quotation mark as the string delimiter: either\n",
    "```python\n",
    "x = name+\" says '\"+quote+\"'\"\n",
    "y = name+' says \"'+quote+'\"'\n",
    "print(x)\n",
    "print(y)\n",
    "```\n",
    "We can also 'escape' the quotation mark, by placing a `\\` in front of it. This forces Python to treat it as a literal character, without any special meaning:\n",
    "```python\n",
    "x = name+\" says \\\"\"+quote+\"\\\"\"\n",
    "print(x)\n",
    "```\n",
    "Finally, we can use triple-quotes (\"\"\" \"\"\") to mark the beginning and end of the string, which allows ' and \" to appear within the string without difficulties:\n",
    "```python\n",
    "difficult = \"\"\" Apparently \"we can't just use single quotes\" around this string \"\"\"\n",
    "```\n",
    "We already encountered triple-quoted strings, in the context of docstrings at the start of a function.\n",
    "\n",
    "We can also use the multiplication operator to repeat a string multiple times:\n",
    "```python\n",
    "y = 3*name\n",
    "print(y)\n",
    "```\n",
    "However, most other 'mathematical' operators (such as subtraction and division) have no meaning with strings.\n",
    "\n",
    "**&#10148; Try it out!**"
   ]
  },
  {
   "cell_type": "code",
   "execution_count": null,
   "metadata": {},
   "outputs": [],
   "source": [
    "# Try it here!\n"
   ]
  },
  {
   "cell_type": "markdown",
   "metadata": {},
   "source": [
    "Note that string variables containing numbers are not the same as integer or float variables containing the same numbers:\n",
    "```python\n",
    "x = '6'\n",
    "y = '3'\n",
    "print(x+y) # prints '63'\n",
    "```\n",
    "However, we can obtain an integer or float variable by using the `int` and `float` functions:\n",
    "```python\n",
    "print(int(x)+int(y)) # prints '9'\n",
    "print(float(x)+float(y)) # prints '9.0'\n",
    "```\n",
    "This does not work for strings containing two or more numbers separated by whitespace: `int('3 6')` is assumed to correspond to two distinct numbers, and so they cannot be converted to a single integer. Similarly, while numbers containing a decimal point can be converted to floating-point form, they cannot be interpreted as an integer. \n",
    "\n",
    "**&#10148; Try it out!**"
   ]
  },
  {
   "cell_type": "code",
   "execution_count": null,
   "metadata": {},
   "outputs": [],
   "source": [
    "# Try it here!\n"
   ]
  },
  {
   "cell_type": "markdown",
   "metadata": {},
   "source": [
    "If we want to extract a 'substring' - a letter, or sequence of letters, from the middle of the string - we can use syntax similar to that for extracting a subset of a list:\n",
    "```python\n",
    "quote = 'To be or not to be: that is the question.'\n",
    "print(quote[2:35:3])\n",
    "```\n",
    "This will print every 3rd character, starting from the character at position 2. Remember, Python counts from 0:\n",
    "```text\n",
    "0123456789...\n",
    "To be or n...\n",
    "```\n",
    "We therefore see that the character at position 2 is a space, ' '. In general, a substring specification takes the form\n",
    "```python\n",
    "variable[istart:istop:istep]\n",
    "```\n",
    "Omitting `istart` means the substring should begin from the start of `variable`; omitting `istep` means it should go to the end of `variable`; and omitting `istep` implies that all intervening characters should be printed:\n",
    "```python\n",
    "print(quote[:35:3])\n",
    "print(quote[2::3])\n",
    "print(quote[2:35])\n",
    "```\n",
    "If we wish to extract only a single character, we simply provide its index:\n",
    "```python\n",
    "print(quote[4])\n",
    "```\n",
    "We can also iterate over the letters in a string:\n",
    "```python\n",
    "for letter in quote:\n",
    "    print(letter)\n",
    "```\n",
    "**&#10148; Try it out!**"
   ]
  },
  {
   "cell_type": "code",
   "execution_count": null,
   "metadata": {},
   "outputs": [],
   "source": [
    "# Try it here!\n"
   ]
  },
  {
   "cell_type": "markdown",
   "metadata": {},
   "source": [
    "A new-line (carriage return) can be represented within a string by entering `'\\n'`, for example:\n",
    "```python\n",
    "multiline = 'This\\nstring\\noccupies\\nfive\\nlines.'\n",
    "print(multiline)\n",
    "```\n",
    "Similarly, `\\t` can be used to enter a Tab character. Spaces and tab characters are collectively known as 'whitespace'.\n",
    "\n",
    "**&#10148; Try it out!**"
   ]
  },
  {
   "cell_type": "code",
   "execution_count": null,
   "metadata": {},
   "outputs": [],
   "source": [
    "# Try it here!\n"
   ]
  },
  {
   "cell_type": "markdown",
   "metadata": {},
   "source": [
    "As with other data types, Python provides a number of functions to work with a string, `s`. Some of the more important ones are:\n",
    "- `len(s)` - Return the number of characters in `s`.\n",
    "- `s.count(x)` - Count the number of occurrences of string `x` within string `s`. Again, this is case-sensitive.\n",
    "\n",
    "- `s.join(x)` - Here, `x` is assumed to be an iterable (typically a list or tuple) of strings. This function returns a single string, containing all the strings from `x` with a copy of `s` between each. For example, `':'.join(['a','b','c'])` will return `'a:b:c'`.\n",
    "- `s.split()` - Return a list of all of the 'words' (substrings separated by whitespace) within `s`. Optionally, provide a character to be regarded as the word separator. For example, `'a,b,c'.split(',')` will return `['a','b','c']`. It is also possible to specify the maximum number of words to be returned; once this limit is reached, no further splitting is performed. A variant `s.rsplit()` works backwards from the end of the string.\n",
    "- `s.replace(x,y)` - Return a version of `s` where every occurrence of string `x` is replaced by string `y`.\n",
    "\n",
    "- `s.find(x)` - Return the index of the start of the *first* occurrence of string `x` in string `s`. Note that this is case-sensitive: compare `quote.find('to')` with `quote.find('To')`. A variant `s.rfind(x)` finds the *last* occurrence of `x`. Variants `s.index()` and `s.rindex()` are almost identical, except that they have different behaviour if `x` cannot be found within `s`: whereas `s.find()` raises an error, `s.index()` returns `-1`.\n",
    "\n",
    "- `s.upper()`, `s.lower()` and `s.title()` - Return a copy of the string `s` converted to be entirely in UPPER CASE/lower case/Title Case respectively.\n",
    "- `s.isupper()`, `s.islower()`, `s.istitle()` - Return `True` if `s` is entirely in UPPER CASE/lower case/Title Case respectively, otherwise `False`.\n",
    "- `s.capitalize()` - Return a version of `s` where the first character is in UPPER CASE and the remainder in lower case.\n",
    "- `s.swapcase()` - Return a version of `s` where all UPPER CASE characters are converted to lower case and vice versa.\n",
    "\n",
    "- `s.center(n)` - Create a string of length `n` containing a copy of `s` centered within this. By default, this is achived by padding with spaces (' ') before and after `s`; optionally, you can specify a different charater. For example, `'hello'.center(11,'_')` returns `'___hello___'`.\n",
    "- `s.ljust(n)` - Create a string of length `n` containing a copy of `s` at its left. Optionally, specify a character to use for padding. Similarly, `s.rjust(n)` places `s` at the right of the `n`-character string.\n",
    "- `s.strip()` - Return a copy of `s` with all whitespace removed. `s.lstrip()` and `s.rstrip()` are variants removing whitespace only at the start or end of the string, respectively. For example, `'elephant'.strip('e')` returns `'lephant'`. \n",
    "\n",
    "**&#10148; Try out all of these functions, and satisfy yourself that you understand how they work.**\n"
   ]
  },
  {
   "cell_type": "code",
   "execution_count": null,
   "metadata": {},
   "outputs": [],
   "source": [
    "# Try it here!\n"
   ]
  },
  {
   "cell_type": "markdown",
   "metadata": {},
   "source": [
    "**&#10148;Write a function which takes in strings like `'apples:3;pears:17;bananas:21'` and produces a nicely-formatted table:**\n",
    "```text\n",
    "+-----------+-----+\n",
    "| Apples    |   3 |\n",
    "| Pears     |  17 |\n",
    "| Bananas   |  21 |\n",
    "+-----------+-----+\n",
    "|     TOTAL |  41 |\n",
    "+-----------+-----+\n",
    "```\n",
    "Here are some additional input strings it should be able to cope with:\n",
    "```text\n",
    "cheese:0;BREAD:5;milk:1;Bacon:2\n",
    "Ham:15000;     salami:36030;  corned beef:1836;\n",
    "triangles:3;squares:4;pentagons:5;hexagons:6;heptagons:7;octagons:8;nonagons:9\n",
    "```"
   ]
  },
  {
   "cell_type": "code",
   "execution_count": null,
   "metadata": {},
   "outputs": [],
   "source": [
    "# Try it here!\n"
   ]
  },
  {
   "cell_type": "markdown",
   "metadata": {},
   "source": [
    "As you may have noticed, Python's `print` function often displays information to a large number of decimal places, and it does not generally produce nicely-formatted output. To achieve this, we must make use of Python's string-formatting facilities. These provide a mechanism for converting numbers into strings, and controlling the exact form this takes.\n",
    "\n",
    "Python 3 provides two different frameworks for string formatting. In each, you create a string containing placeholders for the contents of each variable you want to output, then insert the data into these.\n",
    "\n",
    "This is best illustrated by an example, using the first (older) formatting framework:\n",
    "```python\n",
    "x = 1/11\n",
    "print(x)\n",
    "s = \"One eleventh is approximately %.3f\"\n",
    "print(s)\n",
    "print(s%x)\n",
    "```\n",
    "Here, the string `s` contains the text we wish to produce, and the entry `%.3f` is a placeholder representing a floating point number with three decimal places. `x` is a floating point variable, calculated to many decimal places. The code `s%x` combines the two, resulting in the contents of `x` being inserted into the string `s`, formatted as required.\n",
    "\n",
    "All placeholders begin with the '%' symbol. Integer placeholders end with the letter 'i', floating-point placeholders end with the letter 'f', and string placeholders end with the letter 's'. Between the '%' and the letter, one can specify various options controlling the exact form of output:\n",
    "\n",
    "| Placeholder | Description | Example | Output |\n",
    "|---|---|---|---|\n",
    "| `%i` | General integer (no further formatting specified) | `'%i'%3` | '3' |\n",
    "| `%3i` | Integer, at least 3 characters wide | `'%3i'%3` | `'  3'` |\n",
    "| `%03i` | Integer, at least 3 characters wide, zero-padded | `'%03i'%3` | `'003'` |\n",
    "| `%f` | General floating-point number (no format specified) | `'%f'%2.9` | '2.900000' |\n",
    "| `%12f` | Floating-point number, occupying at least 12 characters | `'%12f'%2.9` | `'    2.900000'`|\n",
    "| `%012f` | Floating-point number, occupying at least 12 characters, zero-padded | `'%012f'%2.9` | `'00002.900000'`|\n",
    "| `%8.2f` | Floating-point number, occupying at least 8 characters, rounded to two decimal places | `'%8.2f'%2.9` | `'    2.90'` |\n",
    "| `%s` | General string (no format specified) | `'%s'%'test'` | `'test'` |\n",
    "| `%10s` | String, occupying at least 10 characters | `'%10s'%'test'` | `'      test'`|\n",
    "| `%%` | Literal '%' character | `'%6.2f%%'%2.9` | `'  2.90%'` |\n",
    "\n",
    "Where a string contains more than one placeholder, we can pass the required information as a tuple:\n",
    "```python\n",
    "phrase = '%i litres of %s at $%.2f/L costs a total of $%.2f'\n",
    "print(phrase%(2,'milk',1.29,2*1.29))\n",
    "print(phrase%(40,'petrol',1.53,40*1.53))\n",
    "print(phrase%(7.5,'water',0.17,7.5*0.17))\n",
    "```\n",
    "**&#10148; Try it out!**\n"
   ]
  },
  {
   "cell_type": "code",
   "execution_count": null,
   "metadata": {},
   "outputs": [],
   "source": [
    "# Try it here!\n"
   ]
  },
  {
   "cell_type": "markdown",
   "metadata": {},
   "source": [
    "Sometimes, it may be necessary to use string formatting to write the placeholders, allowing the style of output to be set at runtime:\n",
    "```python\n",
    "def print_result(result,number_of_decimal_places):\n",
    "    fmt = \"The result is %%.%if\"\n",
    "    print((fmt%number_of_decimal_places)%result)\n",
    "```\n",
    "However, this is best avoided if possible.\n",
    "\n",
    "The second, newer approach to formatting uses braces `{}` instead of `%...` to represent a placeholder, and a `.format()` function that can act on any string. The syntax of the format specifiers is also different. Our example would become:\n",
    "```python\n",
    "x = 1/11\n",
    "print(x)\n",
    "s = \"One eleventh is approximately {:.2f}\"\n",
    "print(s)\n",
    "print(s.format(x))\n",
    "```\n",
    "Similarly, \n",
    "```python\n",
    "phrase = '{} litres of {} at ${:.2f}/L costs a total of ${:.2f}'\n",
    "print(phrase.format(2,'milk',1.29,2*1.29))\n",
    "print(phrase,format(40,'petrol',1.53,40*1.53))\n",
    "print(phrase.format(7.5,'water',0.17,7.5*0.17))\n",
    "```\n",
    "The new approach provides a much richer set of formatting options, described in full [in the online documentation](https://docs.python.org/3.4/library/string.html#format-string-syntax). One benefit of the new style is that it is no longer necessary to pass information to format in the same order as it is used: we can number the placeholders. For example,\n",
    "```python\n",
    "phrase = '{3} litres of {0} at ${1:.2f}/L costs a total of ${2:.2f}'\n",
    "print(phrase.format('milk',1.29,2*1.29,2))\n",
    "print(phrase,format('petrol',1.53,40*1.53,40))\n",
    "print(phrase.format('water',0.17,7.5*0.17,7.5))\n",
    "```\n",
    "This is particularly useful if you need to repeat the same information several times in a string:\n",
    "```python\n",
    "phrase = \"This sentence has the word {0} {0} {0} repeated three times and the word {1} {1} repeated twice.\"\n",
    "print(phrase.format('cat','dog'))\n",
    "```\n",
    "**&#10148; Try it out!**"
   ]
  },
  {
   "cell_type": "code",
   "execution_count": null,
   "metadata": {},
   "outputs": [],
   "source": [
    "# Try it here!\n"
   ]
  },
  {
   "cell_type": "markdown",
   "metadata": {},
   "source": [
    "**&#10148; Repeat the table-formatting example, making use of the string formatting capabilities**"
   ]
  },
  {
   "cell_type": "code",
   "execution_count": null,
   "metadata": {},
   "outputs": [],
   "source": [
    "# Try it here!\n"
   ]
  },
  {
   "cell_type": "markdown",
   "metadata": {},
   "source": [
    "We will encounter many more text-formatting examples in later exercises."
   ]
  },
  {
   "cell_type": "markdown",
   "metadata": {},
   "source": [
    "## The 'Caesar' cipher\n",
    "\n",
    "As we have already discussed, every piece of information within a computer must be organised and represented in binary form. This implies that the sequence of letters in the alphabet can be mapped onto the set of integers, and this is usually done via the 'ASCII' code sequence. \n",
    "\n",
    "Python provides the function `chr(integer)` to convert integers into their ASCII alphanumeric equivalent.\n",
    "\n",
    "**&#10148; Write a loop to print the integers from 33 up to 128, and their ASCII equivalents.** (The first 32 ASCII codes are special control characters, and do not have alphanumeric equivalents)."
   ]
  },
  {
   "cell_type": "code",
   "execution_count": null,
   "metadata": {},
   "outputs": [],
   "source": [
    "# Try it here!\n"
   ]
  },
  {
   "cell_type": "markdown",
   "metadata": {},
   "source": [
    "A 'Caesar cipher' is a very simple way to hide a message making it difficult for someone to read. To encode a piece of text with a Caesar cipher, we simply shift each letter $N$ places up (or down) the alphabet. For example, choosing $N=1$, the message\n",
    "```text\n",
    "I like Python\n",
    "```\n",
    "would become\n",
    "```text\n",
    "J mjlf Qzuipm\n",
    "```\n",
    "because 'J' is one letter after 'I', 'm' is one after 'l', and so on.\n",
    "\n",
    "**&#10148; Write a function to encode messages using Caesar ciphers (for any choice of $N$).** Note that the 'decoder' is simply the 'encoder', but instead using $-N$."
   ]
  },
  {
   "cell_type": "code",
   "execution_count": null,
   "metadata": {},
   "outputs": [],
   "source": [
    "# Try it here!\n"
   ]
  },
  {
   "cell_type": "markdown",
   "metadata": {},
   "source": [
    "Here is a message encoded using a Caesar cipher:\n",
    "```text\n",
    "Pfl yrmv wzezjyvu kyzj vovitzjv\n",
    "```\n",
    "**&#10148; By looping through all possible values of $N$, find the $N$ used to encode this message and decode it.**"
   ]
  },
  {
   "cell_type": "code",
   "execution_count": null,
   "metadata": {},
   "outputs": [],
   "source": [
    "# Try it here!\n"
   ]
  }
 ],
 "metadata": {
  "kernelspec": {
   "display_name": "Python 3",
   "language": "python",
   "name": "python3"
  },
  "language_info": {
   "codemirror_mode": {
    "name": "ipython",
    "version": 3
   },
   "file_extension": ".py",
   "mimetype": "text/x-python",
   "name": "python",
   "nbconvert_exporter": "python",
   "pygments_lexer": "ipython3",
   "version": "3.6.6"
  }
 },
 "nbformat": 4,
 "nbformat_minor": 2
}
